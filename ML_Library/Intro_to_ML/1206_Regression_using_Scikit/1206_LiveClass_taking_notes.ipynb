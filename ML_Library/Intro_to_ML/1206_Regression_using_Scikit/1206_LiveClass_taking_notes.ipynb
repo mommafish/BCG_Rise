{
 "cells": [
  {
   "cell_type": "markdown",
   "id": "6c8abbe5",
   "metadata": {},
   "source": [
    "# Regression\n",
    "1. Theoritical\n",
    "2. Maths\n",
    "3. Programming"
   ]
  },
  {
   "cell_type": "markdown",
   "id": "960cda3f",
   "metadata": {},
   "source": [
    "## Use case Regression - Numeric Prediction\n",
    "- user case = hub flat price prediction\n",
    "- independent features = rooms, square ft, renonvation , near mrt\n",
    "- dependent feature (predicted variable) = Price\n",
    "\n",
    "\n",
    "1. Simple Linear Regression\n",
    "    - Only one independent feature = squareft >> One X feature\n",
    "    - Only one dependent feature = Price >> One Y feature\n",
    "    \n",
    "    \n",
    "2. Multiple Linear Regression\n",
    "    - many independent feature = square ft, renovation, near mrt >> Many X feature\n",
    "    - Only one dependent feature = Price >> One Y feature\n",
    "    \n"
   ]
  },
  {
   "cell_type": "markdown",
   "id": "598d7488",
   "metadata": {},
   "source": [
    "1. Simple Linear Regression\n",
    "- Goal = Take the independent feature value and predict the dependent feature value\n",
    "- Relationship between feature value and dependent faeture value\n",
    "- Correlation : Strength of two variables\n",
    "- Regression : How independent decides/effects the dependent, model fitting"
   ]
  },
  {
   "cell_type": "markdown",
   "id": "ee87beac",
   "metadata": {},
   "source": [
    "Y = MX + C\n",
    "\n",
    "- M = Slope\n",
    "- C = intercept\n",
    "- X = dependent feature value\n",
    "- Y = dependent feature value"
   ]
  },
  {
   "cell_type": "markdown",
   "id": "1efdb97d",
   "metadata": {},
   "source": [
    "Finding M = Slope of Straight line\n",
    "- M = (Y2 - Y1)/(X2 - X1)\n",
    "\n",
    "Finding C\n",
    "- C = Y - MX, use it for all data points, eg calculate for Y1 and Y2 ...\n",
    "\n",
    "\n",
    "Eg. find the Predicted Price for Y if\n",
    "- M = 150, C = 75000, X = 1800\n",
    "- Y = (150 * 1800) + 75000\n",
    "- Y = 195000\n",
    "\n",
    "\n",
    "- Y Predicted = 195000\n",
    "- Actual = 220 000\n",
    "- (POSITIVE ERROR) Difference between actual and predicted = 220000 - 195000 = 25000\n",
    "\n",
    "\n",
    "- Y Predicted = 195000\n",
    "- Actual = 165 000\n",
    "- (NEGETIVE ERROR) Difference between actual and predicted = 165000 - 195000 = -(30000)\n",
    "\n",
    "\n",
    "- To calculate the error of all the rows (Square all errors)\n",
    "  - Least Square Method"
   ]
  },
  {
   "cell_type": "markdown",
   "id": "2c9ad70b",
   "metadata": {},
   "source": [
    "- Predicted Y\n",
    "- (yhat)y^"
   ]
  },
  {
   "cell_type": "markdown",
   "id": "5e309835",
   "metadata": {},
   "source": [
    "# WORKING with FUELCONSUMPTIONCO2.CSV"
   ]
  },
  {
   "cell_type": "code",
   "execution_count": 1,
   "id": "d194310e",
   "metadata": {},
   "outputs": [],
   "source": [
    "import pandas as pd\n",
    "import matplotlib.pyplot as plt\n",
    "import numpy as np"
   ]
  },
  {
   "cell_type": "code",
   "execution_count": 2,
   "id": "8d2664c7",
   "metadata": {},
   "outputs": [
    {
     "data": {
      "text/html": [
       "<div>\n",
       "<style scoped>\n",
       "    .dataframe tbody tr th:only-of-type {\n",
       "        vertical-align: middle;\n",
       "    }\n",
       "\n",
       "    .dataframe tbody tr th {\n",
       "        vertical-align: top;\n",
       "    }\n",
       "\n",
       "    .dataframe thead th {\n",
       "        text-align: right;\n",
       "    }\n",
       "</style>\n",
       "<table border=\"1\" class=\"dataframe\">\n",
       "  <thead>\n",
       "    <tr style=\"text-align: right;\">\n",
       "      <th></th>\n",
       "      <th>MODELYEAR</th>\n",
       "      <th>MAKE</th>\n",
       "      <th>MODEL</th>\n",
       "      <th>VEHICLECLASS</th>\n",
       "      <th>ENGINESIZE</th>\n",
       "      <th>CYLINDERS</th>\n",
       "      <th>TRANSMISSION</th>\n",
       "      <th>FUELTYPE</th>\n",
       "      <th>FUELCONSUMPTION_CITY</th>\n",
       "      <th>FUELCONSUMPTION_HWY</th>\n",
       "      <th>FUELCONSUMPTION_COMB</th>\n",
       "      <th>FUELCONSUMPTION_COMB_MPG</th>\n",
       "      <th>CO2EMISSIONS</th>\n",
       "    </tr>\n",
       "  </thead>\n",
       "  <tbody>\n",
       "    <tr>\n",
       "      <th>0</th>\n",
       "      <td>2014</td>\n",
       "      <td>ACURA</td>\n",
       "      <td>ILX</td>\n",
       "      <td>COMPACT</td>\n",
       "      <td>2.0</td>\n",
       "      <td>4</td>\n",
       "      <td>AS5</td>\n",
       "      <td>Z</td>\n",
       "      <td>9.9</td>\n",
       "      <td>6.7</td>\n",
       "      <td>8.5</td>\n",
       "      <td>33</td>\n",
       "      <td>196</td>\n",
       "    </tr>\n",
       "    <tr>\n",
       "      <th>1</th>\n",
       "      <td>2014</td>\n",
       "      <td>ACURA</td>\n",
       "      <td>ILX</td>\n",
       "      <td>COMPACT</td>\n",
       "      <td>2.4</td>\n",
       "      <td>4</td>\n",
       "      <td>M6</td>\n",
       "      <td>Z</td>\n",
       "      <td>11.2</td>\n",
       "      <td>7.7</td>\n",
       "      <td>9.6</td>\n",
       "      <td>29</td>\n",
       "      <td>221</td>\n",
       "    </tr>\n",
       "    <tr>\n",
       "      <th>2</th>\n",
       "      <td>2014</td>\n",
       "      <td>ACURA</td>\n",
       "      <td>ILX HYBRID</td>\n",
       "      <td>COMPACT</td>\n",
       "      <td>1.5</td>\n",
       "      <td>4</td>\n",
       "      <td>AV7</td>\n",
       "      <td>Z</td>\n",
       "      <td>6.0</td>\n",
       "      <td>5.8</td>\n",
       "      <td>5.9</td>\n",
       "      <td>48</td>\n",
       "      <td>136</td>\n",
       "    </tr>\n",
       "    <tr>\n",
       "      <th>3</th>\n",
       "      <td>2014</td>\n",
       "      <td>ACURA</td>\n",
       "      <td>MDX 4WD</td>\n",
       "      <td>SUV - SMALL</td>\n",
       "      <td>3.5</td>\n",
       "      <td>6</td>\n",
       "      <td>AS6</td>\n",
       "      <td>Z</td>\n",
       "      <td>12.7</td>\n",
       "      <td>9.1</td>\n",
       "      <td>11.1</td>\n",
       "      <td>25</td>\n",
       "      <td>255</td>\n",
       "    </tr>\n",
       "    <tr>\n",
       "      <th>4</th>\n",
       "      <td>2014</td>\n",
       "      <td>ACURA</td>\n",
       "      <td>RDX AWD</td>\n",
       "      <td>SUV - SMALL</td>\n",
       "      <td>3.5</td>\n",
       "      <td>6</td>\n",
       "      <td>AS6</td>\n",
       "      <td>Z</td>\n",
       "      <td>12.1</td>\n",
       "      <td>8.7</td>\n",
       "      <td>10.6</td>\n",
       "      <td>27</td>\n",
       "      <td>244</td>\n",
       "    </tr>\n",
       "  </tbody>\n",
       "</table>\n",
       "</div>"
      ],
      "text/plain": [
       "   MODELYEAR   MAKE       MODEL VEHICLECLASS  ENGINESIZE  CYLINDERS  \\\n",
       "0       2014  ACURA         ILX      COMPACT         2.0          4   \n",
       "1       2014  ACURA         ILX      COMPACT         2.4          4   \n",
       "2       2014  ACURA  ILX HYBRID      COMPACT         1.5          4   \n",
       "3       2014  ACURA     MDX 4WD  SUV - SMALL         3.5          6   \n",
       "4       2014  ACURA     RDX AWD  SUV - SMALL         3.5          6   \n",
       "\n",
       "  TRANSMISSION FUELTYPE  FUELCONSUMPTION_CITY  FUELCONSUMPTION_HWY  \\\n",
       "0          AS5        Z                   9.9                  6.7   \n",
       "1           M6        Z                  11.2                  7.7   \n",
       "2          AV7        Z                   6.0                  5.8   \n",
       "3          AS6        Z                  12.7                  9.1   \n",
       "4          AS6        Z                  12.1                  8.7   \n",
       "\n",
       "   FUELCONSUMPTION_COMB  FUELCONSUMPTION_COMB_MPG  CO2EMISSIONS  \n",
       "0                   8.5                        33           196  \n",
       "1                   9.6                        29           221  \n",
       "2                   5.9                        48           136  \n",
       "3                  11.1                        25           255  \n",
       "4                  10.6                        27           244  "
      ]
     },
     "execution_count": 2,
     "metadata": {},
     "output_type": "execute_result"
    }
   ],
   "source": [
    "df_fuel = pd.read_csv('FuelConsumptionCo2.csv')\n",
    "df_fuel.head()"
   ]
  },
  {
   "cell_type": "code",
   "execution_count": 3,
   "id": "2c131020",
   "metadata": {},
   "outputs": [
    {
     "data": {
      "text/plain": [
       "(1067, 13)"
      ]
     },
     "execution_count": 3,
     "metadata": {},
     "output_type": "execute_result"
    }
   ],
   "source": [
    "df_fuel.shape"
   ]
  },
  {
   "cell_type": "code",
   "execution_count": 4,
   "id": "c3419540",
   "metadata": {},
   "outputs": [
    {
     "name": "stdout",
     "output_type": "stream",
     "text": [
      "<class 'pandas.core.frame.DataFrame'>\n",
      "RangeIndex: 1067 entries, 0 to 1066\n",
      "Data columns (total 13 columns):\n",
      " #   Column                    Non-Null Count  Dtype  \n",
      "---  ------                    --------------  -----  \n",
      " 0   MODELYEAR                 1067 non-null   int64  \n",
      " 1   MAKE                      1067 non-null   object \n",
      " 2   MODEL                     1067 non-null   object \n",
      " 3   VEHICLECLASS              1067 non-null   object \n",
      " 4   ENGINESIZE                1067 non-null   float64\n",
      " 5   CYLINDERS                 1067 non-null   int64  \n",
      " 6   TRANSMISSION              1067 non-null   object \n",
      " 7   FUELTYPE                  1067 non-null   object \n",
      " 8   FUELCONSUMPTION_CITY      1067 non-null   float64\n",
      " 9   FUELCONSUMPTION_HWY       1067 non-null   float64\n",
      " 10  FUELCONSUMPTION_COMB      1067 non-null   float64\n",
      " 11  FUELCONSUMPTION_COMB_MPG  1067 non-null   int64  \n",
      " 12  CO2EMISSIONS              1067 non-null   int64  \n",
      "dtypes: float64(4), int64(4), object(5)\n",
      "memory usage: 108.5+ KB\n"
     ]
    }
   ],
   "source": [
    "df_fuel.info()"
   ]
  },
  {
   "cell_type": "code",
   "execution_count": 5,
   "id": "5280eb8f",
   "metadata": {},
   "outputs": [],
   "source": [
    "# all columns except co2emmisions can be considered as INDEPENDENT VARIABLES\n",
    "# Last column CO2EMISSION can be dependent variable\n",
    "# multiple linear regression\n",
    "\n",
    "# engine size can be considered as INDEPENDENT VARIABLE\n",
    "# last column CO2EMISSION can be dependent variable\n",
    "# SIMPLE LINEAR REGRESSION"
   ]
  },
  {
   "cell_type": "code",
   "execution_count": 6,
   "id": "70c69053",
   "metadata": {},
   "outputs": [
    {
     "data": {
      "text/html": [
       "<div>\n",
       "<style scoped>\n",
       "    .dataframe tbody tr th:only-of-type {\n",
       "        vertical-align: middle;\n",
       "    }\n",
       "\n",
       "    .dataframe tbody tr th {\n",
       "        vertical-align: top;\n",
       "    }\n",
       "\n",
       "    .dataframe thead th {\n",
       "        text-align: right;\n",
       "    }\n",
       "</style>\n",
       "<table border=\"1\" class=\"dataframe\">\n",
       "  <thead>\n",
       "    <tr style=\"text-align: right;\">\n",
       "      <th></th>\n",
       "      <th>ENGINESIZE</th>\n",
       "      <th>CO2EMISSIONS</th>\n",
       "    </tr>\n",
       "  </thead>\n",
       "  <tbody>\n",
       "    <tr>\n",
       "      <th>0</th>\n",
       "      <td>2.0</td>\n",
       "      <td>196</td>\n",
       "    </tr>\n",
       "    <tr>\n",
       "      <th>1</th>\n",
       "      <td>2.4</td>\n",
       "      <td>221</td>\n",
       "    </tr>\n",
       "    <tr>\n",
       "      <th>2</th>\n",
       "      <td>1.5</td>\n",
       "      <td>136</td>\n",
       "    </tr>\n",
       "    <tr>\n",
       "      <th>3</th>\n",
       "      <td>3.5</td>\n",
       "      <td>255</td>\n",
       "    </tr>\n",
       "    <tr>\n",
       "      <th>4</th>\n",
       "      <td>3.5</td>\n",
       "      <td>244</td>\n",
       "    </tr>\n",
       "  </tbody>\n",
       "</table>\n",
       "</div>"
      ],
      "text/plain": [
       "   ENGINESIZE  CO2EMISSIONS\n",
       "0         2.0           196\n",
       "1         2.4           221\n",
       "2         1.5           136\n",
       "3         3.5           255\n",
       "4         3.5           244"
      ]
     },
     "execution_count": 6,
     "metadata": {},
     "output_type": "execute_result"
    }
   ],
   "source": [
    "# Since we are using Simple Linear Regression\n",
    "## ENGINESIZE can be considered as INDEPENDENT VARIABLE\n",
    "## last column CO2EMISSION can be dependent variable\n",
    "## SIMPLE LINEAR REGRESSION\n",
    "df_simple = df_fuel[['ENGINESIZE', 'CO2EMISSIONS']]\n",
    "df_simple.head()"
   ]
  },
  {
   "cell_type": "code",
   "execution_count": 7,
   "id": "449a4c3c",
   "metadata": {},
   "outputs": [
    {
     "data": {
      "image/png": "[encoded data removed]",
      "text/plain": [
       "<Figure size 432x288 with 1 Axes>"
      ]
     },
     "metadata": {
      "needs_background": "light"
     },
     "output_type": "display_data"
    }
   ],
   "source": [
    "plt.scatter(df_simple['ENGINESIZE'], df_simple['CO2EMISSIONS'])\n",
    "plt.xlabel('ENGINESIZE')\n",
    "plt.ylabel('CO2EMISSIONS')\n",
    "plt.title('ENGINESIZE vs CO2EMISSIONS');"
   ]
  },
  {
   "cell_type": "code",
   "execution_count": 8,
   "id": "b7a338bd",
   "metadata": {},
   "outputs": [
    {
     "name": "stdout",
     "output_type": "stream",
     "text": [
      "add records  1067\n",
      "training records  853\n",
      "testing records  214\n"
     ]
    }
   ],
   "source": [
    "# divide the data into train and test\n",
    "## 80:20\n",
    "\n",
    "split = int(len(df_simple) * 0.8)\n",
    "train_df = df_simple[:split]\n",
    "test_df = df_simple[split:]\n",
    "\n",
    "print(\"add records \", len(df_simple))\n",
    "print(\"training records \", len(train_df))\n",
    "print(\"testing records \", len(test_df))"
   ]
  },
  {
   "cell_type": "code",
   "execution_count": 9,
   "id": "3cc3a81c",
   "metadata": {},
   "outputs": [],
   "source": [
    "# Simple Linear Regression\n",
    "## Best Fit for my model\n",
    "\n",
    "##Slope . y2-y1/x2-x1\n",
    "##11.    Intercept C = Y – mx  \n",
    "## C = ymean – m(slope) * xmean\n",
    "#1.    X features \n",
    "#2.    Y feature \n",
    "#3.    X mean\n",
    "#4.    Y mean\n",
    "#5.    X sum\n",
    "#6.    Y sum\n",
    "#7.    Sum(x*y) n \n",
    "#8.    X*x \n",
    "#9.    Square of \n",
    "#10.    Slope . y2-y1/x2-x1\n",
    "#11.    Intercept C = Y – mx  \n",
    "#a.    C = ymean – m(slope) * xmean\n",
    " ## creation of function simple_lr()\n",
    "def simple_lr(input_feature, output):\n",
    "    \n",
    "    xi = input_feature\n",
    "    yi = output\n",
    "    \n",
    "    \n",
    "    ## total number of data points \n",
    "    n = len(xi)\n",
    "    \n",
    "    #xmean\n",
    "    x_mean = xi.mean()\n",
    "    \n",
    "    #ymean\n",
    "    y_mean = yi.mean()\n",
    "    \n",
    "    \n",
    "    #sumof x\n",
    "    sum_x = xi.sum()\n",
    "    \n",
    "    #sum of y \n",
    "    sum_y = yi.sum()\n",
    "    \n",
    "    #Sum(x*y) multiplie dby n\n",
    "    sum_xy = ((xi*yi).sum())*n\n",
    "    \n",
    "    \n",
    "    #sum sum_x and sum_yy \n",
    "    sumofxy = sum_x * sum_y\n",
    "    \n",
    "    #Sum(x*x) multiplie dby n\n",
    "    sum_xx = ((xi*xi).sum())*n\n",
    "    \n",
    "    \n",
    "    ##square of sum of x\n",
    "    sum_square  = sum_x * sum_x\n",
    "    \n",
    "    #slope \n",
    "    slope = (sum_xy - sumofxy) /  (sum_xx - sum_square)\n",
    "    \n",
    "    # intercept\n",
    "    intercept = y_mean - slope * x_mean\n",
    "    \n",
    "    return slope, intercept"
   ]
  },
  {
   "cell_type": "code",
   "execution_count": 10,
   "id": "116f31fe",
   "metadata": {},
   "outputs": [
    {
     "name": "stdout",
     "output_type": "stream",
     "text": [
      "slope dummy : 1.0\n",
      "intercept dummy : 0.0\n"
     ]
    }
   ],
   "source": [
    "# calling the function simple_lr() by dummy data intitially\n",
    "\n",
    "dummy_x = np.array((1,2,3,4,5))\n",
    "dummy_y = np.array((1,2,3,4,5))\n",
    "\n",
    "\n",
    "## CAll the function Simple_LR(input_feature, output)\n",
    "dummy_slope , dummy_intercept = simple_lr(dummy_x,dummy_y)\n",
    "print (f'slope dummy :', dummy_slope)\n",
    "print(f'intercept dummy :', dummy_intercept)"
   ]
  },
  {
   "cell_type": "code",
   "execution_count": 11,
   "id": "5d7c059a",
   "metadata": {},
   "outputs": [
    {
     "data": {
      "image/png": "[encoded data removed]",
      "text/plain": [
       "<Figure size 432x288 with 1 Axes>"
      ]
     },
     "metadata": {
      "needs_background": "light"
     },
     "output_type": "display_data"
    }
   ],
   "source": [
    "plt.scatter(dummy_x, dummy_y)\n",
    "plt.plot(dummy_x, dummy_y, color = \"red\")\n",
    "plt.show()"
   ]
  },
  {
   "cell_type": "code",
   "execution_count": 12,
   "id": "db004926",
   "metadata": {},
   "outputs": [
    {
     "name": "stdout",
     "output_type": "stream",
     "text": [
      "slope dummy : 38.79512383605654\n",
      "intercept dummy : 127.16989950881984\n"
     ]
    }
   ],
   "source": [
    "real_slope , real_intercept = simple_lr(train_df['ENGINESIZE'] ,train_df['CO2EMISSIONS'])\n",
    "print (f'slope dummy :', real_slope)\n",
    "print(f'intercept dummy :', real_intercept)"
   ]
  },
  {
   "cell_type": "code",
   "execution_count": 13,
   "id": "860111e1",
   "metadata": {},
   "outputs": [
    {
     "data": {
      "image/png": "[encoded data removed]",
      "text/plain": [
       "<Figure size 432x288 with 1 Axes>"
      ]
     },
     "metadata": {
      "needs_background": "light"
     },
     "output_type": "display_data"
    }
   ],
   "source": [
    "plt.scatter(train_df['ENGINESIZE'],train_df['CO2EMISSIONS'])\n",
    "plt.plot(train_df['ENGINESIZE'],real_slope*train_df['ENGINESIZE'] +real_intercept ,  color = \"green\")\n",
    "plt.show()"
   ]
  },
  {
   "cell_type": "code",
   "execution_count": 14,
   "id": "ae2e1eb9",
   "metadata": {},
   "outputs": [],
   "source": [
    "def prediction(input, slope, intercept):\n",
    "    pred_y = real_slope*input + real_intercept\n",
    "    return pred_y"
   ]
  },
  {
   "cell_type": "code",
   "execution_count": 15,
   "id": "4e1ff1c8",
   "metadata": {},
   "outputs": [
    {
     "name": "stdout",
     "output_type": "stream",
     "text": [
      "321.1455186891026\n"
     ]
    }
   ],
   "source": [
    "# What is my CO2 Emission if ENGINESIZE = 5 ???\n",
    "\n",
    "eng_size = 5\n",
    "predicted_co2emission = prediction(eng_size, real_slope, real_intercept)\n",
    "print(predicted_co2emission)"
   ]
  },
  {
   "cell_type": "code",
   "execution_count": 16,
   "id": "ea264113",
   "metadata": {},
   "outputs": [
    {
     "data": {
      "image/png": "[encoded data removed]",
      "text/plain": [
       "<Figure size 432x288 with 1 Axes>"
      ]
     },
     "metadata": {
      "needs_background": "light"
     },
     "output_type": "display_data"
    }
   ],
   "source": [
    "plt.scatter(test_df['ENGINESIZE'],test_df['CO2EMISSIONS'])\n",
    "plt.plot(test_df['ENGINESIZE'],real_slope*test_df['ENGINESIZE'] +real_intercept ,  color = \"green\")\n",
    "plt.show()"
   ]
  },
  {
   "cell_type": "code",
   "execution_count": 17,
   "id": "fd2849eb",
   "metadata": {},
   "outputs": [
    {
     "name": "stdout",
     "output_type": "stream",
     "text": [
      "0       204.760147\n",
      "1       220.278197\n",
      "2       185.362585\n",
      "3       262.952833\n",
      "4       262.952833\n",
      "           ...    \n",
      "1062    243.555271\n",
      "1063    251.314296\n",
      "1064    243.555271\n",
      "1065    251.314296\n",
      "1066    251.314296\n",
      "Name: ENGINESIZE, Length: 1067, dtype: float64\n"
     ]
    }
   ],
   "source": [
    "## test this for entire dataset \n",
    "\n",
    "Predicted_y_co2emission = prediction( df_simple['ENGINESIZE'] ,real_slope, real_intercept  )\n",
    "print(Predicted_y_co2emission)"
   ]
  },
  {
   "cell_type": "code",
   "execution_count": 18,
   "id": "c7f4d2aa",
   "metadata": {},
   "outputs": [
    {
     "name": "stdout",
     "output_type": "stream",
     "text": [
      "   Actual co2emission  Predicted y co2emission\n",
      "0                 196               204.760147\n",
      "1                 221               220.278197\n",
      "2                 136               185.362585\n",
      "3                 255               262.952833\n",
      "4                 244               262.952833\n"
     ]
    }
   ],
   "source": [
    "actual_predicted = pd.DataFrame({\"Actual co2emission\": df_simple['CO2EMISSIONS'], \"Predicted y co2emission\" : Predicted_y_co2emission})\n",
    "print(actual_predicted.head())"
   ]
  },
  {
   "cell_type": "code",
   "execution_count": 19,
   "id": "5c0a7e20",
   "metadata": {},
   "outputs": [
    {
     "data": {
      "image/png": "[encoded data removed]",
      "text/plain": [
       "<Figure size 864x432 with 1 Axes>"
      ]
     },
     "metadata": {
      "needs_background": "light"
     },
     "output_type": "display_data"
    }
   ],
   "source": [
    "actual_predicted.head(10).plot(kind = 'bar' , figsize = (12,6));"
   ]
  },
  {
   "cell_type": "code",
   "execution_count": 20,
   "id": "e74267ae",
   "metadata": {},
   "outputs": [],
   "source": [
    "## Error/ Variance/ difference\n",
    "## Square of errors\n",
    "## Sum of square of errors\n",
    "\n",
    "def error_metrics(input, output, slope, intercept):\n",
    "    # y = mx + c\n",
    "    pred = slope * input + intercept\n",
    "    #error /residual\n",
    "    error = (output - pred)\n",
    "    \n",
    "    #square errors\n",
    "    sse = (error * error).sum()\n",
    "    return sse"
   ]
  },
  {
   "cell_type": "code",
   "execution_count": 21,
   "id": "b9ac9ff9",
   "metadata": {},
   "outputs": [
    {
     "name": "stdout",
     "output_type": "stream",
     "text": [
      "SSE: 159741.10295932254\n"
     ]
    }
   ],
   "source": [
    "print (f'SSE:', error_metrics(test_df['ENGINESIZE'],test_df['CO2EMISSIONS'], real_slope , real_intercept) )"
   ]
  },
  {
   "cell_type": "code",
   "execution_count": null,
   "id": "5f0c2e23",
   "metadata": {},
   "outputs": [],
   "source": []
  },
  {
   "cell_type": "markdown",
   "id": "cc43537f",
   "metadata": {},
   "source": [
    "# 5PM CLASS using SKLEARN instead"
   ]
  },
  {
   "cell_type": "code",
   "execution_count": 22,
   "id": "5705e822",
   "metadata": {},
   "outputs": [
    {
     "name": "stdout",
     "output_type": "stream",
     "text": [
      "(1067, 13)\n"
     ]
    },
    {
     "data": {
      "text/html": [
       "<div>\n",
       "<style scoped>\n",
       "    .dataframe tbody tr th:only-of-type {\n",
       "        vertical-align: middle;\n",
       "    }\n",
       "\n",
       "    .dataframe tbody tr th {\n",
       "        vertical-align: top;\n",
       "    }\n",
       "\n",
       "    .dataframe thead th {\n",
       "        text-align: right;\n",
       "    }\n",
       "</style>\n",
       "<table border=\"1\" class=\"dataframe\">\n",
       "  <thead>\n",
       "    <tr style=\"text-align: right;\">\n",
       "      <th></th>\n",
       "      <th>MODELYEAR</th>\n",
       "      <th>MAKE</th>\n",
       "      <th>MODEL</th>\n",
       "      <th>VEHICLECLASS</th>\n",
       "      <th>ENGINESIZE</th>\n",
       "      <th>CYLINDERS</th>\n",
       "      <th>TRANSMISSION</th>\n",
       "      <th>FUELTYPE</th>\n",
       "      <th>FUELCONSUMPTION_CITY</th>\n",
       "      <th>FUELCONSUMPTION_HWY</th>\n",
       "      <th>FUELCONSUMPTION_COMB</th>\n",
       "      <th>FUELCONSUMPTION_COMB_MPG</th>\n",
       "      <th>CO2EMISSIONS</th>\n",
       "    </tr>\n",
       "  </thead>\n",
       "  <tbody>\n",
       "    <tr>\n",
       "      <th>0</th>\n",
       "      <td>2014</td>\n",
       "      <td>ACURA</td>\n",
       "      <td>ILX</td>\n",
       "      <td>COMPACT</td>\n",
       "      <td>2.0</td>\n",
       "      <td>4</td>\n",
       "      <td>AS5</td>\n",
       "      <td>Z</td>\n",
       "      <td>9.9</td>\n",
       "      <td>6.7</td>\n",
       "      <td>8.5</td>\n",
       "      <td>33</td>\n",
       "      <td>196</td>\n",
       "    </tr>\n",
       "    <tr>\n",
       "      <th>1</th>\n",
       "      <td>2014</td>\n",
       "      <td>ACURA</td>\n",
       "      <td>ILX</td>\n",
       "      <td>COMPACT</td>\n",
       "      <td>2.4</td>\n",
       "      <td>4</td>\n",
       "      <td>M6</td>\n",
       "      <td>Z</td>\n",
       "      <td>11.2</td>\n",
       "      <td>7.7</td>\n",
       "      <td>9.6</td>\n",
       "      <td>29</td>\n",
       "      <td>221</td>\n",
       "    </tr>\n",
       "    <tr>\n",
       "      <th>2</th>\n",
       "      <td>2014</td>\n",
       "      <td>ACURA</td>\n",
       "      <td>ILX HYBRID</td>\n",
       "      <td>COMPACT</td>\n",
       "      <td>1.5</td>\n",
       "      <td>4</td>\n",
       "      <td>AV7</td>\n",
       "      <td>Z</td>\n",
       "      <td>6.0</td>\n",
       "      <td>5.8</td>\n",
       "      <td>5.9</td>\n",
       "      <td>48</td>\n",
       "      <td>136</td>\n",
       "    </tr>\n",
       "    <tr>\n",
       "      <th>3</th>\n",
       "      <td>2014</td>\n",
       "      <td>ACURA</td>\n",
       "      <td>MDX 4WD</td>\n",
       "      <td>SUV - SMALL</td>\n",
       "      <td>3.5</td>\n",
       "      <td>6</td>\n",
       "      <td>AS6</td>\n",
       "      <td>Z</td>\n",
       "      <td>12.7</td>\n",
       "      <td>9.1</td>\n",
       "      <td>11.1</td>\n",
       "      <td>25</td>\n",
       "      <td>255</td>\n",
       "    </tr>\n",
       "    <tr>\n",
       "      <th>4</th>\n",
       "      <td>2014</td>\n",
       "      <td>ACURA</td>\n",
       "      <td>RDX AWD</td>\n",
       "      <td>SUV - SMALL</td>\n",
       "      <td>3.5</td>\n",
       "      <td>6</td>\n",
       "      <td>AS6</td>\n",
       "      <td>Z</td>\n",
       "      <td>12.1</td>\n",
       "      <td>8.7</td>\n",
       "      <td>10.6</td>\n",
       "      <td>27</td>\n",
       "      <td>244</td>\n",
       "    </tr>\n",
       "  </tbody>\n",
       "</table>\n",
       "</div>"
      ],
      "text/plain": [
       "   MODELYEAR   MAKE       MODEL VEHICLECLASS  ENGINESIZE  CYLINDERS  \\\n",
       "0       2014  ACURA         ILX      COMPACT         2.0          4   \n",
       "1       2014  ACURA         ILX      COMPACT         2.4          4   \n",
       "2       2014  ACURA  ILX HYBRID      COMPACT         1.5          4   \n",
       "3       2014  ACURA     MDX 4WD  SUV - SMALL         3.5          6   \n",
       "4       2014  ACURA     RDX AWD  SUV - SMALL         3.5          6   \n",
       "\n",
       "  TRANSMISSION FUELTYPE  FUELCONSUMPTION_CITY  FUELCONSUMPTION_HWY  \\\n",
       "0          AS5        Z                   9.9                  6.7   \n",
       "1           M6        Z                  11.2                  7.7   \n",
       "2          AV7        Z                   6.0                  5.8   \n",
       "3          AS6        Z                  12.7                  9.1   \n",
       "4          AS6        Z                  12.1                  8.7   \n",
       "\n",
       "   FUELCONSUMPTION_COMB  FUELCONSUMPTION_COMB_MPG  CO2EMISSIONS  \n",
       "0                   8.5                        33           196  \n",
       "1                   9.6                        29           221  \n",
       "2                   5.9                        48           136  \n",
       "3                  11.1                        25           255  \n",
       "4                  10.6                        27           244  "
      ]
     },
     "execution_count": 22,
     "metadata": {},
     "output_type": "execute_result"
    }
   ],
   "source": [
    "### using sklearn \n",
    "\n",
    "df_fuel_sk  = pd.read_csv('FuelConsumptionCo2.csv')\n",
    "print (df_fuel_sk.shape)\n",
    "df_fuel_sk.head()"
   ]
  },
  {
   "cell_type": "code",
   "execution_count": 23,
   "id": "ad896d79",
   "metadata": {},
   "outputs": [
    {
     "data": {
      "text/html": [
       "<div>\n",
       "<style scoped>\n",
       "    .dataframe tbody tr th:only-of-type {\n",
       "        vertical-align: middle;\n",
       "    }\n",
       "\n",
       "    .dataframe tbody tr th {\n",
       "        vertical-align: top;\n",
       "    }\n",
       "\n",
       "    .dataframe thead th {\n",
       "        text-align: right;\n",
       "    }\n",
       "</style>\n",
       "<table border=\"1\" class=\"dataframe\">\n",
       "  <thead>\n",
       "    <tr style=\"text-align: right;\">\n",
       "      <th></th>\n",
       "      <th>ENGINESIZE</th>\n",
       "      <th>CO2EMISSIONS</th>\n",
       "    </tr>\n",
       "  </thead>\n",
       "  <tbody>\n",
       "    <tr>\n",
       "      <th>0</th>\n",
       "      <td>2.0</td>\n",
       "      <td>196</td>\n",
       "    </tr>\n",
       "    <tr>\n",
       "      <th>1</th>\n",
       "      <td>2.4</td>\n",
       "      <td>221</td>\n",
       "    </tr>\n",
       "    <tr>\n",
       "      <th>2</th>\n",
       "      <td>1.5</td>\n",
       "      <td>136</td>\n",
       "    </tr>\n",
       "    <tr>\n",
       "      <th>3</th>\n",
       "      <td>3.5</td>\n",
       "      <td>255</td>\n",
       "    </tr>\n",
       "    <tr>\n",
       "      <th>4</th>\n",
       "      <td>3.5</td>\n",
       "      <td>244</td>\n",
       "    </tr>\n",
       "  </tbody>\n",
       "</table>\n",
       "</div>"
      ],
      "text/plain": [
       "   ENGINESIZE  CO2EMISSIONS\n",
       "0         2.0           196\n",
       "1         2.4           221\n",
       "2         1.5           136\n",
       "3         3.5           255\n",
       "4         3.5           244"
      ]
     },
     "execution_count": 23,
     "metadata": {},
     "output_type": "execute_result"
    }
   ],
   "source": [
    "df_simple_sk = df_fuel_sk[['ENGINESIZE', 'CO2EMISSIONS']]\n",
    "df_simple_sk.head()"
   ]
  },
  {
   "cell_type": "code",
   "execution_count": 24,
   "id": "dc6b07e5",
   "metadata": {},
   "outputs": [
    {
     "data": {
      "image/png": "[encoded data removed]",
      "text/plain": [
       "<Figure size 432x288 with 1 Axes>"
      ]
     },
     "metadata": {
      "needs_background": "light"
     },
     "output_type": "display_data"
    }
   ],
   "source": [
    "## analysis \n",
    "##'ENGINESIZE' vs  'CO2EMISSIONS'\n",
    "\n",
    "plt.scatter(df_simple_sk['ENGINESIZE'], df_simple_sk['CO2EMISSIONS'])\n",
    "plt.xlabel('ENGINESIZE')\n",
    "plt.ylabel('CO2EMISSIONS')\n",
    "plt.title(\"ENGINESIZE vs  CO2EMISSIONS\")\n",
    "plt.show()"
   ]
  },
  {
   "cell_type": "code",
   "execution_count": 25,
   "id": "e87fe747",
   "metadata": {},
   "outputs": [],
   "source": [
    "# sklearn linear regression\n",
    "from sklearn import linear_model"
   ]
  },
  {
   "cell_type": "code",
   "execution_count": 26,
   "id": "ecc18068",
   "metadata": {},
   "outputs": [],
   "source": [
    "import sklearn.model_selection as ms\n",
    "x_train, x_test, y_train, y_test = ms.train_test_split(df_simple_sk['ENGINESIZE'],df_simple_sk['CO2EMISSIONS'], test_size = 0.2)\n"
   ]
  },
  {
   "cell_type": "code",
   "execution_count": 27,
   "id": "7a9c3d0a",
   "metadata": {},
   "outputs": [
    {
     "name": "stdout",
     "output_type": "stream",
     "text": [
      "add records  1067\n",
      "training records  853\n",
      "test records  214\n"
     ]
    }
   ],
   "source": [
    "# divide the data into train and test\n",
    "## 80:20\n",
    "\n",
    "split = int(len(df_simple_sk) * 0.8)\n",
    "train_df_sk = df_simple_sk[:split]\n",
    "test_df_sk = df_simple_sk[split:]\n",
    "\n",
    "print(\"add records \", len(df_simple_sk))\n",
    "print(\"training records \", len(train_df_sk))\n",
    "print(\"test records \", len(test_df_sk))\n"
   ]
  },
  {
   "cell_type": "code",
   "execution_count": 28,
   "id": "e0aea2dd",
   "metadata": {
    "scrolled": false
   },
   "outputs": [
    {
     "data": {
      "text/plain": [
       "LinearRegression()"
      ]
     },
     "execution_count": 28,
     "metadata": {},
     "output_type": "execute_result"
    }
   ],
   "source": [
    "## use sklearn linear regression \n",
    "## fit model \n",
    "## slope and intercept \n",
    "\n",
    "regr = linear_model.LinearRegression()\n",
    "train_x  = np.array(train_df_sk[[\"ENGINESIZE\"]]) \n",
    "train_y  = np.array(train_df_sk[[\"CO2EMISSIONS\"]])\n",
    "\n",
    "regr.fit(train_x, train_y)"
   ]
  },
  {
   "cell_type": "code",
   "execution_count": 29,
   "id": "5ec31946",
   "metadata": {},
   "outputs": [],
   "source": [
    "coeff = regr.coef_\n",
    "intercept = regr.intercept_"
   ]
  },
  {
   "cell_type": "code",
   "execution_count": 30,
   "id": "dce78789",
   "metadata": {},
   "outputs": [
    {
     "name": "stdout",
     "output_type": "stream",
     "text": [
      "slope [38.79512384]\n",
      "intercept [127.16989951]\n"
     ]
    }
   ],
   "source": [
    "print(f\"slope\", coeff[0])\n",
    "print(f\"intercept\", intercept)"
   ]
  },
  {
   "cell_type": "code",
   "execution_count": 31,
   "id": "d69cabf4",
   "metadata": {},
   "outputs": [
    {
     "data": {
      "text/plain": [
       "array([[204.76014718],\n",
       "       [220.27819672],\n",
       "       [185.36258526],\n",
       "       [262.95283294],\n",
       "       [262.95283294]])"
      ]
     },
     "execution_count": 31,
     "metadata": {},
     "output_type": "execute_result"
    }
   ],
   "source": [
    "# prediction of train_df_sk\n",
    "\n",
    "predict_engine = regr.predict(train_df_sk[['ENGINESIZE']])\n",
    "predict_engine[:5]"
   ]
  },
  {
   "cell_type": "code",
   "execution_count": 32,
   "id": "738b3f57",
   "metadata": {},
   "outputs": [
    {
     "data": {
      "text/plain": [
       "array([[224.1577091 ],\n",
       "       [262.95283294],\n",
       "       [224.1577091 ],\n",
       "       [224.1577091 ],\n",
       "       [197.00112241]])"
      ]
     },
     "execution_count": 32,
     "metadata": {},
     "output_type": "execute_result"
    }
   ],
   "source": [
    "# prediction of test_df_sk\n",
    "\n",
    "predict_engine = regr.predict(test_df_sk[['ENGINESIZE']])\n",
    "predict_engine[:5]"
   ]
  },
  {
   "cell_type": "code",
   "execution_count": 33,
   "id": "eb1821e4",
   "metadata": {},
   "outputs": [
    {
     "data": {
      "text/html": [
       "<div>\n",
       "<style scoped>\n",
       "    .dataframe tbody tr th:only-of-type {\n",
       "        vertical-align: middle;\n",
       "    }\n",
       "\n",
       "    .dataframe tbody tr th {\n",
       "        vertical-align: top;\n",
       "    }\n",
       "\n",
       "    .dataframe thead th {\n",
       "        text-align: right;\n",
       "    }\n",
       "</style>\n",
       "<table border=\"1\" class=\"dataframe\">\n",
       "  <thead>\n",
       "    <tr style=\"text-align: right;\">\n",
       "      <th></th>\n",
       "      <th>Actual co2emission</th>\n",
       "      <th>Predicted y co2emission</th>\n",
       "    </tr>\n",
       "  </thead>\n",
       "  <tbody>\n",
       "    <tr>\n",
       "      <th>0</th>\n",
       "      <td>196</td>\n",
       "      <td>204.760147</td>\n",
       "    </tr>\n",
       "    <tr>\n",
       "      <th>1</th>\n",
       "      <td>221</td>\n",
       "      <td>220.278197</td>\n",
       "    </tr>\n",
       "    <tr>\n",
       "      <th>2</th>\n",
       "      <td>136</td>\n",
       "      <td>185.362585</td>\n",
       "    </tr>\n",
       "    <tr>\n",
       "      <th>3</th>\n",
       "      <td>255</td>\n",
       "      <td>262.952833</td>\n",
       "    </tr>\n",
       "    <tr>\n",
       "      <th>4</th>\n",
       "      <td>244</td>\n",
       "      <td>262.952833</td>\n",
       "    </tr>\n",
       "  </tbody>\n",
       "</table>\n",
       "</div>"
      ],
      "text/plain": [
       "   Actual co2emission  Predicted y co2emission\n",
       "0                 196               204.760147\n",
       "1                 221               220.278197\n",
       "2                 136               185.362585\n",
       "3                 255               262.952833\n",
       "4                 244               262.952833"
      ]
     },
     "execution_count": 33,
     "metadata": {},
     "output_type": "execute_result"
    }
   ],
   "source": [
    "actual_predicted = pd.DataFrame({\"Actual co2emission\": df_simple['CO2EMISSIONS'], \"Predicted y co2emission\":Predicted_y_co2emission})\n",
    "actual_predicted.head()"
   ]
  },
  {
   "cell_type": "code",
   "execution_count": 34,
   "id": "cb554191",
   "metadata": {},
   "outputs": [
    {
     "data": {
      "image/png": "[encoded data removed]",
      "text/plain": [
       "<Figure size 864x432 with 1 Axes>"
      ]
     },
     "metadata": {
      "needs_background": "light"
     },
     "output_type": "display_data"
    }
   ],
   "source": [
    "actual_predicted.head(10).plot(kind = 'bar', figsize = (12,6))\n",
    "plt.show()"
   ]
  },
  {
   "cell_type": "code",
   "execution_count": null,
   "id": "ca9181b5",
   "metadata": {},
   "outputs": [],
   "source": []
  }
 ],
 "metadata": {
  "kernelspec": {
   "display_name": "Python 3",
   "language": "python",
   "name": "python3"
  },
  "language_info": {
   "codemirror_mode": {
    "name": "ipython",
    "version": 3
   },
   "file_extension": ".py",
   "mimetype": "text/x-python",
   "name": "python",
   "nbconvert_exporter": "python",
   "pygments_lexer": "ipython3",
   "version": "3.8.8"
  }
 },
 "nbformat": 4,
 "nbformat_minor": 5
}
