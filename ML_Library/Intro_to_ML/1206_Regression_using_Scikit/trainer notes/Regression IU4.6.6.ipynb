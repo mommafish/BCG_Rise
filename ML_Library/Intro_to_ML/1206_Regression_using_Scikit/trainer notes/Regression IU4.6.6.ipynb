{
 "cells": [
  {
   "cell_type": "markdown",
   "id": "c65e473b",
   "metadata": {},
   "source": [
    "# Regression \n",
    "1. Theoritical \n",
    "2. Maths \n",
    "3. Programming "
   ]
  },
  {
   "cell_type": "markdown",
   "id": "1223782f",
   "metadata": {},
   "source": [
    "## use case Regression - Numeric prediction \n",
    "user case. = hdb flat  price prediction\n",
    "independent features = noof rooms, sft, reno, nearmrt\n",
    "dependent feature( predicted variable) = price \n",
    "\n",
    "\n",
    "1. Simple Linear Regression  \n",
    "    \n",
    "     only one independent feature = sft  = one X feature\n",
    "     only one dependent FEATURE = price = One Y feature\n",
    "     \n",
    "     \n",
    "2. Multiple Linear regression\n",
    "     many independent features = sft ,reno, near_mrt, no_of_rooms = many X features\n",
    "     only one dependent FEATURE = price = One Y feature\n"
   ]
  },
  {
   "cell_type": "markdown",
   "id": "5381bef7",
   "metadata": {},
   "source": [
    "# Simple Linear Regression  \n",
    "Goal = take the independent feature value and predict the dependent feature value\n",
    "\n",
    "Relationship between independent feature value and dependent feature value \n",
    "\n",
    "Correlation : strength of two variables \n",
    "Regression : how independent decides/effects  the dependent , model fitting \n",
    "\n",
    "\n",
    "\n",
    "Relationship between independent feature value and dependent feature value ( statistical relationship ) ( blk 616 senja road)\n",
    "Area in SFT( Square feet) independent feature value\tFlat Price dependent feature value\n",
    "1500( x1)\t150000(y1)\n",
    "\n",
    "2500(x2)\t300000(y2)\n",
    "\n",
    "1800\t? y\n",
    "\n"
   ]
  },
  {
   "cell_type": "markdown",
   "id": "90f1c127",
   "metadata": {},
   "source": [
    "Y = mx +c \n",
    " \n",
    " \n",
    "\n",
    "M = slope \n",
    "C = intercept \n",
    "X = independent feature value\n",
    "Y = dependent feature value \n",
    "M = slope of straight line \n",
    "M = y2-y1/x2-x1\n",
    "   = 300000 – 150000 / 2500-1500 \n",
    "  = 150000/ 1000\n",
    "  = 150\n",
    "\n",
    "\n",
    "Y = mx + c \n",
    "Y = predicted flat price \n",
    "X = area in sft ( 1800)\n",
    "M = 150 \n",
    "\n",
    "If Y = mx + c \n",
    "\n",
    "C = Y – mx, use if for all data points \n",
    " \n",
    "1500( x1)\t150000(y1)\n",
    "\n",
    "C = 150000 – 150* 1500\n",
    "C = -75000\t\n",
    "\n",
    "\n",
    "C = Y – mx, use if for all data points \n",
    "\n",
    "2500(x2)\t300000(y2)\n",
    "\n",
    "C = 300000 – 150*2500\n",
    "   = -75000\t\n",
    "\n",
    "Y = mx + c for my flat sft of 1800? \n",
    "Y = 150* 1800 +-75000\n",
    "   = 195000\n",
    "Y= predicted price \n"
   ]
  },
  {
   "cell_type": "markdown",
   "id": "8e133918",
   "metadata": {},
   "source": [
    "Y precited = 195000\n",
    "Actual = 220000\n",
    "(Error)Difference between actual and predicted = 220000 – 195000 = $25000\n",
    "\n",
    "\n",
    "Y precited = 195000\n",
    "Actual = 165000\n",
    "(Error)Difference between actual and predicted = 165000 – 195000 = -$30000\n",
    "\n",
    "To calculate the error of all the rows ( square of all errors) \n",
    "-\tLeast square method \n",
    "\n",
    "Y = mx + c \n",
    "\n",
    "X\tY( acutal Y) \tPredicted y ( yhat)y^\ty-y^\t(y-y^)2\n",
    "3\t1\tY^ = 3m +c \t1-3m+c\t(1-3m+c)2\n",
    "5\t5\tY^ = 5m+c\t5-5m+c\t(5-5m+c) 2\n",
    "7\t8\tY^=7m+c\t8-7m+c\t(8-7m+c) 2\n",
    "\t\t\t\tSum of all squares \n",
    "\n",
    "(1-3m+c)2  + (5-5m+c) 2 + (8-7m+c) 2\n",
    "\n",
    "\n",
    "\n",
    "(1-\t3m + c)2    \n",
    "(A+b)2 = a2 + 2ab +b2\n",
    "(A+b+c)2  = a2 + b2 + c2 + 2ab + 2bc + 2ac\n",
    "\n",
    "A = 1\n",
    "B = 3m\n",
    "C = c \n",
    "(1-\t3m + c)2     = 1 + 9m2 + c 2 – 6m +6mc + 2c\n",
    "\n",
    "After all the recalculation we get m and we get c \n",
    "We can go with y = mx + c \n",
    "You may get the best fit line \n",
    "\n"
   ]
  },
  {
   "cell_type": "markdown",
   "id": "28275674",
   "metadata": {},
   "source": [
    "If all this to put in programmatical ( traditional ) + sklearn \n",
    "1.\tX features \n",
    "2.\tY feature \n",
    "3.\tX mean\n",
    "4.\tY mean\n",
    "5.\tX sum\n",
    "6.\tY sum\n",
    "7.\tSum(x*y) n \n",
    "8.\tX*x \n",
    "9.\tSquare of \n",
    "10.\tSlope . y2-y1/x2-x1\n",
    "11.\tIntercept C = Y – mx  \n",
    "a.\tC = ymean – m(slope) * xmean\n"
   ]
  },
  {
   "cell_type": "code",
   "execution_count": 1,
   "id": "c31cd75d",
   "metadata": {},
   "outputs": [],
   "source": [
    "import pandas as pd \n",
    "import matplotlib.pyplot as plt "
   ]
  },
  {
   "cell_type": "code",
   "execution_count": 2,
   "id": "f9bbfb0d",
   "metadata": {},
   "outputs": [
    {
     "data": {
      "text/html": [
       "<div>\n",
       "<style scoped>\n",
       "    .dataframe tbody tr th:only-of-type {\n",
       "        vertical-align: middle;\n",
       "    }\n",
       "\n",
       "    .dataframe tbody tr th {\n",
       "        vertical-align: top;\n",
       "    }\n",
       "\n",
       "    .dataframe thead th {\n",
       "        text-align: right;\n",
       "    }\n",
       "</style>\n",
       "<table border=\"1\" class=\"dataframe\">\n",
       "  <thead>\n",
       "    <tr style=\"text-align: right;\">\n",
       "      <th></th>\n",
       "      <th>MODELYEAR</th>\n",
       "      <th>MAKE</th>\n",
       "      <th>MODEL</th>\n",
       "      <th>VEHICLECLASS</th>\n",
       "      <th>ENGINESIZE</th>\n",
       "      <th>CYLINDERS</th>\n",
       "      <th>TRANSMISSION</th>\n",
       "      <th>FUELTYPE</th>\n",
       "      <th>FUELCONSUMPTION_CITY</th>\n",
       "      <th>FUELCONSUMPTION_HWY</th>\n",
       "      <th>FUELCONSUMPTION_COMB</th>\n",
       "      <th>FUELCONSUMPTION_COMB_MPG</th>\n",
       "      <th>CO2EMISSIONS</th>\n",
       "    </tr>\n",
       "  </thead>\n",
       "  <tbody>\n",
       "    <tr>\n",
       "      <th>0</th>\n",
       "      <td>2014</td>\n",
       "      <td>ACURA</td>\n",
       "      <td>ILX</td>\n",
       "      <td>COMPACT</td>\n",
       "      <td>2.0</td>\n",
       "      <td>4</td>\n",
       "      <td>AS5</td>\n",
       "      <td>Z</td>\n",
       "      <td>9.9</td>\n",
       "      <td>6.7</td>\n",
       "      <td>8.5</td>\n",
       "      <td>33</td>\n",
       "      <td>196</td>\n",
       "    </tr>\n",
       "    <tr>\n",
       "      <th>1</th>\n",
       "      <td>2014</td>\n",
       "      <td>ACURA</td>\n",
       "      <td>ILX</td>\n",
       "      <td>COMPACT</td>\n",
       "      <td>2.4</td>\n",
       "      <td>4</td>\n",
       "      <td>M6</td>\n",
       "      <td>Z</td>\n",
       "      <td>11.2</td>\n",
       "      <td>7.7</td>\n",
       "      <td>9.6</td>\n",
       "      <td>29</td>\n",
       "      <td>221</td>\n",
       "    </tr>\n",
       "    <tr>\n",
       "      <th>2</th>\n",
       "      <td>2014</td>\n",
       "      <td>ACURA</td>\n",
       "      <td>ILX HYBRID</td>\n",
       "      <td>COMPACT</td>\n",
       "      <td>1.5</td>\n",
       "      <td>4</td>\n",
       "      <td>AV7</td>\n",
       "      <td>Z</td>\n",
       "      <td>6.0</td>\n",
       "      <td>5.8</td>\n",
       "      <td>5.9</td>\n",
       "      <td>48</td>\n",
       "      <td>136</td>\n",
       "    </tr>\n",
       "    <tr>\n",
       "      <th>3</th>\n",
       "      <td>2014</td>\n",
       "      <td>ACURA</td>\n",
       "      <td>MDX 4WD</td>\n",
       "      <td>SUV - SMALL</td>\n",
       "      <td>3.5</td>\n",
       "      <td>6</td>\n",
       "      <td>AS6</td>\n",
       "      <td>Z</td>\n",
       "      <td>12.7</td>\n",
       "      <td>9.1</td>\n",
       "      <td>11.1</td>\n",
       "      <td>25</td>\n",
       "      <td>255</td>\n",
       "    </tr>\n",
       "    <tr>\n",
       "      <th>4</th>\n",
       "      <td>2014</td>\n",
       "      <td>ACURA</td>\n",
       "      <td>RDX AWD</td>\n",
       "      <td>SUV - SMALL</td>\n",
       "      <td>3.5</td>\n",
       "      <td>6</td>\n",
       "      <td>AS6</td>\n",
       "      <td>Z</td>\n",
       "      <td>12.1</td>\n",
       "      <td>8.7</td>\n",
       "      <td>10.6</td>\n",
       "      <td>27</td>\n",
       "      <td>244</td>\n",
       "    </tr>\n",
       "  </tbody>\n",
       "</table>\n",
       "</div>"
      ],
      "text/plain": [
       "   MODELYEAR   MAKE       MODEL VEHICLECLASS  ENGINESIZE  CYLINDERS  \\\n",
       "0       2014  ACURA         ILX      COMPACT         2.0          4   \n",
       "1       2014  ACURA         ILX      COMPACT         2.4          4   \n",
       "2       2014  ACURA  ILX HYBRID      COMPACT         1.5          4   \n",
       "3       2014  ACURA     MDX 4WD  SUV - SMALL         3.5          6   \n",
       "4       2014  ACURA     RDX AWD  SUV - SMALL         3.5          6   \n",
       "\n",
       "  TRANSMISSION FUELTYPE  FUELCONSUMPTION_CITY  FUELCONSUMPTION_HWY  \\\n",
       "0          AS5        Z                   9.9                  6.7   \n",
       "1           M6        Z                  11.2                  7.7   \n",
       "2          AV7        Z                   6.0                  5.8   \n",
       "3          AS6        Z                  12.7                  9.1   \n",
       "4          AS6        Z                  12.1                  8.7   \n",
       "\n",
       "   FUELCONSUMPTION_COMB  FUELCONSUMPTION_COMB_MPG  CO2EMISSIONS  \n",
       "0                   8.5                        33           196  \n",
       "1                   9.6                        29           221  \n",
       "2                   5.9                        48           136  \n",
       "3                  11.1                        25           255  \n",
       "4                  10.6                        27           244  "
      ]
     },
     "execution_count": 2,
     "metadata": {},
     "output_type": "execute_result"
    }
   ],
   "source": [
    "df_fuel  = pd.read_csv('FuelConsumptionCo2.csv')\n",
    "df_fuel.head()"
   ]
  },
  {
   "cell_type": "code",
   "execution_count": 3,
   "id": "9a885e42",
   "metadata": {},
   "outputs": [
    {
     "data": {
      "text/plain": [
       "(1067, 13)"
      ]
     },
     "execution_count": 3,
     "metadata": {},
     "output_type": "execute_result"
    }
   ],
   "source": [
    "df_fuel.shape"
   ]
  },
  {
   "cell_type": "code",
   "execution_count": 4,
   "id": "2748ed09",
   "metadata": {},
   "outputs": [
    {
     "name": "stdout",
     "output_type": "stream",
     "text": [
      "<class 'pandas.core.frame.DataFrame'>\n",
      "RangeIndex: 1067 entries, 0 to 1066\n",
      "Data columns (total 13 columns):\n",
      " #   Column                    Non-Null Count  Dtype  \n",
      "---  ------                    --------------  -----  \n",
      " 0   MODELYEAR                 1067 non-null   int64  \n",
      " 1   MAKE                      1067 non-null   object \n",
      " 2   MODEL                     1067 non-null   object \n",
      " 3   VEHICLECLASS              1067 non-null   object \n",
      " 4   ENGINESIZE                1067 non-null   float64\n",
      " 5   CYLINDERS                 1067 non-null   int64  \n",
      " 6   TRANSMISSION              1067 non-null   object \n",
      " 7   FUELTYPE                  1067 non-null   object \n",
      " 8   FUELCONSUMPTION_CITY      1067 non-null   float64\n",
      " 9   FUELCONSUMPTION_HWY       1067 non-null   float64\n",
      " 10  FUELCONSUMPTION_COMB      1067 non-null   float64\n",
      " 11  FUELCONSUMPTION_COMB_MPG  1067 non-null   int64  \n",
      " 12  CO2EMISSIONS              1067 non-null   int64  \n",
      "dtypes: float64(4), int64(4), object(5)\n",
      "memory usage: 108.5+ KB\n"
     ]
    }
   ],
   "source": [
    "df_fuel.info()"
   ]
  },
  {
   "cell_type": "code",
   "execution_count": 5,
   "id": "f53c6a39",
   "metadata": {},
   "outputs": [],
   "source": [
    "\n",
    "## all columns except co2emmisions can be considered as INDEPENDENT VARIABLES \n",
    "## last column CO2EMISSION can be dependent variable\n",
    "### multiple linear regression \n",
    "\n",
    "\n",
    "##  ENGINESIZE can be considered as INDEPENDENT VARIABLE\n",
    "## last column CO2EMISSION can be dependent variable\n",
    "## SIMPLE LINEAR REGRESSION \n",
    "\n",
    "\n"
   ]
  },
  {
   "cell_type": "code",
   "execution_count": 6,
   "id": "4d3f81b8",
   "metadata": {},
   "outputs": [
    {
     "data": {
      "text/html": [
       "<div>\n",
       "<style scoped>\n",
       "    .dataframe tbody tr th:only-of-type {\n",
       "        vertical-align: middle;\n",
       "    }\n",
       "\n",
       "    .dataframe tbody tr th {\n",
       "        vertical-align: top;\n",
       "    }\n",
       "\n",
       "    .dataframe thead th {\n",
       "        text-align: right;\n",
       "    }\n",
       "</style>\n",
       "<table border=\"1\" class=\"dataframe\">\n",
       "  <thead>\n",
       "    <tr style=\"text-align: right;\">\n",
       "      <th></th>\n",
       "      <th>ENGINESIZE</th>\n",
       "      <th>CO2EMISSIONS</th>\n",
       "    </tr>\n",
       "  </thead>\n",
       "  <tbody>\n",
       "    <tr>\n",
       "      <th>0</th>\n",
       "      <td>2.0</td>\n",
       "      <td>196</td>\n",
       "    </tr>\n",
       "    <tr>\n",
       "      <th>1</th>\n",
       "      <td>2.4</td>\n",
       "      <td>221</td>\n",
       "    </tr>\n",
       "    <tr>\n",
       "      <th>2</th>\n",
       "      <td>1.5</td>\n",
       "      <td>136</td>\n",
       "    </tr>\n",
       "    <tr>\n",
       "      <th>3</th>\n",
       "      <td>3.5</td>\n",
       "      <td>255</td>\n",
       "    </tr>\n",
       "    <tr>\n",
       "      <th>4</th>\n",
       "      <td>3.5</td>\n",
       "      <td>244</td>\n",
       "    </tr>\n",
       "  </tbody>\n",
       "</table>\n",
       "</div>"
      ],
      "text/plain": [
       "   ENGINESIZE  CO2EMISSIONS\n",
       "0         2.0           196\n",
       "1         2.4           221\n",
       "2         1.5           136\n",
       "3         3.5           255\n",
       "4         3.5           244"
      ]
     },
     "execution_count": 6,
     "metadata": {},
     "output_type": "execute_result"
    }
   ],
   "source": [
    "# since we are simple linear regresssion \n",
    "##  ENGINESIZE can be considered as INDEPENDENT VARIABLE\n",
    "## last column CO2EMISSION can be dependent variable\n",
    "## SIMPLE LINEAR REGRESSION \n",
    "df_fuel.shape\n",
    "df_simple = df_fuel[['ENGINESIZE', 'CO2EMISSIONS']]\n",
    "df_simple.head()"
   ]
  },
  {
   "cell_type": "code",
   "execution_count": 7,
   "id": "4a81070a",
   "metadata": {},
   "outputs": [
    {
     "data": {
      "image/png": "[encoded data removed]",
      "text/plain": [
       "<Figure size 432x288 with 1 Axes>"
      ]
     },
     "metadata": {
      "needs_background": "light"
     },
     "output_type": "display_data"
    }
   ],
   "source": [
    "## analysis \n",
    "##'ENGINESIZE' vs  'CO2EMISSIONS'\n",
    "\n",
    "plt.scatter(df_simple['ENGINESIZE'], df_simple['CO2EMISSIONS'])\n",
    "plt.xlabel('ENGINESIZE')\n",
    "plt.ylabel('CO2EMISSIONS')\n",
    "plt.title(\"ENGINESIZE vs  CO2EMISSIONS\")\n",
    "plt.show()\n"
   ]
  },
  {
   "cell_type": "code",
   "execution_count": 8,
   "id": "9edfaf5f",
   "metadata": {},
   "outputs": [
    {
     "name": "stdout",
     "output_type": "stream",
     "text": [
      "all records  1067\n",
      "training records  853\n",
      "testing records  214\n"
     ]
    }
   ],
   "source": [
    "#divide the data into train and test \n",
    "## 80:20 \n",
    "split = int(len(df_simple)*0.8)\n",
    "train_df = df_simple[:split]\n",
    "test_df = df_simple[split:]\n",
    "\n",
    "print(\"all records \", len(df_simple))\n",
    "print(\"training records \", len(train_df))\n",
    "print(\"testing records \", len(test_df))\n",
    "\n",
    "#\n",
    "#all records  1067\n",
    "#training records  853\n",
    "#testing records  214"
   ]
  },
  {
   "cell_type": "code",
   "execution_count": 9,
   "id": "c3b28922",
   "metadata": {},
   "outputs": [],
   "source": [
    "## simple LR \n",
    "## best fit for my model \n",
    "\n",
    "##Slope . y2-y1/x2-x1\n",
    "##11.\tIntercept C = Y – mx  \n",
    "## C = ymean – m(slope) * xmean\n",
    "#1.\tX features \n",
    "#2.\tY feature \n",
    "#3.\tX mean\n",
    "#4.\tY mean\n",
    "#5.\tX sum\n",
    "#6.\tY sum\n",
    "#7.\tSum(x*y) n \n",
    "#8.\tX*x \n",
    "#9.\tSquare of \n",
    "#10.\tSlope . y2-y1/x2-x1\n",
    "#11.\tIntercept C = Y – mx  \n",
    "#a.\tC = ymean – m(slope) * xmean\n",
    "\n",
    "\n",
    "## creation of function simple_lr()\n",
    "def simple_lr(input_feature, output):\n",
    "    \n",
    "    xi = input_feature\n",
    "    yi = output\n",
    "    \n",
    "    \n",
    "    ## total number of data points \n",
    "    n = len(xi)\n",
    "    \n",
    "    #xmean\n",
    "    x_mean = xi.mean()\n",
    "    \n",
    "    #ymean\n",
    "    y_mean = yi.mean()\n",
    "    \n",
    "    \n",
    "    #sumof x\n",
    "    sum_x = xi.sum()\n",
    "    \n",
    "    #sum of y \n",
    "    sum_y = yi.sum()\n",
    "    \n",
    "    #Sum(x*y) multiplie dby n\n",
    "    sum_xy = ((xi*yi).sum())*n\n",
    "    \n",
    "    \n",
    "    #sum sum_x and sum_yy \n",
    "    sumofxy = sum_x * sum_y\n",
    "    \n",
    "    #Sum(x*x) multiplie dby n\n",
    "    sum_xx = ((xi*xi).sum())*n\n",
    "    \n",
    "    \n",
    "    ##square of sum of x\n",
    "    sum_square  = sum_x * sum_x\n",
    "    \n",
    "    #slope \n",
    "    slope = (sum_xy - sumofxy) /  (sum_xx - sum_square)\n",
    "    \n",
    "    # intercept y = mx + c , so C = Y – mx, \n",
    "    intercept = y_mean - slope *  x_mean\n",
    "    \n",
    "    return slope , intercept \n",
    "\n"
   ]
  },
  {
   "cell_type": "code",
   "execution_count": 10,
   "id": "0f69cf39",
   "metadata": {},
   "outputs": [
    {
     "name": "stdout",
     "output_type": "stream",
     "text": [
      "slope dummy : 1.0\n",
      "Intercept dummy 0.0\n"
     ]
    }
   ],
   "source": [
    "##calllin gthe function simple_lr() by dummy data intitially \n",
    "#simple_lr(input_feature, output)\n",
    "import numpy as np\n",
    "dummy_x = np.array((1,2,3,4,5))\n",
    "dummy_y = np.array((1,2,3,4,5))\n",
    "\n",
    "## CALL THE FUNTION SIMPLE_LR  with dummy x and y \n",
    "dummy_slope , dummy_intercept = simple_lr(dummy_x,dummy_y)\n",
    "print(\"slope dummy :\", dummy_slope)\n",
    "print(\"Intercept dummy\",  dummy_intercept)"
   ]
  },
  {
   "cell_type": "code",
   "execution_count": 11,
   "id": "66b4f17c",
   "metadata": {},
   "outputs": [
    {
     "data": {
      "image/png": "[encoded data removed]",
      "text/plain": [
       "<Figure size 432x288 with 1 Axes>"
      ]
     },
     "metadata": {
      "needs_background": "light"
     },
     "output_type": "display_data"
    }
   ],
   "source": [
    "plt.scatter(dummy_x, dummy_y)\n",
    "plt.plot(dummy_x, dummy_y, color = \"red\")\n",
    "plt.show()"
   ]
  },
  {
   "cell_type": "code",
   "execution_count": 12,
   "id": "0a05459f",
   "metadata": {},
   "outputs": [
    {
     "name": "stdout",
     "output_type": "stream",
     "text": [
      "actual slope = M : 38.79512383605654\n",
      "actual Intercept = C 127.16989950881984\n"
     ]
    }
   ],
   "source": [
    "### use the real column names / features  \"ENGINESIZE vs  CO2EMISSIONS\"\n",
    "\n",
    "## CALL THE FUNTION SIMPLE_LR with real name s\n",
    "real_slope , real_intercept = simple_lr(train_df['ENGINESIZE'], train_df['CO2EMISSIONS'])\n",
    "print(\"actual slope = M :\", real_slope)\n",
    "print(\"actual Intercept = C\",  real_intercept)\n"
   ]
  },
  {
   "cell_type": "code",
   "execution_count": 13,
   "id": "f150a3c7",
   "metadata": {},
   "outputs": [
    {
     "data": {
      "image/png": "[encoded data removed]",
      "text/plain": [
       "<Figure size 432x288 with 1 Axes>"
      ]
     },
     "metadata": {
      "needs_background": "light"
     },
     "output_type": "display_data"
    }
   ],
   "source": [
    "plt.scatter(train_df['ENGINESIZE'],train_df['CO2EMISSIONS'])\n",
    "plt.plot(train_df['ENGINESIZE'],real_slope*train_df['ENGINESIZE'] +real_intercept ,  color = \"green\")\n",
    "plt.show()\n",
    "\n"
   ]
  },
  {
   "cell_type": "code",
   "execution_count": 14,
   "id": "9a58950c",
   "metadata": {},
   "outputs": [],
   "source": [
    "## predcition by taking all values \n",
    "def prediction(input,slope, intercept):\n",
    "    pred_y = real_slope*input  +real_intercept\n",
    "    return pred_y\n"
   ]
  },
  {
   "cell_type": "code",
   "execution_count": 15,
   "id": "9cd699d3",
   "metadata": {},
   "outputs": [
    {
     "name": "stdout",
     "output_type": "stream",
     "text": [
      "321.1455186891026\n"
     ]
    }
   ],
   "source": [
    "#if my engineize is 5 \n",
    "#wht is my co2 emission \n",
    "eng_size = 5\n",
    "predicted_co2emission  = prediction(eng_size,real_slope, real_intercept  )\n",
    "print(predicted_co2emission)\n",
    "\n",
    "\n"
   ]
  },
  {
   "cell_type": "code",
   "execution_count": 16,
   "id": "2117f678",
   "metadata": {},
   "outputs": [
    {
     "name": "stdout",
     "output_type": "stream",
     "text": [
      "359.9406425251591\n"
     ]
    }
   ],
   "source": [
    "eng_size = 6\n",
    "predicted_co2emission  = prediction(eng_size,real_slope, real_intercept  )\n",
    "print(predicted_co2emission)\n",
    "\n",
    "\n"
   ]
  },
  {
   "cell_type": "code",
   "execution_count": 17,
   "id": "ac0718cc",
   "metadata": {},
   "outputs": [
    {
     "name": "stdout",
     "output_type": "stream",
     "text": [
      "282.350394853046\n"
     ]
    }
   ],
   "source": [
    "eng_size = 4\n",
    "predicted_co2emission  = prediction(eng_size,real_slope, real_intercept  )\n",
    "print(predicted_co2emission)\n",
    "\n"
   ]
  },
  {
   "cell_type": "code",
   "execution_count": 18,
   "id": "b9909085",
   "metadata": {},
   "outputs": [
    {
     "data": {
      "image/png": "[encoded data removed]",
      "text/plain": [
       "<Figure size 432x288 with 1 Axes>"
      ]
     },
     "metadata": {
      "needs_background": "light"
     },
     "output_type": "display_data"
    }
   ],
   "source": [
    "\n",
    "plt.scatter(test_df['ENGINESIZE'],test_df['CO2EMISSIONS'])\n",
    "plt.plot(test_df['ENGINESIZE'],real_slope*test_df['ENGINESIZE'] +real_intercept ,  color = \"green\")\n",
    "plt.show()\n",
    "\n",
    "\n"
   ]
  },
  {
   "cell_type": "code",
   "execution_count": 19,
   "id": "46f0749c",
   "metadata": {},
   "outputs": [
    {
     "name": "stdout",
     "output_type": "stream",
     "text": [
      "0       204.760147\n",
      "1       220.278197\n",
      "2       185.362585\n",
      "3       262.952833\n",
      "4       262.952833\n",
      "           ...    \n",
      "1062    243.555271\n",
      "1063    251.314296\n",
      "1064    243.555271\n",
      "1065    251.314296\n",
      "1066    251.314296\n",
      "Name: ENGINESIZE, Length: 1067, dtype: float64\n"
     ]
    }
   ],
   "source": [
    "## test this for entire dataset \n",
    "Predicted_y_co2emission = prediction( df_simple['ENGINESIZE'] ,real_slope, real_intercept  )\n",
    "\n",
    "print(Predicted_y_co2emission)"
   ]
  },
  {
   "cell_type": "code",
   "execution_count": 20,
   "id": "99ed1005",
   "metadata": {},
   "outputs": [
    {
     "name": "stdout",
     "output_type": "stream",
     "text": [
      "   Actual co2emission  Predicted y co2emission\n",
      "0                 196               204.760147\n",
      "1                 221               220.278197\n",
      "2                 136               185.362585\n",
      "3                 255               262.952833\n",
      "4                 244               262.952833\n"
     ]
    }
   ],
   "source": [
    "actual_predicted = pd.DataFrame({\"Actual co2emission\": df_simple['CO2EMISSIONS'], \"Predicted y co2emission\" : Predicted_y_co2emission})\n",
    "print(actual_predicted.head())\n"
   ]
  },
  {
   "cell_type": "code",
   "execution_count": 21,
   "id": "f89013af",
   "metadata": {},
   "outputs": [
    {
     "data": {
      "image/png": "[encoded data removed]",
      "text/plain": [
       "<Figure size 864x432 with 1 Axes>"
      ]
     },
     "metadata": {
      "needs_background": "light"
     },
     "output_type": "display_data"
    }
   ],
   "source": [
    "actual_predicted.head(20).plot(kind = 'bar', figsize = (12,6))\n",
    "plt.show()"
   ]
  },
  {
   "cell_type": "code",
   "execution_count": 22,
   "id": "2b24ad32",
   "metadata": {},
   "outputs": [],
   "source": [
    "## error/ variance/ differcene \n",
    "## square of errors\n",
    "## sum of sQuare of errors\n",
    "\n",
    "def error_metrics(input,output, slope, intercept):\n",
    "    #y = mx + c \n",
    "    pred = slope * input + intercept \n",
    "    #error/residual \n",
    "    error = (output - pred)\n",
    "    \n",
    "    # sqaURE errors \n",
    "    ###sq_errors = error * error \n",
    "    \n",
    "    ## sum of square error\n",
    "    ##sse =  sum(sq_errors)\n",
    "    \n",
    "    sse = (error * error).sum()\n",
    "    return sse\n",
    "    "
   ]
  },
  {
   "cell_type": "code",
   "execution_count": 23,
   "id": "16e57db6",
   "metadata": {},
   "outputs": [
    {
     "name": "stdout",
     "output_type": "stream",
     "text": [
      "SSE:  159741.10295932254\n"
     ]
    }
   ],
   "source": [
    "print(\"SSE: \", error_metrics(test_df['ENGINESIZE'],test_df['CO2EMISSIONS'], real_slope, real_intercept))"
   ]
  },
  {
   "cell_type": "code",
   "execution_count": 24,
   "id": "adb1c67b",
   "metadata": {},
   "outputs": [
    {
     "data": {
      "text/html": [
       "<div>\n",
       "<style scoped>\n",
       "    .dataframe tbody tr th:only-of-type {\n",
       "        vertical-align: middle;\n",
       "    }\n",
       "\n",
       "    .dataframe tbody tr th {\n",
       "        vertical-align: top;\n",
       "    }\n",
       "\n",
       "    .dataframe thead th {\n",
       "        text-align: right;\n",
       "    }\n",
       "</style>\n",
       "<table border=\"1\" class=\"dataframe\">\n",
       "  <thead>\n",
       "    <tr style=\"text-align: right;\">\n",
       "      <th></th>\n",
       "      <th>MODELYEAR</th>\n",
       "      <th>MAKE</th>\n",
       "      <th>MODEL</th>\n",
       "      <th>VEHICLECLASS</th>\n",
       "      <th>ENGINESIZE</th>\n",
       "      <th>CYLINDERS</th>\n",
       "      <th>TRANSMISSION</th>\n",
       "      <th>FUELTYPE</th>\n",
       "      <th>FUELCONSUMPTION_CITY</th>\n",
       "      <th>FUELCONSUMPTION_HWY</th>\n",
       "      <th>FUELCONSUMPTION_COMB</th>\n",
       "      <th>FUELCONSUMPTION_COMB_MPG</th>\n",
       "      <th>CO2EMISSIONS</th>\n",
       "    </tr>\n",
       "  </thead>\n",
       "  <tbody>\n",
       "    <tr>\n",
       "      <th>0</th>\n",
       "      <td>2014</td>\n",
       "      <td>ACURA</td>\n",
       "      <td>ILX</td>\n",
       "      <td>COMPACT</td>\n",
       "      <td>2.0</td>\n",
       "      <td>4</td>\n",
       "      <td>AS5</td>\n",
       "      <td>Z</td>\n",
       "      <td>9.9</td>\n",
       "      <td>6.7</td>\n",
       "      <td>8.5</td>\n",
       "      <td>33</td>\n",
       "      <td>196</td>\n",
       "    </tr>\n",
       "    <tr>\n",
       "      <th>1</th>\n",
       "      <td>2014</td>\n",
       "      <td>ACURA</td>\n",
       "      <td>ILX</td>\n",
       "      <td>COMPACT</td>\n",
       "      <td>2.4</td>\n",
       "      <td>4</td>\n",
       "      <td>M6</td>\n",
       "      <td>Z</td>\n",
       "      <td>11.2</td>\n",
       "      <td>7.7</td>\n",
       "      <td>9.6</td>\n",
       "      <td>29</td>\n",
       "      <td>221</td>\n",
       "    </tr>\n",
       "    <tr>\n",
       "      <th>2</th>\n",
       "      <td>2014</td>\n",
       "      <td>ACURA</td>\n",
       "      <td>ILX HYBRID</td>\n",
       "      <td>COMPACT</td>\n",
       "      <td>1.5</td>\n",
       "      <td>4</td>\n",
       "      <td>AV7</td>\n",
       "      <td>Z</td>\n",
       "      <td>6.0</td>\n",
       "      <td>5.8</td>\n",
       "      <td>5.9</td>\n",
       "      <td>48</td>\n",
       "      <td>136</td>\n",
       "    </tr>\n",
       "    <tr>\n",
       "      <th>3</th>\n",
       "      <td>2014</td>\n",
       "      <td>ACURA</td>\n",
       "      <td>MDX 4WD</td>\n",
       "      <td>SUV - SMALL</td>\n",
       "      <td>3.5</td>\n",
       "      <td>6</td>\n",
       "      <td>AS6</td>\n",
       "      <td>Z</td>\n",
       "      <td>12.7</td>\n",
       "      <td>9.1</td>\n",
       "      <td>11.1</td>\n",
       "      <td>25</td>\n",
       "      <td>255</td>\n",
       "    </tr>\n",
       "    <tr>\n",
       "      <th>4</th>\n",
       "      <td>2014</td>\n",
       "      <td>ACURA</td>\n",
       "      <td>RDX AWD</td>\n",
       "      <td>SUV - SMALL</td>\n",
       "      <td>3.5</td>\n",
       "      <td>6</td>\n",
       "      <td>AS6</td>\n",
       "      <td>Z</td>\n",
       "      <td>12.1</td>\n",
       "      <td>8.7</td>\n",
       "      <td>10.6</td>\n",
       "      <td>27</td>\n",
       "      <td>244</td>\n",
       "    </tr>\n",
       "  </tbody>\n",
       "</table>\n",
       "</div>"
      ],
      "text/plain": [
       "   MODELYEAR   MAKE       MODEL VEHICLECLASS  ENGINESIZE  CYLINDERS  \\\n",
       "0       2014  ACURA         ILX      COMPACT         2.0          4   \n",
       "1       2014  ACURA         ILX      COMPACT         2.4          4   \n",
       "2       2014  ACURA  ILX HYBRID      COMPACT         1.5          4   \n",
       "3       2014  ACURA     MDX 4WD  SUV - SMALL         3.5          6   \n",
       "4       2014  ACURA     RDX AWD  SUV - SMALL         3.5          6   \n",
       "\n",
       "  TRANSMISSION FUELTYPE  FUELCONSUMPTION_CITY  FUELCONSUMPTION_HWY  \\\n",
       "0          AS5        Z                   9.9                  6.7   \n",
       "1           M6        Z                  11.2                  7.7   \n",
       "2          AV7        Z                   6.0                  5.8   \n",
       "3          AS6        Z                  12.7                  9.1   \n",
       "4          AS6        Z                  12.1                  8.7   \n",
       "\n",
       "   FUELCONSUMPTION_COMB  FUELCONSUMPTION_COMB_MPG  CO2EMISSIONS  \n",
       "0                   8.5                        33           196  \n",
       "1                   9.6                        29           221  \n",
       "2                   5.9                        48           136  \n",
       "3                  11.1                        25           255  \n",
       "4                  10.6                        27           244  "
      ]
     },
     "execution_count": 24,
     "metadata": {},
     "output_type": "execute_result"
    }
   ],
   "source": [
    "### using sklearn \n",
    "df_fuel_sk  = pd.read_csv('FuelConsumptionCo2.csv')\n",
    "df_fuel_sk.head()"
   ]
  },
  {
   "cell_type": "code",
   "execution_count": 25,
   "id": "ce6887ee",
   "metadata": {},
   "outputs": [
    {
     "data": {
      "text/plain": [
       "(1067, 13)"
      ]
     },
     "execution_count": 25,
     "metadata": {},
     "output_type": "execute_result"
    }
   ],
   "source": [
    "df_fuel_sk.shape"
   ]
  },
  {
   "cell_type": "code",
   "execution_count": 26,
   "id": "7120cbe4",
   "metadata": {},
   "outputs": [
    {
     "data": {
      "text/html": [
       "<div>\n",
       "<style scoped>\n",
       "    .dataframe tbody tr th:only-of-type {\n",
       "        vertical-align: middle;\n",
       "    }\n",
       "\n",
       "    .dataframe tbody tr th {\n",
       "        vertical-align: top;\n",
       "    }\n",
       "\n",
       "    .dataframe thead th {\n",
       "        text-align: right;\n",
       "    }\n",
       "</style>\n",
       "<table border=\"1\" class=\"dataframe\">\n",
       "  <thead>\n",
       "    <tr style=\"text-align: right;\">\n",
       "      <th></th>\n",
       "      <th>ENGINESIZE</th>\n",
       "      <th>CO2EMISSIONS</th>\n",
       "    </tr>\n",
       "  </thead>\n",
       "  <tbody>\n",
       "    <tr>\n",
       "      <th>0</th>\n",
       "      <td>2.0</td>\n",
       "      <td>196</td>\n",
       "    </tr>\n",
       "    <tr>\n",
       "      <th>1</th>\n",
       "      <td>2.4</td>\n",
       "      <td>221</td>\n",
       "    </tr>\n",
       "    <tr>\n",
       "      <th>2</th>\n",
       "      <td>1.5</td>\n",
       "      <td>136</td>\n",
       "    </tr>\n",
       "    <tr>\n",
       "      <th>3</th>\n",
       "      <td>3.5</td>\n",
       "      <td>255</td>\n",
       "    </tr>\n",
       "    <tr>\n",
       "      <th>4</th>\n",
       "      <td>3.5</td>\n",
       "      <td>244</td>\n",
       "    </tr>\n",
       "  </tbody>\n",
       "</table>\n",
       "</div>"
      ],
      "text/plain": [
       "   ENGINESIZE  CO2EMISSIONS\n",
       "0         2.0           196\n",
       "1         2.4           221\n",
       "2         1.5           136\n",
       "3         3.5           255\n",
       "4         3.5           244"
      ]
     },
     "execution_count": 26,
     "metadata": {},
     "output_type": "execute_result"
    }
   ],
   "source": [
    "df_simple_sk = df_fuel_sk[['ENGINESIZE', 'CO2EMISSIONS']]\n",
    "df_simple_sk.head()"
   ]
  },
  {
   "cell_type": "code",
   "execution_count": 27,
   "id": "89e7ed82",
   "metadata": {},
   "outputs": [
    {
     "data": {
      "image/png": "[encoded data removed]",
      "text/plain": [
       "<Figure size 432x288 with 1 Axes>"
      ]
     },
     "metadata": {
      "needs_background": "light"
     },
     "output_type": "display_data"
    }
   ],
   "source": [
    "## analysis \n",
    "##'ENGINESIZE' vs  'CO2EMISSIONS'\n",
    "\n",
    "plt.scatter(df_simple_sk['ENGINESIZE'], df_simple_sk['CO2EMISSIONS'])\n",
    "plt.xlabel('ENGINESIZE')\n",
    "plt.ylabel('CO2EMISSIONS')\n",
    "plt.title(\"ENGINESIZE vs  CO2EMISSIONS\")\n",
    "plt.show()\n",
    "\n"
   ]
  },
  {
   "cell_type": "code",
   "execution_count": 28,
   "id": "4935eed8",
   "metadata": {},
   "outputs": [],
   "source": [
    "import sklearn.model_selection as ms\n",
    "x_train, x_test, y_train, y_test = ms.train_test_split(df_simple_sk['ENGINESIZE'],df_simple_sk['CO2EMISSIONS'], test_size=0.2)\n"
   ]
  },
  {
   "cell_type": "code",
   "execution_count": 29,
   "id": "92bd5f4c",
   "metadata": {},
   "outputs": [
    {
     "name": "stdout",
     "output_type": "stream",
     "text": [
      "all records  1067\n",
      "training records  853\n",
      "testing records  214\n"
     ]
    }
   ],
   "source": [
    "#divide the data into train and test \n",
    "## 80:20 \n",
    "split = int(len(df_simple_sk)*0.8)\n",
    "train_df_sk = df_simple_sk[:split]\n",
    "test_df_sk = df_simple_sk[split:]\n",
    "\n",
    "print(\"all records \", len(df_simple_sk))\n",
    "print(\"training records \", len(train_df_sk))\n",
    "print(\"testing records \", len(test_df_sk))\n",
    "\n"
   ]
  },
  {
   "cell_type": "code",
   "execution_count": 30,
   "id": "885528a3",
   "metadata": {},
   "outputs": [],
   "source": [
    "## sklearn linear regression \n",
    "from sklearn import linear_model \n"
   ]
  },
  {
   "cell_type": "code",
   "execution_count": 31,
   "id": "bbe56946",
   "metadata": {},
   "outputs": [
    {
     "data": {
      "text/plain": [
       "LinearRegression()"
      ]
     },
     "execution_count": 31,
     "metadata": {},
     "output_type": "execute_result"
    }
   ],
   "source": [
    "## use sklearn linear regression \n",
    "## fit model \n",
    "## slope and intercept \n",
    "regr = linear_model.LinearRegression()\n",
    "\n",
    "train_x  = np.array(train_df_sk[[\"ENGINESIZE\"]]) \n",
    "train_y  = np.array(train_df_sk[[\"CO2EMISSIONS\"]])\n",
    "\n",
    "\n",
    "regr.fit(train_x, train_y)"
   ]
  },
  {
   "cell_type": "code",
   "execution_count": 32,
   "id": "58d0ae71",
   "metadata": {},
   "outputs": [],
   "source": [
    "#M = slope \n",
    "#C = intercept \n",
    "#X = independent feature value\n",
    "#Y = dependent feature value \n",
    "\n",
    "coeff = regr.coef_\n",
    "intercept = regr.intercept_"
   ]
  },
  {
   "cell_type": "code",
   "execution_count": 33,
   "id": "d596f39a",
   "metadata": {},
   "outputs": [
    {
     "name": "stdout",
     "output_type": "stream",
     "text": [
      "Slope [[38.79512384]]\n",
      "Intercept [127.16989951]\n"
     ]
    }
   ],
   "source": [
    "print(\"Slope\", coeff)\n",
    "print(\"Intercept\", intercept)"
   ]
  },
  {
   "cell_type": "code",
   "execution_count": 34,
   "id": "8a1624d6",
   "metadata": {},
   "outputs": [
    {
     "data": {
      "text/plain": [
       "array([[204.76014718],\n",
       "       [220.27819672],\n",
       "       [185.36258526],\n",
       "       [262.95283294],\n",
       "       [262.95283294]])"
      ]
     },
     "execution_count": 34,
     "metadata": {},
     "output_type": "execute_result"
    }
   ],
   "source": [
    "predict_engine = regr.predict(train_df_sk[['ENGINESIZE']])\n",
    "predict_engine[0:5]"
   ]
  },
  {
   "cell_type": "code",
   "execution_count": 35,
   "id": "ce4c9e83",
   "metadata": {},
   "outputs": [
    {
     "data": {
      "text/plain": [
       "array([[224.1577091 ],\n",
       "       [262.95283294],\n",
       "       [224.1577091 ],\n",
       "       [224.1577091 ],\n",
       "       [197.00112241]])"
      ]
     },
     "execution_count": 35,
     "metadata": {},
     "output_type": "execute_result"
    }
   ],
   "source": [
    "predict_engine = regr.predict(test_df_sk[['ENGINESIZE']])\n",
    "predict_engine[0:5]"
   ]
  },
  {
   "cell_type": "code",
   "execution_count": 36,
   "id": "c6250e79",
   "metadata": {},
   "outputs": [
    {
     "data": {
      "text/plain": [
       "array([[204.76014718],\n",
       "       [220.27819672],\n",
       "       [185.36258526],\n",
       "       [262.95283294],\n",
       "       [262.95283294]])"
      ]
     },
     "execution_count": 36,
     "metadata": {},
     "output_type": "execute_result"
    }
   ],
   "source": [
    "predict_engine3 = regr.predict(df_simple_sk[['ENGINESIZE']])\n",
    "predict_engine3[0:5]"
   ]
  },
  {
   "cell_type": "code",
   "execution_count": 37,
   "id": "f7dcbce4",
   "metadata": {},
   "outputs": [
    {
     "name": "stdout",
     "output_type": "stream",
     "text": [
      "   Actual co2emission  Predicted y co2emission\n",
      "0                 196               204.760147\n",
      "1                 221               220.278197\n",
      "2                 136               185.362585\n",
      "3                 255               262.952833\n",
      "4                 244               262.952833\n"
     ]
    }
   ],
   "source": [
    "actual_predicted = pd.DataFrame({\"Actual co2emission\": df_simple['CO2EMISSIONS'], \"Predicted y co2emission\" : Predicted_y_co2emission})\n",
    "print(actual_predicted.head())"
   ]
  },
  {
   "cell_type": "code",
   "execution_count": 38,
   "id": "0ae4b1d0",
   "metadata": {},
   "outputs": [
    {
     "data": {
      "image/png": "[encoded data removed]",
      "text/plain": [
       "<Figure size 864x432 with 1 Axes>"
      ]
     },
     "metadata": {
      "needs_background": "light"
     },
     "output_type": "display_data"
    }
   ],
   "source": [
    "actual_predicted.head(20).plot(kind = 'bar', figsize = (12,6))\n",
    "plt.show()"
   ]
  },
  {
   "cell_type": "code",
   "execution_count": null,
   "id": "1505a14d",
   "metadata": {},
   "outputs": [],
   "source": []
  },
  {
   "cell_type": "code",
   "execution_count": null,
   "id": "99359acb",
   "metadata": {},
   "outputs": [],
   "source": []
  },
  {
   "cell_type": "code",
   "execution_count": null,
   "id": "a616d245",
   "metadata": {},
   "outputs": [],
   "source": []
  }
 ],
 "metadata": {
  "kernelspec": {
   "display_name": "Python 3",
   "language": "python",
   "name": "python3"
  },
  "language_info": {
   "codemirror_mode": {
    "name": "ipython",
    "version": 3
   },
   "file_extension": ".py",
   "mimetype": "text/x-python",
   "name": "python",
   "nbconvert_exporter": "python",
   "pygments_lexer": "ipython3",
   "version": "3.8.8"
  }
 },
 "nbformat": 4,
 "nbformat_minor": 5
}
