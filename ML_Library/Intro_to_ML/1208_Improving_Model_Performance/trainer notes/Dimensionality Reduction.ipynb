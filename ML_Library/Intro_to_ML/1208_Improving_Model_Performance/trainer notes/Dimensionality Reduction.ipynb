{
 "cells": [
  {
   "cell_type": "markdown",
   "id": "87d99596",
   "metadata": {},
   "source": [
    "#### PCA - Principal Component Analysis\n",
    "1. We convert multiple features into several chunks (components)\n",
    "2. Reducng the number of features which improves model performance"
   ]
  },
  {
   "cell_type": "code",
   "execution_count": 3,
   "id": "73086f01",
   "metadata": {},
   "outputs": [],
   "source": [
    "from sklearn.datasets import load_breast_cancer\n",
    "import pandas as pd\n",
    "cancer = load_breast_cancer()"
   ]
  },
  {
   "cell_type": "code",
   "execution_count": 5,
   "id": "887bae86",
   "metadata": {
    "collapsed": true
   },
   "outputs": [
    {
     "data": {
      "text/html": [
       "<div><div id=53b0a2b6-e345-464e-9be1-ee6660e77384 style=\"display:none; background-color:#9D6CFF; color:white; width:200px; height:30px; padding-left:5px; border-radius:4px; flex-direction:row; justify-content:space-around; align-items:center;\" onmouseover=\"this.style.backgroundColor='#BA9BF8'\" onmouseout=\"this.style.backgroundColor='#9D6CFF'\" onclick=\"window.commands?.execute('create-mitosheet-from-dataframe-output');\">See Full Dataframe in Mito</div> <script> if (window.commands.hasCommand('create-mitosheet-from-dataframe-output')) document.getElementById('53b0a2b6-e345-464e-9be1-ee6660e77384').style.display = 'flex' </script> <table border=\"1\" class=\"dataframe\">\n",
       "  <thead>\n",
       "    <tr style=\"text-align: right;\">\n",
       "      <th></th>\n",
       "      <th>mean radius</th>\n",
       "      <th>mean texture</th>\n",
       "      <th>mean perimeter</th>\n",
       "      <th>mean area</th>\n",
       "      <th>mean smoothness</th>\n",
       "      <th>mean compactness</th>\n",
       "      <th>mean concavity</th>\n",
       "      <th>mean concave points</th>\n",
       "      <th>mean symmetry</th>\n",
       "      <th>mean fractal dimension</th>\n",
       "      <th>...</th>\n",
       "      <th>worst texture</th>\n",
       "      <th>worst perimeter</th>\n",
       "      <th>worst area</th>\n",
       "      <th>worst smoothness</th>\n",
       "      <th>worst compactness</th>\n",
       "      <th>worst concavity</th>\n",
       "      <th>worst concave points</th>\n",
       "      <th>worst symmetry</th>\n",
       "      <th>worst fractal dimension</th>\n",
       "      <th>target</th>\n",
       "    </tr>\n",
       "  </thead>\n",
       "  <tbody>\n",
       "    <tr>\n",
       "      <th>0</th>\n",
       "      <td>17.99</td>\n",
       "      <td>10.38</td>\n",
       "      <td>122.80</td>\n",
       "      <td>1001.0</td>\n",
       "      <td>0.11840</td>\n",
       "      <td>0.27760</td>\n",
       "      <td>0.3001</td>\n",
       "      <td>0.14710</td>\n",
       "      <td>0.2419</td>\n",
       "      <td>0.07871</td>\n",
       "      <td>...</td>\n",
       "      <td>17.33</td>\n",
       "      <td>184.60</td>\n",
       "      <td>2019.0</td>\n",
       "      <td>0.1622</td>\n",
       "      <td>0.6656</td>\n",
       "      <td>0.7119</td>\n",
       "      <td>0.2654</td>\n",
       "      <td>0.4601</td>\n",
       "      <td>0.11890</td>\n",
       "      <td>0</td>\n",
       "    </tr>\n",
       "    <tr>\n",
       "      <th>1</th>\n",
       "      <td>20.57</td>\n",
       "      <td>17.77</td>\n",
       "      <td>132.90</td>\n",
       "      <td>1326.0</td>\n",
       "      <td>0.08474</td>\n",
       "      <td>0.07864</td>\n",
       "      <td>0.0869</td>\n",
       "      <td>0.07017</td>\n",
       "      <td>0.1812</td>\n",
       "      <td>0.05667</td>\n",
       "      <td>...</td>\n",
       "      <td>23.41</td>\n",
       "      <td>158.80</td>\n",
       "      <td>1956.0</td>\n",
       "      <td>0.1238</td>\n",
       "      <td>0.1866</td>\n",
       "      <td>0.2416</td>\n",
       "      <td>0.1860</td>\n",
       "      <td>0.2750</td>\n",
       "      <td>0.08902</td>\n",
       "      <td>0</td>\n",
       "    </tr>\n",
       "    <tr>\n",
       "      <th>2</th>\n",
       "      <td>19.69</td>\n",
       "      <td>21.25</td>\n",
       "      <td>130.00</td>\n",
       "      <td>1203.0</td>\n",
       "      <td>0.10960</td>\n",
       "      <td>0.15990</td>\n",
       "      <td>0.1974</td>\n",
       "      <td>0.12790</td>\n",
       "      <td>0.2069</td>\n",
       "      <td>0.05999</td>\n",
       "      <td>...</td>\n",
       "      <td>25.53</td>\n",
       "      <td>152.50</td>\n",
       "      <td>1709.0</td>\n",
       "      <td>0.1444</td>\n",
       "      <td>0.4245</td>\n",
       "      <td>0.4504</td>\n",
       "      <td>0.2430</td>\n",
       "      <td>0.3613</td>\n",
       "      <td>0.08758</td>\n",
       "      <td>0</td>\n",
       "    </tr>\n",
       "    <tr>\n",
       "      <th>3</th>\n",
       "      <td>11.42</td>\n",
       "      <td>20.38</td>\n",
       "      <td>77.58</td>\n",
       "      <td>386.1</td>\n",
       "      <td>0.14250</td>\n",
       "      <td>0.28390</td>\n",
       "      <td>0.2414</td>\n",
       "      <td>0.10520</td>\n",
       "      <td>0.2597</td>\n",
       "      <td>0.09744</td>\n",
       "      <td>...</td>\n",
       "      <td>26.50</td>\n",
       "      <td>98.87</td>\n",
       "      <td>567.7</td>\n",
       "      <td>0.2098</td>\n",
       "      <td>0.8663</td>\n",
       "      <td>0.6869</td>\n",
       "      <td>0.2575</td>\n",
       "      <td>0.6638</td>\n",
       "      <td>0.17300</td>\n",
       "      <td>0</td>\n",
       "    </tr>\n",
       "    <tr>\n",
       "      <th>4</th>\n",
       "      <td>20.29</td>\n",
       "      <td>14.34</td>\n",
       "      <td>135.10</td>\n",
       "      <td>1297.0</td>\n",
       "      <td>0.10030</td>\n",
       "      <td>0.13280</td>\n",
       "      <td>0.1980</td>\n",
       "      <td>0.10430</td>\n",
       "      <td>0.1809</td>\n",
       "      <td>0.05883</td>\n",
       "      <td>...</td>\n",
       "      <td>16.67</td>\n",
       "      <td>152.20</td>\n",
       "      <td>1575.0</td>\n",
       "      <td>0.1374</td>\n",
       "      <td>0.2050</td>\n",
       "      <td>0.4000</td>\n",
       "      <td>0.1625</td>\n",
       "      <td>0.2364</td>\n",
       "      <td>0.07678</td>\n",
       "      <td>0</td>\n",
       "    </tr>\n",
       "  </tbody>\n",
       "</table></div>"
      ],
      "text/plain": [
       "   mean radius  mean texture  mean perimeter  mean area  mean smoothness  \\\n",
       "0        17.99         10.38          122.80     1001.0          0.11840   \n",
       "1        20.57         17.77          132.90     1326.0          0.08474   \n",
       "2        19.69         21.25          130.00     1203.0          0.10960   \n",
       "3        11.42         20.38           77.58      386.1          0.14250   \n",
       "4        20.29         14.34          135.10     1297.0          0.10030   \n",
       "\n",
       "   mean compactness  mean concavity  mean concave points  mean symmetry  \\\n",
       "0           0.27760          0.3001              0.14710         0.2419   \n",
       "1           0.07864          0.0869              0.07017         0.1812   \n",
       "2           0.15990          0.1974              0.12790         0.2069   \n",
       "3           0.28390          0.2414              0.10520         0.2597   \n",
       "4           0.13280          0.1980              0.10430         0.1809   \n",
       "\n",
       "   mean fractal dimension  ...  worst texture  worst perimeter  worst area  \\\n",
       "0                 0.07871  ...          17.33           184.60      2019.0   \n",
       "1                 0.05667  ...          23.41           158.80      1956.0   \n",
       "2                 0.05999  ...          25.53           152.50      1709.0   \n",
       "3                 0.09744  ...          26.50            98.87       567.7   \n",
       "4                 0.05883  ...          16.67           152.20      1575.0   \n",
       "\n",
       "   worst smoothness  worst compactness  worst concavity  worst concave points  \\\n",
       "0            0.1622             0.6656           0.7119                0.2654   \n",
       "1            0.1238             0.1866           0.2416                0.1860   \n",
       "2            0.1444             0.4245           0.4504                0.2430   \n",
       "3            0.2098             0.8663           0.6869                0.2575   \n",
       "4            0.1374             0.2050           0.4000                0.1625   \n",
       "\n",
       "   worst symmetry  worst fractal dimension  target  \n",
       "0          0.4601                  0.11890       0  \n",
       "1          0.2750                  0.08902       0  \n",
       "2          0.3613                  0.08758       0  \n",
       "3          0.6638                  0.17300       0  \n",
       "4          0.2364                  0.07678       0  \n",
       "\n",
       "[5 rows x 31 columns]"
      ]
     },
     "execution_count": 5,
     "metadata": {},
     "output_type": "execute_result"
    }
   ],
   "source": [
    "data = pd.DataFrame(cancer.data,columns = cancer.feature_names)\n",
    "data['target'] = cancer.target\n",
    "data.head()"
   ]
  },
  {
   "cell_type": "code",
   "execution_count": 10,
   "id": "ce496140",
   "metadata": {},
   "outputs": [],
   "source": [
    "x = data.drop(['target'],axis=1)\n",
    "y = data['target']\n",
    "from sklearn.preprocessing import StandardScaler\n",
    "ss = StandardScaler()\n",
    "x_scaled = ss.fit_transform(x)"
   ]
  },
  {
   "cell_type": "code",
   "execution_count": 11,
   "id": "a97e8c25",
   "metadata": {},
   "outputs": [
    {
     "data": {
      "text/plain": [
       "(569, 30)"
      ]
     },
     "execution_count": 11,
     "metadata": {},
     "output_type": "execute_result"
    }
   ],
   "source": [
    "x.shape"
   ]
  },
  {
   "cell_type": "code",
   "execution_count": 7,
   "id": "eb3cc51e",
   "metadata": {},
   "outputs": [],
   "source": [
    "from sklearn.decomposition import PCA"
   ]
  },
  {
   "cell_type": "code",
   "execution_count": 12,
   "id": "83dfb715",
   "metadata": {},
   "outputs": [],
   "source": [
    "my_pca = PCA(n_components = 2)"
   ]
  },
  {
   "cell_type": "code",
   "execution_count": 13,
   "id": "ea230182",
   "metadata": {},
   "outputs": [],
   "source": [
    "my_pca.fit(x_scaled)\n",
    "x_pca = my_pca.transform(x_scaled)"
   ]
  },
  {
   "cell_type": "code",
   "execution_count": 14,
   "id": "0817a386",
   "metadata": {},
   "outputs": [
    {
     "data": {
      "text/plain": [
       "(569, 30)"
      ]
     },
     "execution_count": 14,
     "metadata": {},
     "output_type": "execute_result"
    }
   ],
   "source": [
    "x_scaled.shape"
   ]
  },
  {
   "cell_type": "code",
   "execution_count": 15,
   "id": "52972985",
   "metadata": {},
   "outputs": [
    {
     "data": {
      "text/plain": [
       "(569, 2)"
      ]
     },
     "execution_count": 15,
     "metadata": {},
     "output_type": "execute_result"
    }
   ],
   "source": [
    "x_pca.shape"
   ]
  },
  {
   "cell_type": "code",
   "execution_count": 18,
   "id": "d4d47e71",
   "metadata": {},
   "outputs": [
    {
     "data": {
      "text/plain": [
       "array([[ 9.19283683,  1.94858307],\n",
       "       [ 2.3878018 , -3.76817174],\n",
       "       [ 5.73389628, -1.0751738 ],\n",
       "       ...,\n",
       "       [ 1.25617928, -1.90229671],\n",
       "       [10.37479406,  1.67201011],\n",
       "       [-5.4752433 , -0.67063679]])"
      ]
     },
     "execution_count": 18,
     "metadata": {},
     "output_type": "execute_result"
    }
   ],
   "source": [
    "x_pca"
   ]
  },
  {
   "cell_type": "code",
   "execution_count": 23,
   "id": "5f0355ef",
   "metadata": {
    "collapsed": true
   },
   "outputs": [
    {
     "data": {
      "text/plain": [
       "array([ 9.19283683,  2.3878018 ,  5.73389628,  7.1229532 ,  3.93530207,\n",
       "        2.38024715,  2.23888331,  2.1432985 ,  3.17492429,  6.35174679,\n",
       "       -0.81041377,  2.65110048,  8.18503446,  0.34212591,  4.34237919,\n",
       "        4.07565618,  0.23005502,  4.41801092,  4.94870355, -1.23706336,\n",
       "       -1.57816123, -3.55733637,  4.73321079,  4.20852421,  4.94963207,\n",
       "        7.09856285,  3.5102626 ,  3.06405389,  4.00726414,  1.71530973,\n",
       "        6.05944551,  2.9022361 ,  4.55478269,  4.99060272,  2.98534079,\n",
       "        2.76636916,  1.29619877, -3.7493134 , -0.9980689 ,  0.76526412,\n",
       "       -2.15095347, -0.09333139,  9.08799968,  0.99045377, -0.29354655,\n",
       "        5.38094041, -4.58193667,  1.70000689, -2.13644528, -1.567479  ,\n",
       "       -3.54290556, -3.15781405, -3.45048854,  3.30255095, -0.67461929,\n",
       "       -2.85815844,  4.64873887,  2.17686288, -3.72145899, -4.13596294,\n",
       "       -2.38583566, -2.57888325,  4.75911215, -2.31413225,  1.69160792,\n",
       "        1.81230541, -2.78592476, -3.51864834,  4.33000265, -3.26127947,\n",
       "        2.70459617, -0.30785577,  5.50370532, -0.36170919, -2.62997664,\n",
       "        1.42816759, -0.83451788,  6.23089651, 11.66871465, -2.02157766,\n",
       "       -1.63838494,  1.16746161, 10.76924282,  5.03481109, -2.17446431,\n",
       "        3.28823538,  0.60760795,  3.58356363, -0.9341581 ,  1.25960465,\n",
       "       -1.58826397,  0.25249757, -2.84743159, -1.96495011,  2.77586557,\n",
       "        4.39622795, -2.59208283, -3.90433815, -2.81823121,  0.61628087,\n",
       "       -0.43286022, -4.55502884, -3.44818354, -2.11596026, -2.6913522 ,\n",
       "        3.21391677, -0.74927136, -3.15900604, 13.05612186, -2.22867981,\n",
       "       -2.49283104, -0.10335043,  3.59129412, -1.34894868, -2.51011768,\n",
       "       -2.04602957, -2.09706917,  3.11052769,  4.95672557,  0.85101426,\n",
       "       -2.96599921,  3.3341332 , 12.89461213, -0.77074368, -2.20251552,\n",
       "       -3.14341225, -0.6388805 ,  1.91913342,  1.40886836,  4.64369132,\n",
       "       -1.87746736,  1.43206943,  1.35262703, -0.70911483,  2.17141602,\n",
       "       -1.97684036, -2.6007895 , -3.25800736,  3.78202646, -1.99203472,\n",
       "       -5.01500869,  1.34502044, -2.45596881, -1.83728167, -4.34648971,\n",
       "       -0.73281292,  2.39999784,  0.39309866, -0.41232781, -3.04992494,\n",
       "       -1.44256373,  0.0831861 ,  7.09330671, -3.74340454, -0.96917281,\n",
       "       -2.41871991,  4.10078773, -0.75160301, -3.65464653, -4.68021158,\n",
       "       -0.59778177,  3.38733076,  6.14988619, -1.32503135,  5.4941528 ,\n",
       "       -2.99740321, -4.38673272,  1.21363461,  5.06966108, -1.97770144,\n",
       "       -2.51487642, -0.94748789,  2.81936834, -3.4839863 , -4.65872958,\n",
       "       -5.35161811,  1.17089778,  2.95630187, -4.97570206, -4.06402566,\n",
       "        9.51266984,  9.00716553,  0.75887848, -2.65935962, -0.39001898,\n",
       "       -3.88906553,  0.36487615, -2.83589092, -3.31028362, -3.3573044 ,\n",
       "        6.52311662, -1.71773518, -5.5657359 ,  1.77966149,  2.61148489,\n",
       "       -2.81903851,  2.49843888,  1.27702718,  3.47319734,  1.25667511,\n",
       "       -1.47343137,  1.6494607 ,  9.03658948,  4.55459006, -0.78118997,\n",
       "       -0.22309261, -3.45489539,  0.4465444 ,  0.31443823, -2.05919194,\n",
       "        4.80896924, -2.99871053, 12.28501976,  3.37219659,  2.50876631,\n",
       "        1.31806848, -0.3887563 , -2.75693299,  4.94358101,  4.29807733,\n",
       "       -2.3735018 , -0.96719031, -2.97579879,  1.80324702, -2.47835951,\n",
       "       -0.82603929, -3.89469733, -0.38957809, -1.45732136,  2.755568  ,\n",
       "        3.25725467, -4.01914024, -3.67641329,  3.31632411, -4.03660736,\n",
       "       -2.33423335,  8.40384711,  2.64756863, -0.68176887,  3.35029579,\n",
       "       -2.22772052, -4.47758466,  1.32262142, -1.85008986,  3.79556564,\n",
       "       -2.2813181 , -3.22877012,  1.02590079, -2.58255584, -2.48588323,\n",
       "        7.14384204, -3.03248114,  7.08501065,  1.314099  ,  3.71164951,\n",
       "        0.46047909,  6.39264992,  5.25554495,  8.7338615 ,  3.69131788,\n",
       "        3.37825087, -0.84020965,  3.28437262, -1.90876893,  1.61478193,\n",
       "        6.61972635, -1.46467593, -2.01215243, -2.28434025, -0.73974309,\n",
       "       -4.50656251, -3.1587543 ,  7.67614947, -3.63913597,  0.33734549,\n",
       "       -1.27658338, -4.34601405,  0.01743079, -3.49242604, -1.86654885,\n",
       "        4.96026812, -2.47072269,  3.7850601 ,  2.63725578, -1.37268502,\n",
       "       -4.13888257, -0.68694029, -4.31212958,  0.40330942, -3.0036058 ,\n",
       "        3.13400821, -0.41783687, -1.42022314, -2.87058835, -3.3658457 ,\n",
       "       -3.31500015, -4.76971016, -2.38588276, -2.78709601, -3.39384177,\n",
       "        6.59023594, -1.45533052,  7.1829331 , -3.5788354 , -3.05703264,\n",
       "       -3.07443583, -3.85353973, -5.39025639, -4.65768233, -4.02754239,\n",
       "       -3.34782194, -3.29984201, -2.13640414, -4.03801714, -3.76541455,\n",
       "       -4.87123938, -4.74724852,  1.89531628,  1.57293114, -4.02662025,\n",
       "       -1.29486617,  1.83484047, -1.81038056,  7.23648531, -3.14565019,\n",
       "       -2.88726806, -3.14965398, -4.62837948,  2.25051037,  2.10780123,\n",
       "        1.78594998, -0.52769662, -3.21350098, -4.38642297, -3.81001787,\n",
       "        3.31967397, -2.39327596,  4.68016626, -3.06769514,  7.35321858,\n",
       "        0.29531318, -1.9389695 , -2.07717892,  4.97516236, -2.17691688,\n",
       "       -2.43155146, -3.36796578, -1.20659779, -3.32607925, -1.9287954 ,\n",
       "       -4.04183509,  6.18228374, 10.93429816,  2.11849693, -3.01219497,\n",
       "       -0.98264858,  0.35789386, -3.19391787, -2.9932333 , -3.19391415,\n",
       "       -4.59196185, -2.48591615, -2.39866535, -0.7796152 , -3.13998843,\n",
       "        2.73501177,  6.22702599, -2.22377575,  5.30714002,  7.24800106,\n",
       "        4.20722062, -2.49963637,  3.63501495,  3.51924828, -2.61494831,\n",
       "       -0.09610812,  2.04485693, -3.06674953, -1.60358644,  3.76593215,\n",
       "       -0.9255666 , -3.28834959, -1.55485215, -0.39877992, -2.30056782,\n",
       "       -0.54290136, -2.05881946, -3.42451806, -0.47240655,  4.70350073,\n",
       "       -3.64338024, -3.59468934,  4.14909734,  7.67214155, -2.01037941,\n",
       "       -2.92083349, -0.5007378 , -1.91149857, -3.78509923, -2.70839397,\n",
       "        6.28967347, -3.43077069, -2.00138847, -2.47329309, -3.64725775,\n",
       "       -2.34618685, -1.14299693, -1.3508573 ,  2.76337079, -1.96932361,\n",
       "       -2.93118706, -2.92637439, -3.99618828,  0.15513806, -0.93409081,\n",
       "       -1.92962173, -2.6223386 ,  6.00361659, -2.9218778 , -3.3419448 ,\n",
       "       -2.01491503,  1.98846211, -1.66960393, -0.37117811, -1.84895993,\n",
       "       -4.7030422 , -1.28318715, -2.31424682, -4.65908518, -3.94347338,\n",
       "        4.94985846, -0.91580352,  4.54911115,  4.44234282, -2.1949843 ,\n",
       "        0.66444091, -2.24087605, -2.12518044, -2.61531741, -3.21096798,\n",
       "       -0.3067504 ,  2.47235692, -3.45471837, -3.90052685,  0.98172754,\n",
       "       -1.25725157,  3.24541365, -1.55721941, -1.2492581 ,  4.33165334,\n",
       "       -1.07745133,  2.5117531 , -2.21709231, -1.17383065, -2.83630144,\n",
       "       -1.8570859 , -1.32861437, -2.80277136, -3.1745688 , -4.08707736,\n",
       "        3.47549375, 16.31923323, -2.56011502, -2.9688888 , -2.75743045,\n",
       "        1.37033988, -0.41766449, -3.83839862,  5.93096486,  0.64547865,\n",
       "       -2.6838464 , -2.04166405, -1.39929635, -3.5364153 , -1.99052945,\n",
       "       -1.99818537, -0.52065811, -3.17237049, -2.20271019,  3.82443304,\n",
       "       -2.98548469, -2.48105511, -1.27211146, -2.23515689, -0.0561831 ,\n",
       "        2.31739061, -2.28433126,  4.75461487, -1.72631092, -0.74178177,\n",
       "       -2.89431066, -1.65452185,  3.1035197 , -4.0642706 , -2.79333066,\n",
       "       -1.47491994, -0.22939464, -2.55325841,  3.7157051 ,  5.09484184,\n",
       "       -0.60061611,  2.79039983, -1.40877121,  7.25917884,  1.29886655,\n",
       "        1.07669328, -1.24976052, -1.25692841, -1.16653521,  4.09414256,\n",
       "       -1.88763924, -2.7674357 ,  2.22699449, -1.13157689, -0.73377245,\n",
       "       -2.33367074,  2.69722375,  3.37901467, -0.19987058, -1.17602591,\n",
       "       -1.29263654,  8.63075586, -4.42945637, -0.61983874, -3.25231577,\n",
       "       -3.35292705, -0.85980299, -3.15662197,  0.34652811, -2.46140665,\n",
       "       -1.53010072, -1.77358507, -2.68044162,  4.02843526, -2.13635123,\n",
       "        5.16541095,  0.53593195,  0.34312338, -4.19707999, -1.14283186,\n",
       "       -1.66547515,  1.0117125 , -1.30092971, -2.37342873, -1.66587101,\n",
       "       -1.92767819, -4.23721662, -2.67787072, -3.83649785, -2.5514403 ,\n",
       "       -4.69492345, -2.02503716, -2.89594821, -3.50220104, -2.15390367,\n",
       "       -2.05508407, -3.87728958, -4.06386211, -0.09866733, -1.08937619,\n",
       "       -0.48177096, -4.87030952,  5.91761259,  8.74133808,  6.43931548,\n",
       "        3.79338237,  1.25617928, 10.37479406, -5.4752433 ])"
      ]
     },
     "execution_count": 23,
     "metadata": {},
     "output_type": "execute_result"
    }
   ],
   "source": [
    "x_pca[:,0]"
   ]
  },
  {
   "cell_type": "code",
   "execution_count": 28,
   "id": "bb462183",
   "metadata": {
    "scrolled": true
   },
   "outputs": [
    {
     "data": {
      "image/png": "[encoded data removed]",
      "text/plain": [
       "<Figure size 432x288 with 1 Axes>"
      ]
     },
     "metadata": {
      "needs_background": "light"
     },
     "output_type": "display_data"
    }
   ],
   "source": [
    "import matplotlib.pyplot as plt\n",
    "plt.figure(figsize=(6,4))\n",
    "plt.scatter(x_pca[:,0],x_pca[:,1],c=cancer['target'])\n",
    "plt.xlabel(\"First Component\",color=\"red\",fontsize=12)\n",
    "plt.ylabel(\"Second Component\",color=\"red\",fontsize=12)\n",
    "plt.show()"
   ]
  },
  {
   "cell_type": "code",
   "execution_count": null,
   "id": "a457a792",
   "metadata": {},
   "outputs": [],
   "source": []
  }
 ],
 "metadata": {
  "kernelspec": {
   "display_name": "Python 3 (ipykernel)",
   "language": "python",
   "name": "python3"
  },
  "language_info": {
   "codemirror_mode": {
    "name": "ipython",
    "version": 3
   },
   "file_extension": ".py",
   "mimetype": "text/x-python",
   "name": "python",
   "nbconvert_exporter": "python",
   "pygments_lexer": "ipython3",
   "version": "3.9.7"
  }
 },
 "nbformat": 4,
 "nbformat_minor": 5
}
