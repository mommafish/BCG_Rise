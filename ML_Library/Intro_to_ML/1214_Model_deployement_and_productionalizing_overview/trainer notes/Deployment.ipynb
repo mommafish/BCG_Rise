{
 "cells": [
  {
   "cell_type": "markdown",
   "id": "66bf7858",
   "metadata": {},
   "source": [
    "input -> can be in html page, web page or in handphone \n",
    "press enter key/ return -> our model has to get executed \n",
    "output -> to be in html page/webpage / handphone \n",
    "\n",
    "\n",
    "API- application progrmaming interface \n",
    "\n",
    "\n",
    "Why: program has to run all the tim 24/7, so i cannot store program locally\n",
    "\n",
    "what Deployment \n",
    "1. save my program in some server\n",
    "2. RUN 24/7\n",
    "3. enchancements will no effect original source code/ \n",
    "     modifications( changing the original) of the program updated periodically\n",
    "\n",
    "1. MS -> steps \n",
    "2. AWS->\n",
    "\n",
    "\n",
    "Front end -> web page - html \n",
    "Middle -> Python Program / ML model ( pick up my model ) ->run model \n",
    "Back end -> server whihc hosting the program / local host \n",
    "\n",
    "\n",
    "ML\n"
   ]
  },
  {
   "cell_type": "markdown",
   "id": "9c849a9c",
   "metadata": {},
   "source": [
    "Architecture – 3 tier / 3 layer – MlOps\n",
    "\n",
    "\tML Ops -> Machine Learning Operations\n",
    "\n",
    "SDLC ( analyse, design, develop, testing(UAT)-deploy in the server , go live prod) \n",
    "\n",
    "1.\tDesign( all the eda, datacleaning, missing, prep, sclar) \n",
    "2.\tDevelop( Developing ur model -> ML+ Data enginerring team + Testing ( functional testing/non function testing/load testing ) \n",
    "3.\t ML Ops \n",
    "a.\tML deployment\n",
    "i.\tAutomation of all manual process \n",
    "b.\tCI/CD pipelines \n",
    "i.\tCI – Continuous integration \n",
    "ii.\tCD – Continuous delivery \n",
    "\n",
    "c.\tMonitoring \n",
    "i.\tCT – con training \n",
    "ii.\tCM – con monitoring \n",
    "iii.\tVersion control \n",
    "1.\tCopy+paste -program in GITHUB everytime -> COMMIT\n",
    "2.\tIf there is any changes/enhancments done -> commit \n",
    "iv.\tWhen ur deployment to Azure (MS) -> integrate with GITHUB\n",
    "\n",
    "\n"
   ]
  },
  {
   "cell_type": "code",
   "execution_count": 1,
   "id": "8947734a",
   "metadata": {},
   "outputs": [],
   "source": [
    "## program to be deployment ready \n",
    "#1. Load dataset\n",
    "#2. EDA and data prep\n",
    "#3. Split dataset -train + test \n",
    "#4. Modelling \n",
    "#5. evalute \n",
    "#6. Save model in resuable format(eg: PICKLE) \n",
    "#7. Reuse the model / load model \n",
    "#8. model -> resuable by the front end HTML page(input page) \n",
    "#9. model ouput-> should be integrated with frontend ( outputpage)\n",
    "#10. run the application in localhost / server side "
   ]
  },
  {
   "cell_type": "code",
   "execution_count": 2,
   "id": "5267321e",
   "metadata": {},
   "outputs": [],
   "source": [
    "import numpy as np \n",
    "import pandas as pd \n"
   ]
  },
  {
   "cell_type": "code",
   "execution_count": 3,
   "id": "fa33d3a7",
   "metadata": {},
   "outputs": [
    {
     "data": {
      "text/html": [
       "<div>\n",
       "<style scoped>\n",
       "    .dataframe tbody tr th:only-of-type {\n",
       "        vertical-align: middle;\n",
       "    }\n",
       "\n",
       "    .dataframe tbody tr th {\n",
       "        vertical-align: top;\n",
       "    }\n",
       "\n",
       "    .dataframe thead th {\n",
       "        text-align: right;\n",
       "    }\n",
       "</style>\n",
       "<table border=\"1\" class=\"dataframe\">\n",
       "  <thead>\n",
       "    <tr style=\"text-align: right;\">\n",
       "      <th></th>\n",
       "      <th>Id</th>\n",
       "      <th>SepalLengthCm</th>\n",
       "      <th>SepalWidthCm</th>\n",
       "      <th>PetalLengthCm</th>\n",
       "      <th>PetalWidthCm</th>\n",
       "      <th>Species</th>\n",
       "    </tr>\n",
       "  </thead>\n",
       "  <tbody>\n",
       "    <tr>\n",
       "      <th>0</th>\n",
       "      <td>1</td>\n",
       "      <td>5.1</td>\n",
       "      <td>3.5</td>\n",
       "      <td>1.4</td>\n",
       "      <td>0.2</td>\n",
       "      <td>Iris-setosa</td>\n",
       "    </tr>\n",
       "    <tr>\n",
       "      <th>1</th>\n",
       "      <td>2</td>\n",
       "      <td>4.9</td>\n",
       "      <td>3.0</td>\n",
       "      <td>1.4</td>\n",
       "      <td>0.2</td>\n",
       "      <td>Iris-setosa</td>\n",
       "    </tr>\n",
       "    <tr>\n",
       "      <th>2</th>\n",
       "      <td>3</td>\n",
       "      <td>4.7</td>\n",
       "      <td>3.2</td>\n",
       "      <td>1.3</td>\n",
       "      <td>0.2</td>\n",
       "      <td>Iris-setosa</td>\n",
       "    </tr>\n",
       "    <tr>\n",
       "      <th>3</th>\n",
       "      <td>4</td>\n",
       "      <td>4.6</td>\n",
       "      <td>3.1</td>\n",
       "      <td>1.5</td>\n",
       "      <td>0.2</td>\n",
       "      <td>Iris-setosa</td>\n",
       "    </tr>\n",
       "    <tr>\n",
       "      <th>4</th>\n",
       "      <td>5</td>\n",
       "      <td>5.0</td>\n",
       "      <td>3.6</td>\n",
       "      <td>1.4</td>\n",
       "      <td>0.2</td>\n",
       "      <td>Iris-setosa</td>\n",
       "    </tr>\n",
       "  </tbody>\n",
       "</table>\n",
       "</div>"
      ],
      "text/plain": [
       "   Id  SepalLengthCm  SepalWidthCm  PetalLengthCm  PetalWidthCm      Species\n",
       "0   1            5.1           3.5            1.4           0.2  Iris-setosa\n",
       "1   2            4.9           3.0            1.4           0.2  Iris-setosa\n",
       "2   3            4.7           3.2            1.3           0.2  Iris-setosa\n",
       "3   4            4.6           3.1            1.5           0.2  Iris-setosa\n",
       "4   5            5.0           3.6            1.4           0.2  Iris-setosa"
      ]
     },
     "execution_count": 3,
     "metadata": {},
     "output_type": "execute_result"
    }
   ],
   "source": [
    "df = pd.read_csv(\"Iris.csv\")\n",
    "df.head()"
   ]
  },
  {
   "cell_type": "code",
   "execution_count": 4,
   "id": "153043ec",
   "metadata": {},
   "outputs": [
    {
     "data": {
      "text/plain": [
       "(150, 6)"
      ]
     },
     "execution_count": 4,
     "metadata": {},
     "output_type": "execute_result"
    }
   ],
   "source": [
    "df.shape"
   ]
  },
  {
   "cell_type": "code",
   "execution_count": 5,
   "id": "f7d7143d",
   "metadata": {},
   "outputs": [],
   "source": [
    "#species. =y axis -> dependent \n",
    "#SepalLengthCm\tSepalWidthCm\tPetalLengthCm\tPetalWidthCm = x axis -> independent "
   ]
  },
  {
   "cell_type": "code",
   "execution_count": 6,
   "id": "d730e5ad",
   "metadata": {},
   "outputs": [],
   "source": [
    "df.drop(\"Id\", axis =1 , inplace = True)"
   ]
  },
  {
   "cell_type": "code",
   "execution_count": 7,
   "id": "b03d2460",
   "metadata": {},
   "outputs": [
    {
     "data": {
      "text/html": [
       "<div>\n",
       "<style scoped>\n",
       "    .dataframe tbody tr th:only-of-type {\n",
       "        vertical-align: middle;\n",
       "    }\n",
       "\n",
       "    .dataframe tbody tr th {\n",
       "        vertical-align: top;\n",
       "    }\n",
       "\n",
       "    .dataframe thead th {\n",
       "        text-align: right;\n",
       "    }\n",
       "</style>\n",
       "<table border=\"1\" class=\"dataframe\">\n",
       "  <thead>\n",
       "    <tr style=\"text-align: right;\">\n",
       "      <th></th>\n",
       "      <th>SepalLengthCm</th>\n",
       "      <th>SepalWidthCm</th>\n",
       "      <th>PetalLengthCm</th>\n",
       "      <th>PetalWidthCm</th>\n",
       "      <th>Species</th>\n",
       "    </tr>\n",
       "  </thead>\n",
       "  <tbody>\n",
       "    <tr>\n",
       "      <th>0</th>\n",
       "      <td>5.1</td>\n",
       "      <td>3.5</td>\n",
       "      <td>1.4</td>\n",
       "      <td>0.2</td>\n",
       "      <td>Iris-setosa</td>\n",
       "    </tr>\n",
       "    <tr>\n",
       "      <th>1</th>\n",
       "      <td>4.9</td>\n",
       "      <td>3.0</td>\n",
       "      <td>1.4</td>\n",
       "      <td>0.2</td>\n",
       "      <td>Iris-setosa</td>\n",
       "    </tr>\n",
       "    <tr>\n",
       "      <th>2</th>\n",
       "      <td>4.7</td>\n",
       "      <td>3.2</td>\n",
       "      <td>1.3</td>\n",
       "      <td>0.2</td>\n",
       "      <td>Iris-setosa</td>\n",
       "    </tr>\n",
       "    <tr>\n",
       "      <th>3</th>\n",
       "      <td>4.6</td>\n",
       "      <td>3.1</td>\n",
       "      <td>1.5</td>\n",
       "      <td>0.2</td>\n",
       "      <td>Iris-setosa</td>\n",
       "    </tr>\n",
       "    <tr>\n",
       "      <th>4</th>\n",
       "      <td>5.0</td>\n",
       "      <td>3.6</td>\n",
       "      <td>1.4</td>\n",
       "      <td>0.2</td>\n",
       "      <td>Iris-setosa</td>\n",
       "    </tr>\n",
       "  </tbody>\n",
       "</table>\n",
       "</div>"
      ],
      "text/plain": [
       "   SepalLengthCm  SepalWidthCm  PetalLengthCm  PetalWidthCm      Species\n",
       "0            5.1           3.5            1.4           0.2  Iris-setosa\n",
       "1            4.9           3.0            1.4           0.2  Iris-setosa\n",
       "2            4.7           3.2            1.3           0.2  Iris-setosa\n",
       "3            4.6           3.1            1.5           0.2  Iris-setosa\n",
       "4            5.0           3.6            1.4           0.2  Iris-setosa"
      ]
     },
     "execution_count": 7,
     "metadata": {},
     "output_type": "execute_result"
    }
   ],
   "source": [
    "df.head()"
   ]
  },
  {
   "cell_type": "code",
   "execution_count": 8,
   "id": "df05fbc8",
   "metadata": {},
   "outputs": [],
   "source": [
    "y = df.Species"
   ]
  },
  {
   "cell_type": "code",
   "execution_count": 9,
   "id": "e0c2b8a3",
   "metadata": {},
   "outputs": [],
   "source": [
    "x = df[['SepalLengthCm', 'SepalWidthCm','PetalLengthCm','PetalWidthCm']]"
   ]
  },
  {
   "cell_type": "code",
   "execution_count": 10,
   "id": "6ec0176d",
   "metadata": {},
   "outputs": [],
   "source": [
    "from sklearn.model_selection import train_test_split"
   ]
  },
  {
   "cell_type": "code",
   "execution_count": 11,
   "id": "b3bd5b36",
   "metadata": {},
   "outputs": [],
   "source": [
    "x_train, x_test,y_train,y_test = train_test_split(x,y, test_size= 0.3)"
   ]
  },
  {
   "cell_type": "code",
   "execution_count": 12,
   "id": "0d789b64",
   "metadata": {},
   "outputs": [],
   "source": [
    "from sklearn.linear_model import LogisticRegression"
   ]
  },
  {
   "cell_type": "code",
   "execution_count": 13,
   "id": "1f8cafc3",
   "metadata": {},
   "outputs": [],
   "source": [
    "model = LogisticRegression()"
   ]
  },
  {
   "cell_type": "code",
   "execution_count": 14,
   "id": "bdab175a",
   "metadata": {},
   "outputs": [
    {
     "name": "stderr",
     "output_type": "stream",
     "text": [
      "C:\\Users\\pwy_9\\anaconda3\\lib\\site-packages\\sklearn\\linear_model\\_logistic.py:763: ConvergenceWarning: lbfgs failed to converge (status=1):\n",
      "STOP: TOTAL NO. of ITERATIONS REACHED LIMIT.\n",
      "\n",
      "Increase the number of iterations (max_iter) or scale the data as shown in:\n",
      "    https://scikit-learn.org/stable/modules/preprocessing.html\n",
      "Please also refer to the documentation for alternative solver options:\n",
      "    https://scikit-learn.org/stable/modules/linear_model.html#logistic-regression\n",
      "  n_iter_i = _check_optimize_result(\n"
     ]
    },
    {
     "data": {
      "text/plain": [
       "LogisticRegression()"
      ]
     },
     "execution_count": 14,
     "metadata": {},
     "output_type": "execute_result"
    }
   ],
   "source": [
    "#70% of the data goest othe training \n",
    "model.fit(x_train,y_train)"
   ]
  },
  {
   "cell_type": "code",
   "execution_count": 15,
   "id": "a3e5c37f",
   "metadata": {},
   "outputs": [],
   "source": [
    "## assuming TP TN FN FP , RECALL, PRESICION ALL DONE "
   ]
  },
  {
   "cell_type": "code",
   "execution_count": 16,
   "id": "c7782d3a",
   "metadata": {},
   "outputs": [],
   "source": [
    "## RESUABLE mode \n",
    "## pickle mode \n",
    "import pickle "
   ]
  },
  {
   "cell_type": "code",
   "execution_count": 17,
   "id": "ced67728",
   "metadata": {},
   "outputs": [],
   "source": [
    "## dump the model in to the pickle file in write mode \n",
    "pickle.dump(model , open('model.pkl', 'wb'))\n"
   ]
  },
  {
   "cell_type": "code",
   "execution_count": 18,
   "id": "8baf1507",
   "metadata": {},
   "outputs": [],
   "source": [
    "### open the pickle file in read mode rb\n",
    "#8. model -> resuable by the front end HTML page(input page) \n",
    "## deploy ML program in application format using flask \n",
    "from flask import Flask , request, render_template, jsonify\n"
   ]
  },
  {
   "cell_type": "code",
   "execution_count": 19,
   "id": "17695949",
   "metadata": {},
   "outputs": [],
   "source": [
    "## create application \n",
    "app = Flask(__name__)\n",
    "model = pickle.load(open('model.pkl', 'rb'))"
   ]
  },
  {
   "cell_type": "code",
   "execution_count": 20,
   "id": "41df80fe",
   "metadata": {},
   "outputs": [],
   "source": [
    "##resuable by the front end HTML page(input page)\n",
    "@app.route('/')## landing page or home page or input page \n",
    "def home():\n",
    "    return render_template('index.html')\n",
    "\n"
   ]
  },
  {
   "cell_type": "code",
   "execution_count": 21,
   "id": "a7a32010",
   "metadata": {},
   "outputs": [],
   "source": [
    "##resuable by the front end HTML page(output page) \n",
    "## route to predict function \n",
    "## take all input values from the form \n",
    "## create array and feed to the predict function \n",
    "@app.route('/predict', methods = ['POST'] )## landing page or home page or input page \n",
    "def predict():\n",
    "    \n",
    "    ## take all input values from the form by the user \n",
    "    usr_input = [float(x) for x in request.form.values()] \n",
    "    #create array \n",
    "    usr_input_array = [np.array(usr_input)]\n",
    "    #feed the usr_input_array to the predict function\n",
    "    prediction = model.predict(usr_input_array)\n",
    "    \n",
    "    return render_template('index.html', prediction_text  = 'Predicted class={}'.format(prediction)) ## output the species \n",
    "\n",
    "#input page\n",
    "#5.1\t3.5\t1.4\t0.2 - > precition - setosa"
   ]
  },
  {
   "cell_type": "code",
   "execution_count": 22,
   "id": "38337c6d",
   "metadata": {},
   "outputs": [
    {
     "name": "stdout",
     "output_type": "stream",
     "text": [
      " * Serving Flask app \"__main__\" (lazy loading)\n",
      " * Environment: production\n",
      "   WARNING: This is a development server. Do not use it in a production deployment.\n",
      "   Use a production WSGI server instead.\n",
      " * Debug mode: off\n"
     ]
    },
    {
     "name": "stderr",
     "output_type": "stream",
     "text": [
      " * Running on http://127.0.0.1:5000/ (Press CTRL+C to quit)\n",
      "[2021-12-14 17:26:03,772] ERROR in app: Exception on / [GET]\n",
      "Traceback (most recent call last):\n",
      "  File \"C:\\Users\\pwy_9\\anaconda3\\lib\\site-packages\\flask\\app.py\", line 2447, in wsgi_app\n",
      "    response = self.full_dispatch_request()\n",
      "  File \"C:\\Users\\pwy_9\\anaconda3\\lib\\site-packages\\flask\\app.py\", line 1952, in full_dispatch_request\n",
      "    rv = self.handle_user_exception(e)\n",
      "  File \"C:\\Users\\pwy_9\\anaconda3\\lib\\site-packages\\flask\\app.py\", line 1821, in handle_user_exception\n",
      "    reraise(exc_type, exc_value, tb)\n",
      "  File \"C:\\Users\\pwy_9\\anaconda3\\lib\\site-packages\\flask\\_compat.py\", line 39, in reraise\n",
      "    raise value\n",
      "  File \"C:\\Users\\pwy_9\\anaconda3\\lib\\site-packages\\flask\\app.py\", line 1950, in full_dispatch_request\n",
      "    rv = self.dispatch_request()\n",
      "  File \"C:\\Users\\pwy_9\\anaconda3\\lib\\site-packages\\flask\\app.py\", line 1936, in dispatch_request\n",
      "    return self.view_functions[rule.endpoint](**req.view_args)\n",
      "  File \"C:\\Users\\pwy_9\\AppData\\Local\\Temp/ipykernel_11120/3845991027.py\", line 4, in home\n",
      "    return render_template('index.html')\n",
      "  File \"C:\\Users\\pwy_9\\anaconda3\\lib\\site-packages\\flask\\templating.py\", line 138, in render_template\n",
      "    ctx.app.jinja_env.get_or_select_template(template_name_or_list),\n",
      "  File \"C:\\Users\\pwy_9\\AppData\\Roaming\\Python\\Python38\\site-packages\\jinja2\\environment.py\", line 1068, in get_or_select_template\n",
      "    return self.get_template(template_name_or_list, parent, globals)\n",
      "  File \"C:\\Users\\pwy_9\\AppData\\Roaming\\Python\\Python38\\site-packages\\jinja2\\environment.py\", line 997, in get_template\n",
      "    return self._load_template(name, globals)\n",
      "  File \"C:\\Users\\pwy_9\\AppData\\Roaming\\Python\\Python38\\site-packages\\jinja2\\environment.py\", line 958, in _load_template\n",
      "    template = self.loader.load(self, name, self.make_globals(globals))\n",
      "  File \"C:\\Users\\pwy_9\\AppData\\Roaming\\Python\\Python38\\site-packages\\jinja2\\loaders.py\", line 125, in load\n",
      "    source, filename, uptodate = self.get_source(environment, name)\n",
      "  File \"C:\\Users\\pwy_9\\anaconda3\\lib\\site-packages\\flask\\templating.py\", line 60, in get_source\n",
      "    return self._get_source_fast(environment, template)\n",
      "  File \"C:\\Users\\pwy_9\\anaconda3\\lib\\site-packages\\flask\\templating.py\", line 89, in _get_source_fast\n",
      "    raise TemplateNotFound(template)\n",
      "jinja2.exceptions.TemplateNotFound: index.html\n",
      "127.0.0.1 - - [14/Dec/2021 17:26:03] \"\u001b[35m\u001b[1mGET / HTTP/1.1\u001b[0m\" 500 -\n",
      "[2021-12-14 17:26:26,628] ERROR in app: Exception on / [GET]\n",
      "Traceback (most recent call last):\n",
      "  File \"C:\\Users\\pwy_9\\anaconda3\\lib\\site-packages\\flask\\app.py\", line 2447, in wsgi_app\n",
      "    response = self.full_dispatch_request()\n",
      "  File \"C:\\Users\\pwy_9\\anaconda3\\lib\\site-packages\\flask\\app.py\", line 1952, in full_dispatch_request\n",
      "    rv = self.handle_user_exception(e)\n",
      "  File \"C:\\Users\\pwy_9\\anaconda3\\lib\\site-packages\\flask\\app.py\", line 1821, in handle_user_exception\n",
      "    reraise(exc_type, exc_value, tb)\n",
      "  File \"C:\\Users\\pwy_9\\anaconda3\\lib\\site-packages\\flask\\_compat.py\", line 39, in reraise\n",
      "    raise value\n",
      "  File \"C:\\Users\\pwy_9\\anaconda3\\lib\\site-packages\\flask\\app.py\", line 1950, in full_dispatch_request\n",
      "    rv = self.dispatch_request()\n",
      "  File \"C:\\Users\\pwy_9\\anaconda3\\lib\\site-packages\\flask\\app.py\", line 1936, in dispatch_request\n",
      "    return self.view_functions[rule.endpoint](**req.view_args)\n",
      "  File \"C:\\Users\\pwy_9\\AppData\\Local\\Temp/ipykernel_11120/3845991027.py\", line 4, in home\n",
      "    return render_template('index.html')\n",
      "  File \"C:\\Users\\pwy_9\\anaconda3\\lib\\site-packages\\flask\\templating.py\", line 138, in render_template\n",
      "    ctx.app.jinja_env.get_or_select_template(template_name_or_list),\n",
      "  File \"C:\\Users\\pwy_9\\AppData\\Roaming\\Python\\Python38\\site-packages\\jinja2\\environment.py\", line 1068, in get_or_select_template\n",
      "    return self.get_template(template_name_or_list, parent, globals)\n",
      "  File \"C:\\Users\\pwy_9\\AppData\\Roaming\\Python\\Python38\\site-packages\\jinja2\\environment.py\", line 997, in get_template\n",
      "    return self._load_template(name, globals)\n",
      "  File \"C:\\Users\\pwy_9\\AppData\\Roaming\\Python\\Python38\\site-packages\\jinja2\\environment.py\", line 958, in _load_template\n",
      "    template = self.loader.load(self, name, self.make_globals(globals))\n",
      "  File \"C:\\Users\\pwy_9\\AppData\\Roaming\\Python\\Python38\\site-packages\\jinja2\\loaders.py\", line 125, in load\n",
      "    source, filename, uptodate = self.get_source(environment, name)\n",
      "  File \"C:\\Users\\pwy_9\\anaconda3\\lib\\site-packages\\flask\\templating.py\", line 60, in get_source\n",
      "    return self._get_source_fast(environment, template)\n",
      "  File \"C:\\Users\\pwy_9\\anaconda3\\lib\\site-packages\\flask\\templating.py\", line 89, in _get_source_fast\n",
      "    raise TemplateNotFound(template)\n",
      "jinja2.exceptions.TemplateNotFound: index.html\n",
      "127.0.0.1 - - [14/Dec/2021 17:26:26] \"\u001b[35m\u001b[1mGET / HTTP/1.1\u001b[0m\" 500 -\n",
      "[2021-12-14 17:26:54,524] ERROR in app: Exception on / [GET]\n",
      "Traceback (most recent call last):\n",
      "  File \"C:\\Users\\pwy_9\\anaconda3\\lib\\site-packages\\flask\\app.py\", line 2447, in wsgi_app\n",
      "    response = self.full_dispatch_request()\n",
      "  File \"C:\\Users\\pwy_9\\anaconda3\\lib\\site-packages\\flask\\app.py\", line 1952, in full_dispatch_request\n",
      "    rv = self.handle_user_exception(e)\n",
      "  File \"C:\\Users\\pwy_9\\anaconda3\\lib\\site-packages\\flask\\app.py\", line 1821, in handle_user_exception\n",
      "    reraise(exc_type, exc_value, tb)\n",
      "  File \"C:\\Users\\pwy_9\\anaconda3\\lib\\site-packages\\flask\\_compat.py\", line 39, in reraise\n",
      "    raise value\n",
      "  File \"C:\\Users\\pwy_9\\anaconda3\\lib\\site-packages\\flask\\app.py\", line 1950, in full_dispatch_request\n",
      "    rv = self.dispatch_request()\n",
      "  File \"C:\\Users\\pwy_9\\anaconda3\\lib\\site-packages\\flask\\app.py\", line 1936, in dispatch_request\n",
      "    return self.view_functions[rule.endpoint](**req.view_args)\n",
      "  File \"C:\\Users\\pwy_9\\AppData\\Local\\Temp/ipykernel_11120/3845991027.py\", line 4, in home\n",
      "    return render_template('index.html')\n",
      "  File \"C:\\Users\\pwy_9\\anaconda3\\lib\\site-packages\\flask\\templating.py\", line 138, in render_template\n",
      "    ctx.app.jinja_env.get_or_select_template(template_name_or_list),\n",
      "  File \"C:\\Users\\pwy_9\\AppData\\Roaming\\Python\\Python38\\site-packages\\jinja2\\environment.py\", line 1068, in get_or_select_template\n",
      "    return self.get_template(template_name_or_list, parent, globals)\n",
      "  File \"C:\\Users\\pwy_9\\AppData\\Roaming\\Python\\Python38\\site-packages\\jinja2\\environment.py\", line 997, in get_template\n",
      "    return self._load_template(name, globals)\n",
      "  File \"C:\\Users\\pwy_9\\AppData\\Roaming\\Python\\Python38\\site-packages\\jinja2\\environment.py\", line 958, in _load_template\n",
      "    template = self.loader.load(self, name, self.make_globals(globals))\n",
      "  File \"C:\\Users\\pwy_9\\AppData\\Roaming\\Python\\Python38\\site-packages\\jinja2\\loaders.py\", line 125, in load\n",
      "    source, filename, uptodate = self.get_source(environment, name)\n",
      "  File \"C:\\Users\\pwy_9\\anaconda3\\lib\\site-packages\\flask\\templating.py\", line 60, in get_source\n",
      "    return self._get_source_fast(environment, template)\n",
      "  File \"C:\\Users\\pwy_9\\anaconda3\\lib\\site-packages\\flask\\templating.py\", line 89, in _get_source_fast\n",
      "    raise TemplateNotFound(template)\n",
      "jinja2.exceptions.TemplateNotFound: index.html\n",
      "127.0.0.1 - - [14/Dec/2021 17:26:54] \"\u001b[35m\u001b[1mGET / HTTP/1.1\u001b[0m\" 500 -\n",
      "[2021-12-14 17:26:55,300] ERROR in app: Exception on / [GET]\n",
      "Traceback (most recent call last):\n",
      "  File \"C:\\Users\\pwy_9\\anaconda3\\lib\\site-packages\\flask\\app.py\", line 2447, in wsgi_app\n",
      "    response = self.full_dispatch_request()\n",
      "  File \"C:\\Users\\pwy_9\\anaconda3\\lib\\site-packages\\flask\\app.py\", line 1952, in full_dispatch_request\n",
      "    rv = self.handle_user_exception(e)\n",
      "  File \"C:\\Users\\pwy_9\\anaconda3\\lib\\site-packages\\flask\\app.py\", line 1821, in handle_user_exception\n",
      "    reraise(exc_type, exc_value, tb)\n",
      "  File \"C:\\Users\\pwy_9\\anaconda3\\lib\\site-packages\\flask\\_compat.py\", line 39, in reraise\n",
      "    raise value\n",
      "  File \"C:\\Users\\pwy_9\\anaconda3\\lib\\site-packages\\flask\\app.py\", line 1950, in full_dispatch_request\n",
      "    rv = self.dispatch_request()\n",
      "  File \"C:\\Users\\pwy_9\\anaconda3\\lib\\site-packages\\flask\\app.py\", line 1936, in dispatch_request\n",
      "    return self.view_functions[rule.endpoint](**req.view_args)\n",
      "  File \"C:\\Users\\pwy_9\\AppData\\Local\\Temp/ipykernel_11120/3845991027.py\", line 4, in home\n",
      "    return render_template('index.html')\n",
      "  File \"C:\\Users\\pwy_9\\anaconda3\\lib\\site-packages\\flask\\templating.py\", line 138, in render_template\n",
      "    ctx.app.jinja_env.get_or_select_template(template_name_or_list),\n",
      "  File \"C:\\Users\\pwy_9\\AppData\\Roaming\\Python\\Python38\\site-packages\\jinja2\\environment.py\", line 1068, in get_or_select_template\n",
      "    return self.get_template(template_name_or_list, parent, globals)\n",
      "  File \"C:\\Users\\pwy_9\\AppData\\Roaming\\Python\\Python38\\site-packages\\jinja2\\environment.py\", line 997, in get_template\n",
      "    return self._load_template(name, globals)\n",
      "  File \"C:\\Users\\pwy_9\\AppData\\Roaming\\Python\\Python38\\site-packages\\jinja2\\environment.py\", line 958, in _load_template\n",
      "    template = self.loader.load(self, name, self.make_globals(globals))\n",
      "  File \"C:\\Users\\pwy_9\\AppData\\Roaming\\Python\\Python38\\site-packages\\jinja2\\loaders.py\", line 125, in load\n",
      "    source, filename, uptodate = self.get_source(environment, name)\n",
      "  File \"C:\\Users\\pwy_9\\anaconda3\\lib\\site-packages\\flask\\templating.py\", line 60, in get_source\n",
      "    return self._get_source_fast(environment, template)\n",
      "  File \"C:\\Users\\pwy_9\\anaconda3\\lib\\site-packages\\flask\\templating.py\", line 89, in _get_source_fast\n",
      "    raise TemplateNotFound(template)\n",
      "jinja2.exceptions.TemplateNotFound: index.html\n"
     ]
    },
    {
     "name": "stderr",
     "output_type": "stream",
     "text": [
      "127.0.0.1 - - [14/Dec/2021 17:26:55] \"\u001b[35m\u001b[1mGET / HTTP/1.1\u001b[0m\" 500 -\n",
      "[2021-12-14 17:26:55,559] ERROR in app: Exception on / [GET]\n",
      "Traceback (most recent call last):\n",
      "  File \"C:\\Users\\pwy_9\\anaconda3\\lib\\site-packages\\flask\\app.py\", line 2447, in wsgi_app\n",
      "    response = self.full_dispatch_request()\n",
      "  File \"C:\\Users\\pwy_9\\anaconda3\\lib\\site-packages\\flask\\app.py\", line 1952, in full_dispatch_request\n",
      "    rv = self.handle_user_exception(e)\n",
      "  File \"C:\\Users\\pwy_9\\anaconda3\\lib\\site-packages\\flask\\app.py\", line 1821, in handle_user_exception\n",
      "    reraise(exc_type, exc_value, tb)\n",
      "  File \"C:\\Users\\pwy_9\\anaconda3\\lib\\site-packages\\flask\\_compat.py\", line 39, in reraise\n",
      "    raise value\n",
      "  File \"C:\\Users\\pwy_9\\anaconda3\\lib\\site-packages\\flask\\app.py\", line 1950, in full_dispatch_request\n",
      "    rv = self.dispatch_request()\n",
      "  File \"C:\\Users\\pwy_9\\anaconda3\\lib\\site-packages\\flask\\app.py\", line 1936, in dispatch_request\n",
      "    return self.view_functions[rule.endpoint](**req.view_args)\n",
      "  File \"C:\\Users\\pwy_9\\AppData\\Local\\Temp/ipykernel_11120/3845991027.py\", line 4, in home\n",
      "    return render_template('index.html')\n",
      "  File \"C:\\Users\\pwy_9\\anaconda3\\lib\\site-packages\\flask\\templating.py\", line 138, in render_template\n",
      "    ctx.app.jinja_env.get_or_select_template(template_name_or_list),\n",
      "  File \"C:\\Users\\pwy_9\\AppData\\Roaming\\Python\\Python38\\site-packages\\jinja2\\environment.py\", line 1068, in get_or_select_template\n",
      "    return self.get_template(template_name_or_list, parent, globals)\n",
      "  File \"C:\\Users\\pwy_9\\AppData\\Roaming\\Python\\Python38\\site-packages\\jinja2\\environment.py\", line 997, in get_template\n",
      "    return self._load_template(name, globals)\n",
      "  File \"C:\\Users\\pwy_9\\AppData\\Roaming\\Python\\Python38\\site-packages\\jinja2\\environment.py\", line 958, in _load_template\n",
      "    template = self.loader.load(self, name, self.make_globals(globals))\n",
      "  File \"C:\\Users\\pwy_9\\AppData\\Roaming\\Python\\Python38\\site-packages\\jinja2\\loaders.py\", line 125, in load\n",
      "    source, filename, uptodate = self.get_source(environment, name)\n",
      "  File \"C:\\Users\\pwy_9\\anaconda3\\lib\\site-packages\\flask\\templating.py\", line 60, in get_source\n",
      "    return self._get_source_fast(environment, template)\n",
      "  File \"C:\\Users\\pwy_9\\anaconda3\\lib\\site-packages\\flask\\templating.py\", line 89, in _get_source_fast\n",
      "    raise TemplateNotFound(template)\n",
      "jinja2.exceptions.TemplateNotFound: index.html\n",
      "127.0.0.1 - - [14/Dec/2021 17:26:55] \"\u001b[35m\u001b[1mGET / HTTP/1.1\u001b[0m\" 500 -\n",
      "[2021-12-14 17:26:55,770] ERROR in app: Exception on / [GET]\n",
      "Traceback (most recent call last):\n",
      "  File \"C:\\Users\\pwy_9\\anaconda3\\lib\\site-packages\\flask\\app.py\", line 2447, in wsgi_app\n",
      "    response = self.full_dispatch_request()\n",
      "  File \"C:\\Users\\pwy_9\\anaconda3\\lib\\site-packages\\flask\\app.py\", line 1952, in full_dispatch_request\n",
      "    rv = self.handle_user_exception(e)\n",
      "  File \"C:\\Users\\pwy_9\\anaconda3\\lib\\site-packages\\flask\\app.py\", line 1821, in handle_user_exception\n",
      "    reraise(exc_type, exc_value, tb)\n",
      "  File \"C:\\Users\\pwy_9\\anaconda3\\lib\\site-packages\\flask\\_compat.py\", line 39, in reraise\n",
      "    raise value\n",
      "  File \"C:\\Users\\pwy_9\\anaconda3\\lib\\site-packages\\flask\\app.py\", line 1950, in full_dispatch_request\n",
      "    rv = self.dispatch_request()\n",
      "  File \"C:\\Users\\pwy_9\\anaconda3\\lib\\site-packages\\flask\\app.py\", line 1936, in dispatch_request\n",
      "    return self.view_functions[rule.endpoint](**req.view_args)\n",
      "  File \"C:\\Users\\pwy_9\\AppData\\Local\\Temp/ipykernel_11120/3845991027.py\", line 4, in home\n",
      "    return render_template('index.html')\n",
      "  File \"C:\\Users\\pwy_9\\anaconda3\\lib\\site-packages\\flask\\templating.py\", line 138, in render_template\n",
      "    ctx.app.jinja_env.get_or_select_template(template_name_or_list),\n",
      "  File \"C:\\Users\\pwy_9\\AppData\\Roaming\\Python\\Python38\\site-packages\\jinja2\\environment.py\", line 1068, in get_or_select_template\n",
      "    return self.get_template(template_name_or_list, parent, globals)\n",
      "  File \"C:\\Users\\pwy_9\\AppData\\Roaming\\Python\\Python38\\site-packages\\jinja2\\environment.py\", line 997, in get_template\n",
      "    return self._load_template(name, globals)\n",
      "  File \"C:\\Users\\pwy_9\\AppData\\Roaming\\Python\\Python38\\site-packages\\jinja2\\environment.py\", line 958, in _load_template\n",
      "    template = self.loader.load(self, name, self.make_globals(globals))\n",
      "  File \"C:\\Users\\pwy_9\\AppData\\Roaming\\Python\\Python38\\site-packages\\jinja2\\loaders.py\", line 125, in load\n",
      "    source, filename, uptodate = self.get_source(environment, name)\n",
      "  File \"C:\\Users\\pwy_9\\anaconda3\\lib\\site-packages\\flask\\templating.py\", line 60, in get_source\n",
      "    return self._get_source_fast(environment, template)\n",
      "  File \"C:\\Users\\pwy_9\\anaconda3\\lib\\site-packages\\flask\\templating.py\", line 89, in _get_source_fast\n",
      "    raise TemplateNotFound(template)\n",
      "jinja2.exceptions.TemplateNotFound: index.html\n",
      "127.0.0.1 - - [14/Dec/2021 17:26:55] \"\u001b[35m\u001b[1mGET / HTTP/1.1\u001b[0m\" 500 -\n"
     ]
    }
   ],
   "source": [
    "if __name__ == \"__main__\":\n",
    "    app.run(debug = False)\n",
    "    "
   ]
  },
  {
   "cell_type": "code",
   "execution_count": 23,
   "id": "5c0ab1d9",
   "metadata": {},
   "outputs": [
    {
     "ename": "NameError",
     "evalue": "name 'pandas' is not defined",
     "output_type": "error",
     "traceback": [
      "\u001b[1;31m---------------------------------------------------------------------------\u001b[0m",
      "\u001b[1;31mNameError\u001b[0m                                 Traceback (most recent call last)",
      "\u001b[1;32m~\\AppData\\Local\\Temp/ipykernel_11120/1092623085.py\u001b[0m in \u001b[0;36m<module>\u001b[1;34m\u001b[0m\n\u001b[0;32m      1\u001b[0m \u001b[1;31m## createnotepad requirements.txt\u001b[0m\u001b[1;33m\u001b[0m\u001b[1;33m\u001b[0m\u001b[1;33m\u001b[0m\u001b[0m\n\u001b[0;32m      2\u001b[0m \u001b[1;31m##list of the packages used in the program\u001b[0m\u001b[1;33m\u001b[0m\u001b[1;33m\u001b[0m\u001b[1;33m\u001b[0m\u001b[0m\n\u001b[1;32m----> 3\u001b[1;33m \u001b[0mpandas\u001b[0m\u001b[1;33m\u001b[0m\u001b[1;33m\u001b[0m\u001b[0m\n\u001b[0m\u001b[0;32m      4\u001b[0m \u001b[0mnumpy\u001b[0m\u001b[1;33m\u001b[0m\u001b[1;33m\u001b[0m\u001b[0m\n\u001b[0;32m      5\u001b[0m \u001b[0mpickle\u001b[0m\u001b[1;33m\u001b[0m\u001b[1;33m\u001b[0m\u001b[0m\n",
      "\u001b[1;31mNameError\u001b[0m: name 'pandas' is not defined"
     ]
    }
   ],
   "source": [
    "## createnotepad requirements.txt \n",
    "##list of the packages used in the program \n",
    "pandas\n",
    "numpy\n",
    "pickle\n",
    "sklearn\n",
    "jsonify\n",
    "flask"
   ]
  },
  {
   "cell_type": "code",
   "execution_count": null,
   "id": "68063229",
   "metadata": {},
   "outputs": [],
   "source": [
    "#pip install requirements.txt(mandatory )\n",
    "#program runs after pip install in the server ( mandatory )\n",
    "#html page ( mandatory )\n",
    "#dataset ( not mandatory )\n"
   ]
  }
 ],
 "metadata": {
  "kernelspec": {
   "display_name": "Python 3",
   "language": "python",
   "name": "python3"
  },
  "language_info": {
   "codemirror_mode": {
    "name": "ipython",
    "version": 3
   },
   "file_extension": ".py",
   "mimetype": "text/x-python",
   "name": "python",
   "nbconvert_exporter": "python",
   "pygments_lexer": "ipython3",
   "version": "3.8.8"
  }
 },
 "nbformat": 4,
 "nbformat_minor": 5
}
