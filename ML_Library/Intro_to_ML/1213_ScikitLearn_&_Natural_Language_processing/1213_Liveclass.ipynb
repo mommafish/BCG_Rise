{
 "cells": [
  {
   "cell_type": "code",
   "execution_count": 1,
   "id": "50f5799d",
   "metadata": {},
   "outputs": [],
   "source": [
    "## euclidian\n",
    "## manhattan\n",
    "## hd = 7\n",
    "\n",
    "s1 = 'euclidian'\n",
    "s2 = 'manhattan'"
   ]
  },
  {
   "cell_type": "code",
   "execution_count": 2,
   "id": "4a59d372",
   "metadata": {},
   "outputs": [],
   "source": [
    "from scipy.spatial import distance"
   ]
  },
  {
   "cell_type": "code",
   "execution_count": 4,
   "id": "a82e6dac",
   "metadata": {},
   "outputs": [
    {
     "name": "stdout",
     "output_type": "stream",
     "text": [
      "7.0\n"
     ]
    }
   ],
   "source": [
    "hd = distance.hamming( list(s1), list(s2) ) * len(s1)\n",
    "print(hd)"
   ]
  },
  {
   "cell_type": "code",
   "execution_count": null,
   "id": "77e7379e",
   "metadata": {},
   "outputs": [],
   "source": []
  }
 ],
 "metadata": {
  "kernelspec": {
   "display_name": "Python 3",
   "language": "python",
   "name": "python3"
  },
  "language_info": {
   "codemirror_mode": {
    "name": "ipython",
    "version": 3
   },
   "file_extension": ".py",
   "mimetype": "text/x-python",
   "name": "python",
   "nbconvert_exporter": "python",
   "pygments_lexer": "ipython3",
   "version": "3.8.8"
  }
 },
 "nbformat": 4,
 "nbformat_minor": 5
}
