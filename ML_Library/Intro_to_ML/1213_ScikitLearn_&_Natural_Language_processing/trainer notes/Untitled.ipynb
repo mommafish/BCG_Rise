{
 "cells": [
  {
   "cell_type": "code",
   "execution_count": 5,
   "id": "ef8cc3c1",
   "metadata": {},
   "outputs": [],
   "source": [
    "## euclidian\n",
    "## manhattan\n",
    "#hd= 7 \n",
    "s1 = \"eucian\"\n",
    "s2 = 'kishan'\n"
   ]
  },
  {
   "cell_type": "code",
   "execution_count": 6,
   "id": "ae3508a4",
   "metadata": {},
   "outputs": [],
   "source": [
    "from scipy.spatial import distance \n"
   ]
  },
  {
   "cell_type": "code",
   "execution_count": 7,
   "id": "1a824c71",
   "metadata": {},
   "outputs": [
    {
     "name": "stdout",
     "output_type": "stream",
     "text": [
      "4.0\n"
     ]
    }
   ],
   "source": [
    "\n",
    "hd = distance.hamming(list(s1), list(s2))* len(s1)\n",
    "print(hd)"
   ]
  },
  {
   "cell_type": "code",
   "execution_count": null,
   "id": "8bcb920a",
   "metadata": {},
   "outputs": [],
   "source": []
  },
  {
   "cell_type": "code",
   "execution_count": null,
   "id": "d34566e9",
   "metadata": {},
   "outputs": [],
   "source": []
  },
  {
   "cell_type": "code",
   "execution_count": null,
   "id": "2bf6fac2",
   "metadata": {},
   "outputs": [],
   "source": []
  },
  {
   "cell_type": "code",
   "execution_count": null,
   "id": "be23b8f7",
   "metadata": {},
   "outputs": [],
   "source": []
  }
 ],
 "metadata": {
  "kernelspec": {
   "display_name": "Python 3",
   "language": "python",
   "name": "python3"
  },
  "language_info": {
   "codemirror_mode": {
    "name": "ipython",
    "version": 3
   },
   "file_extension": ".py",
   "mimetype": "text/x-python",
   "name": "python",
   "nbconvert_exporter": "python",
   "pygments_lexer": "ipython3",
   "version": "3.8.8"
  }
 },
 "nbformat": 4,
 "nbformat_minor": 5
}
