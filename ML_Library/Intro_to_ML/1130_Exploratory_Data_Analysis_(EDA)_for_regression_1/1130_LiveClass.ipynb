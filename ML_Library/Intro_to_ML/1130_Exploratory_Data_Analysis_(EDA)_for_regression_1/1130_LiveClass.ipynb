{
 "cells": [
  {
   "cell_type": "markdown",
   "id": "e837d3f1",
   "metadata": {},
   "source": [
    "## EDA\n",
    "\n",
    "1. Understand Data\n",
    "\n",
    "- numeric \n",
    " - discrete (eg: no of students)\n",
    " - continous (eg: weight, height)\n",
    "\n",
    "- categorical\n",
    " - nominal\n",
    " - ranking\n",
    "\n",
    "2.read_csv >> summary\n",
    "- Shape (# Columns, # rows) eg: 1000 rows, 9 columns\n",
    "- Info \n",
    "  - data type of all 25 fields (numeric=int64, float64, char/string = object)\n",
    "  - breakdown: int64(5) float64(5) object(15)\n",
    "  - null value count for each field\n",
    "  \n",
    "3.describe()\n",
    "- Summary statistics of numerical fields by default\n",
    "- min max count mean std etc...\n",
    "\n",
    "4. Find Missing Value using isnull().sum()\n",
    "5. Number of unique values in the dataset = nunique()\n",
    "6. count() - count of values of all fields\n",
    "7. after finding missing values, replace with mean\n"
   ]
  },
  {
   "cell_type": "markdown",
   "id": "cca582f9",
   "metadata": {},
   "source": [
    "## Testing an example\n",
    "1. loan risk approval = classification\n",
    "2. titantic = classification\n",
    "3. HDB resale price = regression\n",
    "4. Loan amount = regression\n",
    "5. Student Performance = classification\n",
    "6. Student intake = classification\n",
    "7. What grade = if its in numbers then regression, if its in categories than its classification\n",
    "8. Can he placebale = classification"
   ]
  },
  {
   "cell_type": "code",
   "execution_count": 1,
   "id": "7c7743d7",
   "metadata": {},
   "outputs": [],
   "source": [
    "import pandas as pd\n",
    "import matplotlib.pyplot as plt\n",
    "import seaborn as sns"
   ]
  },
  {
   "cell_type": "code",
   "execution_count": 2,
   "id": "cd0ec5e6",
   "metadata": {},
   "outputs": [
    {
     "data": {
      "text/html": [
       "<div>\n",
       "<style scoped>\n",
       "    .dataframe tbody tr th:only-of-type {\n",
       "        vertical-align: middle;\n",
       "    }\n",
       "\n",
       "    .dataframe tbody tr th {\n",
       "        vertical-align: top;\n",
       "    }\n",
       "\n",
       "    .dataframe thead th {\n",
       "        text-align: right;\n",
       "    }\n",
       "</style>\n",
       "<table border=\"1\" class=\"dataframe\">\n",
       "  <thead>\n",
       "    <tr style=\"text-align: right;\">\n",
       "      <th></th>\n",
       "      <th>mpg</th>\n",
       "      <th>cylinders</th>\n",
       "      <th>displacement</th>\n",
       "      <th>horsepower</th>\n",
       "      <th>weight</th>\n",
       "      <th>acceleration</th>\n",
       "      <th>model year</th>\n",
       "      <th>origin</th>\n",
       "      <th>car name</th>\n",
       "    </tr>\n",
       "  </thead>\n",
       "  <tbody>\n",
       "    <tr>\n",
       "      <th>0</th>\n",
       "      <td>18.0</td>\n",
       "      <td>8</td>\n",
       "      <td>307.0</td>\n",
       "      <td>130</td>\n",
       "      <td>3504</td>\n",
       "      <td>12.0</td>\n",
       "      <td>70</td>\n",
       "      <td>1</td>\n",
       "      <td>chevrolet chevelle malibu</td>\n",
       "    </tr>\n",
       "    <tr>\n",
       "      <th>1</th>\n",
       "      <td>15.0</td>\n",
       "      <td>8</td>\n",
       "      <td>350.0</td>\n",
       "      <td>165</td>\n",
       "      <td>3693</td>\n",
       "      <td>11.5</td>\n",
       "      <td>70</td>\n",
       "      <td>1</td>\n",
       "      <td>buick skylark 320</td>\n",
       "    </tr>\n",
       "    <tr>\n",
       "      <th>2</th>\n",
       "      <td>18.0</td>\n",
       "      <td>8</td>\n",
       "      <td>318.0</td>\n",
       "      <td>150</td>\n",
       "      <td>3436</td>\n",
       "      <td>11.0</td>\n",
       "      <td>70</td>\n",
       "      <td>1</td>\n",
       "      <td>plymouth satellite</td>\n",
       "    </tr>\n",
       "    <tr>\n",
       "      <th>3</th>\n",
       "      <td>16.0</td>\n",
       "      <td>8</td>\n",
       "      <td>304.0</td>\n",
       "      <td>150</td>\n",
       "      <td>3433</td>\n",
       "      <td>12.0</td>\n",
       "      <td>70</td>\n",
       "      <td>1</td>\n",
       "      <td>amc rebel sst</td>\n",
       "    </tr>\n",
       "    <tr>\n",
       "      <th>4</th>\n",
       "      <td>17.0</td>\n",
       "      <td>8</td>\n",
       "      <td>302.0</td>\n",
       "      <td>140</td>\n",
       "      <td>3449</td>\n",
       "      <td>10.5</td>\n",
       "      <td>70</td>\n",
       "      <td>1</td>\n",
       "      <td>ford torino</td>\n",
       "    </tr>\n",
       "  </tbody>\n",
       "</table>\n",
       "</div>"
      ],
      "text/plain": [
       "    mpg  cylinders  displacement horsepower  weight  acceleration  model year  \\\n",
       "0  18.0          8         307.0        130    3504          12.0          70   \n",
       "1  15.0          8         350.0        165    3693          11.5          70   \n",
       "2  18.0          8         318.0        150    3436          11.0          70   \n",
       "3  16.0          8         304.0        150    3433          12.0          70   \n",
       "4  17.0          8         302.0        140    3449          10.5          70   \n",
       "\n",
       "   origin                   car name  \n",
       "0       1  chevrolet chevelle malibu  \n",
       "1       1          buick skylark 320  \n",
       "2       1         plymouth satellite  \n",
       "3       1              amc rebel sst  \n",
       "4       1                ford torino  "
      ]
     },
     "execution_count": 2,
     "metadata": {},
     "output_type": "execute_result"
    }
   ],
   "source": [
    "df = pd.read_csv(\"auto-mpg.csv\")\n",
    "df.head()"
   ]
  },
  {
   "cell_type": "code",
   "execution_count": 3,
   "id": "4aba121f",
   "metadata": {},
   "outputs": [
    {
     "data": {
      "text/plain": [
       "(398, 9)"
      ]
     },
     "execution_count": 3,
     "metadata": {},
     "output_type": "execute_result"
    }
   ],
   "source": [
    "df.shape"
   ]
  },
  {
   "cell_type": "code",
   "execution_count": 4,
   "id": "71e1dbfe",
   "metadata": {},
   "outputs": [
    {
     "name": "stdout",
     "output_type": "stream",
     "text": [
      "<class 'pandas.core.frame.DataFrame'>\n",
      "RangeIndex: 398 entries, 0 to 397\n",
      "Data columns (total 9 columns):\n",
      " #   Column        Non-Null Count  Dtype  \n",
      "---  ------        --------------  -----  \n",
      " 0   mpg           398 non-null    float64\n",
      " 1   cylinders     398 non-null    int64  \n",
      " 2   displacement  398 non-null    float64\n",
      " 3   horsepower    398 non-null    object \n",
      " 4   weight        398 non-null    int64  \n",
      " 5   acceleration  398 non-null    float64\n",
      " 6   model year    398 non-null    int64  \n",
      " 7   origin        398 non-null    int64  \n",
      " 8   car name      398 non-null    object \n",
      "dtypes: float64(3), int64(4), object(2)\n",
      "memory usage: 28.1+ KB\n"
     ]
    }
   ],
   "source": [
    "df.info()"
   ]
  },
  {
   "cell_type": "code",
   "execution_count": 5,
   "id": "f79b3584",
   "metadata": {},
   "outputs": [
    {
     "data": {
      "text/html": [
       "<div>\n",
       "<style scoped>\n",
       "    .dataframe tbody tr th:only-of-type {\n",
       "        vertical-align: middle;\n",
       "    }\n",
       "\n",
       "    .dataframe tbody tr th {\n",
       "        vertical-align: top;\n",
       "    }\n",
       "\n",
       "    .dataframe thead th {\n",
       "        text-align: right;\n",
       "    }\n",
       "</style>\n",
       "<table border=\"1\" class=\"dataframe\">\n",
       "  <thead>\n",
       "    <tr style=\"text-align: right;\">\n",
       "      <th></th>\n",
       "      <th>mpg</th>\n",
       "      <th>cylinders</th>\n",
       "      <th>displacement</th>\n",
       "      <th>weight</th>\n",
       "      <th>acceleration</th>\n",
       "      <th>model year</th>\n",
       "      <th>origin</th>\n",
       "    </tr>\n",
       "  </thead>\n",
       "  <tbody>\n",
       "    <tr>\n",
       "      <th>count</th>\n",
       "      <td>398.00</td>\n",
       "      <td>398.00</td>\n",
       "      <td>398.00</td>\n",
       "      <td>398.00</td>\n",
       "      <td>398.00</td>\n",
       "      <td>398.00</td>\n",
       "      <td>398.00</td>\n",
       "    </tr>\n",
       "    <tr>\n",
       "      <th>mean</th>\n",
       "      <td>23.51</td>\n",
       "      <td>5.45</td>\n",
       "      <td>193.43</td>\n",
       "      <td>2970.42</td>\n",
       "      <td>15.57</td>\n",
       "      <td>76.01</td>\n",
       "      <td>1.57</td>\n",
       "    </tr>\n",
       "    <tr>\n",
       "      <th>std</th>\n",
       "      <td>7.82</td>\n",
       "      <td>1.70</td>\n",
       "      <td>104.27</td>\n",
       "      <td>846.84</td>\n",
       "      <td>2.76</td>\n",
       "      <td>3.70</td>\n",
       "      <td>0.80</td>\n",
       "    </tr>\n",
       "    <tr>\n",
       "      <th>min</th>\n",
       "      <td>9.00</td>\n",
       "      <td>3.00</td>\n",
       "      <td>68.00</td>\n",
       "      <td>1613.00</td>\n",
       "      <td>8.00</td>\n",
       "      <td>70.00</td>\n",
       "      <td>1.00</td>\n",
       "    </tr>\n",
       "    <tr>\n",
       "      <th>25%</th>\n",
       "      <td>17.50</td>\n",
       "      <td>4.00</td>\n",
       "      <td>104.25</td>\n",
       "      <td>2223.75</td>\n",
       "      <td>13.82</td>\n",
       "      <td>73.00</td>\n",
       "      <td>1.00</td>\n",
       "    </tr>\n",
       "    <tr>\n",
       "      <th>50%</th>\n",
       "      <td>23.00</td>\n",
       "      <td>4.00</td>\n",
       "      <td>148.50</td>\n",
       "      <td>2803.50</td>\n",
       "      <td>15.50</td>\n",
       "      <td>76.00</td>\n",
       "      <td>1.00</td>\n",
       "    </tr>\n",
       "    <tr>\n",
       "      <th>75%</th>\n",
       "      <td>29.00</td>\n",
       "      <td>8.00</td>\n",
       "      <td>262.00</td>\n",
       "      <td>3608.00</td>\n",
       "      <td>17.18</td>\n",
       "      <td>79.00</td>\n",
       "      <td>2.00</td>\n",
       "    </tr>\n",
       "    <tr>\n",
       "      <th>max</th>\n",
       "      <td>46.60</td>\n",
       "      <td>8.00</td>\n",
       "      <td>455.00</td>\n",
       "      <td>5140.00</td>\n",
       "      <td>24.80</td>\n",
       "      <td>82.00</td>\n",
       "      <td>3.00</td>\n",
       "    </tr>\n",
       "  </tbody>\n",
       "</table>\n",
       "</div>"
      ],
      "text/plain": [
       "          mpg  cylinders  displacement   weight  acceleration  model year  \\\n",
       "count  398.00     398.00        398.00   398.00        398.00      398.00   \n",
       "mean    23.51       5.45        193.43  2970.42         15.57       76.01   \n",
       "std      7.82       1.70        104.27   846.84          2.76        3.70   \n",
       "min      9.00       3.00         68.00  1613.00          8.00       70.00   \n",
       "25%     17.50       4.00        104.25  2223.75         13.82       73.00   \n",
       "50%     23.00       4.00        148.50  2803.50         15.50       76.00   \n",
       "75%     29.00       8.00        262.00  3608.00         17.18       79.00   \n",
       "max     46.60       8.00        455.00  5140.00         24.80       82.00   \n",
       "\n",
       "       origin  \n",
       "count  398.00  \n",
       "mean     1.57  \n",
       "std      0.80  \n",
       "min      1.00  \n",
       "25%      1.00  \n",
       "50%      1.00  \n",
       "75%      2.00  \n",
       "max      3.00  "
      ]
     },
     "execution_count": 5,
     "metadata": {},
     "output_type": "execute_result"
    }
   ],
   "source": [
    "# Summary stats of all numeric fields by default\n",
    "\n",
    "# df.describe(include='object')\n",
    "# df.describe(include='all')\n",
    "\n",
    "df.describe().round(2) # only numerics"
   ]
  },
  {
   "cell_type": "code",
   "execution_count": 6,
   "id": "4a6c4646",
   "metadata": {},
   "outputs": [
    {
     "data": {
      "text/plain": [
       "mpg             0\n",
       "cylinders       0\n",
       "displacement    0\n",
       "horsepower      0\n",
       "weight          0\n",
       "acceleration    0\n",
       "model year      0\n",
       "origin          0\n",
       "car name        0\n",
       "dtype: int64"
      ]
     },
     "execution_count": 6,
     "metadata": {},
     "output_type": "execute_result"
    }
   ],
   "source": [
    "## as we found no missing info in .info()\n",
    "# We many find NAN (not a number or ?)\n",
    "\n",
    "## function to findout null values and sum the null values\n",
    "\n",
    "df.isnull().sum() ## summary of all fields with null values and (Sum the value if Null is TRUE)"
   ]
  },
  {
   "cell_type": "code",
   "execution_count": 7,
   "id": "e4744e5f",
   "metadata": {},
   "outputs": [
    {
     "data": {
      "text/plain": [
       "mpg             398\n",
       "cylinders       398\n",
       "displacement    398\n",
       "horsepower      398\n",
       "weight          398\n",
       "acceleration    398\n",
       "model year      398\n",
       "origin          398\n",
       "car name        398\n",
       "dtype: int64"
      ]
     },
     "execution_count": 7,
     "metadata": {},
     "output_type": "execute_result"
    }
   ],
   "source": [
    "df.count() # to count the number of rows we have"
   ]
  },
  {
   "cell_type": "code",
   "execution_count": 8,
   "id": "f162a105",
   "metadata": {},
   "outputs": [
    {
     "data": {
      "text/html": [
       "<div>\n",
       "<style scoped>\n",
       "    .dataframe tbody tr th:only-of-type {\n",
       "        vertical-align: middle;\n",
       "    }\n",
       "\n",
       "    .dataframe tbody tr th {\n",
       "        vertical-align: top;\n",
       "    }\n",
       "\n",
       "    .dataframe thead th {\n",
       "        text-align: right;\n",
       "    }\n",
       "</style>\n",
       "<table border=\"1\" class=\"dataframe\">\n",
       "  <thead>\n",
       "    <tr style=\"text-align: right;\">\n",
       "      <th></th>\n",
       "      <th>mpg</th>\n",
       "      <th>cylinders</th>\n",
       "      <th>displacement</th>\n",
       "      <th>weight</th>\n",
       "      <th>acceleration</th>\n",
       "      <th>model year</th>\n",
       "      <th>origin</th>\n",
       "    </tr>\n",
       "    <tr>\n",
       "      <th>horsepower</th>\n",
       "      <th></th>\n",
       "      <th></th>\n",
       "      <th></th>\n",
       "      <th></th>\n",
       "      <th></th>\n",
       "      <th></th>\n",
       "      <th></th>\n",
       "    </tr>\n",
       "  </thead>\n",
       "  <tbody>\n",
       "    <tr>\n",
       "      <th>100</th>\n",
       "      <td>19.59</td>\n",
       "      <td>5.71</td>\n",
       "      <td>219.47</td>\n",
       "      <td>3144.47</td>\n",
       "      <td>15.84</td>\n",
       "      <td>74.59</td>\n",
       "      <td>1.24</td>\n",
       "    </tr>\n",
       "    <tr>\n",
       "      <th>102</th>\n",
       "      <td>20.00</td>\n",
       "      <td>4.00</td>\n",
       "      <td>130.00</td>\n",
       "      <td>3150.00</td>\n",
       "      <td>15.70</td>\n",
       "      <td>76.00</td>\n",
       "      <td>2.00</td>\n",
       "    </tr>\n",
       "    <tr>\n",
       "      <th>103</th>\n",
       "      <td>20.30</td>\n",
       "      <td>5.00</td>\n",
       "      <td>131.00</td>\n",
       "      <td>2830.00</td>\n",
       "      <td>15.90</td>\n",
       "      <td>78.00</td>\n",
       "      <td>2.00</td>\n",
       "    </tr>\n",
       "    <tr>\n",
       "      <th>105</th>\n",
       "      <td>20.50</td>\n",
       "      <td>5.83</td>\n",
       "      <td>231.67</td>\n",
       "      <td>3374.33</td>\n",
       "      <td>16.62</td>\n",
       "      <td>76.33</td>\n",
       "      <td>1.00</td>\n",
       "    </tr>\n",
       "    <tr>\n",
       "      <th>107</th>\n",
       "      <td>21.00</td>\n",
       "      <td>6.00</td>\n",
       "      <td>155.00</td>\n",
       "      <td>2472.00</td>\n",
       "      <td>14.00</td>\n",
       "      <td>73.00</td>\n",
       "      <td>1.00</td>\n",
       "    </tr>\n",
       "  </tbody>\n",
       "</table>\n",
       "</div>"
      ],
      "text/plain": [
       "              mpg  cylinders  displacement   weight  acceleration  model year  \\\n",
       "horsepower                                                                      \n",
       "100         19.59       5.71        219.47  3144.47         15.84       74.59   \n",
       "102         20.00       4.00        130.00  3150.00         15.70       76.00   \n",
       "103         20.30       5.00        131.00  2830.00         15.90       78.00   \n",
       "105         20.50       5.83        231.67  3374.33         16.62       76.33   \n",
       "107         21.00       6.00        155.00  2472.00         14.00       73.00   \n",
       "\n",
       "            origin  \n",
       "horsepower          \n",
       "100           1.24  \n",
       "102           2.00  \n",
       "103           2.00  \n",
       "105           1.00  \n",
       "107           1.00  "
      ]
     },
     "execution_count": 8,
     "metadata": {},
     "output_type": "execute_result"
    }
   ],
   "source": [
    "df.groupby('horsepower').mean().round(2).head()"
   ]
  },
  {
   "cell_type": "code",
   "execution_count": 9,
   "id": "781829ea",
   "metadata": {},
   "outputs": [
    {
     "name": "stdout",
     "output_type": "stream",
     "text": [
      "<class 'pandas.core.frame.DataFrame'>\n",
      "RangeIndex: 398 entries, 0 to 397\n",
      "Data columns (total 9 columns):\n",
      " #   Column        Non-Null Count  Dtype  \n",
      "---  ------        --------------  -----  \n",
      " 0   mpg           398 non-null    float64\n",
      " 1   cylinders     398 non-null    int64  \n",
      " 2   displacement  398 non-null    float64\n",
      " 3   horsepower    398 non-null    float64\n",
      " 4   weight        398 non-null    int64  \n",
      " 5   acceleration  398 non-null    float64\n",
      " 6   model year    398 non-null    int64  \n",
      " 7   origin        398 non-null    int64  \n",
      " 8   car name      398 non-null    object \n",
      "dtypes: float64(4), int64(4), object(1)\n",
      "memory usage: 28.1+ KB\n"
     ]
    },
    {
     "name": "stderr",
     "output_type": "stream",
     "text": [
      "C:\\Users\\pwy_9\\AppData\\Local\\Temp/ipykernel_8180/3496305967.py:1: FutureWarning: The default value of regex will change from True to False in a future version. In addition, single character regular expressions will*not* be treated as literal strings when regex=True.\n",
      "  df.horsepower = df.horsepower.str.replace('?','Nan').astype(float)\n"
     ]
    }
   ],
   "source": [
    "df.horsepower = df.horsepower.str.replace('?','Nan').astype(float)\n",
    "\n",
    "# Missing value handing and fill with the mean\n",
    "df.horsepower.fillna(df.horsepower.mean(),inplace = True)\n",
    "\n",
    "df.info()"
   ]
  },
  {
   "cell_type": "code",
   "execution_count": 13,
   "id": "60e72136",
   "metadata": {},
   "outputs": [
    {
     "data": {
      "text/plain": [
       "<seaborn.axisgrid.FacetGrid at 0x1d565f60910>"
      ]
     },
     "execution_count": 13,
     "metadata": {},
     "output_type": "execute_result"
    },
    {
     "data": {
      "image/png": "[encoded data removed]",
      "text/plain": [
       "<Figure size 360x360 with 1 Axes>"
      ]
     },
     "metadata": {
      "needs_background": "light"
     },
     "output_type": "display_data"
    }
   ],
   "source": [
    "sns.displot(df.mpg)"
   ]
  },
  {
   "cell_type": "code",
   "execution_count": 16,
   "id": "f1a610b4",
   "metadata": {},
   "outputs": [
    {
     "data": {
      "text/plain": [
       "<AxesSubplot:xlabel='cylinders', ylabel='Count'>"
      ]
     },
     "execution_count": 16,
     "metadata": {},
     "output_type": "execute_result"
    },
    {
     "data": {
      "image/png": "[encoded data removed]",
      "text/plain": [
       "<Figure size 432x288 with 1 Axes>"
      ]
     },
     "metadata": {
      "needs_background": "light"
     },
     "output_type": "display_data"
    }
   ],
   "source": [
    "sns.histplot(df.cylinders)\n",
    "## observation no cars with 7 cylinders\n",
    "## more cars with 4 cylinders"
   ]
  },
  {
   "cell_type": "code",
   "execution_count": 35,
   "id": "bd2c1e4a",
   "metadata": {},
   "outputs": [
    {
     "data": {
      "text/plain": [
       "<seaborn.axisgrid.FacetGrid at 0x1d566765e20>"
      ]
     },
     "execution_count": 35,
     "metadata": {},
     "output_type": "execute_result"
    },
    {
     "data": {
      "image/png": "[encoded data removed]",
      "text/plain": [
       "<Figure size 360x360 with 1 Axes>"
      ]
     },
     "metadata": {
      "needs_background": "light"
     },
     "output_type": "display_data"
    }
   ],
   "source": [
    "## explore range-- distribution\n",
    "# sns.boxplot(df.cylinders)\n",
    "sns.displot(df.cylinders)"
   ]
  },
  {
   "cell_type": "code",
   "execution_count": 36,
   "id": "adefb1e2",
   "metadata": {},
   "outputs": [
    {
     "data": {
      "image/png": "[encoded data removed]",
      "text/plain": [
       "<Figure size 1080x936 with 12 Axes>"
      ]
     },
     "metadata": {
      "needs_background": "light"
     },
     "output_type": "display_data"
    }
   ],
   "source": [
    "## all fields with two plot ( box, histplot) in same axis\n",
    "fig, ax = plt.subplots(6,2, figsize = (15,13))\n",
    "sns.boxplot(x = df[\"cylinders\"], ax = ax[0,0])\n",
    "sns.histplot(df['cylinders'], ax = ax[0,1])\n",
    "sns.boxplot(x = df[\"mpg\"], ax = ax[1,0])\n",
    "sns.histplot(df['mpg'], ax = ax[1,1])\n",
    "sns.boxplot(x = df[\"displacement\"], ax = ax[2,0])\n",
    "sns.histplot(df['displacement'], ax = ax[2,1])\n",
    "sns.boxplot(x = df[\"horsepower\"], ax = ax[3,0])\n",
    "sns.histplot(df['horsepower'], ax = ax[3,1])\n",
    "sns.boxplot(x = df[\"weight\"], ax = ax[4,0])\n",
    "sns.histplot(df['weight'], ax = ax[4,1])\n",
    "sns.boxplot(x = df[\"acceleration\"], ax = ax[5,0])\n",
    "sns.histplot(df['acceleration'], ax = ax[5,1])\n",
    "plt.tight_layout()"
   ]
  },
  {
   "cell_type": "code",
   "execution_count": 38,
   "id": "25db567d",
   "metadata": {},
   "outputs": [
    {
     "data": {
      "text/plain": [
       "Text(0.5, 1.0, 'weight')"
      ]
     },
     "execution_count": 38,
     "metadata": {},
     "output_type": "execute_result"
    },
    {
     "data": {
      "image/png": "[encoded data removed]",
      "text/plain": [
       "<Figure size 1080x936 with 6 Axes>"
      ]
     },
     "metadata": {
      "needs_background": "light"
     },
     "output_type": "display_data"
    }
   ],
   "source": [
    "### visualization \n",
    "    \n",
    "#Bivariate \n",
    " ## MPG is common field for comparision realtion ship with another columns cylinder,hp, displacemnet, accelaration , weight \n",
    "## all fields with two plot ( box, histplot) in same axis\n",
    "fig, axarr = plt.subplots(3,2, figsize = (15,13))\n",
    "mpgval = df.mpg.values \n",
    "##mpgval vs cylinder\n",
    "axarr[0,0].scatter(df.cylinders.values, mpgval)\n",
    "axarr[0,0].set_title(\"Cylinders\")\n",
    "##mpgval vs hp\n",
    "axarr[0,1].scatter(df.horsepower.values, mpgval)\n",
    "axarr[0,1].set_title(\"horsepower\")\n",
    "##mpgval vs wieght\n",
    "axarr[1,0].scatter(df.acceleration.values, mpgval)\n",
    "axarr[1,0].set_title(\"acceleration\")\n",
    "##mpgval vs displacement\n",
    "axarr[1,1].scatter(df.displacement.values, mpgval)\n",
    "axarr[1,1].set_title(\"displacement\")\n",
    "##mpgval vs displacement\n",
    "axarr[2,0].scatter(df.weight.values, mpgval)\n",
    "axarr[2,0].set_title(\"weight\")"
   ]
  },
  {
   "cell_type": "code",
   "execution_count": null,
   "id": "60f2b883",
   "metadata": {},
   "outputs": [],
   "source": []
  }
 ],
 "metadata": {
  "kernelspec": {
   "display_name": "Python 3",
   "language": "python",
   "name": "python3"
  },
  "language_info": {
   "codemirror_mode": {
    "name": "ipython",
    "version": 3
   },
   "file_extension": ".py",
   "mimetype": "text/x-python",
   "name": "python",
   "nbconvert_exporter": "python",
   "pygments_lexer": "ipython3",
   "version": "3.8.8"
  }
 },
 "nbformat": 4,
 "nbformat_minor": 5
}
