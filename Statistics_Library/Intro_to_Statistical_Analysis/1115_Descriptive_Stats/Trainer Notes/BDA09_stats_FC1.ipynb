{
 "cells": [
  {
   "cell_type": "markdown",
   "id": "fd822e35",
   "metadata": {},
   "source": [
    "What is Statistics \n",
    "science of collecting , organizing, interpting, analysing , present data \n",
    "for specific problem statement to \n",
    "\n",
    "why \n",
    "help in making effective decision making\n",
    "\n",
    "##Types of statistics \n",
    "Descriptive statistics\n",
    "1. All stats( basic summary features ) about the data  -  min , max, mean, meadian \n",
    "2. cannot use thise for decision \n",
    "\n",
    "Inferential \n",
    "1. from sample( ) \n",
    "2. decision making about population ( )\n",
    "\n",
    "Predictive \n",
    "1. what will happend in future\n",
    "\n",
    "Prescriptive \n",
    "1. recommend what can be done \n",
    "\n"
   ]
  },
  {
   "cell_type": "markdown",
   "id": "7fd5dfb5",
   "metadata": {},
   "source": [
    "# Descriptive statistics\n",
    "\n",
    "\n",
    "## understand data( dataset ) \n",
    "\n",
    "\n",
    "types of data\n",
    "Quantitative  :  numerical , measurable \n",
    "eg: 1. how many pax , how many admin , how many using handphone, how many idle , height of pax,  \n",
    "\n",
    "\n",
    "two types \n",
    "1. Discrete - fixed number  eg:  how many pax 60, \n",
    "2. Continuous - measured in scale / incremental / range eg: height of pax, rainfall \n",
    "\n",
    "\n",
    "Qualitative : categorical data, \n",
    "\n",
    "two types\n",
    " \n",
    "1. Ordinal :ranking/ order /sequence  shirt size( s,m,l,xl,xxl) , service rating, feedback( , grades \n",
    "2. Nominal : Labels, no order, wg: gender, race , marital status, colors, car model names\n",
    "      \n",
    "      \n",
    "      \n",
    "      \n",
    "      \n",
    " \n",
    "\n",
    "# Descriptive statistics \n",
    "\n",
    "Quantitative approach \n",
    "1. Summary of fields/columns/variable \n",
    "    1.1 one Variable - > Univariate analysis \n",
    "    1.2 two Variable - > Bivariate analysis\n",
    "    1.3 three Variable - > Multivariate analysis\n",
    "    \n",
    "2.Types/ways  - three types \n",
    "    \n",
    "    2.1 Central Tendency \n",
    "        2.1.1 Mean, Median, Mode max, min etc \n",
    "        2.1.2 Python functions \n",
    "   \n",
    "    2.2 Variablity/ Spread \n",
    "        2.2.1 Variance \n",
    "        2.2.2 Standard deviation \n",
    "        \n",
    "    2.3 Correlation \n",
    "        2.3.1 between variables \n",
    "\n",
    "Visualise Approach \n",
    "1. Histogram \n",
    "2. scatter plot\n",
    "3. Box Plot "
   ]
  },
  {
   "cell_type": "code",
   "execution_count": 50,
   "id": "25867b87",
   "metadata": {},
   "outputs": [],
   "source": [
    "# pandas \n",
    "\n",
    "import pandas as pd \n",
    "df = pd.DataFrame({'November': [1,2,3,4,5,6,7,8,9,10,11,12,13,14], \n",
    "                    'C19cases':[2470,3496,3635,3003,1767,3035,2553,2470,3397,3481, 2396,3099,2304, 1723 ]})"
   ]
  },
  {
   "cell_type": "code",
   "execution_count": 51,
   "id": "5d6979bd",
   "metadata": {},
   "outputs": [
    {
     "data": {
      "text/html": [
       "<div>\n",
       "<style scoped>\n",
       "    .dataframe tbody tr th:only-of-type {\n",
       "        vertical-align: middle;\n",
       "    }\n",
       "\n",
       "    .dataframe tbody tr th {\n",
       "        vertical-align: top;\n",
       "    }\n",
       "\n",
       "    .dataframe thead th {\n",
       "        text-align: right;\n",
       "    }\n",
       "</style>\n",
       "<table border=\"1\" class=\"dataframe\">\n",
       "  <thead>\n",
       "    <tr style=\"text-align: right;\">\n",
       "      <th></th>\n",
       "      <th>November</th>\n",
       "      <th>C19cases</th>\n",
       "    </tr>\n",
       "  </thead>\n",
       "  <tbody>\n",
       "    <tr>\n",
       "      <th>0</th>\n",
       "      <td>1</td>\n",
       "      <td>2470</td>\n",
       "    </tr>\n",
       "    <tr>\n",
       "      <th>1</th>\n",
       "      <td>2</td>\n",
       "      <td>3496</td>\n",
       "    </tr>\n",
       "    <tr>\n",
       "      <th>2</th>\n",
       "      <td>3</td>\n",
       "      <td>3635</td>\n",
       "    </tr>\n",
       "    <tr>\n",
       "      <th>3</th>\n",
       "      <td>4</td>\n",
       "      <td>3003</td>\n",
       "    </tr>\n",
       "    <tr>\n",
       "      <th>4</th>\n",
       "      <td>5</td>\n",
       "      <td>1767</td>\n",
       "    </tr>\n",
       "    <tr>\n",
       "      <th>5</th>\n",
       "      <td>6</td>\n",
       "      <td>3035</td>\n",
       "    </tr>\n",
       "    <tr>\n",
       "      <th>6</th>\n",
       "      <td>7</td>\n",
       "      <td>2553</td>\n",
       "    </tr>\n",
       "    <tr>\n",
       "      <th>7</th>\n",
       "      <td>8</td>\n",
       "      <td>2470</td>\n",
       "    </tr>\n",
       "    <tr>\n",
       "      <th>8</th>\n",
       "      <td>9</td>\n",
       "      <td>3397</td>\n",
       "    </tr>\n",
       "    <tr>\n",
       "      <th>9</th>\n",
       "      <td>10</td>\n",
       "      <td>3481</td>\n",
       "    </tr>\n",
       "    <tr>\n",
       "      <th>10</th>\n",
       "      <td>11</td>\n",
       "      <td>2396</td>\n",
       "    </tr>\n",
       "    <tr>\n",
       "      <th>11</th>\n",
       "      <td>12</td>\n",
       "      <td>3099</td>\n",
       "    </tr>\n",
       "    <tr>\n",
       "      <th>12</th>\n",
       "      <td>13</td>\n",
       "      <td>2304</td>\n",
       "    </tr>\n",
       "    <tr>\n",
       "      <th>13</th>\n",
       "      <td>14</td>\n",
       "      <td>1723</td>\n",
       "    </tr>\n",
       "  </tbody>\n",
       "</table>\n",
       "</div>"
      ],
      "text/plain": [
       "    November  C19cases\n",
       "0          1      2470\n",
       "1          2      3496\n",
       "2          3      3635\n",
       "3          4      3003\n",
       "4          5      1767\n",
       "5          6      3035\n",
       "6          7      2553\n",
       "7          8      2470\n",
       "8          9      3397\n",
       "9         10      3481\n",
       "10        11      2396\n",
       "11        12      3099\n",
       "12        13      2304\n",
       "13        14      1723"
      ]
     },
     "execution_count": 51,
     "metadata": {},
     "output_type": "execute_result"
    }
   ],
   "source": [
    "df"
   ]
  },
  {
   "cell_type": "code",
   "execution_count": 15,
   "id": "19882fa5",
   "metadata": {},
   "outputs": [
    {
     "data": {
      "text/plain": [
       "0     2470\n",
       "1     3496\n",
       "2     3635\n",
       "3     3003\n",
       "4     1767\n",
       "5     3035\n",
       "6     2553\n",
       "7     2470\n",
       "8     3397\n",
       "9     3481\n",
       "10    2396\n",
       "11    3099\n",
       "12    2304\n",
       "13    1723\n",
       "Name: C19cases, dtype: int64"
      ]
     },
     "execution_count": 15,
     "metadata": {},
     "output_type": "execute_result"
    }
   ],
   "source": [
    "df.C19cases"
   ]
  },
  {
   "cell_type": "code",
   "execution_count": 5,
   "id": "602e23f2",
   "metadata": {},
   "outputs": [
    {
     "data": {
      "text/plain": [
       "0     2470\n",
       "1     3496\n",
       "2     3635\n",
       "3     3003\n",
       "4     1767\n",
       "5     3035\n",
       "6     2553\n",
       "7     2470\n",
       "8     3397\n",
       "9     3481\n",
       "10    2396\n",
       "11    3099\n",
       "12    2304\n",
       "13    1723\n",
       "Name: C19cases, dtype: int64"
      ]
     },
     "execution_count": 5,
     "metadata": {},
     "output_type": "execute_result"
    }
   ],
   "source": [
    "df['C19cases']"
   ]
  },
  {
   "cell_type": "code",
   "execution_count": 52,
   "id": "d526c1cb",
   "metadata": {},
   "outputs": [
    {
     "data": {
      "text/plain": [
       "2773.5"
      ]
     },
     "execution_count": 52,
     "metadata": {},
     "output_type": "execute_result"
    }
   ],
   "source": [
    "## mean. - average \n",
    "## sum of all my numbers / no of entries \n",
    "df['C19cases'].mean()\n",
    "\n",
    "## on average daily cases 2773.5"
   ]
  },
  {
   "cell_type": "code",
   "execution_count": 53,
   "id": "2ee16651",
   "metadata": {},
   "outputs": [
    {
     "data": {
      "text/plain": [
       "2778.0"
      ]
     },
     "execution_count": 53,
     "metadata": {},
     "output_type": "execute_result"
    }
   ],
   "source": [
    "### middle number \n",
    "#### has to be increasoing / sorted order \n",
    "\n",
    "## if there 2  middle numbers , its average of 2 middle numbers  \n",
    "df['C19cases'].median()"
   ]
  },
  {
   "cell_type": "code",
   "execution_count": 18,
   "id": "430d88a9",
   "metadata": {},
   "outputs": [
    {
     "data": {
      "text/plain": [
       "0    2470\n",
       "dtype: int64"
      ]
     },
     "execution_count": 18,
     "metadata": {},
     "output_type": "execute_result"
    }
   ],
   "source": [
    "## common occurences of same number \n",
    "df['C19cases'].mode()"
   ]
  },
  {
   "cell_type": "code",
   "execution_count": 21,
   "id": "43f18250",
   "metadata": {},
   "outputs": [
    {
     "data": {
      "text/plain": [
       "1723"
      ]
     },
     "execution_count": 21,
     "metadata": {},
     "output_type": "execute_result"
    }
   ],
   "source": [
    "## mminimu number\n",
    "##lowest day for cases \n",
    "df['C19cases'].min()"
   ]
  },
  {
   "cell_type": "code",
   "execution_count": 20,
   "id": "9b02a005",
   "metadata": {},
   "outputs": [
    {
     "data": {
      "text/plain": [
       "3635"
      ]
     },
     "execution_count": 20,
     "metadata": {},
     "output_type": "execute_result"
    }
   ],
   "source": [
    "## max number \n",
    "### which day was the highest in covid cases \n",
    "df['C19cases'].max()"
   ]
  },
  {
   "cell_type": "code",
   "execution_count": 54,
   "id": "2d5582d9",
   "metadata": {},
   "outputs": [
    {
     "name": "stdout",
     "output_type": "stream",
     "text": [
      "Mean :  2773.5\n",
      "Median :  2778.0\n",
      "Mode:  2470\n",
      "Min :  1723\n",
      "Max :  3635\n"
     ]
    }
   ],
   "source": [
    "print('Mean : ',df['C19cases'].mean())\n",
    "print('Median : ',df['C19cases'].median())\n",
    "print('Mode: ',df['C19cases'].mode()[0])\n",
    "print('Min : ',df['C19cases'].min())\n",
    "print('Max : ',df['C19cases'].max())\n"
   ]
  },
  {
   "cell_type": "code",
   "execution_count": 27,
   "id": "56feaaee",
   "metadata": {},
   "outputs": [],
   "source": [
    "## data distributed min 1723, max 3635 with avg of 2773\n"
   ]
  },
  {
   "cell_type": "code",
   "execution_count": 55,
   "id": "64840afc",
   "metadata": {},
   "outputs": [
    {
     "name": "stdout",
     "output_type": "stream",
     "text": [
      "391759.5\n"
     ]
    }
   ],
   "source": [
    "####spread of the data \n",
    "## variance \n",
    "#####how  each day numbers is far from the mean/ average , \n",
    "#####difference between each datapoint to the mean of the sample \n",
    "## population is 600 days \n",
    "## sample 14 days \n",
    "\n",
    "# pandas \n",
    " ####{'November': [1,2,3,4,5,6,7,8,9,10,11,12,13,14],\n",
    "###'C19cases':[2470,3496,3635,3003,1767,3035,2553,2470,3397,3481, 2396,3099,2304, 1723 ]})\n",
    "\n",
    "### mean  = 2773.5\n",
    "\n",
    "## variance \n",
    "###1. mean \n",
    "##2. sum of squares of the difference between datapoint and the mean of the sample / n -1 \n",
    "\n",
    "\n",
    "### (2470 - 2773.5) (3496-2773.5) (3635-2773.5).................\n",
    "\n",
    "### S^2 = \\frac{\\sum (x_i - \\bar{x})^2}{n - 1}\n",
    "### S^2\t=\tsample variance\n",
    "### x_i\t=\tthe value of the one observation\n",
    "###\\bar{x}\t=\tthe mean value of all observations\n",
    "### n\t=\tthe number of observations\n",
    "\n",
    "\n",
    "\n",
    "print(df['C19cases'].var())"
   ]
  },
  {
   "cell_type": "code",
   "execution_count": 64,
   "id": "af31b882",
   "metadata": {},
   "outputs": [],
   "source": [
    "# pandas \n",
    "\n",
    "import pandas as pd \n",
    "df2 = pd.DataFrame({'October': [1,2,3,4,5,6,7,8,9,10,11,12,13,14], \n",
    "                    'C19cases2':[1470,1420,1635,1003,1477,1835,2553,2470,2397,3471, 2796,2399,2314, 1783 ]})"
   ]
  },
  {
   "cell_type": "code",
   "execution_count": 66,
   "id": "d0bf5590",
   "metadata": {},
   "outputs": [
    {
     "name": "stdout",
     "output_type": "stream",
     "text": [
      "Mean2 :  2073.0714285714284\n",
      "Median2 :  2074.5\n",
      "Mode2:  1003\n",
      "Min2 :  1003\n",
      "Max2 :  3471\n"
     ]
    }
   ],
   "source": [
    "print('Mean2 : ',df2['C19cases2'].mean())\n",
    "print('Median2 : ',df2['C19cases2'].median())\n",
    "print('Mode2: ',df2['C19cases2'].mode()[0])\n",
    "print('Min2 : ',df2['C19cases2'].min())\n",
    "print('Max2 : ',df2['C19cases2'].max())\n",
    "\n"
   ]
  },
  {
   "cell_type": "code",
   "execution_count": 58,
   "id": "34d6e500",
   "metadata": {},
   "outputs": [
    {
     "name": "stdout",
     "output_type": "stream",
     "text": [
      "442861.3021978022\n"
     ]
    }
   ],
   "source": [
    "print(df2['C19cases2'].var())"
   ]
  },
  {
   "cell_type": "code",
   "execution_count": 62,
   "id": "e96f014c",
   "metadata": {},
   "outputs": [
    {
     "name": "stdout",
     "output_type": "stream",
     "text": [
      "625.9069419650177\n"
     ]
    }
   ],
   "source": [
    "\n",
    "## standard deviation \n",
    "## square root of the variance is SD\n",
    "## November SD\n",
    "print(df['C19cases'].std())\n"
   ]
  },
  {
   "cell_type": "code",
   "execution_count": 63,
   "id": "89256d20",
   "metadata": {},
   "outputs": [
    {
     "name": "stdout",
     "output_type": "stream",
     "text": [
      "665.4782507323603\n"
     ]
    }
   ],
   "source": [
    "## october SD \n",
    "print(df2['C19cases2'].std())"
   ]
  },
  {
   "cell_type": "code",
   "execution_count": null,
   "id": "67b566c3",
   "metadata": {},
   "outputs": [],
   "source": [
    "### eg 1: SD of 665 of October cases \n",
    "#         SD of 625 of November cases \n",
    "\n",
    "# lesser the better \n",
    "#### the less means , November   worse than  October \n",
    "\n",
    "\n",
    "\n",
    "## on avg nov : 2773.5\n",
    "## on avg oct : 2073\n",
    "\n",
    "\n",
    "##nov is worse than OCt "
   ]
  },
  {
   "cell_type": "code",
   "execution_count": 67,
   "id": "8ac85abf",
   "metadata": {},
   "outputs": [],
   "source": [
    "## eg2 : SD 12.3 for delivery agent 1 \n",
    "###      SD 13.5 for delviery agent 2 \n",
    "## lesser the better \n",
    "## companmy can select the delivery agent 1 for his consistent in delviering "
   ]
  },
  {
   "cell_type": "code",
   "execution_count": 77,
   "id": "a8552d25",
   "metadata": {},
   "outputs": [
    {
     "data": {
      "image/png": "[encoded data removed]",
      "text/plain": [
       "<Figure size 432x288 with 1 Axes>"
      ]
     },
     "metadata": {
      "needs_background": "light"
     },
     "output_type": "display_data"
    }
   ],
   "source": [
    "### visualize approach \n",
    "\n",
    "# pandas \n",
    "\n",
    "import matplotlib.pyplot as plt \n",
    "import pandas as pd \n",
    "\n",
    "df = pd.DataFrame({'November': [1,2,3,4,5,6,7,8,9,10,11,12,13,14], \n",
    "                    'C19cases':[2470,3496,3635,3003,1767,3035,2553,2470,3397,3481, 2396,3099,2304, 1723 ]})\n",
    "\n",
    "\n",
    "\n",
    "## histogram \n",
    "\n",
    "## frequency of numerical data \n",
    "##number of observations \n",
    "c19 =  df['C19cases']\n",
    "c19.plot.hist(title = 'Histogram distribution',bins = 25)\n",
    "plt.axvline(c19.mean(), color = 'magenta')\n",
    "plt.axvline(c19.median(), color = 'green')\n",
    "plt.show()"
   ]
  },
  {
   "cell_type": "code",
   "execution_count": 78,
   "id": "b643407c",
   "metadata": {},
   "outputs": [],
   "source": [
    "import pandas as pd \n",
    "df2 = pd.DataFrame({'October': [1,2,3,4,5,6,7,8,9,10,11,12,13,14], \n",
    "                    'C19cases2':[1470,1420,1635,1003,1477,1835,2553,2470,2397,3471, 2796,2399,2314, 1783 ]})"
   ]
  },
  {
   "cell_type": "code",
   "execution_count": 82,
   "id": "9248edc9",
   "metadata": {},
   "outputs": [
    {
     "data": {
      "image/png": "[encoded data removed]",
      "text/plain": [
       "<Figure size 432x288 with 1 Axes>"
      ]
     },
     "metadata": {
      "needs_background": "light"
     },
     "output_type": "display_data"
    }
   ],
   "source": [
    "## frequency of numerical data \n",
    "##number of observations \n",
    "c192 =  df2['C19cases2']\n",
    "c192.plot.hist(title = 'Histogram distribution',bins = 25)\n",
    "plt.axvline(c192.mean(), color = 'magenta')\n",
    "plt.axvline(c192.median(), color = 'green')\n",
    "plt.show()"
   ]
  },
  {
   "cell_type": "code",
   "execution_count": null,
   "id": "4fdd140a",
   "metadata": {},
   "outputs": [],
   "source": []
  },
  {
   "cell_type": "code",
   "execution_count": null,
   "id": "61300e0a",
   "metadata": {},
   "outputs": [],
   "source": [
    "## IQR \n",
    "# inter quartile range \n",
    "### Q1 = 25TH percentile\n",
    "#### q3 = 75th \n",
    "##q2 == 50% \n"
   ]
  },
  {
   "cell_type": "markdown",
   "id": "3802f5f4",
   "metadata": {},
   "source": [
    "## shape \n",
    "### 1. Skewness : measure of symmetry ( left or right )\n",
    "\n",
    "\n",
    "\n",
    "## 1. Skewness\n",
    "###  1.1 Positive / right skewed \n",
    "Skewness \n",
    "Positive Skewness / Right  : Mean > Median > Mode\n",
    "plotting on the left , tail on the right \n",
    "\n",
    "### 1.2 Negative / Left skewed \n",
    "\n",
    "negative Skewness / Left  : Mode > Median > Mean\n",
    "plotting on the right , tail on the left "
   ]
  },
  {
   "cell_type": "markdown",
   "id": "6f7c346f",
   "metadata": {},
   "source": [
    "### 2. Kurtosis : measure of peakness/ sharpness  in my plot \n",
    "\n",
    "\n",
    "1. mesokurtic :  flat tail than the normal distribution and sligghlty lower peak\n",
    "2. leptokurtic : highly thick tail , and very thin and tallest peak \n",
    "3. platy - slender tail \n"
   ]
  },
  {
   "cell_type": "code",
   "execution_count": 83,
   "id": "79d2701e",
   "metadata": {},
   "outputs": [
    {
     "data": {
      "text/html": [
       "<div>\n",
       "<style scoped>\n",
       "    .dataframe tbody tr th:only-of-type {\n",
       "        vertical-align: middle;\n",
       "    }\n",
       "\n",
       "    .dataframe tbody tr th {\n",
       "        vertical-align: top;\n",
       "    }\n",
       "\n",
       "    .dataframe thead th {\n",
       "        text-align: right;\n",
       "    }\n",
       "</style>\n",
       "<table border=\"1\" class=\"dataframe\">\n",
       "  <thead>\n",
       "    <tr style=\"text-align: right;\">\n",
       "      <th></th>\n",
       "      <th>November</th>\n",
       "      <th>C19cases</th>\n",
       "    </tr>\n",
       "  </thead>\n",
       "  <tbody>\n",
       "    <tr>\n",
       "      <th>count</th>\n",
       "      <td>14.0000</td>\n",
       "      <td>14.000000</td>\n",
       "    </tr>\n",
       "    <tr>\n",
       "      <th>mean</th>\n",
       "      <td>7.5000</td>\n",
       "      <td>2773.500000</td>\n",
       "    </tr>\n",
       "    <tr>\n",
       "      <th>std</th>\n",
       "      <td>4.1833</td>\n",
       "      <td>625.906942</td>\n",
       "    </tr>\n",
       "    <tr>\n",
       "      <th>min</th>\n",
       "      <td>1.0000</td>\n",
       "      <td>1723.000000</td>\n",
       "    </tr>\n",
       "    <tr>\n",
       "      <th>25%</th>\n",
       "      <td>4.2500</td>\n",
       "      <td>2414.500000</td>\n",
       "    </tr>\n",
       "    <tr>\n",
       "      <th>50%</th>\n",
       "      <td>7.5000</td>\n",
       "      <td>2778.000000</td>\n",
       "    </tr>\n",
       "    <tr>\n",
       "      <th>75%</th>\n",
       "      <td>10.7500</td>\n",
       "      <td>3322.500000</td>\n",
       "    </tr>\n",
       "    <tr>\n",
       "      <th>max</th>\n",
       "      <td>14.0000</td>\n",
       "      <td>3635.000000</td>\n",
       "    </tr>\n",
       "  </tbody>\n",
       "</table>\n",
       "</div>"
      ],
      "text/plain": [
       "       November     C19cases\n",
       "count   14.0000    14.000000\n",
       "mean     7.5000  2773.500000\n",
       "std      4.1833   625.906942\n",
       "min      1.0000  1723.000000\n",
       "25%      4.2500  2414.500000\n",
       "50%      7.5000  2778.000000\n",
       "75%     10.7500  3322.500000\n",
       "max     14.0000  3635.000000"
      ]
     },
     "execution_count": 83,
     "metadata": {},
     "output_type": "execute_result"
    }
   ],
   "source": [
    "df.describe()"
   ]
  },
  {
   "cell_type": "code",
   "execution_count": 84,
   "id": "0ffae2cb",
   "metadata": {},
   "outputs": [
    {
     "data": {
      "text/html": [
       "<div>\n",
       "<style scoped>\n",
       "    .dataframe tbody tr th:only-of-type {\n",
       "        vertical-align: middle;\n",
       "    }\n",
       "\n",
       "    .dataframe tbody tr th {\n",
       "        vertical-align: top;\n",
       "    }\n",
       "\n",
       "    .dataframe thead th {\n",
       "        text-align: right;\n",
       "    }\n",
       "</style>\n",
       "<table border=\"1\" class=\"dataframe\">\n",
       "  <thead>\n",
       "    <tr style=\"text-align: right;\">\n",
       "      <th></th>\n",
       "      <th>October</th>\n",
       "      <th>C19cases2</th>\n",
       "    </tr>\n",
       "  </thead>\n",
       "  <tbody>\n",
       "    <tr>\n",
       "      <th>count</th>\n",
       "      <td>14.0000</td>\n",
       "      <td>14.000000</td>\n",
       "    </tr>\n",
       "    <tr>\n",
       "      <th>mean</th>\n",
       "      <td>7.5000</td>\n",
       "      <td>2073.071429</td>\n",
       "    </tr>\n",
       "    <tr>\n",
       "      <th>std</th>\n",
       "      <td>4.1833</td>\n",
       "      <td>665.478251</td>\n",
       "    </tr>\n",
       "    <tr>\n",
       "      <th>min</th>\n",
       "      <td>1.0000</td>\n",
       "      <td>1003.000000</td>\n",
       "    </tr>\n",
       "    <tr>\n",
       "      <th>25%</th>\n",
       "      <td>4.2500</td>\n",
       "      <td>1516.500000</td>\n",
       "    </tr>\n",
       "    <tr>\n",
       "      <th>50%</th>\n",
       "      <td>7.5000</td>\n",
       "      <td>2074.500000</td>\n",
       "    </tr>\n",
       "    <tr>\n",
       "      <th>75%</th>\n",
       "      <td>10.7500</td>\n",
       "      <td>2452.250000</td>\n",
       "    </tr>\n",
       "    <tr>\n",
       "      <th>max</th>\n",
       "      <td>14.0000</td>\n",
       "      <td>3471.000000</td>\n",
       "    </tr>\n",
       "  </tbody>\n",
       "</table>\n",
       "</div>"
      ],
      "text/plain": [
       "       October    C19cases2\n",
       "count  14.0000    14.000000\n",
       "mean    7.5000  2073.071429\n",
       "std     4.1833   665.478251\n",
       "min     1.0000  1003.000000\n",
       "25%     4.2500  1516.500000\n",
       "50%     7.5000  2074.500000\n",
       "75%    10.7500  2452.250000\n",
       "max    14.0000  3471.000000"
      ]
     },
     "execution_count": 84,
     "metadata": {},
     "output_type": "execute_result"
    }
   ],
   "source": [
    "df2.describe()"
   ]
  },
  {
   "cell_type": "code",
   "execution_count": null,
   "id": "5b675330",
   "metadata": {},
   "outputs": [],
   "source": [
    "### correlation\n",
    "##how strong two variables are \n",
    "## relation ship between two three quantitative variables \n",
    "\n",
    "Postive = if no or rooms increase, if the prices also increases \n",
    "Postive = if no or rooms decrease, if the prices also decreases \n",
    "negative  = if more higer altitude we go , the lkesser the oxygen "
   ]
  }
 ],
 "metadata": {
  "kernelspec": {
   "display_name": "Python 3",
   "language": "python",
   "name": "python3"
  },
  "language_info": {
   "codemirror_mode": {
    "name": "ipython",
    "version": 3
   },
   "file_extension": ".py",
   "mimetype": "text/x-python",
   "name": "python",
   "nbconvert_exporter": "python",
   "pygments_lexer": "ipython3",
   "version": "3.8.8"
  }
 },
 "nbformat": 4,
 "nbformat_minor": 5
}
