{
 "cells": [
  {
   "cell_type": "markdown",
   "id": "3dbba445",
   "metadata": {},
   "source": [
    "### What is Statistics\n",
    "Science of collecting, organizing, interpting, analysing, presenting, for specific problem statment \n",
    "\n",
    "### Why?\n",
    "to help in making effective decision making\n",
    "# \n",
    "\n",
    "### Types of Statistics\n",
    "1. All stats(Basic Summary Features) is about the data. - min, max, mean, median\n",
    "2. Cannot use this for decision making.\n",
    "# \n",
    "\n",
    "### Inferential\n",
    "1. from Sample\n",
    "2. Decision making about population\n",
    "\n",
    "### Predictive\n",
    "1. What will happen in the future.\n",
    "\n",
    "### Prescriptive\n",
    "1. recommend what can be done"
   ]
  },
  {
   "cell_type": "markdown",
   "id": "e05e0104",
   "metadata": {},
   "source": [
    "## Descriptive Statistics\n",
    "\n",
    "### Understand the data (dataset)"
   ]
  },
  {
   "cell_type": "markdown",
   "id": "daf0e828",
   "metadata": {},
   "source": [
    "## Types of Data\n",
    "# \n",
    "\n",
    "### Qualitative: numbers, measurable data\n",
    "Types\n",
    "1. Discrete: fixed number, eg: How many pax, 60\n",
    "2. Continuous: measured in scale / incremental / range eg. height / temeprature, rainfall\n",
    "# \n",
    "\n",
    "### Quantative: Categorical data\n",
    "Types\n",
    "1. Ordinal: ranking/order/sequence of shirt size (s ,m ,l ,xl ,xxl), service rating, feedback, grades\n",
    "1. Nominal: Labels, no order, gender, race, marital status colors\n",
    "# \n",
    "\n",
    "\n",
    "\n",
    "### Descriptive Statiscitcs\n",
    "Quantitative approach\n",
    "1. Summary\n",
    "\n",
    "    1.1 One variable ---> Univariate Analysis\n",
    "    \n",
    "    1.2 Two Variables ---> Bivariate Analysis\n",
    "    \n",
    "    1.3 ThreeVariables ---> Multivariate Analysis\n",
    "    \n",
    "2. Types (using Python Functions)\n",
    "\n",
    "    2.1 Central Tendency: (Mean, Median, Mode, Max, Min)\n",
    "    \n",
    "    2.2 Variablity/ Spread: (Variance, Standard Deviation)\n",
    "    \n",
    "    2.3 Correlation between variables\n",
    "# \n",
    "    \n",
    "### Visualise approach\n",
    "1. Histogram\n",
    "2. scatter plot\n",
    "3. Box Plot"
   ]
  },
  {
   "cell_type": "code",
   "execution_count": null,
   "id": "6db57425",
   "metadata": {},
   "outputs": [],
   "source": []
  },
  {
   "cell_type": "markdown",
   "id": "2172ec0f",
   "metadata": {},
   "source": [
    "## Types (using Python Functions)\n",
    "\n",
    "2.1 Central Tendency: (Mean, Median, Mode, Max, Min)"
   ]
  },
  {
   "cell_type": "code",
   "execution_count": 27,
   "id": "97f0640a",
   "metadata": {},
   "outputs": [],
   "source": [
    "# Pandas Sample\n",
    "import pandas as pd\n",
    "import matplotlib.pyplot as plt\n",
    "df = pd.DataFrame({'November':[1,2,3,4,5,6,7,8,9,10,11,12,13,14], \n",
    "                   'C19cases':[2470,3496,3635,3003,1767,3035,2553,2470,3397,3481,2396,3099,2304,1723]})"
   ]
  },
  {
   "cell_type": "code",
   "execution_count": 28,
   "id": "b7131c58",
   "metadata": {},
   "outputs": [
    {
     "data": {
      "text/html": [
       "<div>\n",
       "<style scoped>\n",
       "    .dataframe tbody tr th:only-of-type {\n",
       "        vertical-align: middle;\n",
       "    }\n",
       "\n",
       "    .dataframe tbody tr th {\n",
       "        vertical-align: top;\n",
       "    }\n",
       "\n",
       "    .dataframe thead th {\n",
       "        text-align: right;\n",
       "    }\n",
       "</style>\n",
       "<table border=\"1\" class=\"dataframe\">\n",
       "  <thead>\n",
       "    <tr style=\"text-align: right;\">\n",
       "      <th></th>\n",
       "      <th>November</th>\n",
       "      <th>C19cases</th>\n",
       "    </tr>\n",
       "  </thead>\n",
       "  <tbody>\n",
       "    <tr>\n",
       "      <th>0</th>\n",
       "      <td>1</td>\n",
       "      <td>2470</td>\n",
       "    </tr>\n",
       "    <tr>\n",
       "      <th>1</th>\n",
       "      <td>2</td>\n",
       "      <td>3496</td>\n",
       "    </tr>\n",
       "    <tr>\n",
       "      <th>2</th>\n",
       "      <td>3</td>\n",
       "      <td>3635</td>\n",
       "    </tr>\n",
       "    <tr>\n",
       "      <th>3</th>\n",
       "      <td>4</td>\n",
       "      <td>3003</td>\n",
       "    </tr>\n",
       "    <tr>\n",
       "      <th>4</th>\n",
       "      <td>5</td>\n",
       "      <td>1767</td>\n",
       "    </tr>\n",
       "  </tbody>\n",
       "</table>\n",
       "</div>"
      ],
      "text/plain": [
       "   November  C19cases\n",
       "0         1      2470\n",
       "1         2      3496\n",
       "2         3      3635\n",
       "3         4      3003\n",
       "4         5      1767"
      ]
     },
     "execution_count": 28,
     "metadata": {},
     "output_type": "execute_result"
    }
   ],
   "source": [
    "df.head()"
   ]
  },
  {
   "cell_type": "code",
   "execution_count": 29,
   "id": "67782341",
   "metadata": {},
   "outputs": [
    {
     "data": {
      "text/plain": [
       "0    2470\n",
       "1    3496\n",
       "2    3635\n",
       "3    3003\n",
       "4    1767\n",
       "Name: C19cases, dtype: int64"
      ]
     },
     "execution_count": 29,
     "metadata": {},
     "output_type": "execute_result"
    }
   ],
   "source": [
    "df['C19cases'].head()"
   ]
  },
  {
   "cell_type": "code",
   "execution_count": 30,
   "id": "9350c16e",
   "metadata": {},
   "outputs": [
    {
     "data": {
      "text/plain": [
       "2773.5"
      ]
     },
     "execution_count": 30,
     "metadata": {},
     "output_type": "execute_result"
    }
   ],
   "source": [
    "## Find mean - average\n",
    "## Sum of all numbers / no of entires\n",
    "df['C19cases'].mean()"
   ]
  },
  {
   "cell_type": "code",
   "execution_count": 31,
   "id": "554f6dda",
   "metadata": {},
   "outputs": [
    {
     "data": {
      "text/plain": [
       "2778.0"
      ]
     },
     "execution_count": 31,
     "metadata": {},
     "output_type": "execute_result"
    }
   ],
   "source": [
    "## median = middle number\n",
    "## Has to be an increasing sorted number\n",
    "\n",
    "# If there are 2 middle numbers, its the average of the 2 middle numbers\n",
    "df['C19cases'].median()"
   ]
  },
  {
   "cell_type": "code",
   "execution_count": 32,
   "id": "f6b9b4ea",
   "metadata": {},
   "outputs": [
    {
     "data": {
      "text/plain": [
       "0    2470\n",
       "dtype: int64"
      ]
     },
     "execution_count": 32,
     "metadata": {},
     "output_type": "execute_result"
    }
   ],
   "source": [
    "# Show the common occurences of same number\n",
    "df['C19cases'].mode()"
   ]
  },
  {
   "cell_type": "code",
   "execution_count": 33,
   "id": "1dd22de8",
   "metadata": {
    "scrolled": true
   },
   "outputs": [
    {
     "name": "stdout",
     "output_type": "stream",
     "text": [
      "Mean 2773.5\n",
      "Median 2778.0\n",
      "Mode 2470\n",
      "Max 3635\n",
      "Min 1723\n"
     ]
    }
   ],
   "source": [
    "print ('Mean', df['C19cases'].mean())\n",
    "print ('Median', df['C19cases'].median())\n",
    "print ('Mode', df['C19cases'].mode()[0])\n",
    "print ('Max', df['C19cases'].max())\n",
    "print ('Min', df['C19cases'].min())"
   ]
  },
  {
   "cell_type": "code",
   "execution_count": null,
   "id": "c4f94a0e",
   "metadata": {},
   "outputs": [],
   "source": []
  },
  {
   "cell_type": "markdown",
   "id": "9a4b0c5c",
   "metadata": {},
   "source": [
    "## Types (using Python Functions)\n",
    "\n",
    "2.2 Variablity/ Spread: (Variance, Standard Deviation)"
   ]
  },
  {
   "cell_type": "code",
   "execution_count": 34,
   "id": "c655b30f",
   "metadata": {},
   "outputs": [],
   "source": [
    "# Spread of the data\n",
    "# Variance\n",
    "# How far each day numbers is far from the mean/average "
   ]
  },
  {
   "cell_type": "code",
   "execution_count": 35,
   "id": "ec5b4b7a",
   "metadata": {},
   "outputs": [
    {
     "name": "stdout",
     "output_type": "stream",
     "text": [
      "Varience 391759.5\n",
      "Standard Deviation 625.9069419650177\n"
     ]
    }
   ],
   "source": [
    "print ('Varience', df['C19cases'].var()) # This is the varience of Novemeber Data\n",
    "print ('Standard Deviation', df['C19cases'].std()) # Square Root of the Varience"
   ]
  },
  {
   "cell_type": "code",
   "execution_count": 36,
   "id": "ad19137a",
   "metadata": {},
   "outputs": [],
   "source": [
    "## Imagine a fake dataset of October\n",
    "import pandas as pd \n",
    "df2 = pd.DataFrame({'October': [1,2,3,4,5,6,7,8,9,10,11,12,13,14], \n",
    "                    'C19cases2':[1470,1420,1635,1003,1477,1835,2553,2470,2397,3471, 2796,2399,2314, 1783 ]})"
   ]
  },
  {
   "cell_type": "code",
   "execution_count": 37,
   "id": "5d01eb06",
   "metadata": {},
   "outputs": [
    {
     "name": "stdout",
     "output_type": "stream",
     "text": [
      "Varience 442861.3021978022\n",
      "Standard Deviation 665.4782507323603\n"
     ]
    }
   ],
   "source": [
    "print ('Varience', df2['C19cases2'].var()) # This is the varience of Novemeber Data\n",
    "print ('Standard Deviation', df2['C19cases2'].std()) # Square Root of the Varience\n",
    "\n",
    "# if trend is going up then SD, if trend is going down then bigger SD"
   ]
  },
  {
   "cell_type": "code",
   "execution_count": null,
   "id": "d14950a5",
   "metadata": {},
   "outputs": [],
   "source": []
  },
  {
   "cell_type": "markdown",
   "id": "bf2df520",
   "metadata": {},
   "source": [
    "## Visualise approach\n",
    "1. Histogram\n",
    "2. scatter plot\n",
    "3. Box Plot"
   ]
  },
  {
   "cell_type": "markdown",
   "id": "a9cf1280",
   "metadata": {},
   "source": [
    "c19 = df['C19cases']\n",
    "c19.plot.hist(title = 'Histogram Distribution Live Class', bins=20)\n",
    "plt.axvline(c19.mean(), color = 'magenta')\n",
    "plt.axvline(c19.median(), color = 'green')\n",
    "plt.show()"
   ]
  },
  {
   "cell_type": "markdown",
   "id": "e842acc3",
   "metadata": {},
   "source": [
    "## Inter Quartile Range test\n",
    "Q1 = 25th percentile\n",
    "Q2 == 50%\n",
    "Q3 = 75th percentile"
   ]
  },
  {
   "cell_type": "markdown",
   "id": "b3f35000",
   "metadata": {},
   "source": [
    "## Shape\n",
    "### 1. Skewness : Measure of symmetry\n",
    "### 2. Kurtosis : Measure of peakness in my plot\n",
    "# \n",
    "## Skewness\n",
    "1. Positive / Right Skewed\n",
    "Mean > Median > Mode\n",
    "Plotting on the left, tail on the right\n",
    "\n",
    "2. Negative / Left Skewed\n",
    "Mode > Median > Mean\n",
    "Plotting on the right, tail on the left\n",
    "# \n",
    "## Kurtosis\n",
    "1. Mesokurtic: Flat tail than the normal distribution and slightly lower peak.\n",
    "2. Leptokurtic: Highly thick tail and very thin and tallest peak\n",
    "3. Platy - slender tail"
   ]
  },
  {
   "cell_type": "code",
   "execution_count": 41,
   "id": "7bd2e4f9",
   "metadata": {},
   "outputs": [
    {
     "data": {
      "text/html": [
       "<div>\n",
       "<style scoped>\n",
       "    .dataframe tbody tr th:only-of-type {\n",
       "        vertical-align: middle;\n",
       "    }\n",
       "\n",
       "    .dataframe tbody tr th {\n",
       "        vertical-align: top;\n",
       "    }\n",
       "\n",
       "    .dataframe thead th {\n",
       "        text-align: right;\n",
       "    }\n",
       "</style>\n",
       "<table border=\"1\" class=\"dataframe\">\n",
       "  <thead>\n",
       "    <tr style=\"text-align: right;\">\n",
       "      <th></th>\n",
       "      <th>November</th>\n",
       "      <th>C19cases</th>\n",
       "    </tr>\n",
       "  </thead>\n",
       "  <tbody>\n",
       "    <tr>\n",
       "      <th>count</th>\n",
       "      <td>14.0000</td>\n",
       "      <td>14.000000</td>\n",
       "    </tr>\n",
       "    <tr>\n",
       "      <th>mean</th>\n",
       "      <td>7.5000</td>\n",
       "      <td>2773.500000</td>\n",
       "    </tr>\n",
       "    <tr>\n",
       "      <th>std</th>\n",
       "      <td>4.1833</td>\n",
       "      <td>625.906942</td>\n",
       "    </tr>\n",
       "    <tr>\n",
       "      <th>min</th>\n",
       "      <td>1.0000</td>\n",
       "      <td>1723.000000</td>\n",
       "    </tr>\n",
       "    <tr>\n",
       "      <th>25%</th>\n",
       "      <td>4.2500</td>\n",
       "      <td>2414.500000</td>\n",
       "    </tr>\n",
       "    <tr>\n",
       "      <th>50%</th>\n",
       "      <td>7.5000</td>\n",
       "      <td>2778.000000</td>\n",
       "    </tr>\n",
       "    <tr>\n",
       "      <th>75%</th>\n",
       "      <td>10.7500</td>\n",
       "      <td>3322.500000</td>\n",
       "    </tr>\n",
       "    <tr>\n",
       "      <th>max</th>\n",
       "      <td>14.0000</td>\n",
       "      <td>3635.000000</td>\n",
       "    </tr>\n",
       "  </tbody>\n",
       "</table>\n",
       "</div>"
      ],
      "text/plain": [
       "       November     C19cases\n",
       "count   14.0000    14.000000\n",
       "mean     7.5000  2773.500000\n",
       "std      4.1833   625.906942\n",
       "min      1.0000  1723.000000\n",
       "25%      4.2500  2414.500000\n",
       "50%      7.5000  2778.000000\n",
       "75%     10.7500  3322.500000\n",
       "max     14.0000  3635.000000"
      ]
     },
     "execution_count": 41,
     "metadata": {},
     "output_type": "execute_result"
    }
   ],
   "source": [
    "df.describe()"
   ]
  },
  {
   "cell_type": "code",
   "execution_count": 42,
   "id": "793406d1",
   "metadata": {},
   "outputs": [
    {
     "data": {
      "text/html": [
       "<div>\n",
       "<style scoped>\n",
       "    .dataframe tbody tr th:only-of-type {\n",
       "        vertical-align: middle;\n",
       "    }\n",
       "\n",
       "    .dataframe tbody tr th {\n",
       "        vertical-align: top;\n",
       "    }\n",
       "\n",
       "    .dataframe thead th {\n",
       "        text-align: right;\n",
       "    }\n",
       "</style>\n",
       "<table border=\"1\" class=\"dataframe\">\n",
       "  <thead>\n",
       "    <tr style=\"text-align: right;\">\n",
       "      <th></th>\n",
       "      <th>October</th>\n",
       "      <th>C19cases2</th>\n",
       "    </tr>\n",
       "  </thead>\n",
       "  <tbody>\n",
       "    <tr>\n",
       "      <th>count</th>\n",
       "      <td>14.0000</td>\n",
       "      <td>14.000000</td>\n",
       "    </tr>\n",
       "    <tr>\n",
       "      <th>mean</th>\n",
       "      <td>7.5000</td>\n",
       "      <td>2073.071429</td>\n",
       "    </tr>\n",
       "    <tr>\n",
       "      <th>std</th>\n",
       "      <td>4.1833</td>\n",
       "      <td>665.478251</td>\n",
       "    </tr>\n",
       "    <tr>\n",
       "      <th>min</th>\n",
       "      <td>1.0000</td>\n",
       "      <td>1003.000000</td>\n",
       "    </tr>\n",
       "    <tr>\n",
       "      <th>25%</th>\n",
       "      <td>4.2500</td>\n",
       "      <td>1516.500000</td>\n",
       "    </tr>\n",
       "    <tr>\n",
       "      <th>50%</th>\n",
       "      <td>7.5000</td>\n",
       "      <td>2074.500000</td>\n",
       "    </tr>\n",
       "    <tr>\n",
       "      <th>75%</th>\n",
       "      <td>10.7500</td>\n",
       "      <td>2452.250000</td>\n",
       "    </tr>\n",
       "    <tr>\n",
       "      <th>max</th>\n",
       "      <td>14.0000</td>\n",
       "      <td>3471.000000</td>\n",
       "    </tr>\n",
       "  </tbody>\n",
       "</table>\n",
       "</div>"
      ],
      "text/plain": [
       "       October    C19cases2\n",
       "count  14.0000    14.000000\n",
       "mean    7.5000  2073.071429\n",
       "std     4.1833   665.478251\n",
       "min     1.0000  1003.000000\n",
       "25%     4.2500  1516.500000\n",
       "50%     7.5000  2074.500000\n",
       "75%    10.7500  2452.250000\n",
       "max    14.0000  3471.000000"
      ]
     },
     "execution_count": 42,
     "metadata": {},
     "output_type": "execute_result"
    }
   ],
   "source": [
    "df2.describe()"
   ]
  },
  {
   "cell_type": "markdown",
   "id": "8bf7f3a9",
   "metadata": {},
   "source": [
    "### Correlation\n",
    "##### How strong two variables are\n",
    "##### Relationship between two three quantitative variables\n",
    "#### \n",
    "Positive = if number of rooms increase, if the prices also increases\n",
    " \n",
    "Positive = if number of rooms decrease, if the prices also decreases\n",
    "\n",
    "Negative = if the higher altitude we go, the lesser oxygen we get"
   ]
  },
  {
   "cell_type": "code",
   "execution_count": null,
   "id": "a403d5cb",
   "metadata": {},
   "outputs": [],
   "source": []
  }
 ],
 "metadata": {
  "kernelspec": {
   "display_name": "Python 3",
   "language": "python",
   "name": "python3"
  },
  "language_info": {
   "codemirror_mode": {
    "name": "ipython",
    "version": 3
   },
   "file_extension": ".py",
   "mimetype": "text/x-python",
   "name": "python",
   "nbconvert_exporter": "python",
   "pygments_lexer": "ipython3",
   "version": "3.8.8"
  }
 },
 "nbformat": 4,
 "nbformat_minor": 5
}
