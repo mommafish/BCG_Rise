{
 "cells": [
  {
   "cell_type": "markdown",
   "id": "eb89444c",
   "metadata": {},
   "source": [
    "\n",
    "1. READ_CSV\n",
    "2. head(), min/mean/max/model (describe()) == understanding stats\n",
    "3. analysis (uni,bi variate analysis)\n",
    "4. then later prepare the data for modelling"
   ]
  },
  {
   "cell_type": "markdown",
   "id": "600088c6",
   "metadata": {},
   "source": [
    "## Probability - Given that...\n",
    "\n",
    "if coin is toessed 2 times, what is the probability of two heads given the first toss gives head? ans = 1/2"
   ]
  },
  {
   "cell_type": "markdown",
   "id": "745e7e6f",
   "metadata": {},
   "source": [
    "- Random variable - quantitative\n",
    "- Discrete - fixed number eg: how many pax 60,\n",
    "- Continuous - measured in scale / incremental / range eg: height of pax, rainfall etc\n",
    "\n",
    "\n",
    "#### What are the types?\n",
    "1. Discrete Random Variable - fixed covid19 cases for each day\n",
    "2. Continuous random variable - range of BP, temperature etc\n",
    "\n",
    "#### Why\n",
    "- Used to Quantify likelihood/chance\n",
    "- represent risk\n",
    "- Interpreted as DEGREE OF BELIEF / RELATIVE FREQUENCY\n",
    "- ALWAYS probability is expressed in terms of random variable"
   ]
  },
  {
   "cell_type": "code",
   "execution_count": null,
   "id": "75acadaa",
   "metadata": {},
   "outputs": [],
   "source": []
  }
 ],
 "metadata": {
  "kernelspec": {
   "display_name": "Python 3",
   "language": "python",
   "name": "python3"
  },
  "language_info": {
   "codemirror_mode": {
    "name": "ipython",
    "version": 3
   },
   "file_extension": ".py",
   "mimetype": "text/x-python",
   "name": "python",
   "nbconvert_exporter": "python",
   "pygments_lexer": "ipython3",
   "version": "3.8.8"
  }
 },
 "nbformat": 4,
 "nbformat_minor": 5
}
