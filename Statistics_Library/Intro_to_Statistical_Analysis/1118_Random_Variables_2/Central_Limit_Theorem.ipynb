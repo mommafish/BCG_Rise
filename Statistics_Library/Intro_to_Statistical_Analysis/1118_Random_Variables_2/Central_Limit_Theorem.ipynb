{
 "cells": [
  {
   "cell_type": "markdown",
   "id": "de18f5c6",
   "metadata": {},
   "source": [
    "# Central Limit Theorem"
   ]
  },
  {
   "cell_type": "markdown",
   "id": "6f9eb945",
   "metadata": {},
   "source": [
    "We want to get the intuition on the Central Limit Theorem (CLT) and then we will get to its interest and applications. Let's define a distribution that is clearly non-normal."
   ]
  },
  {
   "cell_type": "code",
   "execution_count": 1,
   "id": "324f398e",
   "metadata": {},
   "outputs": [],
   "source": [
    "import numpy as np\n",
    "import matplotlib.pyplot as plt\n",
    "from scipy.stats import bernoulli, norm, poisson\n",
    "from scipy import stats\n",
    "from scipy.stats import kurtosis, skew\n",
    "import seaborn as sns"
   ]
  },
  {
   "cell_type": "code",
   "execution_count": 2,
   "id": "abf90ccd",
   "metadata": {},
   "outputs": [],
   "source": [
    "elements = np.arange(6)\n",
    "probabilities = [0.3, 0., 0.05, 0.05, 0.2, 0.4]\n",
    "X = np.random.choice(elements, 100, p=probabilities)"
   ]
  },
  {
   "cell_type": "code",
   "execution_count": 3,
   "id": "949553a6",
   "metadata": {},
   "outputs": [
    {
     "data": {
      "image/png": "[encoded data removed]",
      "text/plain": [
       "<Figure size 432x288 with 1 Axes>"
      ]
     },
     "metadata": {
      "needs_background": "light"
     },
     "output_type": "display_data"
    }
   ],
   "source": [
    "sns.histplot(X, stat='probability');"
   ]
  },
  {
   "cell_type": "markdown",
   "id": "1e1f6c60",
   "metadata": {},
   "source": [
    "Now, we can draw samples from it. We are going to draw samples of size 4 and calculate its mean."
   ]
  },
  {
   "cell_type": "code",
   "execution_count": 4,
   "id": "b2760c82",
   "metadata": {},
   "outputs": [
    {
     "name": "stdout",
     "output_type": "stream",
     "text": [
      "[5 5 0 2]\n",
      "3.0\n"
     ]
    }
   ],
   "source": [
    "s_1 = np.random.choice(elements, 4, p=probabilities)\n",
    "print(s_1)\n",
    "x_bar_1 = np.mean(s_1)\n",
    "print(x_bar_1)"
   ]
  },
  {
   "cell_type": "markdown",
   "id": "8f039bf2",
   "metadata": {},
   "source": [
    "Let's do the same procedure 10,000 times."
   ]
  },
  {
   "cell_type": "code",
   "execution_count": 5,
   "id": "1b2b4b02",
   "metadata": {},
   "outputs": [],
   "source": [
    "s = []\n",
    "n=4\n",
    "for i in range(10000):\n",
    "    s.append(np.random.choice(elements, n, p=probabilities))\n",
    "s = np.mean(np.asarray(s), axis=1)"
   ]
  },
  {
   "cell_type": "code",
   "execution_count": 6,
   "id": "efc5b5df",
   "metadata": {},
   "outputs": [
    {
     "name": "stdout",
     "output_type": "stream",
     "text": [
      "Kurtosis: -0.33\n",
      "Skew: -0.29\n",
      "---\n",
      "μ=3.06\n",
      "σ=1.07\n"
     ]
    },
    {
     "data": {
      "image/png": "[encoded data removed]",
      "text/plain": [
       "<Figure size 432x288 with 1 Axes>"
      ]
     },
     "metadata": {
      "needs_background": "light"
     },
     "output_type": "display_data"
    }
   ],
   "source": [
    "print('Kurtosis: ' + str(np.round(kurtosis(s),2)))\n",
    "print('Skew: ' + str(np.round(skew(s),2)))\n",
    "print('---')\n",
    "print('μ=' + str(np.round(np.mean(s), 2)))\n",
    "print('σ=' + str(np.round(np.std(s), 2)))\n",
    "sns.histplot(s, stat='probability');"
   ]
  },
  {
   "cell_type": "markdown",
   "id": "5d31e4cb",
   "metadata": {},
   "source": [
    "The distribution above does not look like our original distribution anymore. What the CTL tells us is that as you take more samples and calculate their mean, the resulting distribution will approximate a normal distribution. We can measure it by the value of the skeweness and kurtosis, which for a normal distribution should be zero. A positively skewed distribution has a tail to the right, while a negative one has a tail to the left. If the distribution has positive kurtosis it means that it has fatter tails than the normal distribution; conversely, in a negative scenario the tails would be thinner.\n",
    "\n",
    "\n",
    "What the CLT also tells us is that the approximation becomes better as the sample size increases. Let's test it by increasing the sample size from 4 to 20 and then to 100."
   ]
  },
  {
   "cell_type": "code",
   "execution_count": 7,
   "id": "7e3534f7",
   "metadata": {},
   "outputs": [],
   "source": [
    "s = []\n",
    "n=20\n",
    "for i in range(10000):\n",
    "    s.append(np.random.choice(elements, n, p=probabilities))\n",
    "s = np.mean(np.asarray(s), axis=1)"
   ]
  },
  {
   "cell_type": "code",
   "execution_count": 8,
   "id": "0904bdf8",
   "metadata": {},
   "outputs": [
    {
     "name": "stdout",
     "output_type": "stream",
     "text": [
      "Kurtosis: -0.09\n",
      "Skew: -0.09\n",
      "---\n",
      "μ=3.05\n",
      "σ=0.47\n"
     ]
    },
    {
     "data": {
      "image/png": "[encoded data removed]",
      "text/plain": [
       "<Figure size 432x288 with 1 Axes>"
      ]
     },
     "metadata": {
      "needs_background": "light"
     },
     "output_type": "display_data"
    }
   ],
   "source": [
    "print('Kurtosis: ' + str(np.round(kurtosis(s),2)))\n",
    "print('Skew: ' + str(np.round(skew(s),2)))\n",
    "print('---')\n",
    "print('μ=' + str(np.round(np.mean(s), 2)))\n",
    "print('σ=' + str(np.round(np.std(s), 2)))\n",
    "sns.histplot(s, stat='probability');"
   ]
  },
  {
   "cell_type": "code",
   "execution_count": 9,
   "id": "6ccf3b02",
   "metadata": {},
   "outputs": [],
   "source": [
    "s = []\n",
    "n=100\n",
    "for i in range(10000):\n",
    "    s.append(np.random.choice(elements, n, p=probabilities))\n",
    "s = np.mean(np.asarray(s), axis=1)"
   ]
  },
  {
   "cell_type": "code",
   "execution_count": 10,
   "id": "56fd9ff9",
   "metadata": {},
   "outputs": [
    {
     "name": "stdout",
     "output_type": "stream",
     "text": [
      "Kurtosis: -0.06\n",
      "Skew: -0.11\n",
      "---\n",
      "μ=3.05\n",
      "σ=0.21\n"
     ]
    },
    {
     "data": {
      "image/png": "[encoded data removed]",
      "text/plain": [
       "<Figure size 432x288 with 1 Axes>"
      ]
     },
     "metadata": {
      "needs_background": "light"
     },
     "output_type": "display_data"
    }
   ],
   "source": [
    "print('Kurtosis: ' + str(np.round(kurtosis(s),2)))\n",
    "print('Skew: ' + str(np.round(skew(s),2)))\n",
    "print('---')\n",
    "print('μ=' + str(np.round(np.mean(s), 2)))\n",
    "print('σ=' + str(np.round(np.std(s), 2)))\n",
    "sns.histplot(s, stat='probability');"
   ]
  },
  {
   "cell_type": "markdown",
   "id": "8e7f63b0",
   "metadata": {},
   "source": [
    "Notice how the last plot resembles a normal distribution. Also notice that the value of mean and standard deviation of the sampling distribution that we have been plotting for the different sample sizes. Not surprisingly, the mean is the same as the original distribution. But the value for the standard deviation is indeed strange, as it has been shrinking. In fact, this is an important property to take note: the standard deviation of our sampling distribution of sample means is the square root of the standard deviation of the original population divided by the sample size. We can write it as:\n",
    "\n",
    "$$\\sigma_{\\bar x} = \\sqrt{\\frac{\\sigma^2}{n}}$$"
   ]
  },
  {
   "cell_type": "code",
   "execution_count": 11,
   "id": "c253c8a5",
   "metadata": {},
   "outputs": [
    {
     "name": "stdout",
     "output_type": "stream",
     "text": [
      "Theoretical value: 0.21424051904343397\n",
      "Empirically computed: 0.21212519389266332\n"
     ]
    }
   ],
   "source": [
    "print(\"Theoretical value: \" + str(np.sqrt(X.var()/n)))\n",
    "print(\"Empirically computed: \" + str(s.std()))"
   ]
  },
  {
   "cell_type": "markdown",
   "id": "ad518b7c",
   "metadata": {},
   "source": [
    "This process is not specific to the sample mean, we could be, for instance, calculate the sample sum."
   ]
  },
  {
   "cell_type": "code",
   "execution_count": 12,
   "id": "d1e50916",
   "metadata": {},
   "outputs": [],
   "source": [
    "s = []\n",
    "for i in range(10000):\n",
    "    s.append(np.random.choice(elements, 100, p=probabilities))\n",
    "s = np.sum(np.asarray(s), axis=1)"
   ]
  },
  {
   "cell_type": "code",
   "execution_count": 13,
   "id": "71cb4efa",
   "metadata": {},
   "outputs": [
    {
     "name": "stdout",
     "output_type": "stream",
     "text": [
      "Kurtosis: 0.08\n",
      "Skew: -0.05\n"
     ]
    },
    {
     "data": {
      "image/png": "[encoded data removed]",
      "text/plain": [
       "<Figure size 432x288 with 1 Axes>"
      ]
     },
     "metadata": {
      "needs_background": "light"
     },
     "output_type": "display_data"
    }
   ],
   "source": [
    "print('Kurtosis: ' + str(np.round(kurtosis(s),2)))\n",
    "print('Skew: ' + str(np.round(skew(s),2)))\n",
    "sns.histplot(s, stat='probability');"
   ]
  },
  {
   "cell_type": "markdown",
   "id": "ac81fc92",
   "metadata": {},
   "source": [
    "I hope that now you see why the normal distribution is so often used to model different processes. Even if you do not know the distribution of a process that you want to describe statistically, if you add or take the mean of your measurements (assuming that they all have the same distribution), suddenly you get a normal distribution."
   ]
  },
  {
   "cell_type": "code",
   "execution_count": null,
   "id": "ae08002e",
   "metadata": {},
   "outputs": [],
   "source": []
  }
 ],
 "metadata": {
  "kernelspec": {
   "display_name": "Python 3",
   "language": "python",
   "name": "python3"
  },
  "language_info": {
   "codemirror_mode": {
    "name": "ipython",
    "version": 3
   },
   "file_extension": ".py",
   "mimetype": "text/x-python",
   "name": "python",
   "nbconvert_exporter": "python",
   "pygments_lexer": "ipython3",
   "version": "3.8.8"
  }
 },
 "nbformat": 4,
 "nbformat_minor": 5
}
