{
 "cells": [
  {
   "cell_type": "markdown",
   "id": "f21ebba9",
   "metadata": {},
   "source": [
    "# Probabilty\n",
    "\n",
    "### flipping of coin\n",
    "1. heads\n",
    "2. tails\n",
    "\n",
    "50% chance of getting head or tails. 0.5 or 1/2\n",
    "\n",
    "### Dice\n",
    "outcomes = 6. How Many possiblities = 6 (1,2,3,4,5,6)\n",
    "possibility of getting 1 = 1/6 chance\n",
    "possibility of getting odd numbers 1,3,5 = 3/6 chance\n",
    "\n",
    "### cards\n",
    "1. Total cards = 52\n",
    "4 sets/suits = HEARTS SPADES DIAMONDS CLUBS\n",
    "13 members = A,J,K,Q,2,3,4,5,6,7,8,9,10\n",
    "\n",
    "Chance of getting king = 4/52 = 0.076\n",
    "\n",
    "Chance of getting Diamond = 13/52 = 0.25"
   ]
  }
 ],
 "metadata": {
  "kernelspec": {
   "display_name": "Python 3",
   "language": "python",
   "name": "python3"
  },
  "language_info": {
   "codemirror_mode": {
    "name": "ipython",
    "version": 3
   },
   "file_extension": ".py",
   "mimetype": "text/x-python",
   "name": "python",
   "nbconvert_exporter": "python",
   "pygments_lexer": "ipython3",
   "version": "3.8.8"
  }
 },
 "nbformat": 4,
 "nbformat_minor": 5
}
