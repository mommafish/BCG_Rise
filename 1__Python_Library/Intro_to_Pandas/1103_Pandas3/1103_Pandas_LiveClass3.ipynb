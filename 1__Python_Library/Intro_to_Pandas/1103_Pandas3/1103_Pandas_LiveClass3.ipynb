{
 "cells": [
  {
   "cell_type": "code",
   "execution_count": 1,
   "id": "52f343c0",
   "metadata": {},
   "outputs": [],
   "source": [
    "import pandas as pd\n",
    "import numpy as np\n",
    "from matplotlib import cm\n",
    "import matplotlib.pyplot as plt"
   ]
  },
  {
   "cell_type": "code",
   "execution_count": 2,
   "id": "dcb5eab9",
   "metadata": {},
   "outputs": [
    {
     "data": {
      "text/html": [
       "<div>\n",
       "<style scoped>\n",
       "    .dataframe tbody tr th:only-of-type {\n",
       "        vertical-align: middle;\n",
       "    }\n",
       "\n",
       "    .dataframe tbody tr th {\n",
       "        vertical-align: top;\n",
       "    }\n",
       "\n",
       "    .dataframe thead th {\n",
       "        text-align: right;\n",
       "    }\n",
       "</style>\n",
       "<table border=\"1\" class=\"dataframe\">\n",
       "  <thead>\n",
       "    <tr style=\"text-align: right;\">\n",
       "      <th></th>\n",
       "      <th>month</th>\n",
       "      <th>town</th>\n",
       "      <th>flat_type</th>\n",
       "      <th>block</th>\n",
       "      <th>street_name</th>\n",
       "      <th>storey_range</th>\n",
       "      <th>floor_area_sqm</th>\n",
       "      <th>flat_model</th>\n",
       "      <th>lease_commence_date</th>\n",
       "      <th>remaining_lease</th>\n",
       "      <th>resale_price</th>\n",
       "    </tr>\n",
       "  </thead>\n",
       "  <tbody>\n",
       "    <tr>\n",
       "      <th>0</th>\n",
       "      <td>2015-01</td>\n",
       "      <td>ANG MO KIO</td>\n",
       "      <td>3 ROOM</td>\n",
       "      <td>174</td>\n",
       "      <td>ANG MO KIO AVE 4</td>\n",
       "      <td>07 TO 09</td>\n",
       "      <td>60.0</td>\n",
       "      <td>Improved</td>\n",
       "      <td>1986</td>\n",
       "      <td>70</td>\n",
       "      <td>255000.0</td>\n",
       "    </tr>\n",
       "    <tr>\n",
       "      <th>1</th>\n",
       "      <td>2015-01</td>\n",
       "      <td>ANG MO KIO</td>\n",
       "      <td>3 ROOM</td>\n",
       "      <td>541</td>\n",
       "      <td>ANG MO KIO AVE 10</td>\n",
       "      <td>01 TO 03</td>\n",
       "      <td>68.0</td>\n",
       "      <td>New Generation</td>\n",
       "      <td>1981</td>\n",
       "      <td>65</td>\n",
       "      <td>275000.0</td>\n",
       "    </tr>\n",
       "    <tr>\n",
       "      <th>2</th>\n",
       "      <td>2015-01</td>\n",
       "      <td>ANG MO KIO</td>\n",
       "      <td>3 ROOM</td>\n",
       "      <td>163</td>\n",
       "      <td>ANG MO KIO AVE 4</td>\n",
       "      <td>01 TO 03</td>\n",
       "      <td>69.0</td>\n",
       "      <td>New Generation</td>\n",
       "      <td>1980</td>\n",
       "      <td>64</td>\n",
       "      <td>285000.0</td>\n",
       "    </tr>\n",
       "    <tr>\n",
       "      <th>3</th>\n",
       "      <td>2015-01</td>\n",
       "      <td>ANG MO KIO</td>\n",
       "      <td>3 ROOM</td>\n",
       "      <td>446</td>\n",
       "      <td>ANG MO KIO AVE 10</td>\n",
       "      <td>01 TO 03</td>\n",
       "      <td>68.0</td>\n",
       "      <td>New Generation</td>\n",
       "      <td>1979</td>\n",
       "      <td>63</td>\n",
       "      <td>290000.0</td>\n",
       "    </tr>\n",
       "    <tr>\n",
       "      <th>4</th>\n",
       "      <td>2015-01</td>\n",
       "      <td>ANG MO KIO</td>\n",
       "      <td>3 ROOM</td>\n",
       "      <td>557</td>\n",
       "      <td>ANG MO KIO AVE 10</td>\n",
       "      <td>07 TO 09</td>\n",
       "      <td>68.0</td>\n",
       "      <td>New Generation</td>\n",
       "      <td>1980</td>\n",
       "      <td>64</td>\n",
       "      <td>290000.0</td>\n",
       "    </tr>\n",
       "  </tbody>\n",
       "</table>\n",
       "</div>"
      ],
      "text/plain": [
       "     month        town flat_type block        street_name storey_range  \\\n",
       "0  2015-01  ANG MO KIO    3 ROOM   174   ANG MO KIO AVE 4     07 TO 09   \n",
       "1  2015-01  ANG MO KIO    3 ROOM   541  ANG MO KIO AVE 10     01 TO 03   \n",
       "2  2015-01  ANG MO KIO    3 ROOM   163   ANG MO KIO AVE 4     01 TO 03   \n",
       "3  2015-01  ANG MO KIO    3 ROOM   446  ANG MO KIO AVE 10     01 TO 03   \n",
       "4  2015-01  ANG MO KIO    3 ROOM   557  ANG MO KIO AVE 10     07 TO 09   \n",
       "\n",
       "   floor_area_sqm      flat_model  lease_commence_date  remaining_lease  \\\n",
       "0            60.0        Improved                 1986               70   \n",
       "1            68.0  New Generation                 1981               65   \n",
       "2            69.0  New Generation                 1980               64   \n",
       "3            68.0  New Generation                 1979               63   \n",
       "4            68.0  New Generation                 1980               64   \n",
       "\n",
       "   resale_price  \n",
       "0      255000.0  \n",
       "1      275000.0  \n",
       "2      285000.0  \n",
       "3      290000.0  \n",
       "4      290000.0  "
      ]
     },
     "execution_count": 2,
     "metadata": {},
     "output_type": "execute_result"
    }
   ],
   "source": [
    "df = pd.read_csv('resale-flat-prices-based-on-registration-date-from-jan-2015-to-dec-2016.csv')\n",
    "df.head()"
   ]
  },
  {
   "cell_type": "markdown",
   "id": "4b6ac111",
   "metadata": {},
   "source": [
    "1. Show average resale price\n",
    "2. Show average resale price of HDB in ANG MO KIO\n",
    "3. Show standard deviation of resale price of HDB in ANG MO KIO\n",
    "4. Create a new column named remaining_lease_group where the value is 'New' if remaining_lease > 70 and 'Old' if not. Then, visualize the total number of New vs Old in pie chart\n",
    "5. Show total number of resale HDB in each town and visualize using bar plot\n",
    "6. Show average resale price for each flat_type and visualize using bar plot\n",
    "7. Show average resale price by remaining_lease_group and flat_type. Compare the difference between new and old group for each flat_type\n",
    "8. Show how many 3 Room HDB in TAMPINES\n",
    "9. Show the median price of HDB resale price over the lease_commence_date"
   ]
  },
  {
   "cell_type": "code",
   "execution_count": 3,
   "id": "6d8b4ddb",
   "metadata": {},
   "outputs": [
    {
     "data": {
      "text/plain": [
       "436862.7890323795"
      ]
     },
     "execution_count": 3,
     "metadata": {},
     "output_type": "execute_result"
    }
   ],
   "source": [
    "#1 Show average resale price\n",
    "df['resale_price'].mean()"
   ]
  },
  {
   "cell_type": "code",
   "execution_count": 4,
   "id": "9d1f7231",
   "metadata": {
    "scrolled": true
   },
   "outputs": [
    {
     "data": {
      "text/plain": [
       "408422.98217179906"
      ]
     },
     "execution_count": 4,
     "metadata": {},
     "output_type": "execute_result"
    }
   ],
   "source": [
    "#2 Show average resale price of HDB in ANG MO KIO\n",
    "# df.groupby(\"town\").mean() # Wrong Need Filtering\n",
    "\n",
    "df[df['town']=='ANG MO KIO'] ['resale_price'].mean()"
   ]
  },
  {
   "cell_type": "code",
   "execution_count": 5,
   "id": "4356479b",
   "metadata": {},
   "outputs": [
    {
     "data": {
      "text/plain": [
       "136721.1419079911"
      ]
     },
     "execution_count": 5,
     "metadata": {},
     "output_type": "execute_result"
    }
   ],
   "source": [
    "# 3 Show standard deviation of resale price of HDB in ANG MO KIO\n",
    "# df.groupby(\"town\").std() # WRONG need filtering\n",
    "\n",
    "df[df['town']=='ANG MO KIO']['resale_price'].std()"
   ]
  },
  {
   "cell_type": "code",
   "execution_count": 6,
   "id": "e45860ca",
   "metadata": {
    "scrolled": true
   },
   "outputs": [
    {
     "data": {
      "text/html": [
       "<div>\n",
       "<style scoped>\n",
       "    .dataframe tbody tr th:only-of-type {\n",
       "        vertical-align: middle;\n",
       "    }\n",
       "\n",
       "    .dataframe tbody tr th {\n",
       "        vertical-align: top;\n",
       "    }\n",
       "\n",
       "    .dataframe thead th {\n",
       "        text-align: right;\n",
       "    }\n",
       "</style>\n",
       "<table border=\"1\" class=\"dataframe\">\n",
       "  <thead>\n",
       "    <tr style=\"text-align: right;\">\n",
       "      <th></th>\n",
       "      <th>month</th>\n",
       "      <th>town</th>\n",
       "      <th>flat_type</th>\n",
       "      <th>block</th>\n",
       "      <th>street_name</th>\n",
       "      <th>storey_range</th>\n",
       "      <th>floor_area_sqm</th>\n",
       "      <th>flat_model</th>\n",
       "      <th>lease_commence_date</th>\n",
       "      <th>remaining_lease</th>\n",
       "      <th>resale_price</th>\n",
       "      <th>remaining_lease_group</th>\n",
       "    </tr>\n",
       "  </thead>\n",
       "  <tbody>\n",
       "    <tr>\n",
       "      <th>37148</th>\n",
       "      <td>2016-12</td>\n",
       "      <td>YISHUN</td>\n",
       "      <td>5 ROOM</td>\n",
       "      <td>297</td>\n",
       "      <td>YISHUN ST 20</td>\n",
       "      <td>13 TO 15</td>\n",
       "      <td>112.0</td>\n",
       "      <td>Improved</td>\n",
       "      <td>2000</td>\n",
       "      <td>82</td>\n",
       "      <td>488000.0</td>\n",
       "      <td>NEW</td>\n",
       "    </tr>\n",
       "    <tr>\n",
       "      <th>37149</th>\n",
       "      <td>2016-12</td>\n",
       "      <td>YISHUN</td>\n",
       "      <td>5 ROOM</td>\n",
       "      <td>838</td>\n",
       "      <td>YISHUN ST 81</td>\n",
       "      <td>01 TO 03</td>\n",
       "      <td>122.0</td>\n",
       "      <td>Improved</td>\n",
       "      <td>1987</td>\n",
       "      <td>69</td>\n",
       "      <td>455000.0</td>\n",
       "      <td>OLD</td>\n",
       "    </tr>\n",
       "    <tr>\n",
       "      <th>37150</th>\n",
       "      <td>2016-12</td>\n",
       "      <td>YISHUN</td>\n",
       "      <td>EXECUTIVE</td>\n",
       "      <td>664</td>\n",
       "      <td>YISHUN AVE 4</td>\n",
       "      <td>10 TO 12</td>\n",
       "      <td>181.0</td>\n",
       "      <td>Apartment</td>\n",
       "      <td>1992</td>\n",
       "      <td>74</td>\n",
       "      <td>778000.0</td>\n",
       "      <td>NEW</td>\n",
       "    </tr>\n",
       "    <tr>\n",
       "      <th>37151</th>\n",
       "      <td>2016-12</td>\n",
       "      <td>YISHUN</td>\n",
       "      <td>EXECUTIVE</td>\n",
       "      <td>325</td>\n",
       "      <td>YISHUN CTRL</td>\n",
       "      <td>01 TO 03</td>\n",
       "      <td>146.0</td>\n",
       "      <td>Maisonette</td>\n",
       "      <td>1988</td>\n",
       "      <td>70</td>\n",
       "      <td>575000.0</td>\n",
       "      <td>OLD</td>\n",
       "    </tr>\n",
       "    <tr>\n",
       "      <th>37152</th>\n",
       "      <td>2016-12</td>\n",
       "      <td>YISHUN</td>\n",
       "      <td>MULTI-GENERATION</td>\n",
       "      <td>666</td>\n",
       "      <td>YISHUN AVE 4</td>\n",
       "      <td>10 TO 12</td>\n",
       "      <td>164.0</td>\n",
       "      <td>Multi Generation</td>\n",
       "      <td>1987</td>\n",
       "      <td>70</td>\n",
       "      <td>735000.0</td>\n",
       "      <td>OLD</td>\n",
       "    </tr>\n",
       "  </tbody>\n",
       "</table>\n",
       "</div>"
      ],
      "text/plain": [
       "         month    town         flat_type block   street_name storey_range  \\\n",
       "37148  2016-12  YISHUN            5 ROOM   297  YISHUN ST 20     13 TO 15   \n",
       "37149  2016-12  YISHUN            5 ROOM   838  YISHUN ST 81     01 TO 03   \n",
       "37150  2016-12  YISHUN         EXECUTIVE   664  YISHUN AVE 4     10 TO 12   \n",
       "37151  2016-12  YISHUN         EXECUTIVE   325   YISHUN CTRL     01 TO 03   \n",
       "37152  2016-12  YISHUN  MULTI-GENERATION   666  YISHUN AVE 4     10 TO 12   \n",
       "\n",
       "       floor_area_sqm        flat_model  lease_commence_date  remaining_lease  \\\n",
       "37148           112.0          Improved                 2000               82   \n",
       "37149           122.0          Improved                 1987               69   \n",
       "37150           181.0         Apartment                 1992               74   \n",
       "37151           146.0        Maisonette                 1988               70   \n",
       "37152           164.0  Multi Generation                 1987               70   \n",
       "\n",
       "       resale_price remaining_lease_group  \n",
       "37148      488000.0                   NEW  \n",
       "37149      455000.0                   OLD  \n",
       "37150      778000.0                   NEW  \n",
       "37151      575000.0                   OLD  \n",
       "37152      735000.0                   OLD  "
      ]
     },
     "execution_count": 6,
     "metadata": {},
     "output_type": "execute_result"
    }
   ],
   "source": [
    "# 4 Create a new column named remaining_lease_group where the value is \n",
    "# 'New' if remaining_lease > 70 and 'Old' if not. \n",
    "df['remaining_lease_group'] = np.where( df['remaining_lease']>70, 'NEW', 'OLD')\n",
    "df.tail()"
   ]
  },
  {
   "cell_type": "code",
   "execution_count": 7,
   "id": "809336b7",
   "metadata": {},
   "outputs": [
    {
     "data": {
      "image/png": "[encoded data removed]",
      "text/plain": [
       "<Figure size 432x288 with 1 Axes>"
      ]
     },
     "metadata": {},
     "output_type": "display_data"
    }
   ],
   "source": [
    "# 4 Then, visualize the total number of New vs Old in pie chart\n",
    "df['remaining_lease_group'].value_counts().plot.pie(autopct='%.1f%%');"
   ]
  },
  {
   "cell_type": "code",
   "execution_count": 8,
   "id": "785edc8f",
   "metadata": {
    "scrolled": true
   },
   "outputs": [
    {
     "data": {
      "image/png": "[encoded data removed]",
      "text/plain": [
       "<Figure size 432x288 with 1 Axes>"
      ]
     },
     "metadata": {
      "needs_background": "light"
     },
     "output_type": "display_data"
    }
   ],
   "source": [
    "# 5 Show total number of resale HDB in each town and visualize using bar plot\n",
    "df.groupby(['town']).size().plot.bar();"
   ]
  },
  {
   "cell_type": "code",
   "execution_count": 9,
   "id": "4f392540",
   "metadata": {},
   "outputs": [
    {
     "data": {
      "image/png": "[encoded data removed]",
      "text/plain": [
       "<Figure size 432x288 with 1 Axes>"
      ]
     },
     "metadata": {
      "needs_background": "light"
     },
     "output_type": "display_data"
    }
   ],
   "source": [
    "# 6 Show average resale price for each flat_type and visualize using bar plot\n",
    "df.groupby(['flat_type']) ['resale_price'].mean().plot.bar();"
   ]
  },
  {
   "cell_type": "code",
   "execution_count": 10,
   "id": "7e85c9b2",
   "metadata": {},
   "outputs": [
    {
     "data": {
      "text/plain": [
       "remaining_lease_group  flat_type       \n",
       "NEW                    2 ROOM              258737.515152\n",
       "                       3 ROOM              346103.050433\n",
       "                       4 ROOM              440885.857386\n",
       "                       5 ROOM              503047.493228\n",
       "                       EXECUTIVE           609328.050558\n",
       "                       MULTI-GENERATION    805000.000000\n",
       "OLD                    1 ROOM              209714.285714\n",
       "                       2 ROOM              243998.950355\n",
       "                       3 ROOM              320815.228754\n",
       "                       4 ROOM              420262.858771\n",
       "                       5 ROOM              583360.225732\n",
       "                       EXECUTIVE           677302.620438\n",
       "                       MULTI-GENERATION    722750.000000\n",
       "Name: resale_price, dtype: float64"
      ]
     },
     "execution_count": 10,
     "metadata": {},
     "output_type": "execute_result"
    }
   ],
   "source": [
    "# 7 Show average resale price by remaining_lease_group and flat_type.\n",
    "#  Compare the difference between new and old group for each flat_type\n",
    "q7 = df.groupby(['remaining_lease_group','flat_type']) ['resale_price'].mean()\n",
    "q7"
   ]
  },
  {
   "cell_type": "code",
   "execution_count": 11,
   "id": "a24933b3",
   "metadata": {
    "scrolled": true
   },
   "outputs": [
    {
     "data": {
      "text/plain": [
       "flat_type\n",
       "1 ROOM                       NaN\n",
       "2 ROOM              14738.564797\n",
       "3 ROOM              25287.821680\n",
       "4 ROOM              20622.998615\n",
       "5 ROOM             -80312.732504\n",
       "EXECUTIVE          -67974.569879\n",
       "MULTI-GENERATION    82250.000000\n",
       "Name: resale_price, dtype: float64"
      ]
     },
     "execution_count": 11,
     "metadata": {},
     "output_type": "execute_result"
    }
   ],
   "source": [
    "q7.loc['NEW'] - q7.loc['OLD']"
   ]
  },
  {
   "cell_type": "code",
   "execution_count": 12,
   "id": "30877a71",
   "metadata": {},
   "outputs": [
    {
     "data": {
      "text/plain": [
       "657"
      ]
     },
     "execution_count": 12,
     "metadata": {},
     "output_type": "execute_result"
    }
   ],
   "source": [
    "# 8 Show how many 3 Room HDB in TAMPINES\n",
    "df.groupby(['town','flat_type']).size()['TAMPINES']['3 ROOM']"
   ]
  },
  {
   "cell_type": "code",
   "execution_count": 13,
   "id": "70a5eb2c",
   "metadata": {},
   "outputs": [
    {
     "data": {
      "image/png": "[encoded data removed]",
      "text/plain": [
       "<Figure size 432x288 with 1 Axes>"
      ]
     },
     "metadata": {
      "needs_background": "light"
     },
     "output_type": "display_data"
    }
   ],
   "source": [
    "# 9 Show the median price of HDB resale price over the lease_commence_date\n",
    "df.groupby('lease_commence_date') ['resale_price'].median().plot.line();"
   ]
  }
 ],
 "metadata": {
  "kernelspec": {
   "display_name": "Python 3",
   "language": "python",
   "name": "python3"
  },
  "language_info": {
   "codemirror_mode": {
    "name": "ipython",
    "version": 3
   },
   "file_extension": ".py",
   "mimetype": "text/x-python",
   "name": "python",
   "nbconvert_exporter": "python",
   "pygments_lexer": "ipython3",
   "version": "3.8.8"
  }
 },
 "nbformat": 4,
 "nbformat_minor": 5
}
