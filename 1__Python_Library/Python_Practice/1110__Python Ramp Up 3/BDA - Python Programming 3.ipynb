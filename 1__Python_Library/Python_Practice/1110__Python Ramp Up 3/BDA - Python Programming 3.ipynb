{
 "cells": [
  {
   "cell_type": "code",
   "execution_count": 1,
   "metadata": {},
   "outputs": [
    {
     "name": "stderr",
     "output_type": "stream",
     "text": [
      "  % Total    % Received % Xferd  Average Speed   Time    Time     Time  Current\n",
      "                                 Dload  Upload   Total   Spent    Left  Speed\n",
      "\n",
      "  0     0    0     0    0     0      0      0 --:--:-- --:--:-- --:--:--     0\n",
      "100    56  100    56    0     0     56      0  0:00:01 --:--:--  0:00:01   903\n"
     ]
    }
   ],
   "source": [
    "#1gettting the access to the file \n",
    "## download file from internet and saving/ storing in local folder eith file name \n",
    "\n",
    "!curl https://raw.githubusercontent.com/MicrosoftLearning/intropython/master/poem1.txt -o poem1.txt\n",
    "    \n",
    "#downloaded \n",
    "#crated a new file named it "
   ]
  },
  {
   "cell_type": "code",
   "execution_count": 2,
   "metadata": {},
   "outputs": [
    {
     "data": {
      "text/plain": [
       "'Loops I repeat\\nloops\\nloops\\nloops\\nI repeat\\nuntil I\\nbreak\\n'"
      ]
     },
     "execution_count": 2,
     "metadata": {},
     "output_type": "execute_result"
    }
   ],
   "source": [
    "##2 open the file in read mode \n",
    "poem_file = open('poem1.txt', 'r') \n",
    "\n",
    "## 3 read the data \n",
    "\n",
    "poem_contents = poem_file.read()\n",
    "poem_contents"
   ]
  },
  {
   "cell_type": "code",
   "execution_count": 3,
   "metadata": {
    "scrolled": false
   },
   "outputs": [
    {
     "name": "stdout",
     "output_type": "stream",
     "text": [
      "LOOPS I REPEAT\n",
      " This is with upper string\n",
      "\n",
      "oops\n",
      "loops\n",
      "I repeat This is with slicing\n"
     ]
    }
   ],
   "source": [
    "poem_file = open('poem1.txt', 'r') ##.open() to reset read() to the beginning of the file.\n",
    "p10 = poem_file.read(15).upper()\n",
    "print(p10, 'This is with upper string\\n')\n",
    "\n",
    "#read with slicing\n",
    "# poem_file = open('poem1.txt', 'r') #if did not open again it will continue from last read\n",
    "p10 = poem_file.read()\n",
    "print(p10[7:26], 'This is with slicing')"
   ]
  },
  {
   "cell_type": "code",
   "execution_count": 4,
   "metadata": {},
   "outputs": [
    {
     "name": "stdout",
     "output_type": "stream",
     "text": [
      "LOOPS I REPEAT\n",
      " This is with upper string\n",
      "\n",
      "Loops\n",
      " This is with title string\n",
      "\n",
      "loops\n",
      "\n",
      "False isalpha() because of `\\n`\n",
      "\n",
      " repeat\n",
      "loops\n",
      "loops This is with slicing\n",
      "\n"
     ]
    }
   ],
   "source": [
    "# [ ] review and run example\n",
    "poem_file = open('poem1.txt', 'r')\n",
    "poem_part = poem_file.read(15).upper()\n",
    "print(poem_part, 'This is with upper string\\n')\n",
    "# [ ] review and run example\n",
    "poem_part = poem_file.read(6).title()\n",
    "print(poem_part, 'This is with title string\\n')\n",
    "# [ ] review and run example\n",
    "poem_part = poem_file.read(6)\n",
    "print(poem_part)\n",
    "print(poem_part.isalpha(), \"isalpha() because of `\\\\n`\")\n",
    "poem_part\n",
    "# [ ] review and run example\n",
    "poem_file = open('poem1.txt', 'r')\n",
    "poem_text = poem_file.read()\n",
    "print('\\n', poem_text[8:26] , 'This is with slicing\\n')"
   ]
  },
  {
   "cell_type": "markdown",
   "metadata": {},
   "source": [
    "# My own assignment"
   ]
  },
  {
   "cell_type": "code",
   "execution_count": 5,
   "metadata": {},
   "outputs": [
    {
     "name": "stderr",
     "output_type": "stream",
     "text": [
      "  % Total    % Received % Xferd  Average Speed   Time    Time     Time  Current\n",
      "                                 Dload  Upload   Total   Spent    Left  Speed\n",
      "\n",
      "  0     0    0     0    0     0      0      0 --:--:-- --:--:-- --:--:--     0\n",
      "100    56  100    56    0     0     56      0  0:00:01 --:--:--  0:00:01   170\n"
     ]
    },
    {
     "data": {
      "text/plain": [
       "'Beijing\\nCairo\\nLondon\\nNairobi\\nNew York City\\nSydney\\nTokyo\\n'"
      ]
     },
     "execution_count": 5,
     "metadata": {},
     "output_type": "execute_result"
    }
   ],
   "source": [
    "# My own exercise from OmniLearn\n",
    "!curl https://raw.githubusercontent.com/MicrosoftLearning/intropython/master/cities -o cities.txt\n",
    "    \n",
    "# Task 1 Save file as text\n",
    "task_file = open('cities.txt', 'r') \n",
    "task_contents = task_file.read()\n",
    "task_contents"
   ]
  },
  {
   "cell_type": "code",
   "execution_count": 16,
   "metadata": {},
   "outputs": [
    {
     "name": "stdout",
     "output_type": "stream",
     "text": [
      "-----Task 2-----\n",
      "BEIJING \n",
      "This is with upper string\n",
      "\n",
      "-----Task 3-----\n",
      "BCLNNYCST\n",
      "\n",
      "-----Task 4-----\n",
      "B\n",
      "C\n",
      "L\n",
      "N\n",
      "NYC\n",
      "S\n",
      "T\n",
      "\n"
     ]
    }
   ],
   "source": [
    "# Task 2 iterate through the characters in cities\n",
    "print ('-----Task 2-----')\n",
    "my_file = open('cities.txt', 'r')\n",
    "my_part = my_file.read(7).upper()\n",
    "print(my_part, '\\nThis is with upper string')\n",
    "\n",
    "# Task 3 test if .isupper(), if True append the character to a string variable: initials\n",
    "print ('\\n-----Task 3-----')\n",
    "initials = ''\n",
    "my_file = open('cities.txt', 'r')\n",
    "cities = my_file.read()\n",
    "for city in cities:\n",
    "    if city.isupper():\n",
    "        initials += city\n",
    "print(initials)\n",
    "\n",
    "# Task 4 else if (elif) character is \"\\n\", if True append the \"\\n\" to initials\n",
    "print ('\\n-----Task 4-----')\n",
    "initials = ''\n",
    "my_file = open('cities.txt', 'r')\n",
    "cities = my_file.read()\n",
    "for city in cities:\n",
    "    if city.isupper():\n",
    "        initials += city\n",
    "    elif city == '\\n':\n",
    "        initials += city\n",
    "        \n",
    "print (initials)"
   ]
  },
  {
   "cell_type": "markdown",
   "metadata": {},
   "source": [
    "# eLearning (readline & close)"
   ]
  },
  {
   "cell_type": "code",
   "execution_count": 32,
   "metadata": {},
   "outputs": [
    {
     "name": "stderr",
     "output_type": "stream",
     "text": [
      "  % Total    % Received % Xferd  Average Speed   Time    Time     Time  Current\n",
      "                                 Dload  Upload   Total   Spent    Left  Speed\n",
      "\n",
      "  0     0    0     0    0     0      0      0 --:--:-- --:--:-- --:--:--     0\n",
      "100    56  100    56    0     0     56      0  0:00:01 --:--:--  0:00:01  1191\n"
     ]
    },
    {
     "data": {
      "text/plain": [
       "['Loops I repeat\\n',\n",
       " 'loops\\n',\n",
       " 'loops\\n',\n",
       " 'loops\\n',\n",
       " 'I repeat\\n',\n",
       " 'until I\\n',\n",
       " 'break\\n']"
      ]
     },
     "execution_count": 32,
     "metadata": {},
     "output_type": "execute_result"
    }
   ],
   "source": [
    "!curl https://raw.githubusercontent.com/MicrosoftLearning/intropython/master/poem1.txt -o poem1.txt\n",
    "\n",
    "poem_file = open('poem1.txt', 'r') \n",
    "\n",
    "## 3 read the data \n",
    "\n",
    "# readlines and print as  aslist \n",
    "poem_contents = poem_file.readlines()\n",
    "poem_contents\n"
   ]
  },
  {
   "cell_type": "code",
   "execution_count": 33,
   "metadata": {},
   "outputs": [
    {
     "name": "stdout",
     "output_type": "stream",
     "text": [
      "Loops I repeat\n",
      "\n",
      "loops\n",
      "\n",
      "loops\n",
      "\n",
      "loops\n",
      "\n",
      "I repeat\n",
      "\n",
      "until I\n",
      "\n",
      "break\n",
      "\n"
     ]
    }
   ],
   "source": [
    "# not good if we dun want to have too much spacing.\n",
    "for line in poem_contents:\n",
    "    print(line)"
   ]
  },
  {
   "cell_type": "code",
   "execution_count": 34,
   "metadata": {},
   "outputs": [
    {
     "name": "stdout",
     "output_type": "stream",
     "text": [
      "['Loops I repeat', 'loops', 'loops', 'loops', 'I repeat', 'until I', 'break']\n"
     ]
    }
   ],
   "source": [
    "count = 0\n",
    "for line in poem_contents:\n",
    "    poem_contents[count] = line[:-1]\n",
    "    count += 1\n",
    "\n",
    "print(poem_contents)"
   ]
  },
  {
   "cell_type": "code",
   "execution_count": 36,
   "metadata": {},
   "outputs": [
    {
     "name": "stdout",
     "output_type": "stream",
     "text": [
      "Loops I repeat\n",
      "loops\n",
      "loops\n",
      "loops\n",
      "I repeat\n",
      "until I\n",
      "break\n"
     ]
    }
   ],
   "source": [
    "# [ ] print each list item \n",
    "for line in poem_contents:\n",
    "    print(line)\n",
    "    \n",
    "    \n",
    "#close ot also "
   ]
  },
  {
   "cell_type": "code",
   "execution_count": 37,
   "metadata": {},
   "outputs": [
    {
     "name": "stdout",
     "output_type": "stream",
     "text": [
      "Loops i repeat\n",
      "Loops\n",
      "Loops\n",
      "Loops\n",
      "I repeat\n",
      "Until i\n",
      "Break\n"
     ]
    },
    {
     "name": "stderr",
     "output_type": "stream",
     "text": [
      "  % Total    % Received % Xferd  Average Speed   Time    Time     Time  Current\n",
      "                                 Dload  Upload   Total   Spent    Left  Speed\n",
      "\n",
      "  0     0    0     0    0     0      0      0 --:--:-- --:--:-- --:--:--     0\n",
      "100    56  100    56    0     0     56      0  0:00:01 --:--:--  0:00:01  1750\n"
     ]
    }
   ],
   "source": [
    "!curl https://raw.githubusercontent.com/MicrosoftLearning/intropython/master/poem1.txt -o poem1.txt\n",
    "\n",
    "poem_file = open('poem1.txt', 'r') #read mode \n",
    "\n",
    "## 3 read the data \n",
    "\n",
    "poem_line = poem_file.readline().strip('\\n')\n",
    "while poem_line:\n",
    "    print(poem_line.capitalize())\n",
    "    poem_line= poem_file.readline().strip('\\n')\n",
    "     \n",
    "## 4 close the \n",
    "poem_file.close()\n"
   ]
  },
  {
   "cell_type": "code",
   "execution_count": null,
   "metadata": {},
   "outputs": [],
   "source": [
    "poem_file = open('poem1.txt', 'w') ## write mode \n",
    "poem_file.write(\"im overwrting theloops file\")\n",
    "\n"
   ]
  },
  {
   "cell_type": "code",
   "execution_count": null,
   "metadata": {},
   "outputs": [],
   "source": [
    "poem_file = open('poem1.txt', 'r')\n",
    "\n",
    "print(poem_file.read())\n"
   ]
  },
  {
   "cell_type": "code",
   "execution_count": null,
   "metadata": {},
   "outputs": [],
   "source": [
    "poem_file = open('poem1.txt', 'w+')\n",
    "poem_file.write(\"first line \\n secodn lines \\n\")\n",
    "\n",
    "poem_file.seek(0)#go back to the first line \n",
    "new_txt = poem_file.read()\n",
    "print(new_txt)"
   ]
  },
  {
   "cell_type": "markdown",
   "metadata": {},
   "source": [
    "# eLearning (Numpy)"
   ]
  },
  {
   "cell_type": "code",
   "execution_count": 72,
   "metadata": {},
   "outputs": [],
   "source": [
    "import numpy as np\n",
    "height = [1.73, 1.68, 1.71, 1.89, 1.79]\n",
    "weight = [65.4, 59.2, 63.6, 88.4, 68.7]"
   ]
  },
  {
   "cell_type": "code",
   "execution_count": 83,
   "metadata": {},
   "outputs": [
    {
     "name": "stdout",
     "output_type": "stream",
     "text": [
      "[1.73 1.68 1.71 1.89 1.79]\n",
      "[65.4 59.2 63.6 88.4 68.7]\n",
      "\n",
      "Show caclulated BMI\n",
      "[21.85171573 20.97505669 21.75028214 24.7473475  21.44127836]\n",
      "\n",
      "Show what BMI is more than 23\n",
      "[False False False  True False]\n",
      "\n",
      "Show the number of BMI that is more than 23\n",
      "[24.7473475]\n"
     ]
    }
   ],
   "source": [
    "np_height = np.array(height)\n",
    "np_weight = np.array(weight)\n",
    "print (np_height)\n",
    "print (np_weight)\n",
    "\n",
    "bmi = np_weight / np_height ** 2\n",
    "print (\"\\nShow caclulated BMI\")\n",
    "print (bmi)\n",
    "\n",
    "print (\"\\nShow what BMI is more than 23\")\n",
    "print (bmi > 23)\n",
    "\n",
    "print (\"\\nShow the number of BMI that is more than 23\")\n",
    "print (bmi[bmi>23])"
   ]
  },
  {
   "cell_type": "code",
   "execution_count": 106,
   "metadata": {
    "scrolled": true
   },
   "outputs": [
    {
     "name": "stdout",
     "output_type": "stream",
     "text": [
      "Rows>>> and collum^^^... example i call for number 1.71 \n",
      "\n",
      "[[ 1.73  1.68  1.71  1.89  1.79]\n",
      " [65.4  59.2  63.6  88.4  68.7 ]]\n",
      "\n",
      " 1.71\n",
      "\n",
      " [[ 1.68  1.71]\n",
      " [59.2  63.6 ]]\n",
      "\n",
      " [65.4 59.2 63.6 88.4 68.7]\n",
      "\n",
      "\n",
      " (2, 5)\n"
     ]
    }
   ],
   "source": [
    "# 2D numpy Arrays\n",
    "import numpy as np\n",
    "np_2d = np.array([[1.73, 1.68, 1.71, 1.89, 1.79],[65.4, 59.2, 63.6, 88.4, 68.7]])\n",
    "print (\"Rows>>> and collum^^^... example i call for number 1.71 \\n\")\n",
    "print (np_2d)\n",
    "print ('\\n', np_2d[0,2])\n",
    "print ('\\n', np_2d[:,1:3])\n",
    "print ('\\n', np_2d[1,:])\n",
    "\n",
    "print ('\\n\\n',np_2d.shape)"
   ]
  },
  {
   "cell_type": "code",
   "execution_count": 54,
   "metadata": {},
   "outputs": [],
   "source": [
    "import numpy as np\n",
    "\n",
    "# library with many functions \n",
    "## for eg:\n",
    "##if all these pop() split() append() upper() lower() remove() title() insert()\n",
    "#are stored in library ABCDEFG, \n",
    "\n",
    "# to accedd the function , we have to go via the library ABCDEFG\n",
    "\n",
    "#import ABCDEFG as ab\n",
    "#ab.pop() \n",
    "#ab.split()"
   ]
  },
  {
   "cell_type": "code",
   "execution_count": 41,
   "metadata": {},
   "outputs": [
    {
     "ename": "TypeError",
     "evalue": "unsupported operand type(s) for -: 'list' and 'list'",
     "output_type": "error",
     "traceback": [
      "\u001b[1;31m---------------------------------------------------------------------------\u001b[0m",
      "\u001b[1;31mTypeError\u001b[0m                                 Traceback (most recent call last)",
      "\u001b[1;32m~\\AppData\\Local\\Temp/ipykernel_29132/4236864385.py\u001b[0m in \u001b[0;36m<module>\u001b[1;34m\u001b[0m\n\u001b[0;32m      1\u001b[0m \u001b[0ma\u001b[0m \u001b[1;33m=\u001b[0m \u001b[1;33m[\u001b[0m\u001b[1;36m1\u001b[0m\u001b[1;33m,\u001b[0m\u001b[1;36m1\u001b[0m\u001b[1;33m,\u001b[0m\u001b[1;36m1\u001b[0m\u001b[1;33m]\u001b[0m\u001b[1;33m\u001b[0m\u001b[1;33m\u001b[0m\u001b[0m\n\u001b[0;32m      2\u001b[0m \u001b[0mb\u001b[0m \u001b[1;33m=\u001b[0m \u001b[1;33m[\u001b[0m\u001b[1;36m2\u001b[0m\u001b[1;33m,\u001b[0m\u001b[1;36m2\u001b[0m\u001b[1;33m,\u001b[0m\u001b[1;36m2\u001b[0m\u001b[1;33m]\u001b[0m\u001b[1;33m\u001b[0m\u001b[1;33m\u001b[0m\u001b[0m\n\u001b[1;32m----> 3\u001b[1;33m \u001b[0ma\u001b[0m \u001b[1;33m-\u001b[0m \u001b[0mb\u001b[0m\u001b[1;33m\u001b[0m\u001b[1;33m\u001b[0m\u001b[0m\n\u001b[0m",
      "\u001b[1;31mTypeError\u001b[0m: unsupported operand type(s) for -: 'list' and 'list'"
     ]
    }
   ],
   "source": [
    "# Without numpy cannot add a list\n",
    "a = [1,1,1]\n",
    "b = [2,2,2]\n",
    "a - b"
   ]
  },
  {
   "cell_type": "code",
   "execution_count": 42,
   "metadata": {},
   "outputs": [
    {
     "data": {
      "text/plain": [
       "array([-1, -1, -1])"
      ]
     },
     "execution_count": 42,
     "metadata": {},
     "output_type": "execute_result"
    }
   ],
   "source": [
    "import numpy as np\n",
    "a1 = np.array(a)\n",
    "b1 = np.array(b)\n",
    "a1-b1"
   ]
  },
  {
   "cell_type": "markdown",
   "metadata": {},
   "source": [
    "## numpy functions\n",
    "1. arrange\n",
    "2. linspace\n",
    "3. zeros\n",
    "4. ones \n",
    "5. array"
   ]
  },
  {
   "cell_type": "code",
   "execution_count": 43,
   "metadata": {},
   "outputs": [
    {
     "name": "stdout",
     "output_type": "stream",
     "text": [
      "[1, 2, 3, 4, 5, 6, 7, 8, 9, 10, 11, 12, 13, 14, 15, 16, 17, 18, 19, 20, 21, 22, 23, 24, 25, 26, 27, 28, 29, 30, 31, 32, 33, 34, 35, 36, 37, 38, 39, 40, 41, 42, 43, 44, 45, 46, 47, 48, 49, 50, 51, 52, 53, 54, 55, 56, 57, 58, 59, 60, 61, 62, 63, 64, 65, 66, 67, 68, 69, 70, 71, 72, 73, 74, 75, 76, 77, 78, 79, 80, 81, 82, 83, 84, 85, 86, 87, 88, 89, 90, 91, 92, 93, 94, 95, 96, 97, 98, 99]\n"
     ]
    }
   ],
   "source": [
    "# range of 1-100 display\n",
    "##(1,100,1) =. startingpoint, ending point, incremental value \n",
    "a = []\n",
    "for i in range(1,100,1):\n",
    "    a.append(i)\n",
    "print(a)"
   ]
  },
  {
   "cell_type": "code",
   "execution_count": 44,
   "metadata": {},
   "outputs": [
    {
     "data": {
      "text/plain": [
       "array([ 1,  2,  3,  4,  5,  6,  7,  8,  9, 10, 11, 12, 13, 14, 15, 16, 17,\n",
       "       18, 19, 20, 21, 22, 23, 24, 25, 26, 27, 28, 29, 30, 31, 32, 33, 34,\n",
       "       35, 36, 37, 38, 39, 40, 41, 42, 43, 44, 45, 46, 47, 48, 49, 50, 51,\n",
       "       52, 53, 54, 55, 56, 57, 58, 59, 60, 61, 62, 63, 64, 65, 66, 67, 68,\n",
       "       69, 70, 71, 72, 73, 74, 75, 76, 77, 78, 79, 80, 81, 82, 83, 84, 85,\n",
       "       86, 87, 88, 89, 90, 91, 92, 93, 94, 95, 96, 97, 98, 99])"
      ]
     },
     "execution_count": 44,
     "metadata": {},
     "output_type": "execute_result"
    }
   ],
   "source": [
    "# using numpy \n",
    "a = np.arange(1,100,1)\n",
    "a"
   ]
  },
  {
   "cell_type": "code",
   "execution_count": 49,
   "metadata": {},
   "outputs": [
    {
     "name": "stdout",
     "output_type": "stream",
     "text": [
      "Help on built-in function arange in module numpy:\n",
      "\n",
      "arange(...)\n",
      "    arange([start,] stop[, step,], dtype=None, *, like=None)\n",
      "    \n",
      "    Return evenly spaced values within a given interval.\n",
      "    \n",
      "    Values are generated within the half-open interval ``[start, stop)``\n",
      "    (in other words, the interval including `start` but excluding `stop`).\n",
      "    For integer arguments the function is equivalent to the Python built-in\n",
      "    `range` function, but returns an ndarray rather than a list.\n",
      "    \n",
      "    When using a non-integer step, such as 0.1, the results will often not\n",
      "    be consistent.  It is better to use `numpy.linspace` for these cases.\n",
      "    \n",
      "    Parameters\n",
      "    ----------\n",
      "    start : integer or real, optional\n",
      "        Start of interval.  The interval includes this value.  The default\n",
      "        start value is 0.\n",
      "    stop : integer or real\n",
      "        End of interval.  The interval does not include this value, except\n",
      "        in some cases where `step` is not an integer and floating point\n",
      "        round-off affects the length of `out`.\n",
      "    step : integer or real, optional\n",
      "        Spacing between values.  For any output `out`, this is the distance\n",
      "        between two adjacent values, ``out[i+1] - out[i]``.  The default\n",
      "        step size is 1.  If `step` is specified as a position argument,\n",
      "        `start` must also be given.\n",
      "    dtype : dtype\n",
      "        The type of the output array.  If `dtype` is not given, infer the data\n",
      "        type from the other input arguments.\n",
      "    like : array_like\n",
      "        Reference object to allow the creation of arrays which are not\n",
      "        NumPy arrays. If an array-like passed in as ``like`` supports\n",
      "        the ``__array_function__`` protocol, the result will be defined\n",
      "        by it. In this case, it ensures the creation of an array object\n",
      "        compatible with that passed in via this argument.\n",
      "    \n",
      "        .. note::\n",
      "            The ``like`` keyword is an experimental feature pending on\n",
      "            acceptance of :ref:`NEP 35 <NEP35>`.\n",
      "    \n",
      "        .. versionadded:: 1.20.0\n",
      "    \n",
      "    Returns\n",
      "    -------\n",
      "    arange : ndarray\n",
      "        Array of evenly spaced values.\n",
      "    \n",
      "        For floating point arguments, the length of the result is\n",
      "        ``ceil((stop - start)/step)``.  Because of floating point overflow,\n",
      "        this rule may result in the last element of `out` being greater\n",
      "        than `stop`.\n",
      "    \n",
      "    See Also\n",
      "    --------\n",
      "    numpy.linspace : Evenly spaced numbers with careful handling of endpoints.\n",
      "    numpy.ogrid: Arrays of evenly spaced numbers in N-dimensions.\n",
      "    numpy.mgrid: Grid-shaped arrays of evenly spaced numbers in N-dimensions.\n",
      "    \n",
      "    Examples\n",
      "    --------\n",
      "    >>> np.arange(3)\n",
      "    array([0, 1, 2])\n",
      "    >>> np.arange(3.0)\n",
      "    array([ 0.,  1.,  2.])\n",
      "    >>> np.arange(3,7)\n",
      "    array([3, 4, 5, 6])\n",
      "    >>> np.arange(3,7,2)\n",
      "    array([3, 5])\n",
      "\n"
     ]
    }
   ],
   "source": [
    "help(np.arange)"
   ]
  },
  {
   "cell_type": "code",
   "execution_count": 50,
   "metadata": {},
   "outputs": [
    {
     "data": {
      "text/plain": [
       "array([ 1.        ,  1.04522613,  1.09045226,  1.13567839,  1.18090452,\n",
       "        1.22613065,  1.27135678,  1.31658291,  1.36180905,  1.40703518,\n",
       "        1.45226131,  1.49748744,  1.54271357,  1.5879397 ,  1.63316583,\n",
       "        1.67839196,  1.72361809,  1.76884422,  1.81407035,  1.85929648,\n",
       "        1.90452261,  1.94974874,  1.99497487,  2.04020101,  2.08542714,\n",
       "        2.13065327,  2.1758794 ,  2.22110553,  2.26633166,  2.31155779,\n",
       "        2.35678392,  2.40201005,  2.44723618,  2.49246231,  2.53768844,\n",
       "        2.58291457,  2.6281407 ,  2.67336683,  2.71859296,  2.7638191 ,\n",
       "        2.80904523,  2.85427136,  2.89949749,  2.94472362,  2.98994975,\n",
       "        3.03517588,  3.08040201,  3.12562814,  3.17085427,  3.2160804 ,\n",
       "        3.26130653,  3.30653266,  3.35175879,  3.39698492,  3.44221106,\n",
       "        3.48743719,  3.53266332,  3.57788945,  3.62311558,  3.66834171,\n",
       "        3.71356784,  3.75879397,  3.8040201 ,  3.84924623,  3.89447236,\n",
       "        3.93969849,  3.98492462,  4.03015075,  4.07537688,  4.12060302,\n",
       "        4.16582915,  4.21105528,  4.25628141,  4.30150754,  4.34673367,\n",
       "        4.3919598 ,  4.43718593,  4.48241206,  4.52763819,  4.57286432,\n",
       "        4.61809045,  4.66331658,  4.70854271,  4.75376884,  4.79899497,\n",
       "        4.84422111,  4.88944724,  4.93467337,  4.9798995 ,  5.02512563,\n",
       "        5.07035176,  5.11557789,  5.16080402,  5.20603015,  5.25125628,\n",
       "        5.29648241,  5.34170854,  5.38693467,  5.4321608 ,  5.47738693,\n",
       "        5.52261307,  5.5678392 ,  5.61306533,  5.65829146,  5.70351759,\n",
       "        5.74874372,  5.79396985,  5.83919598,  5.88442211,  5.92964824,\n",
       "        5.97487437,  6.0201005 ,  6.06532663,  6.11055276,  6.15577889,\n",
       "        6.20100503,  6.24623116,  6.29145729,  6.33668342,  6.38190955,\n",
       "        6.42713568,  6.47236181,  6.51758794,  6.56281407,  6.6080402 ,\n",
       "        6.65326633,  6.69849246,  6.74371859,  6.78894472,  6.83417085,\n",
       "        6.87939698,  6.92462312,  6.96984925,  7.01507538,  7.06030151,\n",
       "        7.10552764,  7.15075377,  7.1959799 ,  7.24120603,  7.28643216,\n",
       "        7.33165829,  7.37688442,  7.42211055,  7.46733668,  7.51256281,\n",
       "        7.55778894,  7.60301508,  7.64824121,  7.69346734,  7.73869347,\n",
       "        7.7839196 ,  7.82914573,  7.87437186,  7.91959799,  7.96482412,\n",
       "        8.01005025,  8.05527638,  8.10050251,  8.14572864,  8.19095477,\n",
       "        8.2361809 ,  8.28140704,  8.32663317,  8.3718593 ,  8.41708543,\n",
       "        8.46231156,  8.50753769,  8.55276382,  8.59798995,  8.64321608,\n",
       "        8.68844221,  8.73366834,  8.77889447,  8.8241206 ,  8.86934673,\n",
       "        8.91457286,  8.95979899,  9.00502513,  9.05025126,  9.09547739,\n",
       "        9.14070352,  9.18592965,  9.23115578,  9.27638191,  9.32160804,\n",
       "        9.36683417,  9.4120603 ,  9.45728643,  9.50251256,  9.54773869,\n",
       "        9.59296482,  9.63819095,  9.68341709,  9.72864322,  9.77386935,\n",
       "        9.81909548,  9.86432161,  9.90954774,  9.95477387, 10.        ])"
      ]
     },
     "execution_count": 50,
     "metadata": {},
     "output_type": "execute_result"
    }
   ],
   "source": [
    "# dummy data starting from 1,10 genrate 200 number s\n",
    "b = np.linspace(1,10,200)\n",
    "b"
   ]
  },
  {
   "cell_type": "code",
   "execution_count": 53,
   "metadata": {},
   "outputs": [
    {
     "data": {
      "text/plain": [
       "array([[0., 0., 0.],\n",
       "       [0., 0., 0.]])"
      ]
     },
     "execution_count": 53,
     "metadata": {},
     "output_type": "execute_result"
    }
   ],
   "source": [
    "a1 = np.zeros((2,3,))\n",
    "a1"
   ]
  },
  {
   "cell_type": "markdown",
   "metadata": {},
   "source": [
    "# assignment \n",
    "1. imports and opens a file in append+ mode a+ mode \n",
    "\n",
    "2. appends additional data to a file using function write ,\n",
    "            \n",
    "            Rio de Janeiro,Brazil,30.0,18.0\\n\n",
    "    \n",
    "    after writing the cursor is in the endof line \n",
    "3.  use the seek(0) to go back to start of line ,goes back to the heading\n",
    "4. reads from the file using function readline(), reading only the heading \n",
    "5. split the header using ','\n",
    "6. read from the file using function readline(), to read the data_values \n",
    "\n",
    "7. while data_values :\n",
    "    \n",
    "        7.1 split the data_values using ',' \n",
    "        7.2 to displays each city name and month average high   temperature in Celsius\n",
    "    \n",
    "    to display the below text \n",
    "     City of Rio De Janeiro month ave: highest high is 30.0 Celsius\n",
    "     \n",
    "     \n",
    "     City             = comes from the header_list[0].title() or capitalize() \n",
    "     of                =  hardcoded \n",
    "     Rio De Janeiro    =  comes from data_values_list[0]\n",
    "     month ave: highest high = comes from header_list[2]\n",
    "     is                    =  hardcoded\n",
    "     30.0                  = data_values_list[2]\n",
    "     Celsius               =  hardcoded\n",
    "     \n",
    "     data_values  = weather.readline(0\n",
    "     \n",
    "8. close()\n",
    "\n",
    "\n",
    "\n"
   ]
  },
  {
   "cell_type": "code",
   "execution_count": null,
   "metadata": {},
   "outputs": [],
   "source": [
    "!curl https://raw.githubusercontent.com/MicrosoftLearning/intropython/master/world_temp_mean.csv -o mean_temp.txt"
   ]
  },
  {
   "cell_type": "code",
   "execution_count": null,
   "metadata": {},
   "outputs": [],
   "source": [
    "#1 open the file \n",
    "weather_file = open('mean_temp.txt', \"a+\")\n",
    "\n",
    "#2. write the data \n",
    "weather_file.write(\"Rio de Janeiro,Brazil,30.0,18.0\\n\")\n",
    "\n",
    "#3. seek(0)\n",
    "weather_file.seek(0)\n",
    "\n",
    "\n",
    "#4. read header data and store in a variable heading \n",
    "heading = weather_file.readline()\n",
    "#print(heading)\n",
    "\n",
    "#5. split of header data to store all the individual header data into a variable heading_+list \n",
    "\n",
    "heading_list = heading.split(\",\")\n",
    "\n",
    "#6. read the data values and store in a variable data_values \n",
    "data_values  = weather_file.readline()\n",
    "\n",
    "\n",
    "#7. while loop \n",
    "while data_values:\n",
    "    \n",
    "    # 7.1 split of data values to store all the individual data values into a variable data values list \n",
    "    data_values_list  = data_values.split(\",\")\n",
    "    \n",
    "    print( heading_list[0].capitalize(),\"of\", data_values_list[0], heading_list[2], \n",
    "         \"is\", data_values_list[2], \"Celsius\")\n",
    "    \n",
    "    #7. 2 read the data values and store in a variable data_values \n",
    "    data_values = weather_file.readline()\n",
    "    \n",
    "#8 close the file \n",
    "weather_file.close()    \n",
    "    \n",
    "\n"
   ]
  },
  {
   "cell_type": "code",
   "execution_count": null,
   "metadata": {},
   "outputs": [],
   "source": []
  }
 ],
 "metadata": {
  "kernelspec": {
   "display_name": "Python 3",
   "language": "python",
   "name": "python3"
  },
  "language_info": {
   "codemirror_mode": {
    "name": "ipython",
    "version": 3
   },
   "file_extension": ".py",
   "mimetype": "text/x-python",
   "name": "python",
   "nbconvert_exporter": "python",
   "pygments_lexer": "ipython3",
   "version": "3.8.8"
  }
 },
 "nbformat": 4,
 "nbformat_minor": 4
}
