{
 "cells": [
  {
   "cell_type": "code",
   "execution_count": null,
   "metadata": {},
   "outputs": [],
   "source": []
  },
  {
   "cell_type": "markdown",
   "metadata": {},
   "source": [
    "# Class Activity"
   ]
  },
  {
   "cell_type": "code",
   "execution_count": 1,
   "metadata": {},
   "outputs": [
    {
     "name": "stderr",
     "output_type": "stream",
     "text": [
      "  % Total    % Received % Xferd  Average Speed   Time    Time     Time  Current\n",
      "                                 Dload  Upload   Total   Spent    Left  Speed\n",
      "\n",
      "  0     0    0     0    0     0      0      0 --:--:-- --:--:-- --:--:--     0\n",
      "100   161  100   161    0     0   3220      0 --:--:-- --:--:-- --:--:--  3354\n"
     ]
    }
   ],
   "source": [
    "# !curl https://raw.githubusercontent.com/MicrosoftLearning/intropython/master/elements1_20.txt -o elements1_20.txt"
   ]
  },
  {
   "cell_type": "code",
   "execution_count": null,
   "metadata": {},
   "outputs": [],
   "source": [
    "# Download elements1_20.txt\n",
    "# Read the file and store in a list\n",
    "# Create a function that asks user to input 5 elements (no repetition). Return the answers as list\n",
    "# Calculate the score: correct_answers/5 * 100"
   ]
  },
  {
   "cell_type": "code",
   "execution_count": 10,
   "metadata": {},
   "outputs": [],
   "source": [
    "# Create a function that asks user to input 5 elements (no repetition). Return the answers as list\n",
    "def get_names():\n",
    "    elements = []\n",
    "    \n",
    "    while len(elements) < 5:\n",
    "        user_input = input( \"Enter the name of an element: \" ).lower().strip()\n",
    "        \n",
    "        if user_input == '':\n",
    "            print('Input is invalid')\n",
    "        elif user_input in elements:\n",
    "            print(user_input, 'was already entered')\n",
    "        else:\n",
    "            elements.append(user_input)\n",
    "    \n",
    "    return elements"
   ]
  },
  {
   "cell_type": "code",
   "execution_count": 14,
   "metadata": {},
   "outputs": [
    {
     "name": "stdout",
     "output_type": "stream",
     "text": [
      "Enter the name of an element: boron\n",
      "Enter the name of an element: zinc\n",
      "Enter the name of an element: calcium\n",
      "Enter the name of an element: hydrogen\n",
      "Enter the name of an element: python\n",
      "\n",
      "60.0% correct\n",
      "Found: Boron Calcium Hydrogen\n",
      "Not Found: Zinc Python\n"
     ]
    }
   ],
   "source": [
    "# Read the file and store in a list\n",
    "file = open('elements1_20.txt', 'r')\n",
    "first_20_elements = []\n",
    "\n",
    "while True:\n",
    "    line = file.readline().strip().lower()\n",
    "    \n",
    "    if line == '':\n",
    "        break\n",
    "\n",
    "    first_20_elements.append(line)\n",
    "\n",
    "file.close()\n",
    "\n",
    "# Calculate the score: correct_answers/5 * 100\n",
    "answers = get_names()\n",
    "\n",
    "correct_answers = []\n",
    "incorrect_answers = []\n",
    "\n",
    "for answer in answers:\n",
    "    if answer in first_20_elements:\n",
    "        correct_answers.append(answer)\n",
    "    else:\n",
    "        incorrect_answers.append(answer)\n",
    "        \n",
    "percent_correct = len(correct_answers)/len(answers) * 100\n",
    "\n",
    "print(f'\\n{percent_correct}% correct')\n",
    "print(f\"Found: {' '.join(correct_answers).title()}\")\n",
    "print(f\"Not Found: {' '.join(incorrect_answers).title()}\")"
   ]
  },
  {
   "cell_type": "code",
   "execution_count": 4,
   "metadata": {},
   "outputs": [
    {
     "data": {
      "text/plain": [
       "['Hydrogen\\n',\n",
       " 'Helium\\n',\n",
       " 'Lithium\\n',\n",
       " 'Beryllium\\n',\n",
       " 'Boron\\n',\n",
       " 'Carbon\\n',\n",
       " 'Nitrogen\\n',\n",
       " 'Oxygen\\n',\n",
       " 'Fluorine\\n',\n",
       " 'Neon\\n',\n",
       " 'Sodium\\n',\n",
       " 'Magnesium\\n',\n",
       " 'Aluminum\\n',\n",
       " 'Silicon\\n',\n",
       " 'Phosphorus\\n',\n",
       " 'Sulfur\\n',\n",
       " 'Chlorine\\n',\n",
       " 'Argon\\n',\n",
       " 'Potassium\\n',\n",
       " 'Calcium',\n",
       " '']"
      ]
     },
     "execution_count": 4,
     "metadata": {},
     "output_type": "execute_result"
    }
   ],
   "source": [
    "first_20_elements"
   ]
  },
  {
   "cell_type": "markdown",
   "metadata": {},
   "source": [
    "# Exercise"
   ]
  },
  {
   "cell_type": "code",
   "execution_count": 35,
   "metadata": {},
   "outputs": [
    {
     "name": "stderr",
     "output_type": "stream",
     "text": [
      "  % Total    % Received % Xferd  Average Speed   Time    Time     Time  Current\n",
      "                                 Dload  Upload   Total   Spent    Left  Speed\n",
      "\n",
      "  0     0    0     0    0     0      0      0 --:--:-- --:--:-- --:--:--     0\n",
      "100   222  100   222    0     0   3964      0 --:--:-- --:--:-- --:--:--  4036\n"
     ]
    }
   ],
   "source": [
    "# !curl https://raw.githubusercontent.com/MicrosoftLearning/intropython/master/world_temp_mean.csv -o mean_temp.txt"
   ]
  },
  {
   "cell_type": "code",
   "execution_count": null,
   "metadata": {},
   "outputs": [],
   "source": [
    "# Open the file\n",
    "# Add the Rio de Janeiro data\n",
    "# Display the results"
   ]
  },
  {
   "cell_type": "code",
   "execution_count": 36,
   "metadata": {},
   "outputs": [],
   "source": [
    "# Open the file\n",
    "file = open('mean_temp.txt', 'a+')"
   ]
  },
  {
   "cell_type": "code",
   "execution_count": 38,
   "metadata": {},
   "outputs": [],
   "source": [
    "# Add the Rio de Janeiro data\n",
    "file.write(\"Rio de Janeiro,Brazil,30.0,18.0\\n\")\n",
    "file.close()"
   ]
  },
  {
   "cell_type": "code",
   "execution_count": 57,
   "metadata": {
    "scrolled": true
   },
   "outputs": [
    {
     "name": "stdout",
     "output_type": "stream",
     "text": [
      "City of Beijing month ave: highest high is 30.9 Celcius\n",
      "City of Cairo month ave: highest high is 34.7 Celcius\n",
      "City of London month ave: highest high is 23.5 Celcius\n",
      "City of Nairobi month ave: highest high is 26.3 Celcius\n",
      "City of New York City month ave: highest high is 28.9 Celcius\n",
      "City of Sydney month ave: highest high is 26.5 Celcius\n",
      "City of Tokyo month ave: highest high is 30.8 Celcius\n",
      "City of Rio de Janeiro month ave: highest high is 30.0 Celcius\n"
     ]
    }
   ],
   "source": [
    "# Display the results\n",
    "file = open('mean_temp.txt', 'a+')\n",
    "file.seek(0)\n",
    "\n",
    "headings = file.readline().strip().split(',')\n",
    "\n",
    "while True:\n",
    "    city_temp = file.readline().split(',')\n",
    "    \n",
    "    if city_temp == ['']:\n",
    "        break\n",
    "    print(f'{headings[0].capitalize()} of {city_temp[0]} {headings[2]} is {city_temp[2]} Celcius')\n",
    "\n",
    "file.close()"
   ]
  },
  {
   "cell_type": "code",
   "execution_count": 58,
   "metadata": {},
   "outputs": [
    {
     "name": "stdout",
     "output_type": "stream",
     "text": [
      "City of Beijing month ave: highest high is 30.9 Celcius\n",
      "City of Cairo month ave: highest high is 34.7 Celcius\n",
      "City of London month ave: highest high is 23.5 Celcius\n",
      "City of Nairobi month ave: highest high is 26.3 Celcius\n",
      "City of New York City month ave: highest high is 28.9 Celcius\n",
      "City of Sydney month ave: highest high is 26.5 Celcius\n",
      "City of Tokyo month ave: highest high is 30.8 Celcius\n",
      "City of Rio de Janeiro month ave: highest high is 30.0 Celcius\n"
     ]
    }
   ],
   "source": [
    "# Display the results Using With Open\n",
    "with open('mean_temp.txt', 'a+') as file:\n",
    "    file.seek(0)\n",
    "\n",
    "    headings = file.readline().strip().split(',')\n",
    "\n",
    "    while True:\n",
    "        city_temp = file.readline().split(',')\n",
    "\n",
    "        if city_temp == ['']:\n",
    "            break\n",
    "        print(f'{headings[0].capitalize()} of {city_temp[0]} {headings[2]} is {city_temp[2]} Celcius')"
   ]
  },
  {
   "cell_type": "code",
   "execution_count": null,
   "metadata": {},
   "outputs": [],
   "source": []
  },
  {
   "cell_type": "code",
   "execution_count": null,
   "metadata": {},
   "outputs": [],
   "source": []
  }
 ],
 "metadata": {
  "kernelspec": {
   "display_name": "Python 3",
   "language": "python",
   "name": "python3"
  },
  "language_info": {
   "codemirror_mode": {
    "name": "ipython",
    "version": 3
   },
   "file_extension": ".py",
   "mimetype": "text/x-python",
   "name": "python",
   "nbconvert_exporter": "python",
   "pygments_lexer": "ipython3",
   "version": "3.8.5"
  }
 },
 "nbformat": 4,
 "nbformat_minor": 4
}
