{
 "cells": [
  {
   "cell_type": "markdown",
   "metadata": {},
   "source": [
    "# Class Activity 1"
   ]
  },
  {
   "cell_type": "code",
   "execution_count": 31,
   "metadata": {},
   "outputs": [
    {
     "name": "stdout",
     "output_type": "stream",
     "text": [
      "Enter a 1 sentence quote, non-alpha separate words: Wheresoever you go, it's go with all your heart\n",
      "WHERESOEVER\n",
      "YOU\n",
      "IT'S\n",
      "WITH\n",
      "YOUR\n",
      "HEART\n"
     ]
    }
   ],
   "source": [
    "user_input = input(\"Enter a 1 sentence quote, non-alpha separate words: \")\n",
    "word = ''\n",
    "user_input += '.'\n",
    "\n",
    "for character in user_input:\n",
    "    \n",
    "    if character.isalpha() or character==\"'\":\n",
    "        word += character\n",
    "    else:\n",
    "        if len(word) > 0:\n",
    "            if word[0].upper() >= 'H':\n",
    "                print(word.upper())\n",
    "            word = ''"
   ]
  },
  {
   "cell_type": "code",
   "execution_count": null,
   "metadata": {},
   "outputs": [],
   "source": []
  },
  {
   "cell_type": "markdown",
   "metadata": {},
   "source": [
    "# Class Activity 2"
   ]
  },
  {
   "cell_type": "code",
   "execution_count": 33,
   "metadata": {},
   "outputs": [],
   "source": [
    "def list_o_matic(animals, guess):\n",
    "    if guess == '':\n",
    "        popped_animal = animals.pop()\n",
    "        msg = f'{popped_animal} is popped from the list'\n",
    "    elif guess in animals:\n",
    "        animals.remove(guess)\n",
    "        msg = f'{guess} is removed from the list'\n",
    "    else:\n",
    "        animals.append(guess)\n",
    "        msg = f'{guess} is appended to the list'\n",
    "    \n",
    "    return msg"
   ]
  },
  {
   "cell_type": "code",
   "execution_count": 38,
   "metadata": {},
   "outputs": [
    {
     "name": "stdout",
     "output_type": "stream",
     "text": [
      "\n",
      "Currently the animals are: ['cat', 'goat', 'cat']\n",
      "Enter the name of an animal or Quit: Quit\n"
     ]
    }
   ],
   "source": [
    "animals = ['cat', 'goat', 'cat']\n",
    "\n",
    "while animals != []:\n",
    "    print('\\nCurrently the animals are:', animals)\n",
    "    guess = input('Enter the name of an animal or Quit: ')\n",
    "    \n",
    "    if guess.lower() == 'quit':\n",
    "        break\n",
    "    else:\n",
    "        message = list_o_matic(animals, guess)\n",
    "        print(message)"
   ]
  },
  {
   "cell_type": "code",
   "execution_count": null,
   "metadata": {},
   "outputs": [],
   "source": []
  },
  {
   "cell_type": "markdown",
   "metadata": {},
   "source": [
    "# Exercise"
   ]
  },
  {
   "cell_type": "code",
   "execution_count": 58,
   "metadata": {},
   "outputs": [],
   "source": [
    "def word_mixer(word_list):\n",
    "    word_list.sort()\n",
    "    new_words = []\n",
    "    \n",
    "    while len(word_list) > 5:\n",
    "        new_words.append( word_list.pop(-5) )\n",
    "        new_words.append( word_list.pop(0) )\n",
    "        new_words.append( word_list.pop(-1) )\n",
    "    \n",
    "    return new_words"
   ]
  },
  {
   "cell_type": "code",
   "execution_count": 59,
   "metadata": {},
   "outputs": [
    {
     "name": "stdout",
     "output_type": "stream",
     "text": [
      "Enter a saying or poem: Little fly, Thy summer’s play My thoughtless hand Has brushed away. Am not I A fly like thee? Or art not thou A man like me?\n",
      "['or', 'BRUSHED', 'thy', 'not', 'Little', 'thou', 'me?', 'SUMMER’S', 'thee?', 'like', 'THOUGHTLESS', 'play', 'i', 'a', 'not', 'hand', 'a', 'my', 'fly', 'am', 'man']\n"
     ]
    }
   ],
   "source": [
    "poem_input = input(\"Enter a saying or poem: \")\n",
    "words_list = poem_input.split()\n",
    "total_words = len(words_list)\n",
    "\n",
    "for idx in range(total_words):\n",
    "    if len(words_list[idx]) <= 3:\n",
    "        words_list[idx] = words_list[idx].lower()\n",
    "    elif len(words_list[idx]) >= 7:\n",
    "        words_list[idx] = words_list[idx].upper()\n",
    "\n",
    "new_words = word_mixer(words_list)\n",
    "print(new_words)"
   ]
  },
  {
   "cell_type": "code",
   "execution_count": 66,
   "metadata": {},
   "outputs": [
    {
     "data": {
      "text/plain": [
       "'or BRUSHED thy not Little thou me? SUMMER’S thee? like THOUGHTLESS play i a not hand a my fly am man'"
      ]
     },
     "execution_count": 66,
     "metadata": {},
     "output_type": "execute_result"
    }
   ],
   "source": [
    "# Output\n",
    "' '.join(new_words)"
   ]
  },
  {
   "cell_type": "code",
   "execution_count": 63,
   "metadata": {},
   "outputs": [
    {
     "data": {
      "text/plain": [
       "'or BRUSHED thy not Little thou me? SUMMER’S thee? like THOUGHTLESS play i a not hand a my fly am man '"
      ]
     },
     "execution_count": 63,
     "metadata": {},
     "output_type": "execute_result"
    }
   ],
   "source": [
    "# Output (longer)\n",
    "poem = ''\n",
    "for word in  new_words:\n",
    "    poem = poem + word + ' '\n",
    "poem"
   ]
  },
  {
   "cell_type": "code",
   "execution_count": null,
   "metadata": {},
   "outputs": [],
   "source": []
  },
  {
   "cell_type": "code",
   "execution_count": 76,
   "metadata": {},
   "outputs": [
    {
     "name": "stdout",
     "output_type": "stream",
     "text": [
      "Please input a poem: Little fly, Thy summer’s play My thoughtless hand Has brushed away. Am not I A fly like thee? Or art not thou A man like me?\n",
      "\n",
      " or BRUSHED thy \n",
      " not Little thou \n",
      " me? SUMMER’S thee? \n",
      " like THOUGHTLESS play \n",
      " i a not \n",
      " hand a my \n",
      " fly am man\n"
     ]
    }
   ],
   "source": [
    "# Alternative output (Jorim)\n",
    "def word_mixer(a):\n",
    "    a.sort()\n",
    "    new_poem = []\n",
    "    while len(a) > 5:\n",
    "        new_poem.append(\"\\n\")\n",
    "        new_poem.append(a.pop(-5))\n",
    "        new_poem.append(a.pop(0))\n",
    "        new_poem.append(a.pop(-1))\n",
    "    else:\n",
    "        return new_poem\n",
    "\n",
    "u_ipt = input(\"Please input a poem: \")\n",
    "u_list = u_ipt.split()\n",
    "#print(u_list)\n",
    "total_words = len(u_list)\n",
    "mod_list = []\n",
    "for word in u_list:\n",
    "    if len(word) >= 7:\n",
    "        mod_list.append(word.upper())\n",
    "    elif len(word) <= 3:\n",
    "        mod_list.append(word.lower())\n",
    "    else:\n",
    "        mod_list.append(word)\n",
    "#print(mod_list)\n",
    "listToStr = ' '.join(map(str, word_mixer(mod_list)))\n",
    "print(listToStr) "
   ]
  },
  {
   "cell_type": "code",
   "execution_count": null,
   "metadata": {},
   "outputs": [],
   "source": []
  },
  {
   "cell_type": "code",
   "execution_count": 77,
   "metadata": {},
   "outputs": [
    {
     "name": "stdout",
     "output_type": "stream",
     "text": [
      "or BRUSHED thy \n",
      "not Little thou \n",
      "me? SUMMER’S thee? \n",
      "like THOUGHTLESS play \n",
      "i a not \n",
      "hand a my \n",
      "fly am man \n",
      "\n"
     ]
    }
   ],
   "source": [
    "# alternative output\n",
    "output_txt = ''\n",
    "counter = 0\n",
    "for new_word in new_words:\n",
    "    output_txt += new_word + ' '\n",
    "    counter += 1\n",
    "    if counter == 3:\n",
    "        counter = 0\n",
    "        output_txt += '\\n'\n",
    "        \n",
    "print(output_txt)"
   ]
  },
  {
   "cell_type": "code",
   "execution_count": null,
   "metadata": {},
   "outputs": [],
   "source": []
  }
 ],
 "metadata": {
  "kernelspec": {
   "display_name": "Python 3",
   "language": "python",
   "name": "python3"
  },
  "language_info": {
   "codemirror_mode": {
    "name": "ipython",
    "version": 3
   },
   "file_extension": ".py",
   "mimetype": "text/x-python",
   "name": "python",
   "nbconvert_exporter": "python",
   "pygments_lexer": "ipython3",
   "version": "3.8.5"
  }
 },
 "nbformat": 4,
 "nbformat_minor": 4
}
