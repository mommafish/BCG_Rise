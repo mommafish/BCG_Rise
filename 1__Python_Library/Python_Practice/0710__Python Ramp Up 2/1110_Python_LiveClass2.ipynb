{
 "cells": [
  {
   "cell_type": "markdown",
   "metadata": {},
   "source": [
    "# day3 \n",
    "1. Strings \n",
    "2. Lists\n",
    "3. List Iterations\n"
   ]
  },
  {
   "cell_type": "code",
   "execution_count": 3,
   "metadata": {},
   "outputs": [
    {
     "name": "stdout",
     "output_type": "stream",
     "text": [
      "K\n",
      "i\n",
      "s\n",
      "h\n",
      "a\n",
      "n\n",
      " \n"
     ]
    }
   ],
   "source": [
    "student_name = \"Kishan Raaj\"\n",
    "print(student_name[0])\n",
    "print(student_name[1])\n",
    "print(student_name[2])\n",
    "print(student_name[3])\n",
    "print(student_name[4])\n",
    "print(student_name[5])\n",
    "print(student_name[6])"
   ]
  },
  {
   "cell_type": "code",
   "execution_count": 4,
   "metadata": {},
   "outputs": [],
   "source": [
    "## SINGLE letter fetchin \n",
    "# 0 1 2 3 4 5 6 7 8 9 10\n",
    "# K i s h a n   R a a j\n",
    "student_name = \"Kishan Raaj\"\n",
    "if student_name[7].upper() == \"A\":\n",
    "    print(\"Corect Answer\")\n",
    "else:\n",
    "    print(\"wrong answer\")\n"
   ]
  },
  {
   "cell_type": "code",
   "execution_count": 18,
   "metadata": {},
   "outputs": [
    {
     "name": "stdout",
     "output_type": "stream",
     "text": [
      "sha\n",
      "Raaj\n",
      "Kish\n"
     ]
    }
   ],
   "source": [
    "## SINGLE letter fetchin \n",
    "# 0 1 2 3 4 5 6 7 8 9 10\n",
    "# K i s h a n   R a a j\n",
    "# left to right \n",
    "student_name = \"Kishan Raaj\"\n",
    "#print(student_name[startindex:end index])\n",
    "#STARTINDEX is to be included , end index is excluded in output \n",
    "print(student_name[2:5]) ## sha \n",
    "print(student_name[7:11]) ## \n",
    "print(student_name[0:4]) ## "
   ]
  },
  {
   "cell_type": "code",
   "execution_count": 13,
   "metadata": {},
   "outputs": [
    {
     "name": "stdout",
     "output_type": "stream",
     "text": [
      "han R\n"
     ]
    }
   ],
   "source": [
    "## SINGLE letter fetchin \n",
    "# -10 -9 -8 -7 -6 - 5 -4 - 3 -2 -1 \n",
    "# K   i  s   h  a  n  R  a  a   j\n",
    "# right to left \n",
    "student_name = \"KishanRaaj\"\n",
    "#print(student_name[startindex:end index])\n",
    "#STARTINDEX is to be excluded , end index is included in output \n",
    "print(student_name[-8:-3])"
   ]
  },
  {
   "cell_type": "code",
   "execution_count": 14,
   "metadata": {},
   "outputs": [
    {
     "name": "stdout",
     "output_type": "stream",
     "text": [
      "isha\n"
     ]
    }
   ],
   "source": [
    "#mix of both \n",
    "\n",
    "## SINGLE letter fetchin \n",
    "# 0 1 2 3 4 5 6 7 8 9 10\n",
    "# K i s h a n   R a a j\n",
    "# -10 -9 -8 -7 -6 - 5 -4 - 3 -2 -1 \n",
    "# K   i  s   h  a  n  R  a  a   j\n",
    "student_name = \"Kishan Raaj\"\n",
    "print(student_name[1:-6])"
   ]
  },
  {
   "cell_type": "code",
   "execution_count": 17,
   "metadata": {},
   "outputs": [
    {
     "name": "stdout",
     "output_type": "stream",
     "text": [
      "sa aj\n",
      "ihnRa\n",
      "ina\n"
     ]
    }
   ],
   "source": [
    "# :: \n",
    "## multiple  letter fetchin \n",
    "# 0 1 2 3 4 5 6 7 8 9 10\n",
    "# K i s h a n   R a a j\n",
    "student_name = \"Kishan Raaj\"\n",
    "# starting at index 2  and skip to 2 charc/ alternative characters also \n",
    "print(student_name[2::2]) # output is sa aj\n",
    "print(student_name[1::2]) # output is ihnRa \n",
    "# start at index and skip to 4 th index \n",
    "print(student_name[1::4])# output is ina\n",
    "\n",
    "\n",
    "\n"
   ]
  },
  {
   "cell_type": "code",
   "execution_count": 24,
   "metadata": {},
   "outputs": [
    {
     "name": "stdout",
     "output_type": "stream",
     "text": [
      "KISHAN\n",
      "RAAJ\n",
      "G\n"
     ]
    }
   ],
   "source": [
    "# word by word \n",
    "student_name = \"Kishan Raaj G \"\n",
    "word = \"\"\n",
    "#output as \n",
    "# Kishan\n",
    "# Raaj\n",
    "# G\n",
    "## for loop based on conditionals ( based onthe characters in the string )\n",
    "#initally word = \"\" is empty \n",
    "##first checking if the letter is alpha()\n",
    "#1st round of iteration = letter = K, word = K\n",
    "#2n round of iteration = letter = i, word = Ki\n",
    "#3rd round of iteration = letter = s, word = Kis\n",
    "#4th round of iteration = letter = h, word = Kish\n",
    "#5th round of iteration = letter = a, word = Kisha\n",
    "#6th round of iteration = letter = n, word = Kishan\n",
    "#7th round of iteration = letter = space, word = Kishan\n",
    "#if letter is space , print the word Kishan and empty the word to be used for next iteration \n",
    "#8th round of iteration = letter = R, word = R\n",
    "#9th round of iteration = letter = a, word = Ra\n",
    "#10th round of iteration = letter = a, word = Raa\n",
    "#11th round of iteration = letter = j, word = Raaj\n",
    "#12th round of iteration = letter = space, word = Raaj\n",
    "#if letter is space , print the word Raaj and empty the word to be used for next iteration \n",
    "\n",
    "\n",
    "# student_name. = Kishan Raaj G \n",
    " \n",
    "for letter in student_name:\n",
    "      \n",
    "    # chck every letter in the student_name if it is alpha or not \n",
    "    if letter.isalpha() == True:\n",
    "        word+= letter\n",
    "        #word = word + letter\n",
    "    elif letter.isalpha() == False:\n",
    "        print(word.upper())\n",
    "        word = \"\"\n",
    "    else:\n",
    "        word = \"\"\n",
    "        \n",
    "    \n",
    "    "
   ]
  },
  {
   "cell_type": "code",
   "execution_count": 25,
   "metadata": {},
   "outputs": [
    {
     "name": "stdout",
     "output_type": "stream",
     "text": [
      "KISHAN\n",
      "RAAJ\n",
      "G\n"
     ]
    }
   ],
   "source": [
    "# word by word \n",
    "student_name = \"Kishan Raaj G \"\n",
    "word = \"\"\n",
    "for letter in student_name:\n",
    "    # chck every letter in the student_name if it is alpha or not \n",
    "    if letter.isalpha() == True:\n",
    "        word+= letter\n",
    "        #word = word + letter\n",
    "    elif letter.isalpha() == False:\n",
    "        \n",
    "        print(word.upper())\n",
    "        word = \"\"\n",
    "    else:\n",
    "        word = \"\"\n",
    "        \n",
    "    \n",
    "    "
   ]
  },
  {
   "cell_type": "code",
   "execution_count": 36,
   "metadata": {},
   "outputs": [
    {
     "name": "stdout",
     "output_type": "stream",
     "text": [
      "WHERESOEVER\n",
      "YOU\n",
      "WITH\n",
      "YOUR\n",
      "HEART\n"
     ]
    }
   ],
   "source": [
    "# word by word \n",
    "student_name = \"Wheresoever you go,go with all your heart \"\n",
    "word = \"\"\n",
    "for letter in student_name:\n",
    "    # chck every letter in the student_name if it is alpha or not \n",
    "    if letter.isalpha() == True:\n",
    "        word+= letter\n",
    "        #word = word + letter\n",
    "    elif letter.isalpha() == False:\n",
    "        if word.lower() >= \"h\":\n",
    "            print(word.upper())\n",
    "            word = \"\"\n",
    "        else:# for word.lower() >= \"h\":\n",
    "            word = \"\"\n",
    "    else:\n",
    "        word = \"\"\n",
    "        \n",
    "    \n",
    "    "
   ]
  },
  {
   "cell_type": "code",
   "execution_count": 38,
   "metadata": {},
   "outputs": [
    {
     "name": "stdout",
     "output_type": "stream",
     "text": [
      "('Mumbai', 'New York', 'Brazil', 'Italy')\n"
     ]
    }
   ],
   "source": [
    "#LIST OF WORDS  = tuple\n",
    "## index.         0          1           2       3 \n",
    "worst_hit_cts = \"Mumbai\", \"New York\", \"Brazil\",\"Italy\"\n",
    "print(worst_hit_cts)\n"
   ]
  },
  {
   "cell_type": "code",
   "execution_count": 39,
   "metadata": {},
   "outputs": [
    {
     "data": {
      "text/plain": [
       "tuple"
      ]
     },
     "execution_count": 39,
     "metadata": {},
     "output_type": "execute_result"
    }
   ],
   "source": [
    "type(worst_hit_cts)"
   ]
  },
  {
   "cell_type": "code",
   "execution_count": 42,
   "metadata": {},
   "outputs": [
    {
     "name": "stdout",
     "output_type": "stream",
     "text": [
      "Mumbai\n",
      "New York\n"
     ]
    }
   ],
   "source": [
    "# top 2 cities traveleed by the passengers \n",
    "for cty in worst_hit_cts[0:2]:\n",
    "    print(cty)"
   ]
  },
  {
   "cell_type": "code",
   "execution_count": 49,
   "metadata": {},
   "outputs": [
    {
     "name": "stdout",
     "output_type": "stream",
     "text": [
      "['Mumbai', 'New York', 'Brazil', 'Italy']\n"
     ]
    }
   ],
   "source": [
    "#LIST OF WORDS  = list \n",
    "## index.         0          1           2       3 \n",
    "worst_hit_cts2 = [\"Mumbai\", \"New York\", \"Brazil\",\"Italy\"]\n",
    "print(worst_hit_cts2)\n",
    "\n"
   ]
  },
  {
   "cell_type": "code",
   "execution_count": 50,
   "metadata": {},
   "outputs": [
    {
     "data": {
      "text/plain": [
       "list"
      ]
     },
     "execution_count": 50,
     "metadata": {},
     "output_type": "execute_result"
    }
   ],
   "source": [
    "type(worst_hit_cts2)"
   ]
  },
  {
   "cell_type": "code",
   "execution_count": 51,
   "metadata": {},
   "outputs": [
    {
     "name": "stdout",
     "output_type": "stream",
     "text": [
      "Mumbai\n",
      "New York\n"
     ]
    }
   ],
   "source": [
    "# top 2 cities traveleed by the passengers \n",
    "for cty in worst_hit_cts[0:2]:\n",
    "    print(cty)"
   ]
  },
  {
   "cell_type": "code",
   "execution_count": 52,
   "metadata": {},
   "outputs": [],
   "source": [
    "##add Delhi tothe exsting list \n",
    "## append= adds the entry at the end of existing list\n",
    "worst_hit_cts2.append(\"Delhi\")"
   ]
  },
  {
   "cell_type": "code",
   "execution_count": 54,
   "metadata": {},
   "outputs": [
    {
     "name": "stdout",
     "output_type": "stream",
     "text": [
      "Mumbai\n",
      "New York\n",
      "Brazil\n",
      "Italy\n",
      "Delhi\n"
     ]
    }
   ],
   "source": [
    "# worst hit cities last week\n",
    "for cty in worst_hit_cts2:\n",
    "    print(cty)"
   ]
  },
  {
   "cell_type": "code",
   "execution_count": 58,
   "metadata": {},
   "outputs": [],
   "source": [
    "##add Pune to the exsting list \n",
    "## insert= adds the entry at the  of existing list\n",
    "worst_hit_cts2.insert(1,\"Pune\")"
   ]
  },
  {
   "cell_type": "code",
   "execution_count": 61,
   "metadata": {},
   "outputs": [
    {
     "name": "stdout",
     "output_type": "stream",
     "text": [
      "Mumbai\n",
      "Pune\n",
      "Delhi\n",
      "New York\n",
      "Brazil\n",
      "Italy\n",
      "Delhi\n"
     ]
    }
   ],
   "source": [
    "# worst hit cities this week\n",
    "for cty in worst_hit_cts2:\n",
    "    print(cty)"
   ]
  },
  {
   "cell_type": "code",
   "execution_count": 65,
   "metadata": {},
   "outputs": [
    {
     "name": "stdout",
     "output_type": "stream",
     "text": [
      "Worst hit cities this week New York\n",
      "['Mumbai', 'Pune', 'Delhi']\n"
     ]
    }
   ],
   "source": [
    "# delete \n",
    "### by using pop() = deltte the last word  or last index \n",
    "print(\"Worst hit cities this week\", worst_hit_cts2.pop())\n",
    "print(worst_hit_cts2)"
   ]
  },
  {
   "cell_type": "code",
   "execution_count": 66,
   "metadata": {},
   "outputs": [],
   "source": [
    "## delete \n",
    "## by index \n",
    "del worst_hit_cts2[1]"
   ]
  },
  {
   "cell_type": "code",
   "execution_count": 69,
   "metadata": {},
   "outputs": [
    {
     "name": "stdout",
     "output_type": "stream",
     "text": [
      "Mumbai\n",
      "Delhi\n"
     ]
    }
   ],
   "source": [
    "# worst hit cities this week\n",
    "for cty in worst_hit_cts2:\n",
    "    print(cty)"
   ]
  },
  {
   "cell_type": "code",
   "execution_count": 71,
   "metadata": {},
   "outputs": [],
   "source": [
    "##delete \n",
    "## by using remove \n",
    "worst_hit_cts2.remove(\"Delhi\")"
   ]
  },
  {
   "cell_type": "code",
   "execution_count": 75,
   "metadata": {},
   "outputs": [
    {
     "name": "stdout",
     "output_type": "stream",
     "text": [
      "Mumbai\n"
     ]
    }
   ],
   "source": [
    "# worst hit cities this week\n",
    "for cty in worst_hit_cts2:\n",
    "    print(cty)"
   ]
  },
  {
   "cell_type": "code",
   "execution_count": 77,
   "metadata": {},
   "outputs": [
    {
     "name": "stdout",
     "output_type": "stream",
     "text": [
      "Wors hit last week ['Mumbai', 'New York', 'Delhi', 'Italy']\n",
      "Please enter city name: \n",
      "Italyremoved from the list\n",
      "Wors hit last week ['Mumbai', 'New York', 'Delhi']\n",
      "Please enter city name: Delhi\n",
      "None\n",
      "Wors hit last week ['Mumbai', 'New York']\n",
      "Please enter city name: Pune\n",
      "Puneappended to the list \n",
      "Wors hit last week ['Mumbai', 'New York', 'Pune']\n",
      "Please enter city name: q\n"
     ]
    }
   ],
   "source": [
    "## requirement\n",
    "# already have list of cities given \n",
    "## index.         0          1           2       3 \n",
    "worst_hit_cts3 = [\"Mumbai\", \"New York\", \"Delhi\",\"Italy\"]\n",
    "#create function with acceptd city name as input \n",
    "def cities_list(city):\n",
    "    ## if user input is empty, popthe last city \n",
    "    if city == \"\":\n",
    "        return worst_hit_cts3.pop() +'removed from the list'\n",
    "    ##if user inputs duplicate\n",
    "    elif city in worst_hit_cts3:\n",
    "        return worst_hit_cts3.remove(city)\n",
    "    else:\n",
    "        worst_hit_cts3.append(city)\n",
    "        return city + 'appended to the list '\n",
    "    \n",
    "### main program \n",
    "while worst_hit_cts3:\n",
    "    print(\"Wors hit last week\", worst_hit_cts3)\n",
    "    city = input(\"Please enter city name: \")\n",
    "    if city == \"q\":\n",
    "        break\n",
    "    else:\n",
    "        ##call the aboe function \n",
    "        print(cities_list(city))"
   ]
  },
  {
   "cell_type": "markdown",
   "metadata": {},
   "source": [
    "# Assginment \n",
    "poem  = \"hi how are you in admist this phase2 please take care God bless you  \"\n",
    "split the poem into \"words_after_split\"\n",
    "check for long word from the words_after_split >= 7 .upper()\n",
    "check for short word from the words_after_split <=3 .lower()\n",
    "\n",
    "pop the fifth = pop(-5) = take \n",
    "pop the first = pop(0)    = hi \n",
    "pop the last = pop()  = you\n",
    "\n"
   ]
  },
  {
   "cell_type": "code",
   "execution_count": 93,
   "metadata": {},
   "outputs": [
    {
     "name": "stdout",
     "output_type": "stream",
     "text": [
      "please input your wishes: hi how are you in SINGAPORE admist this phase2 please take care God bless you\n"
     ]
    }
   ],
   "source": [
    "wishes = input(\"please input your wishes: \")\n",
    "words_after_split = wishes.split()\n"
   ]
  },
  {
   "cell_type": "code",
   "execution_count": 94,
   "metadata": {},
   "outputs": [
    {
     "name": "stdout",
     "output_type": "stream",
     "text": [
      "['hi', 'how', 'are', 'you', 'in', 'SINGAPORE', 'admist', 'this', 'phase2', 'please', 'take', 'care', 'God', 'bless', 'you']\n"
     ]
    }
   ],
   "source": [
    "print(words_after_split)"
   ]
  },
  {
   "cell_type": "code",
   "execution_count": 95,
   "metadata": {},
   "outputs": [
    {
     "data": {
      "text/plain": [
       "15"
      ]
     },
     "execution_count": 95,
     "metadata": {},
     "output_type": "execute_result"
    }
   ],
   "source": [
    "len(words_after_split)\n"
   ]
  },
  {
   "cell_type": "code",
   "execution_count": 96,
   "metadata": {},
   "outputs": [
    {
     "name": "stdout",
     "output_type": "stream",
     "text": [
      "['HI', 'HOW', 'ARE', 'YOU', 'IN', 'singapore', 'Admist', 'This', 'Phase2', 'Please', 'Take', 'Care', 'GOD', 'Bless', 'YOU']\n"
     ]
    }
   ],
   "source": [
    "## iteration index by index \n",
    "#index =1\n",
    "## range (length of words from the words after split )\n",
    "## the iteration will go in for 14 times for 14 words \n",
    "## each word is testted for >7 or < 3 \n",
    "for index in range(len(words_after_split)):\n",
    "    #first word = hi , first index = hi \n",
    "    if len(words_after_split[index])  <=3:\n",
    "         words_after_split[index] = words_after_split[index].upper()\n",
    "    elif len(words_after_split[index])  >=7:\n",
    "        words_after_split[index] = words_after_split[index].lower()\n",
    "    else:\n",
    "        words_after_split[index] = words_after_split[index].title()\n",
    "\n",
    "#hi how are you in Singapore admist this phase2 please take care God bless you\n",
    "#HI HOW ARE YOU IN Admist singapore This Phase2 Please Take Care GOD Bless YOU\n",
    "print(words_after_split)\n"
   ]
  },
  {
   "cell_type": "code",
   "execution_count": 97,
   "metadata": {},
   "outputs": [
    {
     "data": {
      "text/plain": [
       "'Take'"
      ]
     },
     "execution_count": 97,
     "metadata": {},
     "output_type": "execute_result"
    }
   ],
   "source": [
    "words_after_split.pop(-5)\n"
   ]
  },
  {
   "cell_type": "code",
   "execution_count": 98,
   "metadata": {},
   "outputs": [
    {
     "name": "stdout",
     "output_type": "stream",
     "text": [
      "['HI', 'HOW', 'ARE', 'YOU', 'IN', 'singapore', 'Admist', 'This', 'Phase2', 'Please', 'Care', 'GOD', 'Bless', 'YOU']\n"
     ]
    }
   ],
   "source": [
    "print(words_after_split)\n"
   ]
  },
  {
   "cell_type": "code",
   "execution_count": 99,
   "metadata": {},
   "outputs": [
    {
     "data": {
      "text/plain": [
       "'HI'"
      ]
     },
     "execution_count": 99,
     "metadata": {},
     "output_type": "execute_result"
    }
   ],
   "source": [
    "words_after_split.pop(0)\n"
   ]
  },
  {
   "cell_type": "code",
   "execution_count": 100,
   "metadata": {},
   "outputs": [
    {
     "name": "stdout",
     "output_type": "stream",
     "text": [
      "['HOW', 'ARE', 'YOU', 'IN', 'singapore', 'Admist', 'This', 'Phase2', 'Please', 'Care', 'GOD', 'Bless', 'YOU']\n"
     ]
    }
   ],
   "source": [
    "print(words_after_split)\n"
   ]
  },
  {
   "cell_type": "code",
   "execution_count": 101,
   "metadata": {},
   "outputs": [
    {
     "data": {
      "text/plain": [
       "'YOU'"
      ]
     },
     "execution_count": 101,
     "metadata": {},
     "output_type": "execute_result"
    }
   ],
   "source": [
    "words_after_split.pop()\n"
   ]
  },
  {
   "cell_type": "code",
   "execution_count": 102,
   "metadata": {},
   "outputs": [
    {
     "name": "stdout",
     "output_type": "stream",
     "text": [
      "['HOW', 'ARE', 'YOU', 'IN', 'singapore', 'Admist', 'This', 'Phase2', 'Please', 'Care', 'GOD', 'Bless']\n"
     ]
    }
   ],
   "source": [
    "print(words_after_split)\n"
   ]
  }
 ],
 "metadata": {
  "kernelspec": {
   "display_name": "Python 3",
   "language": "python",
   "name": "python3"
  },
  "language_info": {
   "codemirror_mode": {
    "name": "ipython",
    "version": 3
   },
   "file_extension": ".py",
   "mimetype": "text/x-python",
   "name": "python",
   "nbconvert_exporter": "python",
   "pygments_lexer": "ipython3",
   "version": "3.8.8"
  }
 },
 "nbformat": 4,
 "nbformat_minor": 4
}
