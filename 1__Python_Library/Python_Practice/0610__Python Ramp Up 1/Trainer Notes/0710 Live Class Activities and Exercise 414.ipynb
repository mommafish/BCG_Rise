{
 "cells": [
  {
   "cell_type": "markdown",
   "metadata": {},
   "source": [
    "# Class Activity 1"
   ]
  },
  {
   "cell_type": "code",
   "execution_count": 8,
   "metadata": {
    "scrolled": true
   },
   "outputs": [
    {
     "name": "stdout",
     "output_type": "stream",
     "text": [
      "Input the categories of food eaten in the last 24 hours: meat milk dairy\n",
      "It is True that \"meat milk dairy\" contains dairy\n",
      "It is False that \"meat milk dairy\" contains nuts\n",
      "It is False that \"meat milk dairy\" contains seafood\n",
      "It is False that \"meat milk dairy\" contains chocolate\n"
     ]
    }
   ],
   "source": [
    "# Method 1\n",
    "\n",
    "input_text = input(\"Input the categories of food eaten in the last 24 hours: \")\n",
    "\n",
    "if 'dairy' in input_text.lower():\n",
    "    print(f'It is True that \"{input_text}\" contains dairy')\n",
    "else:\n",
    "    print(f'It is False that \"{input_text}\" contains dairy')\n",
    "\n",
    "if 'nuts' in input_text.lower():\n",
    "    print(f'It is True that \"{input_text}\" contains nuts')\n",
    "else:\n",
    "    print(f'It is False that \"{input_text}\" contains nuts')\n",
    "\n",
    "if 'seafood' in input_text.lower():\n",
    "    print(f'It is True that \"{input_text}\" contains seafood')\n",
    "else:\n",
    "    print(f'It is False that \"{input_text}\" contains seafood')\n",
    "\n",
    "if 'chocolate' in input_text.lower():\n",
    "    print(f'It is True that \"{input_text}\" contains chocolate')\n",
    "else:\n",
    "    print(f'It is False that \"{input_text}\" contains chocolate')"
   ]
  },
  {
   "cell_type": "code",
   "execution_count": 11,
   "metadata": {},
   "outputs": [
    {
     "name": "stdout",
     "output_type": "stream",
     "text": [
      "Input the categories of food eaten in the last 24 hours: ChOcOlAtE\n",
      "It is False that 'chocolate' contains dairy\n",
      "It is False that 'chocolate' contains nuts\n",
      "It is False that 'chocolate' contains seafood\n",
      "It is True that 'chocolate' contains chocolate\n"
     ]
    }
   ],
   "source": [
    "# Method 2\n",
    "input_test = input(\"Input the categories of food eaten in the last 24 hours: \").lower()\n",
    "items = ['dairy', 'nuts', 'seafood', 'chocolate']\n",
    "\n",
    "for i in items:\n",
    "    print(f\"It is {i in input_test} that '{input_test}' contains {i}\")\n",
    "    "
   ]
  },
  {
   "cell_type": "markdown",
   "metadata": {},
   "source": [
    "# Class Activity 2"
   ]
  },
  {
   "cell_type": "code",
   "execution_count": null,
   "metadata": {},
   "outputs": [],
   "source": [
    "def fishstore(fish_name, fish_price):\n",
    "    return f\"Fish type: {fish_name} costs ${fish_price}\""
   ]
  },
  {
   "cell_type": "code",
   "execution_count": null,
   "metadata": {},
   "outputs": [],
   "source": [
    "fish_entry = 'Dory'\n",
    "price_entry = '100'\n",
    "\n",
    "fishstore(fish_entry, price_entry)"
   ]
  },
  {
   "cell_type": "code",
   "execution_count": null,
   "metadata": {},
   "outputs": [],
   "source": [
    "fish_entry = input('Enter fish name: ')\n",
    "price_entry = input('Enter fish price: ')\n",
    "\n",
    "Fishstore = fishstore(fish_entry, price_entry)"
   ]
  },
  {
   "cell_type": "code",
   "execution_count": null,
   "metadata": {},
   "outputs": [],
   "source": [
    "print(Fishstore)"
   ]
  },
  {
   "cell_type": "markdown",
   "metadata": {},
   "source": [
    "**Demonstration of why you cant return print**"
   ]
  },
  {
   "cell_type": "code",
   "execution_count": null,
   "metadata": {},
   "outputs": [],
   "source": [
    "def square_calculator(x):\n",
    "    return x**2"
   ]
  },
  {
   "cell_type": "code",
   "execution_count": null,
   "metadata": {},
   "outputs": [],
   "source": [
    "square_calculator(2)"
   ]
  },
  {
   "cell_type": "code",
   "execution_count": null,
   "metadata": {},
   "outputs": [],
   "source": [
    "square_calculator(3)"
   ]
  },
  {
   "cell_type": "code",
   "execution_count": null,
   "metadata": {},
   "outputs": [],
   "source": [
    "square_calculator(2) + square_calculator(3)"
   ]
  },
  {
   "cell_type": "code",
   "execution_count": null,
   "metadata": {},
   "outputs": [],
   "source": [
    "print(2**2) + print(3**2)"
   ]
  },
  {
   "cell_type": "markdown",
   "metadata": {},
   "source": [
    "# Class Activity 4"
   ]
  },
  {
   "cell_type": "markdown",
   "metadata": {},
   "source": [
    "1. Ask user input\n",
    "2. Check if they input nothing. If so, then ask again (infinite loop)\n",
    "3. Check if it is all digit, then do something\n",
    "4. Check if all alphabet, then print something\n",
    "5. Check if not both, then print something"
   ]
  },
  {
   "cell_type": "code",
   "execution_count": null,
   "metadata": {},
   "outputs": [],
   "source": [
    "'fal'.isdigit()"
   ]
  },
  {
   "cell_type": "code",
   "execution_count": null,
   "metadata": {},
   "outputs": [],
   "source": [
    "def str_analysis(u_i):\n",
    "    if u_i.isdigit():\n",
    "        u_i = int(u_i)\n",
    "        if u_i > 99:\n",
    "            print('Big Number')\n",
    "        else:\n",
    "            print('Small Number')\n",
    "    elif u_i.isalpha():\n",
    "        print(u_i, \"is all alphabetical characters!\")\n",
    "    else:\n",
    "        print(u_i, \"Neither all alphabet or all digit\")"
   ]
  },
  {
   "cell_type": "code",
   "execution_count": null,
   "metadata": {},
   "outputs": [],
   "source": [
    "str_analysis('Helloow')"
   ]
  },
  {
   "cell_type": "code",
   "execution_count": null,
   "metadata": {},
   "outputs": [],
   "source": [
    "while True:\n",
    "    user_input = input(\"Enter word or integer: \")\n",
    "    if user_input != '':\n",
    "        break\n",
    "\n",
    "str_analysis(user-)"
   ]
  },
  {
   "cell_type": "code",
   "execution_count": null,
   "metadata": {},
   "outputs": [],
   "source": []
  },
  {
   "cell_type": "markdown",
   "metadata": {},
   "source": [
    "**Demonstration on Global and Local variables**"
   ]
  },
  {
   "cell_type": "code",
   "execution_count": null,
   "metadata": {},
   "outputs": [],
   "source": [
    "def func1():\n",
    "    x = 1\n",
    "    print(x)"
   ]
  },
  {
   "cell_type": "code",
   "execution_count": null,
   "metadata": {},
   "outputs": [],
   "source": [
    "def func2():\n",
    "    x = 2\n",
    "    print(x)"
   ]
  },
  {
   "cell_type": "code",
   "execution_count": null,
   "metadata": {},
   "outputs": [],
   "source": [
    "def func3():\n",
    "    print(x)"
   ]
  },
  {
   "cell_type": "code",
   "execution_count": null,
   "metadata": {},
   "outputs": [],
   "source": [
    "func1()"
   ]
  },
  {
   "cell_type": "code",
   "execution_count": null,
   "metadata": {},
   "outputs": [],
   "source": []
  },
  {
   "cell_type": "code",
   "execution_count": null,
   "metadata": {},
   "outputs": [],
   "source": [
    "x = 'hello world'\n",
    "print(x)"
   ]
  },
  {
   "cell_type": "code",
   "execution_count": null,
   "metadata": {},
   "outputs": [],
   "source": [
    "func1()"
   ]
  },
  {
   "cell_type": "code",
   "execution_count": null,
   "metadata": {},
   "outputs": [],
   "source": [
    "func2()"
   ]
  },
  {
   "cell_type": "code",
   "execution_count": null,
   "metadata": {},
   "outputs": [],
   "source": [
    "func3()"
   ]
  },
  {
   "cell_type": "markdown",
   "metadata": {},
   "source": [
    "# Exercise 4.1.4"
   ]
  },
  {
   "cell_type": "code",
   "execution_count": null,
   "metadata": {},
   "outputs": [],
   "source": [
    "def adding_report(report_type):\n",
    "    total = 0\n",
    "    \n",
    "    while True:\n",
    "        user_input = input(\"Enter integer or Q to quit: \")\n",
    "        \n",
    "        if user_input.isdigit():\n",
    "            user_input = int(user_input)\n",
    "            total = total + user_input\n",
    "        \n",
    "        else:\n",
    "            if user_input == 'Q':\n",
    "                break\n",
    "    return total"
   ]
  },
  {
   "cell_type": "code",
   "execution_count": null,
   "metadata": {},
   "outputs": [],
   "source": [
    "adding_report('T')"
   ]
  },
  {
   "cell_type": "code",
   "execution_count": null,
   "metadata": {},
   "outputs": [],
   "source": [
    "print(\"Report Types include All Items (A) or Total Only (T)\\n\")\n",
    "\n",
    "while True:\n",
    "    user_input = input(\"Choose Report Type A or T: \")\n",
    "    if user_input == \"A\" or user_input == \"T\":\n",
    "        break\n",
    "        \n",
    "adding_report(user_input)"
   ]
  },
  {
   "cell_type": "code",
   "execution_count": null,
   "metadata": {},
   "outputs": [],
   "source": []
  }
 ],
 "metadata": {
  "kernelspec": {
   "display_name": "Python 3",
   "language": "python",
   "name": "python3"
  },
  "language_info": {
   "codemirror_mode": {
    "name": "ipython",
    "version": 3
   },
   "file_extension": ".py",
   "mimetype": "text/x-python",
   "name": "python",
   "nbconvert_exporter": "python",
   "pygments_lexer": "ipython3",
   "version": "3.8.8"
  }
 },
 "nbformat": 4,
 "nbformat_minor": 4
}
