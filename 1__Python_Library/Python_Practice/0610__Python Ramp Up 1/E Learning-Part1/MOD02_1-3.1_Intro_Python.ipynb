{
  "cells": [
    {
      "metadata": {},
      "cell_type": "markdown",
      "source": "# 1-3.1 Intro Python\n## Functions Arguments & Parameters\n- **Creating a simple Function with a parameter**\n- Exploring Functions with `return` values \n- Creating Functions with multiple parameters\n- Sequence in python  \n\n-----\n\n><font size=\"5\" color=\"#00A0B2\"  face=\"verdana\"> <B>Student will be able to</B></font>  \n- **create functions with a parameter**  \n- create functions with a `return` value \n- create functions with multiple parameters\n- use knowledge of sequence in coding tasks  \n- Use coding best practices "
    },
    {
      "metadata": {},
      "cell_type": "markdown",
      "source": "# &nbsp;\n<font size=\"6\" color=\"#00A0B2\"  face=\"verdana\"> <B>Concept</B></font>\n## Calling Functions with Arguments\nFunctions are used for code tasks that are intended to be reused \n\n[![view video](https://iajupyterprodblobs.blob.core.windows.net/imagecontainer/common/play_video.png)]( http://edxinteractivepage.blob.core.windows.net/edxpages/f7cff1a7-5601-48a1-95a6-fd1fdfabd20e.html?details=[{\"src\":\"http://jupyternootbookwams.streaming.mediaservices.windows.net/621d10f8-23d5-4571-b0fd-aa12b0de98d8/Unit1_Section3.1-function-arguments.ism/manifest\",\"type\":\"application/vnd.ms-sstr+xml\"}],[{\"src\":\"http://jupyternootbookwams.streaming.mediaservices.windows.net/621d10f8-23d5-4571-b0fd-aa12b0de98d8/Unit1_Section3.1-function-arguments.vtt\",\"srclang\":\"en\",\"kind\":\"subtitles\",\"label\":\"english\"}])\n\nPython allows us to create **User Defined Functions** and provides many **Built-in Functions** such as **`print()`**  \n- **`print()`** can be called using arguments (or without) and sends text to standard output, such as the console. \n- **`print()`** uses **Parameters** to define the variable Arguments that can be passed to the Function. \n- **`print()`** defines multiple string/numbers parameters which means we can send a long list of Arguments to **`print()`**, separated by commas.   \n- **`print()`** can also be called directly with just its name and empty parentheses and it will return a blank line to standard output"
    },
    {
      "metadata": {},
      "cell_type": "markdown",
      "source": "# &nbsp;\n<font size=\"6\" color=\"#00A0B2\"  face=\"verdana\"> <B>Examples</B></font>"
    },
    {
      "metadata": {
        "trusted": true
      },
      "cell_type": "code",
      "source": "print('Hello World!', 'I am sending string arguments to print ')",
      "execution_count": 1,
      "outputs": [
        {
          "output_type": "stream",
          "text": "Hello World! I am sending string arguments to print \n",
          "name": "stdout"
        }
      ]
    },
    {
      "metadata": {
        "trusted": true
      },
      "cell_type": "code",
      "source": "student_age = 17\nstudent_name = \"Hiroto Yamaguchi\"\nprint(student_name,'will be in the class for',student_age, 'year old students.')",
      "execution_count": 2,
      "outputs": [
        {
          "output_type": "stream",
          "text": "Hiroto Yamaguchi will be in the class for 17 year old students.\n",
          "name": "stdout"
        }
      ]
    },
    {
      "metadata": {
        "trusted": true
      },
      "cell_type": "code",
      "source": "print(\"line 1\")\nprint(\"line 2\")\n# line 3 is an empty return - the default when no arguments\nprint()\nprint(\"line 4\")",
      "execution_count": 3,
      "outputs": [
        {
          "output_type": "stream",
          "text": "line 1\nline 2\n\nline 4\n",
          "name": "stdout"
        }
      ]
    },
    {
      "metadata": {},
      "cell_type": "markdown",
      "source": "# &nbsp;\n<font size=\"6\" color=\"#B24C00\"  face=\"verdana\"> <B>Task 1</B></font>\n## Passing Arguments to &nbsp; `print()` \n### Many Arguments can be passed to print \n\n- update the print statement to use **`print()`** with **8** or more arguments"
    },
    {
      "metadata": {
        "trusted": true
      },
      "cell_type": "code",
      "source": "#[ ] increase the number of arguments used in print() to 8 or more \nstudent_age = 17\nstudent_name = \"Hiroto Yamaguchi\"\nprint(student_name,'will be in the class for',student_age, 'year old students.')\n\n",
      "execution_count": 4,
      "outputs": [
        {
          "output_type": "stream",
          "text": "Hiroto Yamaguchi will be in the class for 17 year old students.\n",
          "name": "stdout"
        }
      ]
    },
    {
      "metadata": {
        "collapsed": true
      },
      "cell_type": "markdown",
      "source": "# &nbsp;\n<font size=\"6\" color=\"#00A0B2\"  face=\"verdana\"> <B>Concept</B></font>\n## Create a simple Function\nCreating user defined functions is at the core of computer programming.  Functions enable code reuse and make code easier to develop and maintain.\n[![view video](https://iajupyterprodblobs.blob.core.windows.net/imagecontainer/common/play_video.png)]( http://edxinteractivepage.blob.core.windows.net/edxpages/f7cff1a7-5601-48a1-95a6-fd1fdfabd20e.html?details=[{\"src\":\"http://jupyternootbookwams.streaming.mediaservices.windows.net/35458114-6211-4d10-85bc-7c4eb7834c52/Unit1_Section3.1-Simplest_Functions.ism/manifest\",\"type\":\"application/vnd.ms-sstr+xml\"}],[{\"src\":\"http://jupyternootbookwams.streaming.mediaservices.windows.net/35458114-6211-4d10-85bc-7c4eb7834c52/Unit1_Section3.1-Simplest_Functions.vtt\",\"srclang\":\"en\",\"kind\":\"subtitles\",\"label\":\"english\"}])\n### basics of a user defined function\n- define a function with **`def`** \n- use indentation (4 spaces)\n- define parameters\n- optional parameters \n- **`return`** values (or none)\n- function scope (basics defaults)  \n"
    },
    {
      "metadata": {},
      "cell_type": "markdown",
      "source": "### `def some_function():`\nuse the &nbsp;**`def`** &nbsp;statement when creating a **function**  \n- use a function name that **starts with a letter** or underscore (usually a lower-case letter)\n- function names can contain **letters, numbers or underscores**\n- parenthesis &nbsp; **()**  &nbsp; follow the function name\n- a colon &nbsp; **:**  &nbsp; follows the parenthesis\n- the code for the function is indented under the function definition (use 4 spaces for this course)\n\n```python\ndef some_function():\n   #code the function tasks indented here    \n```\nThe **end of the function** is denoted by returning to **no indentation**"
    },
    {
      "metadata": {},
      "cell_type": "markdown",
      "source": "# &nbsp;\n<font size=\"6\" color=\"#00A0B2\"  face=\"verdana\"> <B>Examples</B></font>"
    },
    {
      "metadata": {
        "trusted": true
      },
      "cell_type": "code",
      "source": "# defines a function named say_hi\ndef say_hi():\n    print(\"Hello there!\")\n    print(\"goodbye\")",
      "execution_count": 5,
      "outputs": []
    },
    {
      "metadata": {
        "trusted": true
      },
      "cell_type": "code",
      "source": "# define three_three \ndef three_three():\n    print(33) ",
      "execution_count": 6,
      "outputs": []
    },
    {
      "metadata": {},
      "cell_type": "markdown",
      "source": "# &nbsp;\n<font size=\"6\" color=\"#00A0B2\"  face=\"verdana\"> <B>Concept</B></font>\n## Call a function by name\nCall a simple function using the function name followed by parenthesis.  For instance, calling print is  \n**`print()`**"
    },
    {
      "metadata": {},
      "cell_type": "markdown",
      "source": "## &nbsp;\n<font size=\"6\" color=\"#00A0B2\"  face=\"verdana\"> <B>Examples</B></font>"
    },
    {
      "metadata": {
        "trusted": true
      },
      "cell_type": "code",
      "source": "# Program defines and calls the say_hi & three_three functions\n# [ ] review and run the code\n\ndef say_hi():\n    print(\"Hello there!\")\n    print(\"goodbye\")\n# end of indentation ends the function\n\n# define three_three \ndef three_three():\n    print(33) \n\n# calling the functions\nsay_hi()\nprint()\nthree_three()",
      "execution_count": 7,
      "outputs": [
        {
          "output_type": "stream",
          "text": "Hello there!\ngoodbye\n\n33\n",
          "name": "stdout"
        }
      ]
    },
    {
      "metadata": {},
      "cell_type": "markdown",
      "source": "# &nbsp;\n<font size=\"6\" color=\"#B24C00\"  face=\"verdana\"> <B>Task 2</B></font>\n## Define and call a simple function &nbsp; `yell_it()` \n### `yell_it()` &nbsp; prints the phrase with \"!\" concatenated to the end\n- takes no arguments\n- indented function code does the following\n  - define a variable for called **`phrase`** and intialize with a short *phrase*\n  - prints **`phrase`** as all upper-case letters followed by \"!\"\n- call &nbsp; `yell_it` &nbsp; at the bottom of the cell after the function &nbsp;**`def`**&nbsp; (**Tip:** no indentation should be used)"
    },
    {
      "metadata": {
        "trusted": false
      },
      "cell_type": "code",
      "source": "#[ ] define (def) a simple function called yell_it() and call the function\n\n",
      "execution_count": null,
      "outputs": []
    },
    {
      "metadata": {},
      "cell_type": "markdown",
      "source": "# &nbsp;\n<font size=\"6\" color=\"#00A0B2\"  face=\"verdana\"> <B>Concept</B></font>\n## Functions that have Parameters\n[![view video](https://iajupyterprodblobs.blob.core.windows.net/imagecontainer/common/play_video.png)]( http://edxinteractivepage.blob.core.windows.net/edxpages/f7cff1a7-5601-48a1-95a6-fd1fdfabd20e.html?details=[{\"src\":\"http://jupyternootbookwams.streaming.mediaservices.windows.net/c84008fa-2ec9-4e4b-8b6b-15b9063852a1/Unit1_Section3.1-funct-parameter.ism/manifest\",\"type\":\"application/vnd.ms-sstr+xml\"}],[{\"src\":\"http://jupyternootbookwams.streaming.mediaservices.windows.net/c84008fa-2ec9-4e4b-8b6b-15b9063852a1/Unit1_Section3.1-funct-parameter.vtt\",\"srclang\":\"en\",\"kind\":\"subtitles\",\"label\":\"english\"}])\n**`print()`** and **`type()`** are examples of built-in functions that have **Parameters** defined  \n  \n**`type()`** has a parameter for a **Python Object** and sends back the *type* of the object\n  \nan **Argument** is a value given for a parameter when calling a function  \n- **`type`** is called providing an **Argument** - in this case the string *\"Hello\"*\n```python\ntype(\"Hello\")\n```  \n\n## Defining Function Parameters\n- Parameters are defined inside of the parenthesis as part of a function **`def`** statement\n- Parameters are typically copies of objects that are available for use in function code\n```python\ndef say_this(phrase):  \n      print(phrase)\n```  \n\n## Function can have default Arguments\n- Default Arguments are used if no argument is supplied\n- Default arguments are assigned when creating the parameter list\n```python\ndef say_this(phrase = \"Hi\"):  \n      print(phrase)\n```"
    },
    {
      "metadata": {},
      "cell_type": "markdown",
      "source": "## &nbsp;\n<font size=\"6\" color=\"#00A0B2\"  face=\"verdana\"> <B>Example</B></font>"
    },
    {
      "metadata": {
        "trusted": true
      },
      "cell_type": "code",
      "source": "# yell_this() yells the string Argument provided\ndef yell_this(phrase):\n    print(phrase.upper() + \"!\")\n    \n# call function with a string\nyell_this(\"It is time to save the notebook\")",
      "execution_count": 8,
      "outputs": [
        {
          "output_type": "stream",
          "text": "IT IS TIME TO SAVE THE NOTEBOOK!\n",
          "name": "stdout"
        }
      ]
    },
    {
      "metadata": {
        "trusted": true
      },
      "cell_type": "code",
      "source": "# use a default argument\ndef say_this(phrase = \"Hi\"):  \n    print(phrase)\n        \nsay_this()\nsay_this(\"Bye\")",
      "execution_count": 9,
      "outputs": [
        {
          "output_type": "stream",
          "text": "Hi\nBye\n",
          "name": "stdout"
        }
      ]
    },
    {
      "metadata": {},
      "cell_type": "markdown",
      "source": "# &nbsp;\n<font size=\"6\" color=\"#B24C00\"  face=\"verdana\"> <B>Task 3</B></font>\n\n## Define `yell_this()` and call with variable argument \n- define variable &nbsp; **`words_to_yell`** &nbsp; as a string gathered from user&nbsp; `input()`\n- Call &nbsp;**`yell_this()`** &nbsp;with &nbsp; **`words_to_yell`** &nbsp;as argument\n- get user input() for the string words_to_yell"
    },
    {
      "metadata": {
        "trusted": true
      },
      "cell_type": "code",
      "source": "# [ ] define yell_this() \n\n# [ ] get user input in variable words_to_yell\n\n# [ ] call yell_this function with words_to_yell as argument\n\na = input(\" Please enter  rainbow colors \").upper()\nif a.isalnum():\n    if a.startswith(\"V\"):\n        print(\" good  violet is a rainbow color\")\n    elif a.startswith(\"I\"):\n        print(\" good indigo is a rainbow color\")\n    else:\n        print(\"this is not a rainbow color \")\nelse:\n    print(\"this is not alphanumeric number\")",
      "execution_count": null,
      "outputs": []
    },
    {
      "metadata": {
        "trusted": true
      },
      "cell_type": "code",
      "source": "",
      "execution_count": null,
      "outputs": []
    },
    {
      "metadata": {},
      "cell_type": "markdown",
      "source": "[Terms of use](http://go.microsoft.com/fwlink/?LinkID=206977) &nbsp; [Privacy & cookies](https://go.microsoft.com/fwlink/?LinkId=521839) &nbsp; © 2017 Microsoft"
    }
  ],
  "metadata": {
    "anaconda-cloud": {},
    "kernelspec": {
      "name": "python3",
      "display_name": "Python 3",
      "language": "python"
    },
    "language_info": {
      "mimetype": "text/x-python",
      "nbconvert_exporter": "python",
      "name": "python",
      "file_extension": ".py",
      "version": "3.5.4",
      "pygments_lexer": "ipython3",
      "codemirror_mode": {
        "version": 3,
        "name": "ipython"
      }
    }
  },
  "nbformat": 4,
  "nbformat_minor": 1
}