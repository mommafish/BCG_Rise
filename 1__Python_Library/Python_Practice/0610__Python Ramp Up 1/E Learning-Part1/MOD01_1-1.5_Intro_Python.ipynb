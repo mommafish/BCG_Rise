{
 "cells": [
  {
   "cell_type": "markdown",
   "metadata": {
    "slideshow": {
     "slide_type": "slide"
    }
   },
   "source": [
    "# 1-1.5 Intro Python\n",
    "##  Getting started with Python in Jupyter Notebooks\n",
    "- Python 3 in Jupyter notebooks\n",
    "- `print()`\n",
    "- comments \n",
    "- data types basics\n",
    "- variables\n",
    "- addition with Strings and Integers \n",
    "- Errors  \n",
    "- **character art**  \n",
    "\n",
    "-----\n",
    "\n",
    "\n",
    "><font size=\"5\" color=\"#00A0B2\"  face=\"verdana\"> <B>Student will be able to</B></font>\n",
    "- use Python 3 in Jupyter notebooks\n",
    "- write working code using `print()`, `type()`, comments and variables\n",
    "- combine Strings using string addition (+)\n",
    "- add numbers in code (+) \n",
    "- troubleshoot errors  \n",
    "- **create character art**"
   ]
  },
  {
   "cell_type": "markdown",
   "metadata": {},
   "source": [
    "# &nbsp;\n",
    "<font size=\"6\" color=\"#00A0B2\"  face=\"verdana\"> <B>Extra Activity</B></font>\n",
    "## print() character art\n",
    "[![view video](https://iajupyterprodblobs.blob.core.windows.net/imagecontainer/common/play_video.png)]( http://edxinteractivepage.blob.core.windows.net/edxpages/f7cff1a7-5601-48a1-95a6-fd1fdfabd20e.html?details=[{\"src\":\"http://jupyternootbookwams.streaming.mediaservices.windows.net/d7a3d1b4-8d8d-4e9e-a984-a6920bcd7ca1/Unit1_Section1.5-ASCII_Art.ism/manifest\",\"type\":\"application/vnd.ms-sstr+xml\"}],[{\"src\":\"http://jupyternootbookwams.streaming.mediaservices.windows.net/d7a3d1b4-8d8d-4e9e-a984-a6920bcd7ca1/Unit1_Section1.5-ASCII_Art.vtt\",\"srclang\":\"en\",\"kind\":\"subtitles\",\"label\":\"english\"}])\n",
    "print() output to the console can create character art in the forms of pictures and stylized text. Below we show how to create a stylized letter \"A\" "
   ]
  },
  {
   "cell_type": "code",
   "execution_count": null,
   "metadata": {},
   "outputs": [],
   "source": [
    "# the letter 'A'\n",
    "print(\"    *\")\n",
    "print(\"   * *\")\n",
    "print(\"  *****\")\n",
    "print(\" *     *\")\n",
    "print(\"*       *\")\n",
    "print()"
   ]
  },
  {
   "cell_type": "markdown",
   "metadata": {},
   "source": [
    "<font size=\"6\" color=\"#B24C00\"  face=\"verdana\"> <B>Extra Task</B></font>  \n",
    "- create the flying bird in character art in the Code cell below\n",
    "\n",
    "```\n",
    "\n",
    "_         _      \n",
    " \\       /     \n",
    "  \\ . . /   \n",
    "     V   \n",
    "\n",
    "```  \n"
   ]
  },
  {
   "cell_type": "code",
   "execution_count": null,
   "metadata": {},
   "outputs": [],
   "source": [
    "# create # [ ] flying bird character art \n",
    "\n"
   ]
  },
  {
   "cell_type": "markdown",
   "metadata": {},
   "source": [
    "<font size=\"4\" color=\"#B24C00\"  face=\"verdana\"> <B>Extra Task cont...</B></font>  \n",
    "- create the capital letter \"E\" in character art in the Code cell below"
   ]
  },
  {
   "cell_type": "code",
   "execution_count": null,
   "metadata": {},
   "outputs": [],
   "source": [
    "# [ ] capital letter \"E\" character art\n",
    "\n"
   ]
  },
  {
   "cell_type": "code",
   "execution_count": 2,
   "metadata": {},
   "outputs": [
    {
     "name": "stdout",
     "output_type": "stream",
     "text": [
      "enter number or QQ\n"
     ]
    },
    {
     "ename": "ValueError",
     "evalue": "invalid literal for int() with base 10: 'Q'",
     "output_type": "error",
     "traceback": [
      "\u001b[1;31m---------------------------------------------------------------------------\u001b[0m",
      "\u001b[1;31mValueError\u001b[0m                                Traceback (most recent call last)",
      "\u001b[1;32m~\\AppData\\Local\\Temp/ipykernel_4488/673726035.py\u001b[0m in \u001b[0;36m<module>\u001b[1;34m\u001b[0m\n\u001b[0;32m      3\u001b[0m \u001b[1;32mwhile\u001b[0m \u001b[1;32mTrue\u001b[0m\u001b[1;33m:\u001b[0m\u001b[1;33m\u001b[0m\u001b[1;33m\u001b[0m\u001b[0m\n\u001b[0;32m      4\u001b[0m     \u001b[0minp\u001b[0m \u001b[1;33m=\u001b[0m \u001b[0minput\u001b[0m\u001b[1;33m(\u001b[0m\u001b[1;34m\"enter number or Q\"\u001b[0m\u001b[1;33m)\u001b[0m\u001b[1;33m\u001b[0m\u001b[1;33m\u001b[0m\u001b[0m\n\u001b[1;32m----> 5\u001b[1;33m     \u001b[1;32mif\u001b[0m \u001b[0mint\u001b[0m\u001b[1;33m(\u001b[0m\u001b[0minp\u001b[0m\u001b[1;33m)\u001b[0m \u001b[1;33m<\u001b[0m \u001b[1;36m10\u001b[0m\u001b[1;33m:\u001b[0m\u001b[1;33m\u001b[0m\u001b[1;33m\u001b[0m\u001b[0m\n\u001b[0m\u001b[0;32m      6\u001b[0m         \u001b[0mstr\u001b[0m \u001b[1;33m+=\u001b[0m \u001b[0minp\u001b[0m\u001b[1;33m\u001b[0m\u001b[1;33m\u001b[0m\u001b[0m\n\u001b[0;32m      7\u001b[0m         \u001b[0mtotawl\u001b[0m \u001b[1;33m+=\u001b[0m \u001b[0mint\u001b[0m\u001b[1;33m(\u001b[0m\u001b[0minp\u001b[0m\u001b[1;33m)\u001b[0m\u001b[1;33m\u001b[0m\u001b[1;33m\u001b[0m\u001b[0m\n",
      "\u001b[1;31mValueError\u001b[0m: invalid literal for int() with base 10: 'Q'"
     ]
    }
   ],
   "source": [
    "str = \"\"\n",
    "totawl = 0\n",
    "while True:\n",
    "    inp = input(\"enter number or Q\")\n",
    "    if int(inp) < 10:\n",
    "        str += inp \n",
    "        totawl += int(inp)\n",
    "    else:\n",
    "        print(\"number must be less than 10 \")\n",
    "        another_input = input(\"Do you want all input and total or only total to be displayed\")\n",
    "        if another_input == \"A\":\n",
    "            print(\"your number is\\n\" , str ) \n",
    "            print(\"your total is\\n\" , totawl ) \n",
    "            break\n",
    "        elif another_input == \"T\":\n",
    "            print(\"your total is\\n\" , totawl ) \n",
    "            break\n",
    "        else:\n",
    "            pass\n",
    "\n",
    "\n",
    "\n"
   ]
  },
  {
   "cell_type": "code",
   "execution_count": null,
   "metadata": {},
   "outputs": [],
   "source": [
    "str = \"\"\n",
    "totawl = 0\n",
    "while True:\n",
    "    inp = input(\"enter number or Q\")\n",
    "    if inp.isdigit() == True:\n",
    "        str += inp \n",
    "        totawl += int(inp)\n",
    "    elif inp.upper().startswith(\"Q\"):\n",
    "        another_input = input(\"Do you want all input (A) and total or only total (T) to be displayed\")\n",
    "        if another_input == \"A\":\n",
    "            print(\"your number is\\n\" , str ) \n",
    "            print(\"your total is\\n\" , totawl ) \n",
    "            break\n",
    "        elif another_input == \"T\":\n",
    "            print(\"your total is\\n\" , totawl ) \n",
    "            break\n",
    "        else:\n",
    "            pass\n",
    "\n",
    "\n",
    "\n"
   ]
  },
  {
   "cell_type": "code",
   "execution_count": 3,
   "metadata": {},
   "outputs": [
    {
     "name": "stdout",
     "output_type": "stream",
     "text": [
      "enter number or Q2\n",
      "enter number or Q3\n",
      "enter number or Q4\n",
      "enter number or Qq\n",
      "Do you want all input (A) and total or only total (T) to be displayeda\n",
      "enter number or QA\n",
      "Invalid input\n",
      "enter number or Qq\n",
      "Do you want all input (A) and total or only total (T) to be displayedA\n",
      "your numbers are\n",
      "234\n",
      "your total is\n",
      " 9\n"
     ]
    }
   ],
   "source": [
    "str = \"\"\n",
    "totawl = 0\n",
    "while True:\n",
    "    inp = input(\"enter number or Q\")\n",
    "    if inp.isdigit() == True:\n",
    "        str += inp \n",
    "        totawl += int(inp)\n",
    "    elif inp.upper().startswith(\"Q\"):\n",
    "        another_input = input(\"Do you want all input (A) and total or only total (T) to be displayed\")\n",
    "        if another_input == \"A\":\n",
    "            print(\"your numbers are\\n\" + str ) \n",
    "            print(\"your total is\\n\" , totawl ) \n",
    "            break\n",
    "        elif another_input == \"T\":\n",
    "            print(\"your total is\\n\" , totawl ) \n",
    "            break\n",
    "        else:\n",
    "            pass\n",
    "    else:\n",
    "        print(\"Invalid input\")"
   ]
  },
  {
   "cell_type": "markdown",
   "metadata": {},
   "source": [
    "#### Final coding 5\n",
    "\n",
    "1. Total = 0 and  str = \"\"\n",
    "2. While True\n",
    "\n",
    "3. Input from the user integer or Quit\n",
    "    3.1 if the input is digit\n",
    "        3.1.1 Add to the total \n",
    "            3.1.1.1 if the input is A\n",
    "                       add All items to string \n",
    "            3.1.1.2 if input is T\n",
    "                        go back to while loop \n",
    "                      \n",
    "        \n",
    "    3.2 if input is not digit\n",
    "        3.2.1 if the input is not starting with \"Q\"\n",
    "                print invalid input\n",
    "        3.2.2 if the input starts with \"Q\"\n",
    "               input from the user for A or T( A = All the items and total display , T = only the total display)\n",
    "               3.2.2.1 if the input is A\n",
    "                   print All items and total \n",
    "                   break \n",
    "               3.2.2.2 if the input is T\n",
    "                   print total \n",
    "                   break \n",
    "                   \n",
    "                \n",
    "                \n",
    "                \n",
    "                "
   ]
  }
 ],
 "metadata": {
  "anaconda-cloud": {},
  "kernelspec": {
   "display_name": "Python 3",
   "language": "python",
   "name": "python3"
  },
  "language_info": {
   "codemirror_mode": {
    "name": "ipython",
    "version": 3
   },
   "file_extension": ".py",
   "mimetype": "text/x-python",
   "name": "python",
   "nbconvert_exporter": "python",
   "pygments_lexer": "ipython3",
   "version": "3.8.8"
  }
 },
 "nbformat": 4,
 "nbformat_minor": 1
}
