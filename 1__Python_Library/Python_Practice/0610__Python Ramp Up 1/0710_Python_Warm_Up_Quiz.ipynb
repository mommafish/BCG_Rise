{
 "cells": [
  {
   "cell_type": "code",
   "execution_count": 1,
   "id": "02f67ca3",
   "metadata": {},
   "outputs": [
    {
     "name": "stdout",
     "output_type": "stream",
     "text": [
      "\"c\" for Cheese or \"v\" for Veggie Special: c\n",
      "\"c\" for Cheddar or \"m\" for Manchego: m\n",
      "Here is your Manchego Cheese sandwich\n"
     ]
    }
   ],
   "source": [
    "# Example of my own nested conditionals\n",
    "sandwich_type = input('\"c\" for Cheese or \"v\" for Veggie Special: ')\n",
    "\n",
    "if sandwich_type.lower() == \"c\":\n",
    "    # select cheese type\n",
    "    cheese_type = input('\"c\" for Cheddar or \"m\" for Manchego: ')\n",
    "    \n",
    "    if cheese_type.lower() == \"c\":\n",
    "        print(\"Here is your Cheddar Cheese sandwich\")\n",
    "    else:\n",
    "        print(\"Here is your Manchego Cheese sandwich\") \n",
    "\n",
    "else:\n",
    "    print(\"Here is your Veggie Special\")"
   ]
  },
  {
   "cell_type": "code",
   "execution_count": 3,
   "id": "340e629e",
   "metadata": {},
   "outputs": [
    {
     "name": "stdout",
     "output_type": "stream",
     "text": [
      "Enter a secret number: 3\n",
      "This is incorrect! Try again!\n",
      "\n",
      "Enter a secret number: three\n",
      "Please enter a number! Try again!\n",
      "\n",
      "Enter a secret number: 5\n",
      "Yes! The secret number is 5\n",
      "The End\n"
     ]
    }
   ],
   "source": [
    "# Example of my own while loops\n",
    "number_guess = 0\n",
    "secret_number = 5\n",
    "\n",
    "while True:\n",
    "    number_guess = input(\"Enter a secret number: \")\n",
    "    if number_guess.isalpha():\n",
    "        print(\"Please enter a number! Try again!\\n\")\n",
    "    elif int(number_guess) == secret_number:\n",
    "        print(f\"Yes! The secret number is {secret_number}\")\n",
    "        print(\"The End\")\n",
    "        break\n",
    "    else:\n",
    "        print(\"This is incorrect! Try again!\\n\")"
   ]
  },
  {
   "cell_type": "code",
   "execution_count": null,
   "id": "c04bd95d",
   "metadata": {},
   "outputs": [],
   "source": [
    "# Example testing of my own WHILE LOOP MINUS\n",
    "a_pie = int(input(\"How many Apple Pies should Benny buy for his friends today?\\n\"))\n",
    "\n",
    "while True:\n",
    "    print(f\"There are {a_pie} apple pies in the bag...\")\n",
    "    a_pie -= 1\n",
    "    \n",
    "    if a_pie <= 0:\n",
    "        print (\"Benny has eaten all the apple pies! \\nThe End\")\n",
    "        break\n",
    "    "
   ]
  },
  {
   "cell_type": "code",
   "execution_count": 6,
   "id": "0599e263",
   "metadata": {},
   "outputs": [
    {
     "name": "stdout",
     "output_type": "stream",
     "text": [
      "Are you awake Benny?: Y/N y\n",
      "1 little sheep jumps over the fence...\n",
      "\n",
      "Are you awake Benny?: Y/N y\n",
      "2 little sheep jumps over the fence...\n",
      "\n",
      "Are you awake Benny?: Y/N n\n",
      "Good Night Benny...\n"
     ]
    }
   ],
   "source": [
    "# Count Sheep Untill person falls asleep\n",
    "name = 'Benny'.title()\n",
    "sheep_count = 0\n",
    "\n",
    "while True:\n",
    "    sleep_check = input(f\"Are you awake {name}?: Y/N \").lower()\n",
    "    if sleep_check[0] == \"n\":\n",
    "        print(f\"Good Night {name}...\")\n",
    "        break\n",
    "    elif sleep_check[0] != \"n\":\n",
    "        sheep_count += 1\n",
    "        print(f\"{sheep_count} little sheep jumps over the fence...\\n\")"
   ]
  },
  {
   "cell_type": "markdown",
   "id": "91500946",
   "metadata": {},
   "source": [
    "# Program: Cheese Order\n",
    "- set values for maximum and minimum order variables\n",
    "- set value for price variable\n",
    "- get order_amount input and cast to a number\n",
    "- check order_amount and give message checking against\n",
    "- over maximum\n",
    "- under minimum\n",
    "- else within maximum and minimum give message with calculated price"
   ]
  },
  {
   "cell_type": "code",
   "execution_count": null,
   "id": "443d1e02",
   "metadata": {
    "scrolled": true
   },
   "outputs": [],
   "source": [
    "max_wt = 113.00\n",
    "min_wt = 0.15\n",
    "price_wt = 7.99 #per 1.0 kg\n",
    "\n",
    "while True:\n",
    "    my_order = float(input(\"Enter cheese order weight (numeric value): \"))\n",
    "    if my_order >= max_wt:\n",
    "        print (f'{my_order} is more than currently available stock\\n')\n",
    "    elif my_order <= min_wt:\n",
    "        print(f'{my_order} is below minimum order amount\\n')\n",
    "    else:\n",
    "        payment = my_order * price_wt\n",
    "        print(f'{my_order} costs: ${payment}')\n",
    "        break"
   ]
  },
  {
   "cell_type": "code",
   "execution_count": null,
   "id": "18f48417",
   "metadata": {},
   "outputs": [],
   "source": []
  },
  {
   "cell_type": "markdown",
   "id": "24a747f3",
   "metadata": {},
   "source": [
    "# Working Session with trainer 7/10"
   ]
  },
  {
   "cell_type": "markdown",
   "id": "e9bd106c",
   "metadata": {},
   "source": [
    "## ACTIVITY 1"
   ]
  },
  {
   "cell_type": "code",
   "execution_count": null,
   "id": "ae89e13e",
   "metadata": {},
   "outputs": [],
   "source": [
    "# Create Allergy check code\n",
    "\n",
    "# [ ] get input for input_test variable\n",
    "input_text = input(\"Enter food category eaten in last 24 hours: \").lower()\n",
    "# Meat, Dairy, Fruit, Pasta, Nuts\n",
    "\n",
    "# [ ] print \"True\" message if \"dairy\" is in the input or False message if not\n",
    "if 'dairy' in input_text:\n",
    "    print (f\"It is True that '{input_text}' contains 'Dairy'\")\n",
    "else:\n",
    "    print (f\"It is False that '{input_text}' contains 'Dairy'\")\n",
    "    \n",
    "# [ ] print True message if \"nuts\" is in the input or False if not\n",
    "if 'nuts' in input_text:\n",
    "    print (f\"It is True that '{input_text}' contains 'Nuts'\")\n",
    "else:\n",
    "    print (f\"It is False that '{input_text}' contains 'Nuts'\")\n",
    "    \n",
    "# [ ] Challenge: Check if \"seafood\" is in the input - print message\n",
    "if 'seafood' in input_text:\n",
    "    print (f\"It is True that '{input_text}' contains 'Seafood'\")\n",
    "else:\n",
    "    print (f\"It is False that '{input_text}' contains 'Seafood'\")\n",
    "    \n",
    "# [ ] Challenge: Check if \"chocolate\" is in the input - print message\n",
    "if 'chocolate' in input_text:\n",
    "    print (f\"It is True that '{input_text}' contains 'Chocolate'\")\n",
    "else:\n",
    "    print (f\"It is False that '{input_text}' contains 'Chocolate'\")"
   ]
  },
  {
   "cell_type": "code",
   "execution_count": null,
   "id": "8b7fd091",
   "metadata": {},
   "outputs": [],
   "source": [
    "items = ['dairy', 'nuts', 'seafood', 'chocolate']\n",
    "\n",
    "for i in range(len(items)):\n",
    "    print(i, items[i])"
   ]
  },
  {
   "cell_type": "code",
   "execution_count": null,
   "id": "94c224a6",
   "metadata": {},
   "outputs": [],
   "source": [
    "# Method 2\n",
    "input_test = input(\"Input the categories of food eaten in the last 24 hours: \").lower()\n",
    "items = ['dairy', 'nuts', 'seafood', 'chocolate']\n",
    "\n",
    "for i in items:\n",
    "    print(f\"It is {i in input_test} that '{input_test.title()}' contains {i.title()}\")"
   ]
  },
  {
   "cell_type": "markdown",
   "id": "5b0b2812",
   "metadata": {},
   "source": [
    "# Program: fishstore()\n",
    "- create and test fishstore()\n",
    "\n",
    "- fishstore() takes 2 string arguments: fish & price\n",
    "- fishstore returns a string in sentence form\n",
    "- gather input for fish_entry and price_entry to use in calling fishstore()\n",
    "- print the return value of fishstore()\n",
    "- example of output: Fish Type: Guppy costs $1\n",
    "\n",
    "- [ ] create, call and test fishstore() function "
   ]
  },
  {
   "cell_type": "markdown",
   "id": "b5933cec",
   "metadata": {},
   "source": [
    "## ACTIVITY 2"
   ]
  },
  {
   "cell_type": "code",
   "execution_count": null,
   "id": "1d399690",
   "metadata": {},
   "outputs": [],
   "source": [
    "def fishstore(fish_entry,price_entry):\n",
    "    a = round(price_entry, 2)\n",
    "    return f'Fish type: {fish_entry.title()} costs ${a}'\n",
    "\n",
    "fish_entry = input('enter fish name: ')\n",
    "price_entry = float(input('enter the fish price: '))\n",
    "        \n",
    "print (fishstore(fish_entry,price_entry))"
   ]
  },
  {
   "cell_type": "markdown",
   "id": "be0928de",
   "metadata": {},
   "source": [
    "# ACTIVITY 3/4\n",
    "- ask user input\n",
    "- check if they input nothing. if so, then ask again (while loop)\n",
    "- check if it is all digit, do something\n",
    "- check if all alphabet then do something\n",
    "- check if not both then print something"
   ]
  },
  {
   "cell_type": "code",
   "execution_count": null,
   "id": "e9be357b",
   "metadata": {},
   "outputs": [],
   "source": [
    "def str_analysis(my_result):\n",
    "    if my_result.isdigit():\n",
    "        my_int = int(my_result)\n",
    "        if my_int > 99:\n",
    "            print (f\"{my_result}: is a pretty BIG number\")\n",
    "#         elif convert_int <= 99:\n",
    "        else:\n",
    "            print (f\"{my_result}: is SMALLER than expected\")\n",
    "    elif my_result.isalpha():\n",
    "        print (f'\"{my_result}\" is all alphabetical characters!')\n",
    "    else:\n",
    "        print (f'{my_result} is neither all alpha nor all digit!')"
   ]
  },
  {
   "cell_type": "code",
   "execution_count": null,
   "id": "c825c5ba",
   "metadata": {},
   "outputs": [],
   "source": [
    "while True:\n",
    "    my_result = input(\"enter word or integer: \").strip()\n",
    "    if my_result != '':\n",
    "        break\n",
    "str_analysis(my_result)"
   ]
  },
  {
   "cell_type": "markdown",
   "id": "1630efaf",
   "metadata": {},
   "source": [
    "# FINAL ACTIVITY  define adding_report quiz\n"
   ]
  },
  {
   "cell_type": "code",
   "execution_count": 8,
   "id": "8ba67c87",
   "metadata": {},
   "outputs": [],
   "source": [
    "def adding_report(report_type):\n",
    "    total = 0\n",
    "    items = ''\n",
    "    \n",
    "    while True:\n",
    "        user_input = input(\"Enter integer or Q: \")\n",
    "        \n",
    "        if user_input.isdigit():\n",
    "            user_int = int(user_input)\n",
    "            total = total + user_int\n",
    "            items = items + str(user_input) + '\\n'\n",
    "            \n",
    "        elif user_input[0].lower() == 'q':\n",
    "            if report_type == 't':\n",
    "                print ('\\nTotal =', total)\n",
    "                break\n",
    "            elif report_type == 'a':\n",
    "                print ('\\nItems:')\n",
    "                print(items)\n",
    "                print ('Total =', total)\n",
    "                break\n",
    "        else:\n",
    "            print (user_input, 'is invalid, try again')"
   ]
  },
  {
   "cell_type": "code",
   "execution_count": 9,
   "id": "be4cf0b6",
   "metadata": {},
   "outputs": [
    {
     "name": "stdout",
     "output_type": "stream",
     "text": [
      "Report Types include ALL items (A) or Total only (T)\n",
      "\n",
      "\n",
      "Choose Report Type (\"A\" or \"T\") a\n",
      "Enter integer or Q: quit\n",
      "\n",
      "Items:\n",
      "\n",
      "Total = 0\n"
     ]
    }
   ],
   "source": [
    "print ('Report Types include ALL items (A) or Total only (T)\\n\\n')\n",
    "\n",
    "while True:\n",
    "        qn_input = input('Choose Report Type (\"A\" or \"T\") ').lower()\n",
    "        if qn_input == 'a':\n",
    "            break\n",
    "        elif qn_input =='t':\n",
    "            break\n",
    "        else:\n",
    "            print(qn_input, \"is an invalid input\")\n",
    "            \n",
    "adding_report(qn_input)"
   ]
  },
  {
   "cell_type": "markdown",
   "id": "4b3b6de0",
   "metadata": {},
   "source": [
    "# Same question but with my method below"
   ]
  },
  {
   "cell_type": "code",
   "execution_count": 3,
   "id": "06036df3",
   "metadata": {},
   "outputs": [],
   "source": [
    "def adding_report(report_type):\n",
    "    total = 0\n",
    "    my_str = \"\"\n",
    "    while True:\n",
    "        # ALL ITEMS REPORT\n",
    "        if report_type == 'A':\n",
    "            user_input = input(\"Enter integer or Q to quit: \")\n",
    "            if user_input.isdigit():\n",
    "                my_int = int(user_input)\n",
    "                total += my_int\n",
    "                my_str += user_input + \"\\n\"\n",
    "            elif user_input[0].upper() == 'Q':\n",
    "                print(\"\\nItems\\n\" + str(my_str))\n",
    "                print (f'Total\\n{total}')\n",
    "                break\n",
    "            else:\n",
    "                print(f'Try again, \"{user_input}\" is not an integer')\n",
    "        # TOTAL ONLY REPORT        \n",
    "        elif report_type == 'T':\n",
    "            user_input = input(\"Enter integer or Q to quit: \")\n",
    "            if user_input.isdigit():\n",
    "                user_int = int(user_input)\n",
    "                total += user_int\n",
    "            elif user_input[0].upper() == 'Q':\n",
    "                print (f'\\nTotal\\n{total}')\n",
    "                break\n",
    "            else:\n",
    "                print(f'Try again, \"{user_input}\" is not an integer')        \n",
    "        else:\n",
    "            print(user_input, \"is an invalid input\")"
   ]
  },
  {
   "cell_type": "code",
   "execution_count": 5,
   "id": "85ae4aa2",
   "metadata": {},
   "outputs": [
    {
     "name": "stdout",
     "output_type": "stream",
     "text": [
      "Report Types include ALL items (A) or Total only (T)\n",
      "\n",
      "\n",
      "Choose Report Type (\"A\" or \"T\") t\n",
      "Enter integer or Q to quit: q\n",
      "\n",
      "Total\n",
      "0\n"
     ]
    }
   ],
   "source": [
    "print ('Report Types include ALL items (A) or Total only (T)\\n\\n')\n",
    "\n",
    "while True:\n",
    "        qn_input = input('Choose Report Type (\"A\" or \"T\") ').upper()\n",
    "        if qn_input == 'A':\n",
    "            break\n",
    "        elif qn_input == 'T':\n",
    "            break\n",
    "        else:\n",
    "            print(qn_input, \"is an invalid input\")\n",
    "            \n",
    "adding_report(qn_input)"
   ]
  },
  {
   "cell_type": "code",
   "execution_count": null,
   "id": "fde5b72a",
   "metadata": {},
   "outputs": [],
   "source": []
  },
  {
   "cell_type": "code",
   "execution_count": null,
   "id": "eb46ee10",
   "metadata": {},
   "outputs": [],
   "source": []
  }
 ],
 "metadata": {
  "kernelspec": {
   "display_name": "Python 3",
   "language": "python",
   "name": "python3"
  },
  "language_info": {
   "codemirror_mode": {
    "name": "ipython",
    "version": 3
   },
   "file_extension": ".py",
   "mimetype": "text/x-python",
   "name": "python",
   "nbconvert_exporter": "python",
   "pygments_lexer": "ipython3",
   "version": "3.8.8"
  }
 },
 "nbformat": 4,
 "nbformat_minor": 5
}
