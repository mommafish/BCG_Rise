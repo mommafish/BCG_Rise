{
 "cells": [
  {
   "cell_type": "markdown",
   "metadata": {},
   "source": [
    "# Mini Project 0 - Python"
   ]
  },
  {
   "cell_type": "markdown",
   "metadata": {},
   "source": [
    "## Overview of the excercise 1:\n",
    "### Given below is list of numbers consisting of areas of multiple rectangles whose sides are integers\n",
    "<b> For example is X is an areas of the rectangle given by the forumla </b> <br> <br>\n",
    "<b> X = A * B </b> <br>\n",
    "##### here: <br>\n",
    "<b> A = Integer and B = Integer <br>"
   ]
  },
  {
   "cell_type": "markdown",
   "metadata": {},
   "source": [
    "# QUESTION 1"
   ]
  },
  {
   "cell_type": "markdown",
   "metadata": {},
   "source": [
    "#### 1. Write a function to see if a given rectangle can be a given square (Hint: Check if the number is a perfect square) (Marks: 20)\n",
    "#### 2. Write a function to extract all rectangles that are square ((Hint: Use the function in step 1)  (Marks: 20)"
   ]
  },
  {
   "cell_type": "code",
   "execution_count": 2,
   "metadata": {
    "scrolled": false
   },
   "outputs": [
    {
     "name": "stdout",
     "output_type": "stream",
     "text": [
      "[1, 2, 3, 4, 5, 6, 7, 8, 9, 10, 11, 12, 13, 14, 15, 16, 17, 18, 19, 20, 21, 22, 23, 24, 25, 26, 27, 28, 29, 30, 31, 32, 33, 34, 35, 36, 37, 38, 39, 40, 41, 42, 43, 44, 45, 46, 47, 48, 49, 50, 51, 52, 53, 54, 55, 56, 57, 58, 59, 60, 61, 62, 63, 64, 65, 66, 67, 68, 69, 70, 71, 72, 73, 74, 75, 76, 77, 78, 79, 80, 81, 82, 83, 84, 85, 86, 87, 88, 89, 90, 91, 92, 93, 94, 95, 96, 97, 98, 99, 100]\n"
     ]
    }
   ],
   "source": [
    "rect_100 = list(range(100))\n",
    "rect_100 = [i + 1 for i in rect_100]\n",
    "print(rect_100)"
   ]
  },
  {
   "cell_type": "markdown",
   "metadata": {},
   "source": [
    "## 1.1. Write a function to see if a given rectangle can be a given square (Hint: Check if the number is a perfect square) (Marks: 20)"
   ]
  },
  {
   "cell_type": "code",
   "execution_count": 3,
   "metadata": {},
   "outputs": [],
   "source": [
    "def get_squares_check(n):\n",
    "    \n",
    "    # Use the functionality of power using \"**\" to get the square root\n",
    "    # Use the in built function \"round\" to round of the square root to an integer\n",
    "    #Round the square root to an integer\n",
    "    #Check if the square of the rounded square root of number \"n\" is the same as \"n\"\n",
    "    #If the value is same assign \"True\" as value to sqr_flag\n",
    "    #If the value is not the same assign \"False\" as value to sqr_flag\n",
    "    \n",
    "    my_sqrt = n**0.5\n",
    "    my_rd = round(my_sqrt,0)\n",
    "    \n",
    "    if my_rd == my_sqrt:\n",
    "        sqr_flag = True\n",
    "    else:\n",
    "        sqr_flag = False\n",
    "        \n",
    "    return sqr_flag"
   ]
  },
  {
   "cell_type": "code",
   "execution_count": 4,
   "metadata": {
    "scrolled": true
   },
   "outputs": [
    {
     "name": "stdout",
     "output_type": "stream",
     "text": [
      "Perfect Square = False\n"
     ]
    }
   ],
   "source": [
    "# My answer\n",
    "answer = get_squares_check(5)\n",
    "print(f'Perfect Square = {answer}')"
   ]
  },
  {
   "cell_type": "markdown",
   "metadata": {},
   "source": [
    "## 1.2. Write a function to extract all rectangles that are square ((Hint: Use the function in step 1) (Marks: 20)"
   ]
  },
  {
   "cell_type": "code",
   "execution_count": 5,
   "metadata": {
    "scrolled": true
   },
   "outputs": [],
   "source": [
    "#Extact the list of squared rectangles \n",
    "def get_square_list(num_list):\n",
    "\n",
    "    #Create an empty list to save the squared rectangles\n",
    "    #Iterate between all the rectangular areas in the list\n",
    "    #Check if the rectangule is a square using the function 'get_squares_check\" declared above\n",
    "    #Check if the value of the sqr_check is True\n",
    "    #If True then append \"n\" to the sqr_list declared earlier\n",
    "    \n",
    "    square_list = []\n",
    "    for i in num_list:\n",
    "        if get_squares_check(i) == True:\n",
    "            square_list.append(i)\n",
    "            \n",
    "    return square_list"
   ]
  },
  {
   "cell_type": "code",
   "execution_count": 6,
   "metadata": {},
   "outputs": [
    {
     "name": "stdout",
     "output_type": "stream",
     "text": [
      "Perfect Squares = [1, 4, 9, 16, 25, 36, 49, 64, 81, 100]\n"
     ]
    }
   ],
   "source": [
    "# My Answer\n",
    "answer = get_square_list(rect_100)\n",
    "print(f\"Perfect Squares = {answer}\")"
   ]
  },
  {
   "cell_type": "markdown",
   "metadata": {},
   "source": [
    "# QUESTION 2"
   ]
  },
  {
   "cell_type": "markdown",
   "metadata": {},
   "source": [
    "## Overview of the excercise 2:\n",
    "#### Given below is list of numbers\n",
    "####  1. Write a function to check if a number is a prime number (Marks: 20)\n",
    "####  2. Write a function to determine all the prime numbers in the list  (Marks: 20) \n"
   ]
  },
  {
   "cell_type": "code",
   "execution_count": 7,
   "metadata": {},
   "outputs": [],
   "source": [
    "apple_qty = [233,160,23,181,156,289,70,39,122,40,93,21,204,185,253,267,139,190,286,270,13,273,\n",
    "             79,176,259,290,83,278,111,221,20,242,49,295,256,186,46,268,161,164,108,244,26,\n",
    "             227,249,157,19,33,43,129,84,165,182,87,159,37,231,191,128,110,197,228,279,239,22,\n",
    "             36,169,275,133,94,293,140,112,291,206,288,262,104,296,32,16,299,116,237,178,229,45,\n",
    "             69,135,67,98,209,28,114,294,95,89,138,211,109]"
   ]
  },
  {
   "cell_type": "markdown",
   "metadata": {},
   "source": [
    "## 2.1. Write a function to check if a number is a prime number (Marks: 20)"
   ]
  },
  {
   "cell_type": "code",
   "execution_count": 8,
   "metadata": {},
   "outputs": [],
   "source": [
    "#1. Write a function to check if a number is a prime number (Marks: 20)\n",
    "#define a function to return all the prime numbers for number greater than 2\n",
    "def get_prime_check(n):\n",
    "    \n",
    "    #Create an empty flag with value as \"False\"\n",
    "    # Use the functionality of power using \"**\" to get the square root\n",
    "    # Use the in built function \"round\" to round of the square root to an integer\n",
    "    #Round the square root to an integer\n",
    "    #A prime number is any integer greater than 1 that is only divisible by 1 and itself.\n",
    "    #Iterate between 2 and n iterated to check if the number is a prime number \n",
    "            #Check if the remainder upon dividing the number \"n\" with the iterative number \"i\" is zero\n",
    "            #If zero then remainder is 0, then chnage the prime flag to false else to true\n",
    "            #Return the flag that checks if a number is prime\n",
    "    \n",
    "    prime_flag = False\n",
    "    n_sqrt = round((n ** 0.5),0)\n",
    "    \n",
    "    if n > 1:\n",
    "        for i in range(2, int(n_sqrt)+1):\n",
    "            if (n % i) == 0:\n",
    "                prime_flag = False\n",
    "                break\n",
    "            else:\n",
    "                prime_flag = True\n",
    "                \n",
    "    return prime_flag"
   ]
  },
  {
   "cell_type": "code",
   "execution_count": 9,
   "metadata": {},
   "outputs": [
    {
     "name": "stdout",
     "output_type": "stream",
     "text": [
      "i = 2, Modulo = 1\n",
      "i = 3, Modulo = 2\n",
      "i = 4, Modulo = 3\n",
      "\n",
      "Prime Check = True\n"
     ]
    }
   ],
   "source": [
    "# test code\n",
    "n = 23\n",
    "for i in range(2,(int(n ** 0.5)+1)):\n",
    "    print (f\"i = {i}, Modulo = {n % i}\")\n",
    "    \n",
    "print (\"\\nPrime Check =\",get_prime_check(n))"
   ]
  },
  {
   "cell_type": "markdown",
   "metadata": {},
   "source": [
    "## 2.2. Write a function to determine all the prime numbers in the list (Marks: 20)"
   ]
  },
  {
   "cell_type": "code",
   "execution_count": 10,
   "metadata": {},
   "outputs": [],
   "source": [
    "#define a function to return all the prime numbers for number greater than 2\n",
    "def get_prime_list(num_list):\n",
    "\n",
    "    #Create an empty list to save the prime numbers iterated\n",
    "    #Iterate between all the numbers in the list\n",
    "            #If \"n\" == 1 then skip the iteration then move to the next number in sequence using the \"pass\" statement\n",
    "            #If \"n\" == 2 then add it to the prime_list and skip the iteration to move to the next number in sequence\n",
    "            #Use the \"get_prime_check\" function to check if numbers greater than 2 are prime \n",
    "            #Check if the number is prime\n",
    "            #Check the value of the prime_check is True\n",
    "            #If value of the prime_check is True then append \"n\" to the prime_list declared earlier\n",
    "            \n",
    "    prime_lst = []\n",
    "    for n in num_list:\n",
    "    \n",
    "        if n == 1:\n",
    "            pass\n",
    "        elif n == 2:\n",
    "            prime_lst.append(n)\n",
    "        else:\n",
    "            if get_prime_check(n) == True:\n",
    "                prime_lst.append(n)\n",
    "            \n",
    "    return prime_lst"
   ]
  },
  {
   "cell_type": "code",
   "execution_count": 11,
   "metadata": {},
   "outputs": [
    {
     "name": "stdout",
     "output_type": "stream",
     "text": [
      "21 nums in the list\n",
      "Prime List = [233, 23, 181, 139, 13, 79, 83, 227, 157, 19, 43, 37, 191, 197, 239, 293, 229, 67, 89, 211, 109]\n"
     ]
    }
   ],
   "source": [
    "# Test Code\n",
    "test_answer = get_prime_list(apple_qty)\n",
    "check_len = len(get_prime_list(apple_qty))\n",
    "\n",
    "print (check_len, \"nums in the list\")\n",
    "print (\"Prime List =\", test_answer)"
   ]
  },
  {
   "cell_type": "markdown",
   "metadata": {},
   "source": [
    "# QUESTION 3"
   ]
  },
  {
   "cell_type": "markdown",
   "metadata": {},
   "source": [
    "### The two list consists of Birthdays (DOB_List) of the research scientists (Name_List) in the same order\n",
    "\n",
    "#### 1. Build a dictionary that holds the scientist name as key and their DOB as their values  (Marks: 10)\n",
    "#### 2. Create a dictionary consisting of the approximate age of the scientists today in years (use only years)  (Marks: 10)"
   ]
  },
  {
   "cell_type": "code",
   "execution_count": 29,
   "metadata": {},
   "outputs": [],
   "source": [
    "dob_list = ['01-Jan-1990', '11-Aug-1995', '15-Apr-1982', '20-Mar-1988', '25-Nov-1976', '07-Dec-1965', \n",
    "            '18-Dec-1977', '25-May-1994', '09-Oct-1981', '19-Feb-1981']\n",
    "name_list = ['Aaron','Ben','Don','Grisham','Harry','John','Tom','Peter','Steve','Bruce']"
   ]
  },
  {
   "cell_type": "markdown",
   "metadata": {},
   "source": [
    "### 3.1. Build a dictionary that holds the scientist name as key and their DOB as their values (Marks: 10)"
   ]
  },
  {
   "cell_type": "code",
   "execution_count": 18,
   "metadata": {},
   "outputs": [
    {
     "data": {
      "text/plain": [
       "{'Aaron': '01-Jan-1990',\n",
       " 'Ben': '11-Aug-1995',\n",
       " 'Don': '15-Apr-1982',\n",
       " 'Grisham': '20-Mar-1988',\n",
       " 'Harry': '25-Nov-1976',\n",
       " 'John': '07-Dec-1965',\n",
       " 'Tom': '18-Dec-1977',\n",
       " 'Peter': '25-May-1994',\n",
       " 'Steve': '09-Oct-1981',\n",
       " 'Bruce': '19-Feb-1981'}"
      ]
     },
     "execution_count": 18,
     "metadata": {},
     "output_type": "execute_result"
    }
   ],
   "source": [
    "####Create a an empty dictionary\n",
    "my_dict = {}\n",
    "\n",
    "#Store the values in the dictionary using names as keys and dates as values\n",
    "my_dict = dict(zip(name_list, dob_list))\n",
    "my_dict"
   ]
  },
  {
   "cell_type": "markdown",
   "metadata": {},
   "source": [
    "### 3.2. Create a dictionary consisting of the approximate age of the scientists today in years (use only years) (Marks: 10)"
   ]
  },
  {
   "cell_type": "code",
   "execution_count": 19,
   "metadata": {},
   "outputs": [],
   "source": [
    "####Create a an empty dictionary\n",
    "#Declare the current year\n",
    "#Run a for loop to calculate the approximate age for every scientist\n",
    "#Extract year from the Date of birth using \"split\" functionality\n",
    "#Calculate approximate age in year using the year of birth and store it in the empty dictionary using names as keys\n",
    "\n",
    "names = []\n",
    "ages = []\n",
    "\n",
    "current_year = 2021\n",
    "\n",
    "for k, v in my_dict.items():\n",
    "    names.append(k)\n",
    "    ages.append( current_year - (int(v[-4:])) )\n",
    "\n",
    "answer = dict(zip(name_list, ages))"
   ]
  },
  {
   "cell_type": "code",
   "execution_count": 20,
   "metadata": {},
   "outputs": [
    {
     "name": "stdout",
     "output_type": "stream",
     "text": [
      "In the year 2021, these are their approximate age: \n",
      "\n",
      "Name: Aaron \t Age: 31\n",
      "Name: Ben \t Age: 26\n",
      "Name: Don \t Age: 39\n",
      "Name: Grisham \t Age: 33\n",
      "Name: Harry \t Age: 45\n",
      "Name: John \t Age: 56\n",
      "Name: Tom \t Age: 44\n",
      "Name: Peter \t Age: 27\n",
      "Name: Steve \t Age: 40\n",
      "Name: Bruce \t Age: 40\n"
     ]
    }
   ],
   "source": [
    "# Test Code to calculate the approximate age for every scientist this year\n",
    "print (f'In the year {current_year}, these are their approximate age: \\n')\n",
    "\n",
    "for k, v in answer.items():\n",
    "    print(f'Name: {k} \\t Age: {v}')"
   ]
  },
  {
   "cell_type": "code",
   "execution_count": 21,
   "metadata": {},
   "outputs": [],
   "source": [
    "# EXTRA STEP If we define a function\n",
    "\n",
    "def how_old_today (DD, YEAR=2021):\n",
    "    names = []\n",
    "    ages = []\n",
    "\n",
    "    for k, v in DD.items():\n",
    "        names.append(k)\n",
    "        ages.append( YEAR - (int(v[-4:])) )\n",
    "\n",
    "    answer = dict(zip(name_list, ages))\n",
    "\n",
    "    print (f'In the year {YEAR}, these are their approximate age: \\n')\n",
    "    for k, v in answer.items():\n",
    "        print(f'Name: {k} \\t Age: {v}')"
   ]
  },
  {
   "cell_type": "code",
   "execution_count": 22,
   "metadata": {},
   "outputs": [
    {
     "name": "stdout",
     "output_type": "stream",
     "text": [
      "In the year 2050, these are their approximate age: \n",
      "\n",
      "Name: Aaron \t Age: 60\n",
      "Name: Ben \t Age: 55\n",
      "Name: Don \t Age: 68\n",
      "Name: Grisham \t Age: 62\n",
      "Name: Harry \t Age: 74\n",
      "Name: John \t Age: 85\n",
      "Name: Tom \t Age: 73\n",
      "Name: Peter \t Age: 56\n",
      "Name: Steve \t Age: 69\n",
      "Name: Bruce \t Age: 69\n"
     ]
    }
   ],
   "source": [
    "# Test function : Insert a dictonrary and a year\n",
    "how_old_today (my_dict, 2050)"
   ]
  }
 ],
 "metadata": {
  "kernelspec": {
   "display_name": "Python 3",
   "language": "python",
   "name": "python3"
  },
  "language_info": {
   "codemirror_mode": {
    "name": "ipython",
    "version": 3
   },
   "file_extension": ".py",
   "mimetype": "text/x-python",
   "name": "python",
   "nbconvert_exporter": "python",
   "pygments_lexer": "ipython3",
   "version": "3.8.8"
  }
 },
 "nbformat": 4,
 "nbformat_minor": 4
}
