{
 "cells": [
  {
   "cell_type": "markdown",
   "metadata": {},
   "source": [
    "# IU 4.1 - Ramp up - Working session: Python exercises"
   ]
  },
  {
   "cell_type": "markdown",
   "metadata": {},
   "source": [
    "The notebook has practice questions on basic python. Please go through the instructions and use the hints to answer the required questions."
   ]
  },
  {
   "cell_type": "markdown",
   "metadata": {
    "pycharm": {
     "name": "#%%\n"
    }
   },
   "source": [
    "### 1. Create a new list with multiple data types and then print the length of the list to the console\n"
   ]
  },
  {
   "cell_type": "code",
   "execution_count": 1,
   "metadata": {},
   "outputs": [
    {
     "name": "stdout",
     "output_type": "stream",
     "text": [
      "Length of the list is 6\n"
     ]
    }
   ],
   "source": [
    "# create a list using [] brackets and enter few comma separated elements inside it\n",
    "l = [1, 2, 3, 6, 10, 5]\n",
    "\n",
    "# use the built in function to measure length of the list created above and assign it to another variable\n",
    "l_len = len(l)\n",
    "\n",
    "# print the length that was measured\n",
    "print(\"Length of the list is\", l_len)"
   ]
  },
  {
   "cell_type": "markdown",
   "metadata": {
    "pycharm": {
     "name": "#%%\n"
    }
   },
   "source": [
    "### 2. Write a script to create a list, swap two elements of the list using the two indices mentioned."
   ]
  },
  {
   "cell_type": "markdown",
   "metadata": {},
   "source": [
    "E.g. in the list [1,2,3,4] if 0th element and 2nd element were to be interchanged it would look like [3,2,1,4]\n",
    "\n",
    "- Further challenge: Try including the logic in a function which can be called any number of times\n",
    "- Pro tip: You can even use \"pop\" method to achieve the same outcome"
   ]
  },
  {
   "cell_type": "code",
   "execution_count": 2,
   "metadata": {},
   "outputs": [
    {
     "name": "stdout",
     "output_type": "stream",
     "text": [
      "original list is: [4, 5, 6, 10, 32, 54, 23, 64]\n",
      "Selected indices are: 2 7\n",
      "Modified list is: [4, 5, 64, 10, 32, 54, 23, 6]\n"
     ]
    }
   ],
   "source": [
    "# create a list using [] brackets and enter few comma separated elements inside it\n",
    "a = [4, 5, 6, 10, 32, 54, 23, 64]\n",
    "\n",
    "# print the original list\n",
    "print(\"original list is:\", a)\n",
    "\n",
    "# define the two indices to swap, say index1 and index2\n",
    "index1 = 2\n",
    "index2 = 7\n",
    "\n",
    "# print the indicies selected\n",
    "print(\"Selected indices are:\", index1, index2)\n",
    "\n",
    "# store the element corresponding to index1 in temp1 and similarly in temp2 for index2\n",
    "temp1 = a[index1]\n",
    "temp2 = a[index2]\n",
    "\n",
    "# now assign temp1 to the index2 location of the list and temp 2 to index1 location of the list\n",
    "a[index2] = temp1\n",
    "a[index1] = temp2\n",
    "\n",
    "# print the modified list\n",
    "print(\"Modified list is:\", a)"
   ]
  },
  {
   "cell_type": "markdown",
   "metadata": {},
   "source": [
    "Additional challenge (optional)"
   ]
  },
  {
   "cell_type": "code",
   "execution_count": 3,
   "metadata": {},
   "outputs": [
    {
     "name": "stdout",
     "output_type": "stream",
     "text": [
      "Original and swapped list using function are:  [1, 5, 7, 32, 2] and [1, 32, 7, 5, 2]\n"
     ]
    }
   ],
   "source": [
    "# Function for the same logic\n",
    "def swap_list(list_var, index1, index2):\n",
    "    var1 = list_var[index1]\n",
    "    var2 = list_var[index2]\n",
    "    list_var2 = list_var.copy()\n",
    "    list_var2[index1] = var2\n",
    "    list_var2[index2] = var1\n",
    "    return list_var2\n",
    "\n",
    "# define list and indices\n",
    "list_var = [1, 5, 7, 32, 2]\n",
    "index1 = 1\n",
    "index2 = 3\n",
    "# function call to get the swapped list\n",
    "list_var2 = swap_list(list_var, index1, index2)\n",
    "\n",
    "# print the results\n",
    "print(\"Original and swapped list using function are: \", list_var, \"and\", list_var2)"
   ]
  },
  {
   "cell_type": "markdown",
   "metadata": {
    "pycharm": {
     "name": "#%%\n"
    }
   },
   "source": [
    "### 3. Write a program to read two strings from user and compare them to see if they are the same. If the cases are different they still need to be considered the same. Eg. “RISE” and “Rise” should return ‘yes’."
   ]
  },
  {
   "cell_type": "markdown",
   "metadata": {},
   "source": [
    "- Pro tip: Explore other methods to modify strings, for e.g. \"capitalize\" method helps convert first letter to upper case and rest to lower case"
   ]
  },
  {
   "cell_type": "code",
   "execution_count": 4,
   "metadata": {},
   "outputs": [
    {
     "name": "stdout",
     "output_type": "stream",
     "text": [
      "Enter the first string\n",
      "RISE\n",
      "Enter the second string:\n",
      "Rise\n",
      "yes\n"
     ]
    }
   ],
   "source": [
    "# Print instructions to take input for string 1 and take console input for string 1\n",
    "print(\"Enter the first string\")\n",
    "string1 = input()\n",
    "\n",
    "# Print instructions to take input for string 2 and take console input for string 2\n",
    "print(\"Enter the second string:\")\n",
    "string2 = input()\n",
    "\n",
    "# modify the two inputs to make them into same case (upper case or lower case) in order to compare\n",
    "string1 = string1.lower()\n",
    "string2 = string2.lower()\n",
    "\n",
    "# write a conditional statement and print 'yes' if two strings are same and 'no' if two strings are not same\n",
    "if string1==string2:\n",
    "    print('yes')\n",
    "else:\n",
    "    print('no')"
   ]
  },
  {
   "cell_type": "code",
   "execution_count": 1,
   "metadata": {},
   "outputs": [
    {
     "data": {
      "text/plain": [
       "'rise'"
      ]
     },
     "execution_count": 1,
     "metadata": {},
     "output_type": "execute_result"
    }
   ],
   "source": [
    "ac = \"RISE\"\n",
    "ac.lower()"
   ]
  },
  {
   "cell_type": "markdown",
   "metadata": {},
   "source": [
    "### 4. With a given integral number n, write a program to generate a list that contains squares of all numbers from 1 to  n (i*i) such that is an integral number between 1 and n (both included). and then the program should print the list."
   ]
  },
  {
   "cell_type": "markdown",
   "metadata": {},
   "source": [
    "Suppose the following input is supplied to the program:\n",
    "8\n",
    "\n",
    "Then, the output should be:\n",
    "[1, 4, 9, 16, 25, 36, 49, 64]"
   ]
  },
  {
   "cell_type": "code",
   "execution_count": 5,
   "metadata": {},
   "outputs": [
    {
     "name": "stdout",
     "output_type": "stream",
     "text": [
      "Enter an integer:\n",
      "5\n",
      "The list of squares is: [1, 4, 9, 16, 25]\n"
     ]
    }
   ],
   "source": [
    "# print the instruction for console input and read the user input\n",
    "print(\"Enter an integer:\")\n",
    "# assign input to a variable n\n",
    "n=int(input())\n",
    "\n",
    "# create an empty list l\n",
    "l=[]\n",
    "\n",
    "# use a for loop from 1 to n and create i*i based on i value between 1 to n\n",
    "# also append the calculation to list l within each iteration\n",
    "for i in range(1,n+1):\n",
    "    l.append(i*i)\n",
    "\n",
    "# print the list l\n",
    "print(\"The list of squares is:\",l)"
   ]
  },
  {
   "cell_type": "markdown",
   "metadata": {
    "pycharm": {
     "name": "#%%\n"
    }
   },
   "source": [
    "### 5. Write a program which will find all such numbers which are divisible by 7 but are not a multiple of 5, between 2000 and 3200 (both included)."
   ]
  },
  {
   "cell_type": "markdown",
   "metadata": {},
   "source": [
    "The numbers obtained should be printed in a comma-separated sequence on a single line.\n",
    "- Consider use range(#begin, #end) method"
   ]
  },
  {
   "cell_type": "code",
   "execution_count": 6,
   "metadata": {},
   "outputs": [
    {
     "name": "stdout",
     "output_type": "stream",
     "text": [
      "2002,2009,2016,2023,2037,2044,2051,2058,2072,2079,2086,2093,2107,2114,2121,2128,2142,2149,2156,2163,2177,2184,2191,2198,2212,2219,2226,2233,2247,2254,2261,2268,2282,2289,2296,2303,2317,2324,2331,2338,2352,2359,2366,2373,2387,2394,2401,2408,2422,2429,2436,2443,2457,2464,2471,2478,2492,2499,2506,2513,2527,2534,2541,2548,2562,2569,2576,2583,2597,2604,2611,2618,2632,2639,2646,2653,2667,2674,2681,2688,2702,2709,2716,2723,2737,2744,2751,2758,2772,2779,2786,2793,2807,2814,2821,2828,2842,2849,2856,2863,2877,2884,2891,2898,2912,2919,2926,2933,2947,2954,2961,2968,2982,2989,2996,3003,3017,3024,3031,3038,3052,3059,3066,3073,3087,3094,3101,3108,3122,3129,3136,3143,3157,3164,3171,3178,3192,3199\n"
     ]
    }
   ],
   "source": [
    "# Create an empty list\n",
    "l=[]\n",
    "\n",
    "# loop through between in the range of 2000 and 3200 (both included)\n",
    "for i in range(2000, 3201):\n",
    "    # add \"if\" condition to check if element is divisible by 7 and not a multiple of 5\n",
    "    if (i%7==0) and (i%5!=0):\n",
    "        # append the element to the list if it satisfies the condition\n",
    "        # Important: element has to be a string as it will be printed as comma separated later\n",
    "        l.append(str(i))\n",
    "\n",
    "# combine all list elements by using comma (,) as delimiter\n",
    "# example [\"1\", \"2\", \"3\"] should be printed as \"1,2,3\"\n",
    "print(','.join(l))"
   ]
  },
  {
   "cell_type": "markdown",
   "metadata": {
    "pycharm": {
     "name": "#%%\n"
    }
   },
   "source": [
    "### 6. Write a function to take in a list of strings and convert odd numbered elements into lower case and even numbered elements into upper case."
   ]
  },
  {
   "cell_type": "markdown",
   "metadata": {},
   "source": [
    "- Hint: Use string modification methods\n",
    "- Pro tip: Explore other methods to modify strings, for e.g. \"capitalize\" method helps convert first letter to upper case and rest to lower case"
   ]
  },
  {
   "cell_type": "code",
   "execution_count": 7,
   "metadata": {},
   "outputs": [
    {
     "name": "stdout",
     "output_type": "stream",
     "text": [
      "Original list is: ['Rise', 'bda', 'Singapore', 'Career']\n",
      "Modified list is: ['RISE', 'bda', 'SINGAPORE', 'career']\n"
     ]
    }
   ],
   "source": [
    "# Define a function to do the operations\n",
    "def convert_list(list_name):\n",
    "    #  write a for loop to iterate over 0 to the length of the list\n",
    "    # hint make use of range\n",
    "    for i in range(0, len(list_name)):\n",
    "        # In each loop write an if statement to find out if the index is odd or even\n",
    "        if i%2==1:\n",
    "            # if the index is odd then change the string element to lower case\n",
    "            list_name[i] = list_name[i].lower()\n",
    "            # otherwise change the string element to upper case\n",
    "        else:\n",
    "            list_name[i] = list_name[i].upper()\n",
    "    # return the modified list\n",
    "    return list_name\n",
    "    \n",
    "# calling the function\n",
    "# create a list with all string elements\n",
    "a = [\"Rise\", \"bda\", \"Singapore\", \"Career\"]\n",
    "\n",
    "# print the original list\n",
    "print(\"Original list is:\", a)\n",
    "\n",
    "# call the function and assign it to another list\n",
    "b = convert_list(a)\n",
    "\n",
    "# print the modified list\n",
    "print(\"Modified list is:\", b)"
   ]
  },
  {
   "cell_type": "markdown",
   "metadata": {},
   "source": [
    "### 7. Read a text file, store it as a list, remove the new line character ('\\n'), append “_end” to each line and then create a new list with new elements. Finally, write the new list to another text file"
   ]
  },
  {
   "cell_type": "markdown",
   "metadata": {},
   "source": [
    "- Hint: Use rstrip function to remove the new line ('\\n')\n",
    "- Additional exercise: Read the new file again into another variable and print to verify it is correctly written to disk"
   ]
  },
  {
   "cell_type": "code",
   "execution_count": 8,
   "metadata": {},
   "outputs": [
    {
     "name": "stderr",
     "output_type": "stream",
     "text": [
      "  % Total    % Received % Xferd  Average Speed   Time    Time     Time  Current\n",
      "                                 Dload  Upload   Total   Spent    Left  Speed\n",
      "\n",
      "  0     0    0     0    0     0      0      0 --:--:-- --:--:-- --:--:--     0\n",
      "100    56  100    56    0     0    101      0 --:--:-- --:--:-- --:--:--   101\n",
      "100    56  100    56    0     0    101      0 --:--:-- --:--:-- --:--:--   101\n"
     ]
    }
   ],
   "source": [
    "!curl https://raw.githubusercontent.com/MicrosoftLearning/intropython/master/poem1.txt -o poem1.txt"
   ]
  },
  {
   "cell_type": "code",
   "execution_count": 9,
   "metadata": {},
   "outputs": [
    {
     "name": "stdout",
     "output_type": "stream",
     "text": [
      "['Loops I repeat_end\\n', 'loops_end\\n', 'loops_end\\n', 'loops_end\\n', 'I repeat_end\\n', 'until I_end\\n', 'break_end\\n']\n"
     ]
    }
   ],
   "source": [
    "# open a text file into a variable with read mode\n",
    "poem1 = open('poem1.txt', 'r')\n",
    "\n",
    "# read the lines within the file and store it in a variable called \"lines\"\n",
    "lines = poem1.readlines()\n",
    "\n",
    "# close the file that was opened in read mode\n",
    "poem1.close()\n",
    "\n",
    "# create another empty list to store modified values\n",
    "lines2 = []\n",
    "\n",
    "# loop through all elements in the \"lines\" read from the file\n",
    "for line in lines:\n",
    "    # for each line remove '\\n' new line and store it in temp\n",
    "    temp = line.rstrip('\\n')\n",
    "    # modifly the temp variable to add \"_end\" to the existing string and add back the new line character '\\n'\n",
    "    temp = temp + \"_end\" + \"\\n\"\n",
    "    # append the modified string to the nes empty list that was created\n",
    "    lines2.append(temp)\n",
    "\n",
    "# print the new list to verify\n",
    "print(lines2)\n",
    "\n",
    "# open another text file with write mode\n",
    "poem_out = open('poem_out.txt', 'w')\n",
    "\n",
    "# write the lines into it\n",
    "poem_out.writelines(lines2)\n",
    "\n",
    "# close the text file that was opened in write mode\n",
    "poem_out.close()"
   ]
  },
  {
   "cell_type": "markdown",
   "metadata": {},
   "source": [
    "Additional check (optional)"
   ]
  },
  {
   "cell_type": "code",
   "execution_count": 10,
   "metadata": {},
   "outputs": [
    {
     "name": "stdout",
     "output_type": "stream",
     "text": [
      "['Loops I repeat_end\\n', 'loops_end\\n', 'loops_end\\n', 'loops_end\\n', 'I repeat_end\\n', 'until I_end\\n', 'break_end\\n']\n"
     ]
    }
   ],
   "source": [
    "# read the file that was written out in the previous step after modifying elements\n",
    "poem_out2 = open('poem_out.txt', 'r')\n",
    "\n",
    "# read the lines from the file ans store it in a variable\n",
    "out2 = poem_out2.readlines()\n",
    "\n",
    "# print the lines in order to verify\n",
    "print(out2)"
   ]
  },
  {
   "cell_type": "code",
   "execution_count": null,
   "metadata": {},
   "outputs": [],
   "source": []
  }
 ],
 "metadata": {
  "kernelspec": {
   "display_name": "Python 3",
   "language": "python",
   "name": "python3"
  },
  "language_info": {
   "codemirror_mode": {
    "name": "ipython",
    "version": 3
   },
   "file_extension": ".py",
   "mimetype": "text/x-python",
   "name": "python",
   "nbconvert_exporter": "python",
   "pygments_lexer": "ipython3",
   "version": "3.8.3"
  },
  "toc": {
   "base_numbering": 1,
   "nav_menu": {},
   "number_sections": true,
   "sideBar": true,
   "skip_h1_title": false,
   "title_cell": "Table of Contents",
   "title_sidebar": "Contents",
   "toc_cell": false,
   "toc_position": {},
   "toc_section_display": true,
   "toc_window_display": false
  }
 },
 "nbformat": 4,
 "nbformat_minor": 2
}
