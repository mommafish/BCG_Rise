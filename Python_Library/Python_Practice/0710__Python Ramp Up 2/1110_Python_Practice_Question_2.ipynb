{
 "cells": [
  {
   "cell_type": "markdown",
   "id": "3a007e00",
   "metadata": {},
   "source": [
    "# EXERCISE #1 Wheresoever"
   ]
  },
  {
   "cell_type": "code",
   "execution_count": 1,
   "id": "7e3b7b99",
   "metadata": {},
   "outputs": [
    {
     "name": "stdout",
     "output_type": "stream",
     "text": [
      "Enter a quote: to bee ot\n",
      "TO\n",
      "OT\n"
     ]
    }
   ],
   "source": [
    "# my method 1\n",
    "quotes = input(\"Enter a quote: \")\n",
    "words = quotes.split()\n",
    "new_words = []\n",
    "\n",
    "for word in words:\n",
    "    if word.isalpha() and word[0].lower() > 'g':\n",
    "        new_words.append(word.upper())\n",
    "    else:\n",
    "        pass\n",
    "    \n",
    "for new in new_words:\n",
    "    print (new)"
   ]
  },
  {
   "cell_type": "code",
   "execution_count": null,
   "id": "897e0729",
   "metadata": {
    "scrolled": true
   },
   "outputs": [],
   "source": [
    "# my method 2\n",
    "# Wheresoever you go, it's go with all your heart\n",
    "\n",
    "sentence = input(\"Enter a 1 sentence quote, non-alpha seprate words: \")\n",
    "word_list =sentence.split()\n",
    "\n",
    "for word in word_list:\n",
    "    if word.isalpha() and word[0].lower() >= 'h':\n",
    "        answer = word.upper()\n",
    "        print (answer)\n",
    "    else:\n",
    "        pass"
   ]
  },
  {
   "cell_type": "markdown",
   "id": "ad05924a",
   "metadata": {},
   "source": [
    "# Trainer Solution for exercise #1"
   ]
  },
  {
   "cell_type": "code",
   "execution_count": null,
   "id": "9b69f5e6",
   "metadata": {},
   "outputs": [],
   "source": [
    "# Wheresoever you go, it's go with all your heart\n",
    "user_input = input(\"Enter a 1 sentence quote, non-alpha seprate words: \")\n",
    "word = ''\n",
    "user_input += '.'\n",
    "\n",
    "for character in user_input:\n",
    "    if character.isalpha() or character ==\"'\":\n",
    "        word += character\n",
    "    else:\n",
    "        if len(word) > 0:\n",
    "            if word[0].lower() >= 'h':\n",
    "                print(word.upper())\n",
    "        word = ''\n"
   ]
  },
  {
   "cell_type": "markdown",
   "id": "1b23ee60",
   "metadata": {},
   "source": [
    "# Another Student method for exercise #1"
   ]
  },
  {
   "cell_type": "code",
   "execution_count": null,
   "id": "0a575a65",
   "metadata": {},
   "outputs": [],
   "source": [
    "# Wheresoever you go, it's go with all your heart\n",
    "input_string = input('Enter your phase: ')\n",
    "list = input_string.upper().split()\n",
    "words = []\n",
    "for word in list:\n",
    "    if word[0].isalpha() and ord(word[0]) >= ord('H'):\n",
    "        words.append(word)\n",
    "    else:\n",
    "        pass\n",
    "        \n",
    "for word in words:\n",
    "    print(word)"
   ]
  },
  {
   "cell_type": "markdown",
   "id": "0e023eb6",
   "metadata": {},
   "source": [
    "# EXERCISE #2 list_o_matic"
   ]
  },
  {
   "cell_type": "code",
   "execution_count": 5,
   "id": "4638e8d8",
   "metadata": {},
   "outputs": [],
   "source": [
    "def list_o_matic(animals,guess):\n",
    "    if guess == '':\n",
    "        popped_animal = animals.pop()\n",
    "        msg = f'{popped_animal} popped from the list!'\n",
    "    elif guess in animals:\n",
    "        animals.remove(guess)\n",
    "        msg = f'1 instance of {guess} is removed from the list'\n",
    "    else:\n",
    "        animals.append(guess)\n",
    "        msg = f'1 instance of {guess} is appended to the list'\n",
    "    return msg"
   ]
  },
  {
   "cell_type": "code",
   "execution_count": 6,
   "id": "bf05487c",
   "metadata": {},
   "outputs": [
    {
     "name": "stdout",
     "output_type": "stream",
     "text": [
      "\n",
      "Look at all the animals: ['cat', 'goat', 'cat']\n",
      "enter the name of an animal or Quit: dog\n",
      "1 instance of dog is appended to the list\n",
      "\n",
      "Look at all the animals: ['cat', 'goat', 'cat', 'dog']\n",
      "enter the name of an animal or Quit: cat\n",
      "1 instance of cat is removed from the list\n",
      "\n",
      "Look at all the animals: ['goat', 'cat', 'dog']\n",
      "enter the name of an animal or Quit: goat\n",
      "1 instance of goat is removed from the list\n",
      "\n",
      "Look at all the animals: ['cat', 'dog']\n",
      "enter the name of an animal or Quit: quit\n",
      "Goodbye!\n"
     ]
    }
   ],
   "source": [
    "animals = ['cat','goat','cat']\n",
    "\n",
    "while animals != []:\n",
    "    print (f'\\nLook at all the animals: {animals}')\n",
    "    guess = input ('enter the name of an animal or Quit: ')\n",
    "    if guess.lower() == 'quit':\n",
    "        print (\"Goodbye!\")\n",
    "        break\n",
    "    else:\n",
    "        message = list_o_matic(animals,guess)\n",
    "        print (message)"
   ]
  },
  {
   "cell_type": "markdown",
   "id": "c6b95d2b",
   "metadata": {},
   "source": [
    "# EXERCISE # 3 Poem Mixer"
   ]
  },
  {
   "cell_type": "code",
   "execution_count": 7,
   "id": "3170e10e",
   "metadata": {},
   "outputs": [],
   "source": [
    "def word_mixer(word_list):\n",
    "    words_list.sort()\n",
    "    new_words = []\n",
    "    \n",
    "    while len(word_list) >5:\n",
    "        new_words.append(words_list.pop(-5))\n",
    "        new_words.append(words_list.pop(0))\n",
    "        new_words.append(words_list.pop(-1))\n",
    "        \n",
    "    return new_words"
   ]
  },
  {
   "cell_type": "code",
   "execution_count": 8,
   "id": "a36b8151",
   "metadata": {},
   "outputs": [
    {
     "name": "stdout",
     "output_type": "stream",
     "text": [
      "Enter your Poem: # Little fly, Thy summer’s play My thoughtless hand Has brushed away. Am not I A fly like thee? Or art not thou A man like me?\n",
      "['or', '#', 'thy', 'not', 'BRUSHED', 'thou', 'me?', 'Little', 'thee?', 'like', 'SUMMER’S', 'play', 'i', 'THOUGHTLESS', 'not', 'hand', 'a', 'my', 'fly', 'a', 'man', 'art', 'am', 'like']\n"
     ]
    }
   ],
   "source": [
    "user_input = input(\"Enter your Poem: \")\n",
    "words_list = user_input.split()\n",
    "total_words = len(words_list)\n",
    "\n",
    "for idx in range(total_words):\n",
    "#     print(idx, words_list[idx])\n",
    "\n",
    "    if (len(words_list[idx])) <= 3:\n",
    "        words_list[idx] = words_list[idx].lower()\n",
    "    elif (len(words_list[idx])) >= 7:\n",
    "        words_list[idx] = words_list[idx].upper()\n",
    "        \n",
    "new_words = word_mixer(words_list)\n",
    "print(new_words)"
   ]
  },
  {
   "cell_type": "code",
   "execution_count": 2,
   "id": "c6160502",
   "metadata": {},
   "outputs": [
    {
     "data": {
      "text/plain": [
       "'TO OT'"
      ]
     },
     "execution_count": 2,
     "metadata": {},
     "output_type": "execute_result"
    }
   ],
   "source": [
    "# Little fly, Thy summer’s play My thoughtless hand Has brushed away. Am not I A fly like thee? Or art not thou A man like me?\n",
    "\n",
    "' '.join(new_words)"
   ]
  },
  {
   "cell_type": "code",
   "execution_count": 10,
   "id": "8c6bd7ba",
   "metadata": {},
   "outputs": [
    {
     "data": {
      "text/plain": [
       "'or # thy not BRUSHED thou me? Little thee? like SUMMER’S play i THOUGHTLESS not hand a my fly a man art am like '"
      ]
     },
     "execution_count": 10,
     "metadata": {},
     "output_type": "execute_result"
    }
   ],
   "source": [
    "poem = ''\n",
    "for word in new_words:\n",
    "    poem = poem + word +' '\n",
    "poem"
   ]
  },
  {
   "cell_type": "markdown",
   "id": "b2eb5e43",
   "metadata": {},
   "source": [
    "# OTHER STUDENTS SOLUTION"
   ]
  },
  {
   "cell_type": "code",
   "execution_count": 12,
   "id": "106ce8d7",
   "metadata": {},
   "outputs": [
    {
     "name": "stdout",
     "output_type": "stream",
     "text": [
      "Please input a poem: Little fly, Thy summer’s play My thoughtless hand Has brushed away. Am not I A fly like thee? Or art not thou A man like me?\n",
      "\n",
      " or BRUSHED thy \n",
      " not Little thou \n",
      " me? SUMMER’S thee? \n",
      " like THOUGHTLESS play \n",
      " i a not \n",
      " hand a my \n",
      " fly am man\n"
     ]
    }
   ],
   "source": [
    "def word_mixer(a):\n",
    "    a.sort()\n",
    "    new_poem = []\n",
    "    while len(a) > 5:\n",
    "        new_poem.append(\"\\n\")\n",
    "        new_poem.append(a.pop(-5))\n",
    "        new_poem.append(a.pop(0))\n",
    "        new_poem.append(a.pop(-1))\n",
    "    else:\n",
    "        return new_poem\n",
    "\n",
    "u_ipt = input(\"Please input a poem: \")\n",
    "u_list = u_ipt.split()\n",
    "#print(u_list)\n",
    "total_words = len(u_list)\n",
    "mod_list = []\n",
    "for word in u_list:\n",
    "    if len(word) >= 7:\n",
    "        mod_list.append(word.upper())\n",
    "    elif len(word) <= 3:\n",
    "        mod_list.append(word.lower())\n",
    "    else:\n",
    "        mod_list.append(word)\n",
    "#print(mod_list)\n",
    "listToStr = ' '.join(map(str, word_mixer(mod_list)))\n",
    "print(listToStr) "
   ]
  },
  {
   "cell_type": "code",
   "execution_count": null,
   "id": "e0cee734",
   "metadata": {},
   "outputs": [],
   "source": []
  }
 ],
 "metadata": {
  "kernelspec": {
   "display_name": "Python 3",
   "language": "python",
   "name": "python3"
  },
  "language_info": {
   "codemirror_mode": {
    "name": "ipython",
    "version": 3
   },
   "file_extension": ".py",
   "mimetype": "text/x-python",
   "name": "python",
   "nbconvert_exporter": "python",
   "pygments_lexer": "ipython3",
   "version": "3.8.8"
  }
 },
 "nbformat": 4,
 "nbformat_minor": 5
}
