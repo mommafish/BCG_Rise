{
 "cells": [
  {
   "cell_type": "markdown",
   "id": "e0cf6548",
   "metadata": {},
   "source": [
    "# Exercise # 1 File handling in Python"
   ]
  },
  {
   "cell_type": "code",
   "execution_count": null,
   "id": "6827a610",
   "metadata": {},
   "outputs": [],
   "source": [
    "# Import Website\n",
    "!curl https://raw.githubusercontent.com/MicrosoftLearning/intropython/master/elements1_20.txt -o elements1_20.txt\n",
    "# Test imported content    \n",
    "element_file = open('elements1_20.txt', 'r')\n",
    "element_content = element_file.read()\n",
    "# print (element_content)\n",
    "element_list = element_content.split()\n",
    "element_file.close()\n",
    "# print (element_list)\n",
    "\n",
    "# remove any whitespace (spaces, newlines) and save each element name, as lowercase, into a list\n",
    "small_words = []\n",
    "for e in element_list:\n",
    "    small_words.append(e.lower())\n",
    "# print(small_element)"
   ]
  },
  {
   "cell_type": "code",
   "execution_count": null,
   "id": "3cb73622",
   "metadata": {},
   "outputs": [],
   "source": [
    "# Empty List for returning get_names()\n",
    "get_names_lst = []\n",
    "\n",
    "# Create get_names() Function to collect input of 5 unique element names and put names into a new list\n",
    "def get_names():\n",
    "    five_input = 0\n",
    "    get_names_lst.clear()\n",
    "    while five_input < 5:\n",
    "        guess = input(f\"Your input {five_input+1}/5, Enter the name of an element or Quit: \").lower()\n",
    "        if guess.isalpha() == False:\n",
    "            print(guess, \" Invalid, try again\")\n",
    "        elif guess in get_names_lst:\n",
    "            print(guess, \"was already entered\\t <--no duplicated allowed\")\n",
    "        elif guess == \"quit\":\n",
    "            print(\"Goodbye\")\n",
    "            break\n",
    "        else:\n",
    "            get_names_lst.append(guess)\n",
    "            five_input += 1\n",
    "    return get_names_lst\n",
    "\n",
    "# any response that is in the list of 20 elements is correct and should be added to a list of correct responses\n",
    "# if not in the list of 20 elements then add to a list of incorrect responses\n",
    "def element_quiz():\n",
    "    score = 0\n",
    "    correct_lst = []\n",
    "    incorrect_lst = []\n",
    "    print(\"List any 5 of the first 20 elements in the Periodic table\\n\")\n",
    "    get_names()\n",
    "    for word in get_names_lst:\n",
    "        if word in small_words:\n",
    "            correct_lst.append(word.title())\n",
    "            score += 1\n",
    "        else:\n",
    "            incorrect_lst.append(word.title())\n",
    "            \n",
    "    result = (score/5) * 100 \n",
    "    correct = ' '.join(correct_lst)\n",
    "    incorrect = ' '.join(incorrect_lst)\n",
    "    print (f'\\n{result} % correct')\n",
    "    print (f'Found: {correct}')\n",
    "    print(f'Not Found: {incorrect}')"
   ]
  },
  {
   "cell_type": "code",
   "execution_count": null,
   "id": "529c2902",
   "metadata": {
    "scrolled": true
   },
   "outputs": [],
   "source": [
    "element_quiz()"
   ]
  },
  {
   "cell_type": "markdown",
   "id": "10226535",
   "metadata": {},
   "source": [
    "# SOLUTION BY TRAINER #1"
   ]
  },
  {
   "cell_type": "code",
   "execution_count": null,
   "id": "b80cc165",
   "metadata": {},
   "outputs": [],
   "source": [
    "def get_names():\n",
    "    elements = []\n",
    "    \n",
    "    while len(elements) < 5:\n",
    "        user_input = input(\"Enter the name of an element: \").lower().strip()\n",
    "        \n",
    "        if user_input == '':\n",
    "            print (\"Input is invalid\")\n",
    "        elif user_input in elements:\n",
    "            print (user_input, \"was already entered\")\n",
    "        else:\n",
    "            elements.append(user_input)\n",
    "            \n",
    "    return elements\n",
    "        "
   ]
  },
  {
   "cell_type": "code",
   "execution_count": null,
   "id": "2990de34",
   "metadata": {
    "scrolled": true
   },
   "outputs": [],
   "source": [
    "!curl https://raw.githubusercontent.com/MicrosoftLearning/intropython/master/elements1_20.txt -o elements1_20.txt\n",
    "\n",
    "file = open('elements1_20.txt', 'r')\n",
    "first_20_elements = []\n",
    "\n",
    "while True:\n",
    "    line = file.readline().strip().lower()\n",
    "    \n",
    "    if line == '':\n",
    "        break\n",
    "    first_20_elements.append(line)\n",
    "    \n",
    "file.close()\n",
    "\n",
    "answers = get_names()\n",
    "correct_answers = []\n",
    "incorrect_answers = []\n",
    "\n",
    "for answer in answers:\n",
    "    if answer in first_20_elements:\n",
    "        correct_answers.append(answer)\n",
    "    else:\n",
    "        incorrect_answers.append(answer)\n",
    "        \n",
    "percent_correct = len(correct_answers)/len(answers) * 100\n",
    "\n",
    "print(f'\\n{percent_correct}% correct')\n",
    "print(f'Found: {correct_answers}')\n",
    "print(f'Not Found: {incorrect_answers}')"
   ]
  },
  {
   "cell_type": "code",
   "execution_count": null,
   "id": "596003e4",
   "metadata": {},
   "outputs": [],
   "source": [
    "first_20_elements"
   ]
  },
  {
   "cell_type": "code",
   "execution_count": null,
   "id": "dce36f54",
   "metadata": {},
   "outputs": [],
   "source": []
  },
  {
   "cell_type": "code",
   "execution_count": null,
   "id": "8652ed4d",
   "metadata": {},
   "outputs": [],
   "source": []
  },
  {
   "cell_type": "markdown",
   "id": "c0d4c7bb",
   "metadata": {},
   "source": [
    "# Exercise #2 weather Data"
   ]
  },
  {
   "cell_type": "code",
   "execution_count": null,
   "id": "b8690a57",
   "metadata": {},
   "outputs": [],
   "source": [
    "!curl https://raw.githubusercontent.com/MicrosoftLearning/intropython/master/world_temp_mean.csv -o mean_temp.txt\n",
    "mean_file = open('mean_temp.txt', 'a+')\n",
    "mean_content = mean_file.read()\n",
    "mean_file.write(\"Rio de Janeiro,Brazil,30.0,18.0\\n\")\n",
    "\n",
    "mean_file.close()"
   ]
  },
  {
   "cell_type": "code",
   "execution_count": 2,
   "id": "ab1d08af",
   "metadata": {},
   "outputs": [
    {
     "name": "stdout",
     "output_type": "stream",
     "text": [
      "City of Beijing month ave: highest high is 30.9 Celsius.\n",
      "City of Cairo month ave: highest high is 34.7 Celsius.\n",
      "City of London month ave: highest high is 23.5 Celsius.\n",
      "City of Nairobi month ave: highest high is 26.3 Celsius.\n",
      "City of New York City month ave: highest high is 28.9 Celsius.\n",
      "City of Sydney month ave: highest high is 26.5 Celsius.\n",
      "City of Tokyo month ave: highest high is 30.8 Celsius.\n",
      "City of Rio de Janeiro month ave: highest high is 30.0 Celsius.\n"
     ]
    }
   ],
   "source": [
    "# Grab the column headings\n",
    "temp_file = open('mean_temp.txt','a+')\n",
    "temp_file.seek(0)\n",
    "headings = temp_file.readline()\n",
    "headings = headings.split(',')\n",
    "\n",
    "# Read the remaining lines from the file using a while loop\n",
    "city_temp = temp_file.readline()\n",
    "while True:\n",
    "    city_temp = city_temp.split(',')\n",
    "    if city_temp == ['']:\n",
    "        break\n",
    "    \n",
    "    print(headings[0].capitalize(),\"of\",city_temp[0],headings[2],\"is\",city_temp[2],\"Celsius.\")\n",
    "    city_temp = temp_file.readline()\n",
    "    \n",
    "temp_file.close()"
   ]
  },
  {
   "cell_type": "markdown",
   "id": "436604a7",
   "metadata": {},
   "source": [
    "# Trainer Solution #2"
   ]
  },
  {
   "cell_type": "code",
   "execution_count": 3,
   "id": "a039c8d1",
   "metadata": {},
   "outputs": [
    {
     "name": "stderr",
     "output_type": "stream",
     "text": [
      "  % Total    % Received % Xferd  Average Speed   Time    Time     Time  Current\n",
      "                                 Dload  Upload   Total   Spent    Left  Speed\n",
      "\n",
      "  0     0    0     0    0     0      0      0 --:--:-- --:--:-- --:--:--     0\n",
      "100   222  100   222    0     0    222      0  0:00:01 --:--:--  0:00:01   546\n"
     ]
    }
   ],
   "source": [
    "!curl https://raw.githubusercontent.com/MicrosoftLearning/intropython/master/world_temp_mean.csv -o mean_temp.txt\n",
    "file = open('mean_temp.txt', 'a+')\n",
    "file.write(\"Rio de Janeiro,Brazil,30.0,18.0\\n\")\n",
    "file.close()"
   ]
  },
  {
   "cell_type": "code",
   "execution_count": 7,
   "id": "79364dc3",
   "metadata": {},
   "outputs": [
    {
     "name": "stdout",
     "output_type": "stream",
     "text": [
      "City of Beijing month ave: highest high is 30.9 Celcius\n",
      "City of Cairo month ave: highest high is 34.7 Celcius\n",
      "City of London month ave: highest high is 23.5 Celcius\n",
      "City of Nairobi month ave: highest high is 26.3 Celcius\n",
      "City of New York City month ave: highest high is 28.9 Celcius\n",
      "City of Sydney month ave: highest high is 26.5 Celcius\n",
      "City of Tokyo month ave: highest high is 30.8 Celcius\n",
      "City of Rio de Janeiro month ave: highest high is 30.0 Celcius\n"
     ]
    }
   ],
   "source": [
    "file = open('mean_temp.txt', 'a+')\n",
    "file.seek(0)\n",
    "headings = file.readline().strip().split(',')\n",
    "\n",
    "while True:\n",
    "    city_temp = file.readline().split(',')\n",
    "    if city_temp == ['']:\n",
    "        break\n",
    "    print (f'{headings[0].capitalize()} of {city_temp[0]} {headings[2]} is {city_temp[2]} Celcius')\n",
    "    \n",
    "file.close()"
   ]
  },
  {
   "cell_type": "code",
   "execution_count": 8,
   "id": "21778e65",
   "metadata": {},
   "outputs": [
    {
     "data": {
      "text/plain": [
       "['city', 'country', 'month ave: highest high', 'month ave: lowest low']"
      ]
     },
     "execution_count": 8,
     "metadata": {},
     "output_type": "execute_result"
    }
   ],
   "source": [
    "# Testing code\n",
    "headings"
   ]
  },
  {
   "cell_type": "code",
   "execution_count": null,
   "id": "c1f86687",
   "metadata": {},
   "outputs": [],
   "source": []
  },
  {
   "cell_type": "code",
   "execution_count": null,
   "id": "43301a62",
   "metadata": {},
   "outputs": [],
   "source": []
  }
 ],
 "metadata": {
  "kernelspec": {
   "display_name": "Python 3",
   "language": "python",
   "name": "python3"
  },
  "language_info": {
   "codemirror_mode": {
    "name": "ipython",
    "version": 3
   },
   "file_extension": ".py",
   "mimetype": "text/x-python",
   "name": "python",
   "nbconvert_exporter": "python",
   "pygments_lexer": "ipython3",
   "version": "3.8.8"
  }
 },
 "nbformat": 4,
 "nbformat_minor": 5
}
