{
 "cells": [
  {
   "cell_type": "code",
   "execution_count": 1,
   "id": "1598e037",
   "metadata": {},
   "outputs": [],
   "source": [
    "import numpy as np\n",
    "import pandas as pd\n",
    "import sqlite3\n",
    "import os\n",
    "from pandasql import sqldf"
   ]
  },
  {
   "cell_type": "code",
   "execution_count": 2,
   "id": "90bfc285",
   "metadata": {},
   "outputs": [],
   "source": [
    "# Link this to latest Data_SQL directory in the future\n",
    "\n",
    "os.chdir(r'C:\\Users\\pwy_9\\Downloads\\1112_AWS\\Data_SQL')"
   ]
  },
  {
   "cell_type": "code",
   "execution_count": 3,
   "id": "4943d796",
   "metadata": {},
   "outputs": [],
   "source": [
    "Customers = pd.read_excel(\"01 Customers.xlsx\")\n",
    "Categories = pd.read_excel(\"02 Categories.xlsx\")\n",
    "Employees = pd.read_excel(\"03 Employees.xlsx\")\n",
    "OrderDetails = pd.read_excel(\"04 Order Details.xlsx\")\n",
    "Orders = pd.read_excel(\"05 Orders.xlsx\")\n",
    "Products = pd.read_excel(\"06 Products.xlsx\")\n",
    "Shippers = pd.read_excel(\"07 Shippers.xlsx\")\n",
    "Suppliers = pd.read_excel(\"08 Suppliers.xlsx\")"
   ]
  },
  {
   "cell_type": "code",
   "execution_count": 4,
   "id": "41db12f5",
   "metadata": {},
   "outputs": [],
   "source": [
    "pysqldf = lambda q: sqldf(q, globals())"
   ]
  },
  {
   "cell_type": "code",
   "execution_count": 5,
   "id": "71e66033",
   "metadata": {},
   "outputs": [],
   "source": [
    "q = \"\"\" \n",
    "\n",
    "select C.Country, C.CustomerName,  c_val.CustOrderValue        \n",
    "from Customers as C\n",
    "left join(  select CustomerID, sum(OrderValue) as CustOrderValue\n",
    "            from Orders as O\n",
    "            left join ( select or_d.OrderID, sum((or_d.Quantity*p.Price)) as OrderValue\n",
    "                        from OrderDetails as or_d\n",
    "                        left join Products as p\n",
    "                        on p.ProductID = or_d.ProductID\n",
    "                        group by OrderID) as ord_val\n",
    "            on O.OrderID = ord_val.OrderID\n",
    "            group by CustomerID) as c_val\n",
    "on C.CustomerID = c_val.CustomerID\n",
    "order by Country, CustOrderValue Desc  \n",
    "\n",
    "\"\"\""
   ]
  },
  {
   "cell_type": "code",
   "execution_count": 6,
   "id": "a7369bde",
   "metadata": {},
   "outputs": [],
   "source": [
    "pandaSQL_solution1 = pysqldf(q)"
   ]
  },
  {
   "cell_type": "code",
   "execution_count": 7,
   "id": "cd965c6d",
   "metadata": {},
   "outputs": [
    {
     "data": {
      "text/html": [
       "<div>\n",
       "<style scoped>\n",
       "    .dataframe tbody tr th:only-of-type {\n",
       "        vertical-align: middle;\n",
       "    }\n",
       "\n",
       "    .dataframe tbody tr th {\n",
       "        vertical-align: top;\n",
       "    }\n",
       "\n",
       "    .dataframe thead th {\n",
       "        text-align: right;\n",
       "    }\n",
       "</style>\n",
       "<table border=\"1\" class=\"dataframe\">\n",
       "  <thead>\n",
       "    <tr style=\"text-align: right;\">\n",
       "      <th></th>\n",
       "      <th>Country</th>\n",
       "      <th>CustomerName</th>\n",
       "      <th>CustOrderValue</th>\n",
       "    </tr>\n",
       "  </thead>\n",
       "  <tbody>\n",
       "    <tr>\n",
       "      <th>0</th>\n",
       "      <td>Argentina</td>\n",
       "      <td>Océano Atlántico Ltda.</td>\n",
       "      <td>399.00</td>\n",
       "    </tr>\n",
       "    <tr>\n",
       "      <th>1</th>\n",
       "      <td>Argentina</td>\n",
       "      <td>Cactus Comidas para llevar</td>\n",
       "      <td>NaN</td>\n",
       "    </tr>\n",
       "    <tr>\n",
       "      <th>2</th>\n",
       "      <td>Argentina</td>\n",
       "      <td>Rancho grande</td>\n",
       "      <td>NaN</td>\n",
       "    </tr>\n",
       "    <tr>\n",
       "      <th>3</th>\n",
       "      <td>Austria</td>\n",
       "      <td>Ernst Handel</td>\n",
       "      <td>35631.21</td>\n",
       "    </tr>\n",
       "    <tr>\n",
       "      <th>4</th>\n",
       "      <td>Austria</td>\n",
       "      <td>Piccolo und mehr</td>\n",
       "      <td>16040.75</td>\n",
       "    </tr>\n",
       "    <tr>\n",
       "      <th>...</th>\n",
       "      <td>...</td>\n",
       "      <td>...</td>\n",
       "      <td>...</td>\n",
       "    </tr>\n",
       "    <tr>\n",
       "      <th>86</th>\n",
       "      <td>USA</td>\n",
       "      <td>Trail's Head Gourmet Provisioners</td>\n",
       "      <td>NaN</td>\n",
       "    </tr>\n",
       "    <tr>\n",
       "      <th>87</th>\n",
       "      <td>Venezuela</td>\n",
       "      <td>LILA-Supermercado</td>\n",
       "      <td>7358.68</td>\n",
       "    </tr>\n",
       "    <tr>\n",
       "      <th>88</th>\n",
       "      <td>Venezuela</td>\n",
       "      <td>HILARIÓN-Abastos</td>\n",
       "      <td>4320.50</td>\n",
       "    </tr>\n",
       "    <tr>\n",
       "      <th>89</th>\n",
       "      <td>Venezuela</td>\n",
       "      <td>GROSELLA-Restaurante</td>\n",
       "      <td>1377.10</td>\n",
       "    </tr>\n",
       "    <tr>\n",
       "      <th>90</th>\n",
       "      <td>Venezuela</td>\n",
       "      <td>LINO-Delicateses</td>\n",
       "      <td>500.00</td>\n",
       "    </tr>\n",
       "  </tbody>\n",
       "</table>\n",
       "<p>91 rows × 3 columns</p>\n",
       "</div>"
      ],
      "text/plain": [
       "      Country                       CustomerName  CustOrderValue\n",
       "0   Argentina             Océano Atlántico Ltda.          399.00\n",
       "1   Argentina         Cactus Comidas para llevar             NaN\n",
       "2   Argentina                      Rancho grande             NaN\n",
       "3     Austria                       Ernst Handel        35631.21\n",
       "4     Austria                   Piccolo und mehr        16040.75\n",
       "..        ...                                ...             ...\n",
       "86        USA  Trail's Head Gourmet Provisioners             NaN\n",
       "87  Venezuela                  LILA-Supermercado         7358.68\n",
       "88  Venezuela                   HILARIÓN-Abastos         4320.50\n",
       "89  Venezuela               GROSELLA-Restaurante         1377.10\n",
       "90  Venezuela                   LINO-Delicateses          500.00\n",
       "\n",
       "[91 rows x 3 columns]"
      ]
     },
     "execution_count": 7,
     "metadata": {},
     "output_type": "execute_result"
    }
   ],
   "source": [
    "pandaSQL_solution1"
   ]
  }
 ],
 "metadata": {
  "kernelspec": {
   "display_name": "Python 3",
   "language": "python",
   "name": "python3"
  },
  "language_info": {
   "codemirror_mode": {
    "name": "ipython",
    "version": 3
   },
   "file_extension": ".py",
   "mimetype": "text/x-python",
   "name": "python",
   "nbconvert_exporter": "python",
   "pygments_lexer": "ipython3",
   "version": "3.8.8"
  }
 },
 "nbformat": 4,
 "nbformat_minor": 5
}
