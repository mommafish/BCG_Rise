{
 "cells": [
  {
   "cell_type": "markdown",
   "metadata": {},
   "source": [
    "# Import packages"
   ]
  },
  {
   "cell_type": "code",
   "execution_count": 22,
   "metadata": {},
   "outputs": [],
   "source": [
    "%matplotlib inline\n",
    "import numpy as np\n",
    "import pandas as pd\n",
    "from scipy import stats\n",
    "import matplotlib.pyplot as plt\n",
    "import math\n",
    "from statsmodels.stats import weightstats as stests\n"
   ]
  },
  {
   "cell_type": "markdown",
   "metadata": {},
   "source": [
    "# Module 1: Hypothesis Testing\n",
    "\n",
    "A statistical <b>hypothesis</b> is an assumption about a population parameter. This assumption may or may not be true.\n",
    "\n",
    "<b>Hypothesis testing</b> refers to the formal procedures used by statisticians to accept or reject such statistical hypotheses.\n",
    "\n",
    "Suppose we want to determine whether a coin is fair, we need to define both null and alternate hypothesis:\n",
    "1. <b>Null hypothesis, Ho</b>: half the flips would result in Heads and half, in Tails\n",
    "2. <b>Alternative hypothesis, Ha</b>: the number of Heads and Tails would be very different\n",
    "\n",
    "<mark>Example: Testing for whether the atmospheric temperature affects the speed at which ceiling fan is used.</mark>\n"
   ]
  },
  {
   "cell_type": "markdown",
   "metadata": {},
   "source": [
    "## 1.1 Confidence level and Significance level\n",
    "Once you have the null and alternative hypothesis in hand, you choose a <b>confidence level</b> and a <b>significance level</b>. \n",
    "\n",
    "1. The <b>confidence level</b> describes the uncertainty associated with a sampling method.\n",
    " - Suppose we used the same sampling method to select different samples and to compute a different interval estimate for each sample.\n",
    " - Some interval estimates would include the true population parameter and some would not. \n",
    " - A 90% confidence level means that we would expect 90% of the interval estimates to include the population parameter;\n",
    " - A 95% confidence level means that 95% of the intervals would include the parameter; and so on\n",
    "    \n",
    "    \n",
    "2. The <b>significance level</b> is a probability threshold that determines when you reject the null hypothesis. The confidence level is equivalent to 1 – the significance level\n",
    "\n",
    "\n",
    "3. After carrying out a test, if the probability of getting a result as extreme as the one you observe due to chance is lower than the significance level, you reject the null hypothesis in favor of the alternative. This probability of seeing a result as extreme or more extreme than the one observed is known as the <b>p-value</b>.\n",
    "\n",
    "<b>Summarizing- </b> \n",
    "1. If the <b>P value is less than significance level</b>, the hypothesis test is <b>statistically significant.</b>\n",
    "2. If the <b>P value is more than significance level</b>, the hypothesis test is <b>not statistically significant.</b>"
   ]
  },
  {
   "cell_type": "markdown",
   "metadata": {},
   "source": [
    "Various statistical tests are carried out to validate the hypothesis, either to prove or disprove it, based on the above concepts."
   ]
  },
  {
   "cell_type": "markdown",
   "metadata": {},
   "source": [
    "## 1.2 One-tailed and Two-tailed tests\n",
    "\n",
    "Once the significance and cofidence levels are decided, we have to see whether the test will be <b>one-tailed or two-tailed</b>.\n",
    "\n",
    "<b>One-Tailed</b><br/>\n",
    "Test where the region of rejection is on only one side of the sampling distribution.\n",
    "\n",
    "Example:\n",
    "- Null hypothesis: mean is less than or equal to 10\n",
    "- Alternative hypothesis would be that the mean is greater than 10\n",
    "\n",
    "<b>Two-Tailed</b><br/>\n",
    "Test where the region of rejection is on both sides of the sampling distribution.\n",
    "\n",
    "Example:\n",
    "- Null Hypothesis: mean is equal to 10\n",
    "- Alternative hypothesis would be that the mean is less than 10 or greater than 10\n"
   ]
  },
  {
   "cell_type": "markdown",
   "metadata": {},
   "source": [
    "## 2. Hypothesis tests\n",
    "\n",
    "The parametric test is one in which we have information about the population parameter. i.e. we know or we can safely assume what distribution the population follows. Hence, we make use of the ditributions to calculate p-value.\n",
    "\n",
    "On the other hand, the nonparametric test is one where we have no idea regarding the population parameter. i.e. we don't know and cannot assume a distribution for the population.\n",
    "\n",
    "The following tests will be discussed in detail in the upcoming section- \n",
    "1. t-test <br>\n",
    "1.1. Shapiro-Wilk Test <br>\n",
    "1.2. Levene's Test <br> \n",
    "2. Z-test <br>   \n",
    "3. Chi-Square Test <br>\n",
    "4. Mann-Whitney U Test <br>\n"
   ]
  },
  {
   "cell_type": "markdown",
   "metadata": {},
   "source": [
    "<b> Before we jump into the various hypothesis tests, we should know that non-parametric tests could be categorized into three different categories as shown below: </b>\n",
    "\n",
    "<b> Goodness of Fit Tests : </b>In this categories, the distribution of the variable being analyzed is the same as hypothetical. <br>\n",
    "<b> Tests for Independence: </b> Here, the claim is that the rows and columns of variables being tested are independent. <br>\n",
    "<b> Tests for Homogeneity: </b> In tests for homogeneity, the variables being analyzed are distributed equally <br>\n",
    "\n",
    "Given below is chart depicting common Non-Parametric Tests bases on the categories discussed above:\n",
    "<p> <p>\n",
    "<div style=\"width: 80%; display: inline-block; text-align: left;\">\n",
    "        <img src=\"./images/nonparametrics_list.jpg\" alt=\"course_audience\" height=\"400\" width=\"400\">\n",
    "</div>\n"
   ]
  },
  {
   "cell_type": "markdown",
   "metadata": {},
   "source": [
    "### 2.1 t test\n",
    "\n",
    "<b>The t-test is a statistical test used to determine whether a numeric data sample differs significantly from the population or whether two samples differ from one another.</b>"
   ]
  },
  {
   "cell_type": "markdown",
   "metadata": {},
   "source": [
    "<b> The t-test being a parametric test, makes the following assumptions: </b> \n",
    "\n",
    "1. The first assumption for a t-test is that the scale of measurement applied to the data collected follows a continuous or ordinal scale.\n",
    "2. The second assumption made is that of a simple random sample, that the data is collected from a representative, randomly selected portion of the total population.\n",
    "3. The third assumption is the data, when plotted, results in a normal distribution, bell-shaped distribution curve. When a normal distribution is assumed, one can specify a level of probability (alpha level, level of significance, p) as a criterion for acceptance. In most cases, a 5% value can be assumed.\n",
    "4. The fourth assumption is a reasonably large sample size is used. A larger sample size means the distribution of results should approach a normal bell-shaped curve.\n",
    "5. The final assumption is homogeneity of variance. Homogeneous, or equal, variance exists when the standard deviations of samples are approximately equal.\n",
    "\n",
    "<b> To check for assumptions of (point 3) normaility and (point 5) homogenity of variance we use the Sahpiro Wilks test, and Levene's test respectively. The usage of the shapiro wilks test can be seen in the examples provided below: </b>"
   ]
  },
  {
   "cell_type": "markdown",
   "metadata": {},
   "source": [
    "### One-Sample t-test\n",
    "\n",
    "<b>A one-sample t-test checks whether a sample mean differs from the population mean.</b> \n",
    "\n",
    "<mark>Let's create some synthetic age data for the population of voters in the entire country and a sample of voters in Singapore and test the whether the average age of voters in Singapore differs from the population.</mark>\n",
    "\n",
    "Lets set the significance level at 5% for this test.<br/> Also, as we only want to know whether the average age of sample differs from the population, and it could be higher or lower, it is a two-tailed test.\n"
   ]
  },
  {
   "cell_type": "markdown",
   "metadata": {},
   "source": [
    "<b>Create Data for performing t-test</b>"
   ]
  },
  {
   "cell_type": "code",
   "execution_count": 23,
   "metadata": {
    "scrolled": false
   },
   "outputs": [
    {
     "name": "stdout",
     "output_type": "stream",
     "text": [
      "Mean age of country (population): 43.000112\n",
      "Mean age in Singapore (sample): 39.26\n"
     ]
    }
   ],
   "source": [
    "# Create synthetic data\n",
    "np.random.seed(6)\n",
    "\n",
    "#population data\n",
    "population_ages1 = stats.poisson.rvs(loc=18, mu=35, size=150000)\n",
    "population_ages2 = stats.poisson.rvs(loc=18, mu=10, size=100000)\n",
    "population_ages = np.concatenate((population_ages1, population_ages2))\n",
    "\n",
    "#sample (bangalore) data\n",
    "sgpore_ages1 = stats.poisson.rvs(loc=18, mu=30, size=30)\n",
    "sgpore_ages2 = stats.poisson.rvs(loc=18, mu=10, size=20)\n",
    "sgpore_ages = np.concatenate((sgpore_ages1, sgpore_ages2))\n",
    "\n",
    "# Calculate population and sample means\n",
    "print( 'Mean age of country (population):', population_ages.mean())\n",
    "print( 'Mean age in Singapore (sample):',sgpore_ages.mean() )"
   ]
  },
  {
   "cell_type": "markdown",
   "metadata": {},
   "source": [
    "<b>We used a combination of slightly different distributions to generate the sample data for Singapore, so we know that the two means are different.</b>\n",
    "\n",
    "Let's conduct a t-test at a 95% confidence level and see if it correctly rejects the null hypothesis that the sample comes from the same distribution as the population.\n"
   ]
  },
  {
   "cell_type": "markdown",
   "metadata": {},
   "source": [
    "<b> Before we go ahead let's check if the data satisfies the assumption of normality</b>"
   ]
  },
  {
   "cell_type": "markdown",
   "metadata": {},
   "source": [
    "### 2.1.1. Shapiro Wilks Test\n"
   ]
  },
  {
   "cell_type": "markdown",
   "metadata": {},
   "source": [
    "<b> The Shapiro-Wilk test is a goodness of fit test that evaluates a data sample and quantifies how likely it is that the data was drawn from a Gaussian distribution\n",
    "\n",
    "In practice, the Shapiro-Wilk test is believed to be a reliable test of normality, although there is some suggestion that the test may be suitable for smaller samples of data, e.g. thousands of observations or fewer."
   ]
  },
  {
   "cell_type": "markdown",
   "metadata": {},
   "source": [
    "The null-hypothesis of this test is that the population is normally distributed. Thus, if the <b> p value is less than the chosen alpha level, then the null hypothesis is rejected </b> and there is evidence that the data tested are not normally distributed. On the other hand, if the p value is greater than the chosen alpha level, then the null hypothesis (that the data came from a normally distributed population) can not be rejected (e.g., for an alpha level of .05, a data set with a p value of less than .05 rejects the null hypothesis that the data are from a normally distributed population)"
   ]
  },
  {
   "cell_type": "markdown",
   "metadata": {},
   "source": [
    "#### Lets use the population sample generated for Singapore in t-test to apply z-test "
   ]
  },
  {
   "cell_type": "code",
   "execution_count": 24,
   "metadata": {},
   "outputs": [
    {
     "data": {
      "text/plain": [
       "ShapiroResult(statistic=0.9531025886535645, pvalue=0.04581432789564133)"
      ]
     },
     "execution_count": 24,
     "metadata": {},
     "output_type": "execute_result"
    }
   ],
   "source": [
    "# normality test\n",
    "stats.shapiro(sgpore_ages)"
   ]
  },
  {
   "cell_type": "markdown",
   "metadata": {},
   "source": [
    "<b> Since the p-value is lower than our significance level α at 5% or confidence interval at 95% (equal to 1-conf. level or 0.05) so we should reject the null hypothesis. </b>"
   ]
  },
  {
   "cell_type": "markdown",
   "metadata": {},
   "source": [
    "<b>On the other hand, since there is a 4.581% chance of seeing a result this extreme due to chance, it is not significant at the 99% confidence level</b>.\n",
    "\n",
    "This means if we were to construct a 99% confidence interval, it would capture the noramal distribution of the data. In this case, the p-value of 0.045814 is greater than our significance level of 0.01 and we fail to reject the null hypothesis"
   ]
  },
  {
   "cell_type": "markdown",
   "metadata": {},
   "source": [
    "<b> Now let's check if the data satisfies the assumption of homogenity in variance for the two samples, which brings us to Levene's test </b>"
   ]
  },
  {
   "cell_type": "markdown",
   "metadata": {},
   "source": [
    "### 2.1.2. Levene's Test\n",
    "\n",
    "<b>Levene’s Test is a test of homogenity used to determine whether \"two or more\" groups have equal variances. It is commonly used because many statistical tests make the assumption that groups have equal variances and Levene’s Test allows you to determine if this assumption is satisified.</b>"
   ]
  },
  {
   "cell_type": "markdown",
   "metadata": {},
   "source": [
    "#### As mentioned in the documentation for Levene's test, there are actually three different variations of Levene’s test you can use. The recommended usages are as follows:\n",
    "\n",
    "‘median’: recommended for skewed distributions. <br>\n",
    "‘mean’: recommended for symmetric, moderate-tailed distributions.<br>\n",
    "‘trimmed’: recommended for heavy-tailed distributions.<br>\n",
    "\n",
    "#### The following code illustrates how to perform Levene’s test using both the mean and the median as the center:"
   ]
  },
  {
   "cell_type": "code",
   "execution_count": 25,
   "metadata": {},
   "outputs": [
    {
     "data": {
      "text/plain": [
       "LeveneResult(statistic=3.045464755235517, pvalue=0.0873624577950139)"
      ]
     },
     "execution_count": 25,
     "metadata": {},
     "output_type": "execute_result"
    }
   ],
   "source": [
    "#Levene's test centered at the median\n",
    "stats.levene(sgpore_ages1, sgpore_ages2, center='median')\n"
   ]
  },
  {
   "cell_type": "code",
   "execution_count": 26,
   "metadata": {},
   "outputs": [
    {
     "data": {
      "text/plain": [
       "LeveneResult(statistic=3.1722485090511503, pvalue=0.08122762405113125)"
      ]
     },
     "execution_count": 26,
     "metadata": {},
     "output_type": "execute_result"
    }
   ],
   "source": [
    "#Levene's test centered at the mean\n",
    "stats.levene(sgpore_ages1, sgpore_ages2, center='mean')\n"
   ]
  },
  {
   "cell_type": "markdown",
   "metadata": {},
   "source": [
    "#### In both methods, the p-value is not less than .05. \n",
    "\n",
    "This means in both cases we would fail to reject the null hypothesis. This means we do not have sufficient evidence to say that the variance in population ages between the samples in Singapore is significantly different."
   ]
  },
  {
   "cell_type": "markdown",
   "metadata": {},
   "source": [
    "### Now, we can go ahead and perform t-test"
   ]
  },
  {
   "cell_type": "code",
   "execution_count": 27,
   "metadata": {},
   "outputs": [
    {
     "data": {
      "text/plain": [
       "Ttest_1sampResult(statistic=-2.5742714883655027, pvalue=0.013118685425061678)"
      ]
     },
     "execution_count": 27,
     "metadata": {},
     "output_type": "execute_result"
    }
   ],
   "source": [
    "# Perform t test\n",
    "stats.ttest_1samp(a= sgpore_ages,               # Sample data\n",
    "                 popmean= population_ages.mean())  # Pop mean"
   ]
  },
  {
   "cell_type": "markdown",
   "metadata": {},
   "source": [
    "Since the p-value is lower than our significance level α (equal to 1-conf. level or 0.05) so we should reject the null hypothesis.\n",
    "If we were to construct a 95% confidence interval for the sample it would not capture population mean of 43."
   ]
  },
  {
   "cell_type": "markdown",
   "metadata": {},
   "source": [
    "<b>On the other hand, since there is a 1.3% chance of seeing a result this extreme due to chance, it is not significant at the 99% confidence level</b>.\n",
    "\n",
    "This means if we were to construct a 99% confidence interval, it would capture the population mean of 43. In this case, the p-value of 0.013 is greater than our significance level of 0.01 and we fail to reject the null hypothesis"
   ]
  },
  {
   "cell_type": "code",
   "execution_count": null,
   "metadata": {},
   "outputs": [],
   "source": []
  },
  {
   "cell_type": "markdown",
   "metadata": {},
   "source": [
    "### Two-Sample t-test\n",
    "\n",
    "<b>A two-sample t-test investigates whether the means of two independent data samples differ from one another.</b>\n",
    "\n",
    "1. In a two-sample test, the null hypothesis is that the means of both groups are the same\n",
    "2. Unlike the one sample-test where we test against a known population parameter, the two sample test only involves sample means"
   ]
  },
  {
   "cell_type": "markdown",
   "metadata": {},
   "source": [
    "<mark>Let's generate a sample of voter age data for Mumbai and test it against the sample we made earlier for Singaore</mark>"
   ]
  },
  {
   "cell_type": "markdown",
   "metadata": {},
   "source": [
    "<b>Generate data for two sample t-test</b>"
   ]
  },
  {
   "cell_type": "code",
   "execution_count": 28,
   "metadata": {},
   "outputs": [
    {
     "name": "stdout",
     "output_type": "stream",
     "text": [
      "Mean age in Mumbai: 42.8\n"
     ]
    }
   ],
   "source": [
    "# Generate synthetic data\n",
    "\n",
    "np.random.seed(12)\n",
    "mumbai_ages1 = stats.poisson.rvs(loc=18, mu=33, size=30)\n",
    "mumbai_ages2 = stats.poisson.rvs(loc=18, mu=13, size=20)\n",
    "mumbai_ages = np.concatenate((mumbai_ages1, mumbai_ages2))\n",
    "\n",
    "# Calculate mean of the sample\n",
    "print('Mean age in Mumbai:', mumbai_ages.mean() )"
   ]
  },
  {
   "cell_type": "markdown",
   "metadata": {},
   "source": [
    " <b> Check for assumptions of normality and homogenity in variance </b> "
   ]
  },
  {
   "cell_type": "code",
   "execution_count": 29,
   "metadata": {
    "scrolled": true
   },
   "outputs": [
    {
     "data": {
      "text/plain": [
       "ShapiroResult(statistic=0.9391676783561707, pvalue=0.01249064039438963)"
      ]
     },
     "execution_count": 29,
     "metadata": {},
     "output_type": "execute_result"
    }
   ],
   "source": [
    "# normality test\n",
    "shapiro(mumbai_ages)"
   ]
  },
  {
   "cell_type": "markdown",
   "metadata": {},
   "source": [
    "<b>A p-value of 0.01249 means we'd expect to see data as extreme as our sample due to chance about 1.249% of the time if the null hypothesis was true</b>.\n"
   ]
  },
  {
   "cell_type": "markdown",
   "metadata": {},
   "source": [
    "This means if we were to construct a 95% confidence interval, it wouldn't capture the normal distribution of the data and we reject the null hypothesis\n",
    "\n",
    "If we were to construct a 99% confidence interval, it would capture the noramal distribution of the data. In this case, the p-value of 0.01249 is greater than our significance level of 0.01 and we fail to reject the null hypothesis"
   ]
  },
  {
   "cell_type": "markdown",
   "metadata": {},
   "source": [
    " <b> Now, let's test for homogenity in variance for Mumbai and Singapore populations </b>"
   ]
  },
  {
   "cell_type": "code",
   "execution_count": 30,
   "metadata": {},
   "outputs": [
    {
     "data": {
      "text/plain": [
       "LeveneResult(statistic=0.028047686012903684, pvalue=0.8673418686154897)"
      ]
     },
     "execution_count": 30,
     "metadata": {},
     "output_type": "execute_result"
    }
   ],
   "source": [
    "stats.levene(sgpore_ages, mumbai_ages)"
   ]
  },
  {
   "cell_type": "markdown",
   "metadata": {},
   "source": [
    "#### The p-value is not less than .05 and significantly high at 0.867341868 \n",
    "\n",
    "This means we would fail to reject the null hypothesis. This means we do not have sufficient evidence to say that the variance in population ages between the cities is significantly different."
   ]
  },
  {
   "cell_type": "markdown",
   "metadata": {},
   "source": [
    "### Perform 2 sample t-test</b>"
   ]
  },
  {
   "cell_type": "code",
   "execution_count": 31,
   "metadata": {},
   "outputs": [
    {
     "data": {
      "text/plain": [
       "Ttest_indResult(statistic=-1.7083870793286842, pvalue=0.09073104343957748)"
      ]
     },
     "execution_count": 31,
     "metadata": {},
     "output_type": "execute_result"
    }
   ],
   "source": [
    "# Perform 2 sample t-test\n",
    "stats.ttest_ind(a= sgpore_ages,\n",
    "                b= mumbai_ages,\n",
    "                equal_var=False)    # Assume samples have equal variance?"
   ]
  },
  {
   "cell_type": "markdown",
   "metadata": {},
   "source": [
    "<b>The test yields a p-value of 0.0907, which means there is a 9% chance we'd see sample data this far apart if the two groups tested are actually identical.\n",
    "    \n",
    "If we were using a 95% confidence level we would fail to reject the null hypothesis, since the p-value is greater than the corresponding significance level of 5%. </b>"
   ]
  },
  {
   "cell_type": "code",
   "execution_count": null,
   "metadata": {},
   "outputs": [],
   "source": []
  },
  {
   "cell_type": "markdown",
   "metadata": {},
   "source": [
    "### 2.2. Z Test:\n",
    "\n",
    "Z-test is a statistical method to determine whether the distribution of the test statistics can be approximated by a normal distribution. It is the method to determine whether two sample means are approximately the same or different when their variance is known and the sample size is large (should be >= 30).\n",
    "\n",
    "### When to Use Z-test:\n",
    "\n",
    "1. The sample size should be greater than 30. Otherwise, we should use the t-test. <br>\n",
    "2. Samples should be drawn at random from the population. <br>\n",
    "3. The standard deviation of the population should be known. <br>\n",
    "4. Samples that are drawn from the population should be independent of each other. <br>\n",
    "5. The data should be normally distributed, however for large sample size, it is assumed to have a normal distribution. <br>"
   ]
  },
  {
   "cell_type": "markdown",
   "metadata": {},
   "source": [
    "#### One Sample Z-test\n",
    "\n",
    "In one sample z-test ,we are checking one  data group and deciding whether sample mean is equal to population mean or not.\n",
    "\n",
    "#### Lets use the sample generated in t-test to apply z-test "
   ]
  },
  {
   "cell_type": "code",
   "execution_count": 32,
   "metadata": {},
   "outputs": [
    {
     "data": {
      "text/plain": [
       "(-2.5742714883655027, 0.010045141704952422)"
      ]
     },
     "execution_count": 32,
     "metadata": {},
     "output_type": "execute_result"
    }
   ],
   "source": [
    "# Perform Z-test\n",
    "stests.ztest(x1 = sgpore_ages,               # Sample data\n",
    "             value = population_ages.mean())  # Pop mean"
   ]
  },
  {
   "cell_type": "markdown",
   "metadata": {},
   "source": [
    "<b>A p-value of 0.010045 means we'd expect to see data as extreme as our sample due to chance about 1.005% of the time if the null hypothesis was true</b>."
   ]
  },
  {
   "cell_type": "markdown",
   "metadata": {},
   "source": [
    "In this case, the p-value is lower than our significance level α (equal to 1-conf. level or 0.05) so we should reject the null hypothesis.\n",
    "If we were to construct a 95% confidence interval for the sample it would not capture population mean of 43.\n",
    "\n",
    "This means if we were to construct a 99% confidence interval, it would capture the population mean of 43. In this case, the p-value of 0.010045 is greater than our significance level of 0.01 and we fail to reject the null hypothesis"
   ]
  },
  {
   "cell_type": "markdown",
   "metadata": {},
   "source": [
    "#### Two Sample Z-test\n",
    "\n",
    "In two sample z-test ,we are checking one data group and deciding whether sample mean is equal to population mean or not.\n",
    "\n",
    "#### Lets use the sample generated in t-test to apply two sample z-test "
   ]
  },
  {
   "cell_type": "code",
   "execution_count": 22,
   "metadata": {},
   "outputs": [
    {
     "data": {
      "text/plain": [
       "(-1.7083870793286842, 0.08756454310443189)"
      ]
     },
     "execution_count": 22,
     "metadata": {},
     "output_type": "execute_result"
    }
   ],
   "source": [
    "# Perform 2 sample t-test\n",
    "stests.ztest(x1 = sgpore_ages,\n",
    "             x2 = mumbai_ages)"
   ]
  },
  {
   "cell_type": "markdown",
   "metadata": {},
   "source": [
    "<b>If we were using a 95% confidence level we would fail to reject the null hypothesis, since the p-value is greater than the corresponding significance level of 5%. </b>"
   ]
  },
  {
   "cell_type": "code",
   "execution_count": null,
   "metadata": {},
   "outputs": [],
   "source": []
  },
  {
   "cell_type": "code",
   "execution_count": null,
   "metadata": {},
   "outputs": [],
   "source": []
  },
  {
   "cell_type": "markdown",
   "metadata": {},
   "source": [
    "Lets move on to similar analysis for categorical variables- <b>the chi-square test.</b>\n",
    "\n",
    "## 2.3 Chi Square test\n",
    "\n",
    "Chi square test can be used to test 2 scenarios-\n",
    "1. <b>Goodness of fit</b>\n",
    "2. <b>Independence</b>\n",
    " \n",
    "\n",
    "We will get into the details of each in the upcoming sections."
   ]
  },
  {
   "cell_type": "markdown",
   "metadata": {},
   "source": [
    "#### Chi-Squared Goodness-Of-Fit Test\n",
    "\n",
    "In our study of t-tests, we introduced the one-way t-test to check whether a sample mean differs from the an expected (population) mean. \n",
    "1. <b>The chi-squared goodness-of-fit test</b> is an analog of the one-way t-test for categorical variables: <b>it tests whether the distribution of sample categorical data matches an expected distribution.</b><br/><mark> Example: Variation of sales by customer gender</mark>\n",
    "\n",
    "\n",
    "2. When working with categorical data, the values themselves aren't of much use for statistical testing because categories like \"male\", \"female,\" and \"other\" have no mathematical meaning. <b>Tests dealing with categorical variables are based on variable counts instead of the actual value of the variables themselves.</b>"
   ]
  },
  {
   "cell_type": "markdown",
   "metadata": {},
   "source": [
    "<b>Let's generate some synthetic demographic data for U.S. and Minnesota and walk through the chi-square goodness of fit test to check whether they are different.</b>\n"
   ]
  },
  {
   "cell_type": "markdown",
   "metadata": {},
   "source": [
    "<b>Create data for chi-square goodness of fit test</b>"
   ]
  },
  {
   "cell_type": "code",
   "execution_count": 5,
   "metadata": {},
   "outputs": [
    {
     "name": "stdout",
     "output_type": "stream",
     "text": [
      "National\n",
      "col_0      count\n",
      "0               \n",
      "asian      15000\n",
      "black      50000\n",
      "hispanic   60000\n",
      "other      35000\n",
      "white     100000\n",
      " \n",
      "Minnesota\n",
      "col_0     count\n",
      "0              \n",
      "asian        75\n",
      "black       250\n",
      "hispanic    300\n",
      "other       150\n",
      "white       600\n"
     ]
    }
   ],
   "source": [
    "# Create categorical data\n",
    "#US\n",
    "national = pd.DataFrame([\"white\"]*100000 + [\"hispanic\"]*60000 +\\\n",
    "                        [\"black\"]*50000 + [\"asian\"]*15000 + [\"other\"]*35000)\n",
    "           \n",
    "\n",
    "#minnesota\n",
    "minnesota = pd.DataFrame([\"white\"]*600 + [\"hispanic\"]*300 + \\\n",
    "                         [\"black\"]*250 +[\"asian\"]*75 + [\"other\"]*150)\n",
    "\n",
    "national_table = pd.crosstab(index=national[0], columns=\"count\")\n",
    "minnesota_table = pd.crosstab(index=minnesota[0], columns=\"count\")\n",
    "\n",
    "# Print the frequency of occurance of each category\n",
    "print( \"National\")\n",
    "print(national_table)\n",
    "print(\" \")\n",
    "print( \"Minnesota\")\n",
    "print(minnesota_table)"
   ]
  },
  {
   "cell_type": "markdown",
   "metadata": {},
   "source": [
    "\n",
    "<b>Let's calculate the chi-squared statistic for our data to illustrate:</b>"
   ]
  },
  {
   "cell_type": "code",
   "execution_count": 6,
   "metadata": {},
   "outputs": [
    {
     "name": "stdout",
     "output_type": "stream",
     "text": [
      "col_0\n",
      "count    18.194805\n",
      "dtype: float64\n"
     ]
    }
   ],
   "source": [
    "# Calculate chi-square statistic \n",
    "\n",
    "observed = minnesota_table\n",
    "\n",
    "# Get population ratios\n",
    "national_ratios = national_table/len(national)  \n",
    "\n",
    "# Get expected counts\n",
    "expected = national_ratios * len(minnesota)   \n",
    "\n",
    "chi_squared_stat = (((observed-expected)**2)/expected).sum()\n",
    "\n",
    "print(chi_squared_stat)"
   ]
  },
  {
   "cell_type": "markdown",
   "metadata": {},
   "source": [
    "<b>In the chi-square test we compare the chi-square test statistic to a critical value based on the chi-square distribution.</b>\n",
    "\n",
    "Lets find the critical value and the p-value for the chi-square statistic at a 95% confidence level."
   ]
  },
  {
   "cell_type": "markdown",
   "metadata": {},
   "source": [
    "<b>P value calculation for the chi-square statistic</b>"
   ]
  },
  {
   "cell_type": "code",
   "execution_count": 7,
   "metadata": {},
   "outputs": [
    {
     "name": "stdout",
     "output_type": "stream",
     "text": [
      "Critical value: 9.487729036781154\n",
      "P value: 0.001130467092803511\n"
     ]
    }
   ],
   "source": [
    "# Calculate the p-value for the chi-square statistic\n",
    "\n",
    "crit = stats.chi2.ppf(q = 0.95, # Find the critical value for 95% confidence*\n",
    "                      df = 4)   # Df = number of variable categories - 1\n",
    "\n",
    "print(\"Critical value:\",crit)\n",
    "\n",
    "p_value = 1 - stats.chi2.cdf(x=chi_squared_stat,  # Find the p-value\n",
    "                             df=4)\n",
    "print(\"P value:\",p_value[0])"
   ]
  },
  {
   "cell_type": "markdown",
   "metadata": {},
   "source": [
    "<b>Since the chi-squared statistic of 18.9 exceeds the critical value of 9.48, the probability of demographic data of US being similar to Minessota is 0.11%.\n",
    "    \n",
    "Hence we'd reject the null hypothesis that the two distributions are the same.</b>"
   ]
  },
  {
   "cell_type": "markdown",
   "metadata": {},
   "source": [
    "#### Chi Square test of independence\n",
    "\n",
    "The chi-squared test of independence tests whether two categorical variables are independent.\n",
    "\n",
    "The test of independence is commonly used to determine whether variables like education, political views and other preferences vary based on demographic factors like gender, race and religion. <br/><mark>Example: We would want to know whether the sales by gender are also affected by the age group of the customer</mark>\n",
    "\n",
    "<b>Let's generate some synthetic voter polling data and perform a test of independence:</b>"
   ]
  },
  {
   "cell_type": "code",
   "execution_count": 8,
   "metadata": {},
   "outputs": [
    {
     "data": {
      "text/html": [
       "<div>\n",
       "<style scoped>\n",
       "    .dataframe tbody tr th:only-of-type {\n",
       "        vertical-align: middle;\n",
       "    }\n",
       "\n",
       "    .dataframe tbody tr th {\n",
       "        vertical-align: top;\n",
       "    }\n",
       "\n",
       "    .dataframe thead th {\n",
       "        text-align: right;\n",
       "    }\n",
       "</style>\n",
       "<table border=\"1\" class=\"dataframe\">\n",
       "  <thead>\n",
       "    <tr style=\"text-align: right;\">\n",
       "      <th></th>\n",
       "      <th>democrat</th>\n",
       "      <th>independent</th>\n",
       "      <th>republican</th>\n",
       "      <th>row_totals</th>\n",
       "    </tr>\n",
       "  </thead>\n",
       "  <tbody>\n",
       "    <tr>\n",
       "      <th>asian</th>\n",
       "      <td>21</td>\n",
       "      <td>7</td>\n",
       "      <td>32</td>\n",
       "      <td>60</td>\n",
       "    </tr>\n",
       "    <tr>\n",
       "      <th>black</th>\n",
       "      <td>65</td>\n",
       "      <td>25</td>\n",
       "      <td>64</td>\n",
       "      <td>154</td>\n",
       "    </tr>\n",
       "    <tr>\n",
       "      <th>hispanic</th>\n",
       "      <td>107</td>\n",
       "      <td>50</td>\n",
       "      <td>94</td>\n",
       "      <td>251</td>\n",
       "    </tr>\n",
       "    <tr>\n",
       "      <th>other</th>\n",
       "      <td>15</td>\n",
       "      <td>8</td>\n",
       "      <td>15</td>\n",
       "      <td>38</td>\n",
       "    </tr>\n",
       "    <tr>\n",
       "      <th>white</th>\n",
       "      <td>189</td>\n",
       "      <td>96</td>\n",
       "      <td>212</td>\n",
       "      <td>497</td>\n",
       "    </tr>\n",
       "    <tr>\n",
       "      <th>col_totals</th>\n",
       "      <td>397</td>\n",
       "      <td>186</td>\n",
       "      <td>417</td>\n",
       "      <td>1000</td>\n",
       "    </tr>\n",
       "  </tbody>\n",
       "</table>\n",
       "</div>"
      ],
      "text/plain": [
       "            democrat  independent  republican  row_totals\n",
       "asian             21            7          32          60\n",
       "black             65           25          64         154\n",
       "hispanic         107           50          94         251\n",
       "other             15            8          15          38\n",
       "white            189           96         212         497\n",
       "col_totals       397          186         417        1000"
      ]
     },
     "execution_count": 8,
     "metadata": {},
     "output_type": "execute_result"
    }
   ],
   "source": [
    "# Generate synthetic data\n",
    "\n",
    "np.random.seed(10)\n",
    "\n",
    "# Sample data randomly at fixed probabilities\n",
    "voter_race = np.random.choice(a= [\"asian\",\"black\",\"hispanic\",\"other\",\"white\"],\n",
    "                              p = [0.05, 0.15 ,0.25, 0.05, 0.5],\n",
    "                              size=1000)\n",
    "\n",
    "# Sample data randomly at fixed probabilities\n",
    "voter_party = np.random.choice(a= [\"democrat\",\"independent\",\"republican\"],\n",
    "                              p = [0.4, 0.2, 0.4],\n",
    "                              size=1000)\n",
    "\n",
    "voters = pd.DataFrame({\"race\":voter_race, \n",
    "                       \"party\":voter_party})\n",
    "\n",
    "voter_tab = pd.crosstab(voters.race, voters.party, margins = True)\n",
    "\n",
    "voter_tab.columns = [\"democrat\",\"independent\",\"republican\",\"row_totals\"]\n",
    "\n",
    "voter_tab.index = [\"asian\",\"black\",\"hispanic\",\"other\",\"white\",\"col_totals\"]\n",
    "\n",
    "observed = voter_tab.iloc[0:5,0:3]   # Get table without totals for later use\n",
    "\n",
    "voter_tab"
   ]
  },
  {
   "cell_type": "markdown",
   "metadata": {},
   "source": [
    "For a test of independence, we use the same chi-squared formula that we used for the goodness-of-fit test.\n",
    "\n",
    "The main difference is we have to calculate the expected counts of each cell in a 2-dimensional table instead of a 1-dimensional table. To get the expected count for a cell, multiply the row total for that cell by the column total for that cell and then divide by the total number of observations."
   ]
  },
  {
   "cell_type": "markdown",
   "metadata": {},
   "source": [
    "<b>Expected count calculation</b>"
   ]
  },
  {
   "cell_type": "code",
   "execution_count": 9,
   "metadata": {},
   "outputs": [
    {
     "data": {
      "text/html": [
       "<div>\n",
       "<style scoped>\n",
       "    .dataframe tbody tr th:only-of-type {\n",
       "        vertical-align: middle;\n",
       "    }\n",
       "\n",
       "    .dataframe tbody tr th {\n",
       "        vertical-align: top;\n",
       "    }\n",
       "\n",
       "    .dataframe thead th {\n",
       "        text-align: right;\n",
       "    }\n",
       "</style>\n",
       "<table border=\"1\" class=\"dataframe\">\n",
       "  <thead>\n",
       "    <tr style=\"text-align: right;\">\n",
       "      <th></th>\n",
       "      <th>democrat</th>\n",
       "      <th>independent</th>\n",
       "      <th>republican</th>\n",
       "    </tr>\n",
       "  </thead>\n",
       "  <tbody>\n",
       "    <tr>\n",
       "      <th>asian</th>\n",
       "      <td>23.820</td>\n",
       "      <td>11.160</td>\n",
       "      <td>25.020</td>\n",
       "    </tr>\n",
       "    <tr>\n",
       "      <th>black</th>\n",
       "      <td>61.138</td>\n",
       "      <td>28.644</td>\n",
       "      <td>64.218</td>\n",
       "    </tr>\n",
       "    <tr>\n",
       "      <th>hispanic</th>\n",
       "      <td>99.647</td>\n",
       "      <td>46.686</td>\n",
       "      <td>104.667</td>\n",
       "    </tr>\n",
       "    <tr>\n",
       "      <th>other</th>\n",
       "      <td>15.086</td>\n",
       "      <td>7.068</td>\n",
       "      <td>15.846</td>\n",
       "    </tr>\n",
       "    <tr>\n",
       "      <th>white</th>\n",
       "      <td>197.309</td>\n",
       "      <td>92.442</td>\n",
       "      <td>207.249</td>\n",
       "    </tr>\n",
       "  </tbody>\n",
       "</table>\n",
       "</div>"
      ],
      "text/plain": [
       "          democrat  independent  republican\n",
       "asian       23.820       11.160      25.020\n",
       "black       61.138       28.644      64.218\n",
       "hispanic    99.647       46.686     104.667\n",
       "other       15.086        7.068      15.846\n",
       "white      197.309       92.442     207.249"
      ]
     },
     "execution_count": 9,
     "metadata": {},
     "output_type": "execute_result"
    }
   ],
   "source": [
    "# Calculate expected counts for each race \n",
    "\n",
    "expected =  np.outer(voter_tab[\"row_totals\"][0:5],\n",
    "                     voter_tab.loc[\"col_totals\"][0:3]) / 1000\n",
    "\n",
    "expected = pd.DataFrame(expected)\n",
    "\n",
    "expected.columns = [\"democrat\",\"independent\",\"republican\"]\n",
    "expected.index = [\"asian\",\"black\",\"hispanic\",\"other\",\"white\"]\n",
    "\n",
    "expected"
   ]
  },
  {
   "cell_type": "markdown",
   "metadata": {},
   "source": [
    "Now we can follow the same steps we took before to calculate the chi-square statistic, the critical value and the p-value."
   ]
  },
  {
   "cell_type": "markdown",
   "metadata": {},
   "source": [
    "<b>Perform Chi-Square test </b>"
   ]
  },
  {
   "cell_type": "code",
   "execution_count": 10,
   "metadata": {},
   "outputs": [
    {
     "name": "stdout",
     "output_type": "stream",
     "text": [
      "7.169321280162059\n"
     ]
    }
   ],
   "source": [
    "# Calculate the chi square statistic\n",
    "chi_squared_stat = (((observed-expected)**2)/expected).sum().sum()\n",
    "\n",
    "print(chi_squared_stat)"
   ]
  },
  {
   "cell_type": "markdown",
   "metadata": {},
   "source": [
    "Note: We call .sum() twice: once to get the column sums and a second time to add the column sums together, returning the sum of the entire 2D table."
   ]
  },
  {
   "cell_type": "markdown",
   "metadata": {},
   "source": [
    "<b>Calculate the p value</b>"
   ]
  },
  {
   "cell_type": "code",
   "execution_count": 11,
   "metadata": {},
   "outputs": [
    {
     "name": "stdout",
     "output_type": "stream",
     "text": [
      "Critical value: 15.50731305586545\n",
      "p-value: 0.518479392948842\n"
     ]
    }
   ],
   "source": [
    "# Calculate critical value and p value\n",
    "crit = stats.chi2.ppf(q = 0.95, # Find the critical value for 95% confidence*\n",
    "                      df = 8)   # *\n",
    "\n",
    "print(\"Critical value:\",crit)\n",
    "\n",
    "p_value = 1 - stats.chi2.cdf(x=chi_squared_stat,  # Find the p-value\n",
    "                             df=8)\n",
    "print(\"p-value:\",p_value)"
   ]
  },
  {
   "cell_type": "markdown",
   "metadata": {},
   "source": [
    "<b>As expected, given the high p-value of 0.51 i.e. the probability of expecting no relation between the race and voting results is 51%, we accept the null hypothesis of no relation between the 2 variables.</b>"
   ]
  },
  {
   "cell_type": "code",
   "execution_count": null,
   "metadata": {},
   "outputs": [],
   "source": []
  },
  {
   "cell_type": "code",
   "execution_count": null,
   "metadata": {},
   "outputs": [],
   "source": []
  },
  {
   "cell_type": "markdown",
   "metadata": {},
   "source": [
    "### 2.4. Mann Whitney U Test\n"
   ]
  },
  {
   "cell_type": "markdown",
   "metadata": {},
   "source": [
    "<b> The Mann-Whitney U test is a nonparametric statistical significance test for determining whether \"two\" independent samples were drawn from a population with the same distribution, thus checking if they have the same variance </b>"
   ]
  },
  {
   "cell_type": "markdown",
   "metadata": {},
   "source": [
    "The default assumption or null hypothesis is that there is no difference between the distributions of the data samples. \n",
    "\n",
    "1. Rejection of this hypothesis suggests that there is likely some difference between the samples. \n",
    "2. The test determines whether it is equally likely that any randomly selected observation from one sample will be greater or less than a sample in the other distribution.\n",
    "3. If violated, it suggests differing distributions.\n",
    "\n",
    "Fail to Reject H0: Sample distributions are equal.\n",
    "Reject H0: Sample distributions are not equal."
   ]
  },
  {
   "cell_type": "markdown",
   "metadata": {},
   "source": [
    "## We will the used data in the three groups given below to test for Mann Whitney U Test"
   ]
  },
  {
   "cell_type": "code",
   "execution_count": 38,
   "metadata": {},
   "outputs": [
    {
     "name": "stdout",
     "output_type": "stream",
     "text": [
      "Testing for Group 1 and Group 2 MannwhitneyuResult(statistic=32.0, pvalue=0.09144334643513091)\n",
      "Testing for Group 2 and Group 3 MannwhitneyuResult(statistic=18.0, pvalue=0.00815204647024312)\n",
      "Testing for Group 1 and Group 3 MannwhitneyuResult(statistic=34.0, pvalue=0.11825262327988856)\n"
     ]
    }
   ],
   "source": [
    "from scipy.stats import mannwhitneyu\n",
    "\n",
    "group1 = [7, 14, 14, 13, 12, 9, 6, 14, 12, 8]\n",
    "group2 = [15, 17, 13, 15, 15, 13, 9, 12, 10, 8]\n",
    "group3 = [6, 8, 8, 9, 5, 14, 13, 8, 10, 9]\n",
    "\n",
    "\n",
    "print(\"Testing for Group 1 and Group 2\", mannwhitneyu(group1, group2))\n",
    "print(\"Testing for Group 2 and Group 3\", mannwhitneyu(group2, group3))\n",
    "print(\"Testing for Group 1 and Group 3\", mannwhitneyu(group1, group3))"
   ]
  },
  {
   "cell_type": "markdown",
   "metadata": {},
   "source": [
    "##### In all the cases, the p-value is not less than .05. \n",
    "\n",
    "This means in both cases we would fail to reject the null hypothesis. This means we do not have sufficient evidence to say that the variance in plant growth between the three fertilizers is significantly different."
   ]
  },
  {
   "cell_type": "code",
   "execution_count": null,
   "metadata": {},
   "outputs": [],
   "source": []
  },
  {
   "cell_type": "markdown",
   "metadata": {},
   "source": [
    "##  Types of errors in Hypothesis testing\n",
    "\n",
    "Two types of errors can result from a hypothesis test. \n",
    "1. <b>Type I error </b>- A Type I error occurs when the researcher rejects a null hypothesis when it is true. The probability of committing a Type I error is called the significance level\n",
    "2. <b>Type II error</b> - A Type II error occurs when the researcher fails to reject a null hypothesis that is false. The probability of committing a Type II error is called Beta, and is often denoted by β. \n",
    "\n",
    "\n",
    "<p> <p>\n",
    "<div style=\"width: 80%; display: inline-block; text-align: left;\">\n",
    "        <img src=\"./images/type-i-and-ii-error.png\" alt=\"course_audience\" height=\"300\" width=\"400\">\n",
    "</div>"
   ]
  },
  {
   "cell_type": "code",
   "execution_count": null,
   "metadata": {},
   "outputs": [],
   "source": []
  },
  {
   "cell_type": "markdown",
   "metadata": {},
   "source": [
    "# Appendix"
   ]
  },
  {
   "cell_type": "markdown",
   "metadata": {},
   "source": [
    "# Probability and Probability Distributions\n",
    "\n",
    "## 1.1 Definitions\n",
    "<b>Probability </b>\n",
    "1. Probability is the measure of the likelihood that an event will occur\n",
    "2. It quantifies as a number between 0 and 1, where, 0 indicates impossibility and 1 indicates certainty\n",
    "\n",
    "<mark>E.g.: The probability of a customer churning in the next month is 12%</mark>\n",
    "    "
   ]
  },
  {
   "cell_type": "code",
   "execution_count": 1,
   "metadata": {},
   "outputs": [],
   "source": [
    "import os\n",
    "os.chdir(r'C:\\Users\\Theja Pavan\\Documents\\RiSE Singapore\\03 Content\\Stats Basics')"
   ]
  },
  {
   "cell_type": "markdown",
   "metadata": {},
   "source": [
    "<b>Experiments</b>\n",
    "1. An experiment or trial is any procedure that can be infinitely repeated and has a well-defined set of possible outcomes\n",
    "2. A random experiment that has exactly two (mutually exclusive) possible outcomes is known as a Bernoulli trial\n",
    "\n",
    "<mark>E.g. The government conducting a survey to capture Happiness index of its citizens</mark>\n"
   ]
  },
  {
   "cell_type": "markdown",
   "metadata": {},
   "source": [
    "## 1.2 Probability distributions\n",
    "\n",
    "A probability distribution is a function that describes all the possible values and likelihoods that a random variable can take within a given range.\n",
    "\n",
    "Suppose you flip a coin 3 times\n",
    "- Possible outcomes: HHH, HHT, HTH, HTT, THH, THT, TTH, and TTT\n",
    "- Let X represent the # of Heads\n",
    "\n",
    "Then, the probability of getting Heads\n",
    "- 0 times is 1/8 (TTT)\n",
    "- 1 time is 3/8 (HTT, THT, TTH)\n",
    "- 2 times is 3/8 (HHT, HTH, THH)\n",
    "- 3 times is 1/8 (HHH)\n"
   ]
  },
  {
   "cell_type": "markdown",
   "metadata": {},
   "source": [
    "In the above scenario, if we look at X as getting upto X # of heads, then it becomes a <b>Cumulative probability distribution</b>\n",
    "\n",
    "Then, the probability of getting Heads\n",
    "- upto 0 times is 1/8 (0: TTT)\n",
    "- upto 1 time is 4/8  (0: TTT; 1: HTT, THT, TTH)\n",
    "- upto 2 times is 7/8 (0: TTT; 1: HTT, THT, TTH; 2: HHT, HTH, THH)\n",
    "- upto 3 times is 8/8 (0: TTT; 1: HTT, THT, TTH; 2: HHT, HTH, THH; 3: HHH)\n",
    "\n",
    "Plotting the above data gives the <b>Cumulative probability distribution</b> of X.\n",
    "\n",
    "<p> <p>\n",
    "<div style=\"width: 80%; display: inline-block; text-align: left;\">\n",
    "        <img src=\"./images/binomial_cdf.png\" alt=\"course_audience\" height=\"400\" width=\"400\">\n",
    "</div>"
   ]
  },
  {
   "cell_type": "markdown",
   "metadata": {},
   "source": [
    "<b>A probability distribution is characterised by the equation used to describe the probability as shown in above case.</b>\n",
    "\n",
    "There exist various types of such functions used to describe different phenomenons.\n",
    "\n",
    "These functions (Probability distributions) can be divided into two types-\n",
    "1. <b>Discrete Probability</b> distributions\n",
    "2. <b>Continuous Probability</b> distributions\n"
   ]
  },
  {
   "cell_type": "markdown",
   "metadata": {},
   "source": [
    "<b>We will now look at examples each from Discrete and Continuous probability distributions</b>"
   ]
  },
  {
   "cell_type": "markdown",
   "metadata": {},
   "source": [
    "### 1.2.1 Discrete probability distributions\n",
    "\n",
    "#### Binomial distribution\n",
    "\n",
    "<b>It summarizes the likelihood that a value will take one of two independent values under a given set of parameters or assumptions.</b>\n",
    "\n",
    "The underlying assumptions of the binomial distribution are\n",
    "- There is only one outcome for each trial\n",
    "- Each trial has the same probability of success, and\n",
    "- Each trial is mutually exclusive, or independent of each other.\n",
    "\n",
    "<mark> Example -The machine undergoing a breakdown after manufacturing each batch follows a binomial distribution given other factors are held constant. Here the outcome is binary i.e. either breakdown or no breakdown </mark>\n",
    "\n",
    "\n",
    "<p> <p>\n",
    "<div style=\"width: 80%; display: inline-block; text-align: left;\">\n",
    "        <img src=\"./images/binomial_dist_ref.jpg\" alt=\"course_audience\" height=\"400\" width=\"400\">\n",
    "</div>\n",
    "\n",
    "The figure shows that when probaility of breakdown = 0.5, the distribution is symmetric about its expected value of 5 (number of trials = 10 * [0.5] = 5), where the probabilities of X being below the mean match the probabilities of X being the same distance above the mean.\n",
    "\n",
    "Thus with iterations/trials (n) = 10 and probaility of breakdown (p) = 0.5:\n",
    "\n",
    "    P(X = 4) = 0.2051 and P(X = 6) = 0.2051\n",
    "    P(X = 3) = 0.1172 and P(X = 7) = 0.1172"
   ]
  },
  {
   "cell_type": "markdown",
   "metadata": {},
   "source": [
    "<b>Generating a Binomial ditribution</b>"
   ]
  },
  {
   "cell_type": "markdown",
   "metadata": {},
   "source": [
    "#### Poisson Distribution"
   ]
  },
  {
   "cell_type": "markdown",
   "metadata": {},
   "source": [
    "<b>Poisson random variable is typically used to model the number of times an event happens in a time interval.</b>\n",
    "\n",
    "<mark>Example:Number of users visiting a page in your website in an interval can be thought of as a Poisson process.</mark>\n",
    "\n",
    "<p> <p>\n",
    "<div style=\"width: 80%; display: inline-block; text-align: left;\">\n",
    "        <img src=\"./images/poisson dist.png\" alt=\"course_audience\" height=\"400\" width=\"400\">\n",
    "</div>\n",
    "\n",
    "In the example depicted in the graph above, let us assume that some probability of a user visiting a page is 3%. If we further a total of 100 users visited the website; the Poisson distribution describes the likelihood of getting a certain number of visiting a web-page in the website over some period of time, such as a single day."
   ]
  },
  {
   "cell_type": "markdown",
   "metadata": {},
   "source": [
    "### 1.2.2 Continuous probability distributions\n",
    "\n",
    "#### Uniform distribution\n",
    "\n",
    "The continuous uniform distribution or rectangular distribution is a family of symmetric probability distributions such that for each member of the family, all intervals of the same length on the distribution's support are equally probable.\n",
    "\n",
    "<mark>Example: The average daily sale volume of soap remains fairly constant throughut the year.</mark>\n",
    "\n",
    "<b> Generarting a Uniform distribution</b>"
   ]
  },
  {
   "cell_type": "code",
   "execution_count": 5,
   "metadata": {},
   "outputs": [
    {
     "data": {
      "image/png": "[encoded data removed]",
      "text/plain": [
       "<Figure size 432x288 with 1 Axes>"
      ]
     },
     "metadata": {
      "needs_background": "light"
     },
     "output_type": "display_data"
    }
   ],
   "source": [
    "import matplotlib.pyplot as plt\n",
    "\n",
    "s = np.random.uniform(-1,0,1000)\n",
    "\n",
    "count, bins, ignored = plt.hist(s, 15)\n",
    "plt.plot(bins, np.ones_like(bins), linewidth=2, color='r')\n",
    "plt.show()"
   ]
  },
  {
   "cell_type": "markdown",
   "metadata": {},
   "source": [
    "#### Normal distribution"
   ]
  },
  {
   "cell_type": "markdown",
   "metadata": {},
   "source": [
    "The normal distribution, also known as the Gaussian distribution, is a probability distribution that is symmetric about the mean, showing that data near the mean are more frequent in occurrence than data far from the mean.\n",
    "\n",
    "<mark>Stock market fluctuations, students' weights, yearly temperature averages, etc. all approximately follow the normal distribution.</mark>\n"
   ]
  },
  {
   "cell_type": "markdown",
   "metadata": {},
   "source": [
    "The normal distribution model is motivated by the <b>Central Limit Theorem</b>.\n",
    "\n",
    "<b>This theory states that averages calculated from independent, identically distributed random variables have approximately normal distributions, regardless of the type of distribution that the variables are sampled from.</b>"
   ]
  },
  {
   "cell_type": "markdown",
   "metadata": {},
   "source": [
    "<b>Central Limit theorem</b>"
   ]
  },
  {
   "cell_type": "markdown",
   "metadata": {},
   "source": [
    "Lets consider below array of random numbers"
   ]
  },
  {
   "cell_type": "code",
   "execution_count": 6,
   "metadata": {},
   "outputs": [],
   "source": [
    "x = [66,21,33,59,8,77,96,82,60,42,99,11,78,72,73,59,95,22,24,34,63,70,85,29,91,25,45,9,48,9,69,26,12,94,49,47,5,21,38,12,97]"
   ]
  },
  {
   "cell_type": "markdown",
   "metadata": {},
   "source": [
    "<b>Below is its distribution</b>"
   ]
  },
  {
   "cell_type": "code",
   "execution_count": 7,
   "metadata": {},
   "outputs": [
    {
     "data": {
      "text/plain": [
       "<matplotlib.axes._subplots.AxesSubplot at 0x1e5397ff760>"
      ]
     },
     "execution_count": 7,
     "metadata": {},
     "output_type": "execute_result"
    },
    {
     "data": {
      "image/png": "[encoded data removed]",
      "text/plain": [
       "<Figure size 432x288 with 1 Axes>"
      ]
     },
     "metadata": {
      "needs_background": "light"
     },
     "output_type": "display_data"
    }
   ],
   "source": [
    "sns.distplot(x)"
   ]
  },
  {
   "cell_type": "markdown",
   "metadata": {},
   "source": [
    "<b>Now, lets take multiple samples of size 3 and calculate their means</b>"
   ]
  },
  {
   "cell_type": "code",
   "execution_count": 8,
   "metadata": {
    "scrolled": true
   },
   "outputs": [],
   "source": [
    "y = []\n",
    "\n",
    "for i in range(len(x)):\n",
    "    for j in range(len(x)):\n",
    "        for k in range(len(x)):\n",
    "            y.append((x[i]+x[j]+x[k])/3)"
   ]
  },
  {
   "cell_type": "markdown",
   "metadata": {},
   "source": [
    "The list y now contains means of 3 elements of a x taken at a time, with the process repeated for all such combinations.\n",
    "\n",
    "<b>Lets plot a histogram of y</b>"
   ]
  },
  {
   "cell_type": "code",
   "execution_count": 9,
   "metadata": {},
   "outputs": [
    {
     "data": {
      "text/plain": [
       "<matplotlib.axes._subplots.AxesSubplot at 0x1e539b75760>"
      ]
     },
     "execution_count": 9,
     "metadata": {},
     "output_type": "execute_result"
    },
    {
     "data": {
      "image/png": "[encoded data removed]",
      "text/plain": [
       "<Figure size 432x288 with 1 Axes>"
      ]
     },
     "metadata": {
      "needs_background": "light"
     },
     "output_type": "display_data"
    }
   ],
   "source": [
    "sns.distplot(y)"
   ]
  },
  {
   "cell_type": "markdown",
   "metadata": {},
   "source": [
    "<b>As it can be seen, the distribution of sample means is approximately bell shaped.\n",
    "\n",
    "This curve is known as a Normal distribution.</b>"
   ]
  },
  {
   "cell_type": "code",
   "execution_count": null,
   "metadata": {},
   "outputs": [],
   "source": []
  },
  {
   "cell_type": "code",
   "execution_count": null,
   "metadata": {},
   "outputs": [],
   "source": []
  },
  {
   "cell_type": "code",
   "execution_count": null,
   "metadata": {},
   "outputs": [],
   "source": []
  }
 ],
 "metadata": {
  "kernelspec": {
   "display_name": "Python 3",
   "language": "python",
   "name": "python3"
  },
  "language_info": {
   "codemirror_mode": {
    "name": "ipython",
    "version": 3
   },
   "file_extension": ".py",
   "mimetype": "text/x-python",
   "name": "python",
   "nbconvert_exporter": "python",
   "pygments_lexer": "ipython3",
   "version": "3.8.3"
  }
 },
 "nbformat": 4,
 "nbformat_minor": 4
}
